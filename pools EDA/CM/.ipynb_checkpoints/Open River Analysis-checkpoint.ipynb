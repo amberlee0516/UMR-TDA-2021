{
 "cells": [
  {
   "cell_type": "code",
   "execution_count": 2,
   "id": "swedish-raising",
   "metadata": {},
   "outputs": [],
   "source": [
    "import pandas as pd\n",
    "import pickle"
   ]
  },
  {
   "cell_type": "code",
   "execution_count": 3,
   "id": "polyphonic-understanding",
   "metadata": {},
   "outputs": [],
   "source": [
    "water_data = pickle.load(open(\"water_data_coords.p\", \"rb\"))\n",
    "veg_path = r\"C:\\Users\\cashe\\OneDrive\\Desktop\\Data Science\\Mississippi River analysis\\ltrm_vegsrs_data.csv\"\n",
    "veg_data = pd.read_csv(veg_path, low_memory = False)"
   ]
  },
  {
   "cell_type": "code",
   "execution_count": 4,
   "id": "legislative-round",
   "metadata": {
    "scrolled": true
   },
   "outputs": [
    {
     "name": "stdout",
     "output_type": "stream",
     "text": [
      "Index(['BARCODE', 'ROWNUM', 'PAGENUM', 'FLDNUM', 'PROJCD', 'POOL', 'DATE',\n",
      "       'LDRCODE', 'RCRDCODE', 'DETRITUS', 'SBSTRATE', 'SITECD', 'MSTRATUM',\n",
      "       'ASTRATUM', 'RIVMILE', 'VEG_S', 'VEG_RF', 'VEG_E', 'VEG_A', 'VEG_NRF',\n",
      "       'VEG_U', 'COV_NRF', 'COV_RF', 'COV_E', 'EAST1', 'NORTH1', 'ZONE',\n",
      "       'ACCUR1', 'METHOD', 'EAST2', 'NORTH2', 'ACCUR2', 'ZONE_U', 'EAST_U',\n",
      "       'NORTH_U', 'GRIDCODE', 'EAST_15', 'NORTH_15', 'HABITAT1', 'HABITAT2',\n",
      "       'HABITAT3', 'HABITAT4', 'HABITAT5', 'HABITAT6', 'DEPTH1', 'DEPTH2',\n",
      "       'DEPTH3', 'DEPTH4', 'DEPTH5', 'DEPTH6', 'DENSITY1', 'DENSITY2',\n",
      "       'DENSITY3', 'DENSITY4', 'DENSITY5', 'DENSITY6', 'BATCHNUM', 'SPPCD',\n",
      "       'VISUAL1', 'VISUAL2', 'VISUAL3', 'VISUAL4', 'VISUAL5', 'VISUAL6',\n",
      "       'RAKE1', 'RAKE2', 'RAKE3', 'RAKE4', 'RAKE5', 'RAKE6', 'ADDSPP',\n",
      "       'COVSPP', 'QECODE', 'VOUCHER'],\n",
      "      dtype='object')\n",
      "(125302, 74)\n"
     ]
    }
   ],
   "source": [
    "print(veg_data.columns)\n",
    "print(veg_data.shape)"
   ]
  },
  {
   "cell_type": "code",
   "execution_count": 5,
   "id": "controlling-continent",
   "metadata": {},
   "outputs": [
    {
     "name": "stdout",
     "output_type": "stream",
     "text": [
      "Index(['SHEETBAR', 'FLDNUM', 'DATE', 'TIME', 'NSAMPLES', 'PROJCD', 'LOCATCD',\n",
      "       'DATABLCK', 'WAVHI', 'WAVEHIQF',\n",
      "       ...\n",
      "       'SO4', 'SO4QF', 'HABCLASS', 'INSTCODE', 'LINKBAR', 'RAWNTU', 'RAWNTUQF',\n",
      "       'CHLcal', 'LATITUDE', 'LONGITUDE'],\n",
      "      dtype='object', length=133)\n",
      "(106052, 133)\n"
     ]
    }
   ],
   "source": [
    "print(water_data.columns)\n",
    "print(water_data.shape)"
   ]
  },
  {
   "cell_type": "code",
   "execution_count": 6,
   "id": "warming-memory",
   "metadata": {},
   "outputs": [
    {
     "name": "stdout",
     "output_type": "stream",
     "text": [
      "(14986, 133)\n",
      "(0, 74)\n"
     ]
    }
   ],
   "source": [
    "# Filter each dataset by Open river FLDNUM == 5\n",
    "water_data = water_data[water_data[\"FLDNUM\"]==5]\n",
    "veg_data = veg_data[veg_data[\"FLDNUM\"]==5]\n",
    "print(water_data.shape)\n",
    "print(veg_data.shape)"
   ]
  },
  {
   "cell_type": "code",
   "execution_count": 7,
   "id": "other-recruitment",
   "metadata": {},
   "outputs": [],
   "source": [
    "continuous = ['TN','TP','TEMP','DO','TURB','COND','VEL','SS','WDP','CHLcal','SECCHI']"
   ]
  },
  {
   "cell_type": "code",
   "execution_count": 10,
   "id": "headed-peoples",
   "metadata": {},
   "outputs": [
    {
     "data": {
      "text/html": [
       "<div>\n",
       "<style scoped>\n",
       "    .dataframe tbody tr th:only-of-type {\n",
       "        vertical-align: middle;\n",
       "    }\n",
       "\n",
       "    .dataframe tbody tr th {\n",
       "        vertical-align: top;\n",
       "    }\n",
       "\n",
       "    .dataframe thead th {\n",
       "        text-align: right;\n",
       "    }\n",
       "</style>\n",
       "<table border=\"1\" class=\"dataframe\">\n",
       "  <thead>\n",
       "    <tr style=\"text-align: right;\">\n",
       "      <th></th>\n",
       "      <th>TN</th>\n",
       "      <th>TP</th>\n",
       "      <th>TEMP</th>\n",
       "      <th>DO</th>\n",
       "      <th>TURB</th>\n",
       "      <th>COND</th>\n",
       "      <th>VEL</th>\n",
       "      <th>SS</th>\n",
       "      <th>WDP</th>\n",
       "      <th>CHLcal</th>\n",
       "      <th>SECCHI</th>\n",
       "    </tr>\n",
       "  </thead>\n",
       "  <tbody>\n",
       "    <tr>\n",
       "      <th>count</th>\n",
       "      <td>5464.000000</td>\n",
       "      <td>5299.000000</td>\n",
       "      <td>13571.000000</td>\n",
       "      <td>13538.000000</td>\n",
       "      <td>13462.000000</td>\n",
       "      <td>13576.000000</td>\n",
       "      <td>4242.000000</td>\n",
       "      <td>13238.000000</td>\n",
       "      <td>13204.000000</td>\n",
       "      <td>13456.000000</td>\n",
       "      <td>13558.000000</td>\n",
       "    </tr>\n",
       "    <tr>\n",
       "      <th>mean</th>\n",
       "      <td>2.965641</td>\n",
       "      <td>0.252258</td>\n",
       "      <td>16.560312</td>\n",
       "      <td>8.963488</td>\n",
       "      <td>105.219135</td>\n",
       "      <td>530.267457</td>\n",
       "      <td>0.746528</td>\n",
       "      <td>147.493673</td>\n",
       "      <td>7.041023</td>\n",
       "      <td>17.261624</td>\n",
       "      <td>24.077814</td>\n",
       "    </tr>\n",
       "    <tr>\n",
       "      <th>std</th>\n",
       "      <td>1.241985</td>\n",
       "      <td>0.119307</td>\n",
       "      <td>9.446221</td>\n",
       "      <td>2.743366</td>\n",
       "      <td>107.993398</td>\n",
       "      <td>84.976625</td>\n",
       "      <td>0.461052</td>\n",
       "      <td>145.729623</td>\n",
       "      <td>4.080450</td>\n",
       "      <td>12.008246</td>\n",
       "      <td>13.705124</td>\n",
       "    </tr>\n",
       "    <tr>\n",
       "      <th>min</th>\n",
       "      <td>-0.200000</td>\n",
       "      <td>-0.001000</td>\n",
       "      <td>0.000000</td>\n",
       "      <td>0.000000</td>\n",
       "      <td>3.000000</td>\n",
       "      <td>168.000000</td>\n",
       "      <td>0.000000</td>\n",
       "      <td>-1.000000</td>\n",
       "      <td>0.000000</td>\n",
       "      <td>-1.000000</td>\n",
       "      <td>1.000000</td>\n",
       "    </tr>\n",
       "    <tr>\n",
       "      <th>25%</th>\n",
       "      <td>2.266750</td>\n",
       "      <td>0.182000</td>\n",
       "      <td>12.700000</td>\n",
       "      <td>7.000000</td>\n",
       "      <td>40.000000</td>\n",
       "      <td>467.000000</td>\n",
       "      <td>0.380000</td>\n",
       "      <td>56.800000</td>\n",
       "      <td>4.000000</td>\n",
       "      <td>9.068450</td>\n",
       "      <td>14.000000</td>\n",
       "    </tr>\n",
       "    <tr>\n",
       "      <th>50%</th>\n",
       "      <td>2.935000</td>\n",
       "      <td>0.232000</td>\n",
       "      <td>16.900000</td>\n",
       "      <td>8.300000</td>\n",
       "      <td>76.000000</td>\n",
       "      <td>531.500000</td>\n",
       "      <td>0.750000</td>\n",
       "      <td>105.035000</td>\n",
       "      <td>6.500000</td>\n",
       "      <td>14.228590</td>\n",
       "      <td>21.000000</td>\n",
       "    </tr>\n",
       "    <tr>\n",
       "      <th>75%</th>\n",
       "      <td>3.548000</td>\n",
       "      <td>0.299000</td>\n",
       "      <td>26.100000</td>\n",
       "      <td>10.200000</td>\n",
       "      <td>125.000000</td>\n",
       "      <td>588.000000</td>\n",
       "      <td>1.080000</td>\n",
       "      <td>184.052500</td>\n",
       "      <td>9.500000</td>\n",
       "      <td>21.847948</td>\n",
       "      <td>31.000000</td>\n",
       "    </tr>\n",
       "    <tr>\n",
       "      <th>max</th>\n",
       "      <td>32.965000</td>\n",
       "      <td>3.500000</td>\n",
       "      <td>34.000000</td>\n",
       "      <td>25.000000</td>\n",
       "      <td>1330.000000</td>\n",
       "      <td>989.000000</td>\n",
       "      <td>2.270000</td>\n",
       "      <td>1439.600000</td>\n",
       "      <td>40.200000</td>\n",
       "      <td>151.036340</td>\n",
       "      <td>250.000000</td>\n",
       "    </tr>\n",
       "  </tbody>\n",
       "</table>\n",
       "</div>"
      ],
      "text/plain": [
       "                TN           TP          TEMP            DO          TURB  \\\n",
       "count  5464.000000  5299.000000  13571.000000  13538.000000  13462.000000   \n",
       "mean      2.965641     0.252258     16.560312      8.963488    105.219135   \n",
       "std       1.241985     0.119307      9.446221      2.743366    107.993398   \n",
       "min      -0.200000    -0.001000      0.000000      0.000000      3.000000   \n",
       "25%       2.266750     0.182000     12.700000      7.000000     40.000000   \n",
       "50%       2.935000     0.232000     16.900000      8.300000     76.000000   \n",
       "75%       3.548000     0.299000     26.100000     10.200000    125.000000   \n",
       "max      32.965000     3.500000     34.000000     25.000000   1330.000000   \n",
       "\n",
       "               COND          VEL            SS           WDP        CHLcal  \\\n",
       "count  13576.000000  4242.000000  13238.000000  13204.000000  13456.000000   \n",
       "mean     530.267457     0.746528    147.493673      7.041023     17.261624   \n",
       "std       84.976625     0.461052    145.729623      4.080450     12.008246   \n",
       "min      168.000000     0.000000     -1.000000      0.000000     -1.000000   \n",
       "25%      467.000000     0.380000     56.800000      4.000000      9.068450   \n",
       "50%      531.500000     0.750000    105.035000      6.500000     14.228590   \n",
       "75%      588.000000     1.080000    184.052500      9.500000     21.847948   \n",
       "max      989.000000     2.270000   1439.600000     40.200000    151.036340   \n",
       "\n",
       "             SECCHI  \n",
       "count  13558.000000  \n",
       "mean      24.077814  \n",
       "std       13.705124  \n",
       "min        1.000000  \n",
       "25%       14.000000  \n",
       "50%       21.000000  \n",
       "75%       31.000000  \n",
       "max      250.000000  "
      ]
     },
     "execution_count": 10,
     "metadata": {},
     "output_type": "execute_result"
    }
   ],
   "source": [
    "water_data[continuous].describe()"
   ]
  },
  {
   "cell_type": "code",
   "execution_count": 18,
   "id": "attempted-tribute",
   "metadata": {},
   "outputs": [
    {
     "data": {
      "text/plain": [
       "<AxesSubplot:>"
      ]
     },
     "execution_count": 18,
     "metadata": {},
     "output_type": "execute_result"
    },
    {
     "data": {
      "image/png": "[encoded data removed]",
      "text/plain": [
       "<Figure size 432x288 with 1 Axes>"
      ]
     },
     "metadata": {
      "needs_background": "light"
     },
     "output_type": "display_data"
    }
   ],
   "source": [
    "water_data[\"TN\"].plot.box()"
   ]
  },
  {
   "cell_type": "code",
   "execution_count": null,
   "id": "incident-teddy",
   "metadata": {},
   "outputs": [],
   "source": []
  }
 ],
 "metadata": {
  "kernelspec": {
   "display_name": "Python 3",
   "language": "python",
   "name": "python3"
  },
  "language_info": {
   "codemirror_mode": {
    "name": "ipython",
    "version": 3
   },
   "file_extension": ".py",
   "mimetype": "text/x-python",
   "name": "python",
   "nbconvert_exporter": "python",
   "pygments_lexer": "ipython3",
   "version": "3.8.5"
  }
 },
 "nbformat": 4,
 "nbformat_minor": 5
}
