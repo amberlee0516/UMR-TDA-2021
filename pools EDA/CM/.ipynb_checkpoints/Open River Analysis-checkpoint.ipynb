{
 "cells": [
  {
   "cell_type": "markdown",
   "id": "light-agency",
   "metadata": {},
   "source": [
    "### Imports and function declaration"
   ]
  },
  {
   "cell_type": "code",
   "execution_count": 150,
   "id": "swedish-raising",
   "metadata": {},
   "outputs": [],
   "source": [
    "import pandas as pd\n",
    "import pickle\n",
    "import matplotlib.pyplot as plt\n",
    "import numpy as np\n",
    "from geopy import distance\n",
    "pd.set_option('display.max_columns', None)\n",
    "\n",
    "# useful functions and classes\n",
    "\n",
    "# This class stores the latitude and longitude of a sample, and indicates \n",
    "# if this location has the desired variable we are estimating\n",
    "class Location:\n",
    "    def __init__(self,latitude,longitude,hasv,ID,value):\n",
    "        self.ID = ID\n",
    "        self.latitude = latitude\n",
    "        self.longitude = longitude\n",
    "        self.hasv = hasv\n",
    "        self.value = value\n",
    "        \n",
    "    def __str__(self):\n",
    "        return str(self.ID)\n",
    "\n",
    "# Calculates the distance between 2 samples in km\n",
    "def getdist(S1,S2):\n",
    "    # radius of earth in km\n",
    "    coords_1 = (S1.latitude, S1.longitude)\n",
    "    coords_2 = (S2.latitude, S2.longitude)\n",
    "    dist = distance.distance(coords_1, coords_2).km\n",
    "    return dist\n",
    "\n",
    "# filters out data if a point is missing in one of the colunns\n",
    "def filterblanks(columns,data,blank):\n",
    "    # if blank is true, remove rows with blanks in these columns\n",
    "    # if blank is false, remove rows with non blanks or non zeros in these columns\n",
    "    for c in columns:\n",
    "        if blank:\n",
    "            data = data[data[c].notnull()].copy()\n",
    "        else:\n",
    "            data = data[data[c].isnull()].copy()\n",
    "    return data\n",
    "\n",
    "# PRE: all locations in the dataframe are\n",
    "# unique\n",
    "def DistanceMatrix(dataframe,variable):\n",
    "    # the list of location objects\n",
    "    locations = []\n",
    "    # the list of indexes where the the row is located in the dataframe\n",
    "    #indexes = []\n",
    "    for index,row in dataframe.iterrows():\n",
    "        # make a location object on this row\n",
    "        if pd.isnull(row[variable]):\n",
    "            hasv = False\n",
    "        else:\n",
    "            hasv = True\n",
    "        locations.append(Location(row[\"LATITUDE\"],row[\"LONGITUDE\"],hasv,row[\"LOCATCD\"],row[variable]))\n",
    "        #indexes.append(index)\n",
    "        \n",
    "    matrix = pd.DataFrame(0,index=locations,columns=locations)\n",
    "    for ci,column in enumerate(locations):\n",
    "        for ri,row in enumerate(locations):\n",
    "            if ri>ci:\n",
    "                # compute distance between column and row\n",
    "                dist = getdist(row,column)\n",
    "            elif ci>ri:\n",
    "                dist = matrix.iloc[ci,ri]\n",
    "            # put this distance in the dataframe\n",
    "            else:\n",
    "                continue\n",
    "            matrix.iloc[ri,ci] = dist\n",
    "    return matrix\n",
    "\n",
    "def changeVar(DM,data,variable):\n",
    "    locations = DM.index\n",
    "    # loop through each location\n",
    "    for i,loc in enumerate(locations):\n",
    "        ID = loc.ID\n",
    "        row = data[data[\"LOCATCD\"]==ID]\n",
    "        if pd.isnull(row[variable]):\n",
    "            locations[i].hasv = False\n",
    "            locations[i].value = None\n",
    "        else:\n",
    "            locations[i].hasv = True\n",
    "            locations[i].value = row[variable]\n",
    "            \n",
    "    DM.index = locations\n",
    "    DM.columns = locations\n",
    "        \n",
    "def getclosest(numclosest,distancematrix,location):\n",
    "    # Make a set of the closest locations that contain variable\n",
    "    closest = {}\n",
    "    column = distancematrix.loc[:,location].copy()\n",
    "    #print(type(distancematrix.index[0]))\n",
    "    # Filter the locations that dont have the desired variable\n",
    "    doesnthavev = []\n",
    "    for i in range(len(column)):\n",
    "        if not column.index[i].hasv:\n",
    "            doesnthavev.append(column.index[i])\n",
    "    column.drop(doesnthavev,inplace = True)\n",
    "    #print(type(column))\n",
    "    column.sort_values(inplace = True)\n",
    "    # The current location wouldnt be in column because\n",
    "    # it doesnt have the variable\n",
    "    \n",
    "    return column.iloc[0:numclosest]\n",
    "\n",
    "# Key: Location Code\n",
    "# Value: List of tuples (locatcd,distance,value)\n",
    "def makeDict(data,variable,numclosest=2):\n",
    "    D = DistanceMatrix(data,variable)\n",
    "    # Loop through each location without a value for variable\n",
    "    closestDict = {}\n",
    "    for loc in D.columns:\n",
    "        if not loc.hasv:\n",
    "            # Get the closest locations to loc THAT ISN'T LOC\n",
    "            closest = getclosest(numclosest,D,loc)\n",
    "            # The list of tuples that contain location id, the distance, and the value for variable\n",
    "            tuples = []\n",
    "            for i,dist in enumerate(closest):\n",
    "                ID = closest.index[i].ID\n",
    "                val = closest.index[i].value\n",
    "                tuples.append((ID,dist,val))\n",
    "            closestDict[loc.ID] = tuples\n",
    "    return closestDict\n",
    "\n",
    "def predict(tuples,numclosest = 2):\n",
    "    loc2 = tuples[0]\n",
    "    loc3 = tuples[1]\n",
    "    d12 = loc2[1]\n",
    "    val2 = loc2[2]\n",
    "    d13 = loc3[1]\n",
    "    val3 = loc3[2]\n",
    "    \n",
    "    c2 = d12/(d12+d13)\n",
    "    c3 = d13/(d12+d13)\n",
    "    \n",
    "    predicted = c2*val2+c3*val3\n",
    "    \n",
    "    return predicted\n",
    "\n",
    "# NEEDS WORK\n",
    "def addpredictions(df,variables,numclosest):\n",
    "    # make prediction and insert for each variable\n",
    "    first = True\n",
    "    for var in variables:\n",
    "        if first:\n",
    "            DM = DistanceMatrix(df,var)\n",
    "        else:\n",
    "            changeVar(DM,df,var)\n",
    "            \n",
    "        for loc in DM.columns:\n",
    "            if not loc.hasv:\n",
    "                # Get the closest locations to loc\n",
    "                closest = getclosest(numclosest,DM,loc)\n",
    "                # The list of tuples that contain location id, the distance, and the value for variable\n",
    "                tuples = []\n",
    "                for i,dist in enumerate(closest):\n",
    "                    ID = closest.index[i].ID\n",
    "                    val = closest.index[i].value\n",
    "                    tuples.append((ID,dist,val))\n",
    "                closestDict[loc.ID] = tuples\n",
    "                \n",
    "def run():\n",
    "    DictTN = makeDict(data,\"TN\")\n",
    "    DictTP = makeDict(data,\"TP\")\n",
    "    #put in predicted TN\n",
    "    data[\"PredictedTN\"] = 0\n",
    "    for index,row in data.iterrows():\n",
    "        if pd.isnull(row[\"TN\"]):\n",
    "            data.loc[index,\"PredictedTN\"] = predict(DictTN[row[\"LOCATCD\"]])\n",
    "        else:\n",
    "            data.loc[index,\"PredictedTN\"] = row[\"TN\"]\n",
    "\n",
    "    data[\"PredictedTP\"] = 0\n",
    "    for index,row in data.iterrows():\n",
    "        if pd.isnull(row[\"TP\"]):\n",
    "            data.loc[index,\"PredictedTP\"] = predict(DictTP[row[\"LOCATCD\"]])\n",
    "        else:\n",
    "            data.loc[index,\"PredictedTP\"] = row[\"TP\"]   \n",
    "        \n",
    "    print(data.shape)\n",
    "    print(\"Filtering out points with blank entries in at least one of the columns\")\n",
    "    cols = ['PredictedTN','PredictedTP','TEMP','DO','TURB','COND','VEL','SS','WDP','CHLcal','SECCHI']\n",
    "    #for col in cols:\n",
    "    #    print(col,data[col].isna().sum())\n",
    "    qualdata_prediction = filterblanks(cols,data,True)\n",
    "    print(qualdata_prediction.shape)\n",
    "    \n",
    "    \n",
    "'''\n",
    "data - the pandas dataframe that is ready to interpolate missing values\n",
    "MUST HAVE \"LATITUDE\", \"LONGITUDE\",\"YEAR\", \"TIME CODE\", \"LOCATCD\" columns\n",
    "\n",
    "missing_vars - the list of column names (as strings) of the dataframe that we should attempt to fill in\n",
    "\n",
    "numlocations - the number of locations used to predict the new value, default is 2\n",
    "\n",
    "RETURN - a dataframe with extra columns saying the predicted values of the missing_vars\n",
    "'''\n",
    "def linear_interpolate(data,missing_vars,numlocations = 2):\n",
    "    print(\"Building a new dataframe with predicted values\")\n",
    "    # Testing for duplicated locations if needed\n",
    "    #s = qualdata_noprediction[\"LOCATCD\"].duplicated(keep=False)\n",
    "    # get the years and timecodes for this dataset\n",
    "    # predictions can only be made if the point is in the same year and time code (what if we don't need to do this)\n",
    "    years = data[\"YEAR\"].unique()\n",
    "    timecodes = data[\"TIME CODE\"].unique()\n",
    "    data_prediction = pd.DataFrame()\n",
    "    for year in years:\n",
    "        for timecode in timecodes:\n",
    "            print(\"Appending predicted data for \",year,\" timecode \",timecode)\n",
    "            # curset is the current set of rows we are predicting for\n",
    "            curset = data[(data[\"YEAR\"]==year) & (data[\"TIME CODE\"]==timecode)].copy()\n",
    "            print(\"Size of this year and timecode:\", curset.shape)\n",
    "            \n",
    "            for var in missing_vars:\n",
    "                print(\"Interpolating \"+var)\n",
    "                newcolumn = \"Predicted\"+var\n",
    "                curset[newcolumn] = 0\n",
    "                \n",
    "                #check to see if there are enough valid locations\n",
    "                # that can be used to predict\n",
    "                bad = bool((curset[var].notnull().sum()>=numlocations))\n",
    "                \n",
    "                # Returns a dictionary mapping each location code to a tuple with prediction information\n",
    "                Dict = makeDict(curset,var)\n",
    "\n",
    "                if(bad):\n",
    "                    print(\"Less than \"+str(numlocations)+\" locations have \"+var+\" in this set, dropping rows without \"+var)\n",
    "                    curset = curset[curset[var].notnull()]\n",
    "                    curset[newcolumn] = curset[var]\n",
    "                    print(\"Current set is now \",curset.shape)\n",
    "                else:\n",
    "                    #put in predicted variable\n",
    "                    for index,row in curset.iterrows():\n",
    "                        if pd.isnull(row[var]):\n",
    "                            #print(\"Predicting \",row[\"LOCATCD\"])\n",
    "                            curset.loc[index,newcolumn] = predict(Dict[row[\"LOCATCD\"]])\n",
    "                        else:\n",
    "                            curset.loc[index,newcolumn] = row[var]\n",
    "\n",
    "            data_prediction = data_prediction.append(curset,ignore_index=True)  \n",
    "            \n",
    "    print(\"Final data set size is \",data_prediction.shape)\n",
    "    \n",
    "    return data_prediction\n",
    "\n"
   ]
  },
  {
   "cell_type": "markdown",
   "id": "aggressive-oklahoma",
   "metadata": {},
   "source": [
    "### Loading and Filtering data"
   ]
  },
  {
   "cell_type": "code",
   "execution_count": 145,
   "id": "polyphonic-understanding",
   "metadata": {},
   "outputs": [
    {
     "name": "stdout",
     "output_type": "stream",
     "text": [
      "Now adding a year column\n",
      "Now adding a time code column\n",
      "Veg data\n",
      "Index(['BARCODE', 'ROWNUM', 'PAGENUM', 'FLDNUM', 'PROJCD', 'POOL', 'DATE',\n",
      "       'LDRCODE', 'RCRDCODE', 'DETRITUS', 'SBSTRATE', 'SITECD', 'MSTRATUM',\n",
      "       'ASTRATUM', 'RIVMILE', 'VEG_S', 'VEG_RF', 'VEG_E', 'VEG_A', 'VEG_NRF',\n",
      "       'VEG_U', 'COV_NRF', 'COV_RF', 'COV_E', 'EAST1', 'NORTH1', 'ZONE',\n",
      "       'ACCUR1', 'METHOD', 'EAST2', 'NORTH2', 'ACCUR2', 'ZONE_U', 'EAST_U',\n",
      "       'NORTH_U', 'GRIDCODE', 'EAST_15', 'NORTH_15', 'HABITAT1', 'HABITAT2',\n",
      "       'HABITAT3', 'HABITAT4', 'HABITAT5', 'HABITAT6', 'DEPTH1', 'DEPTH2',\n",
      "       'DEPTH3', 'DEPTH4', 'DEPTH5', 'DEPTH6', 'DENSITY1', 'DENSITY2',\n",
      "       'DENSITY3', 'DENSITY4', 'DENSITY5', 'DENSITY6', 'BATCHNUM', 'SPPCD',\n",
      "       'VISUAL1', 'VISUAL2', 'VISUAL3', 'VISUAL4', 'VISUAL5', 'VISUAL6',\n",
      "       'RAKE1', 'RAKE2', 'RAKE3', 'RAKE4', 'RAKE5', 'RAKE6', 'ADDSPP',\n",
      "       'COVSPP', 'QECODE', 'VOUCHER'],\n",
      "      dtype='object')\n",
      "(125302, 74)\n",
      "\n",
      "\n",
      " Water data\n",
      "Index(['SHEETBAR', 'FLDNUM', 'DATE', 'TIME', 'NSAMPLES', 'PROJCD', 'LOCATCD',\n",
      "       'DATABLCK', 'WAVHI', 'WAVEHIQF',\n",
      "       ...\n",
      "       'HABCLASS', 'INSTCODE', 'LINKBAR', 'RAWNTU', 'RAWNTUQF', 'CHLcal',\n",
      "       'LATITUDE', 'LONGITUDE', 'YEAR', 'TIME CODE'],\n",
      "      dtype='object', length=135)\n",
      "(106052, 135)\n",
      "Filtering by pool\n",
      "(0, 74)\n",
      "(14986, 135)\n"
     ]
    }
   ],
   "source": [
    "water_path = r\"C:\\Users\\cashe\\OneDrive\\Desktop\\Data Science\\Mississippi River analysis\\Code\\Python\\water_data_coords.p\"\n",
    "water_data = pickle.load(open(water_path, \"rb\"))\n",
    "veg_path = r\"C:\\Users\\cashe\\OneDrive\\Desktop\\Data Science\\Mississippi River analysis\\ltrm_vegsrs_data.csv\"\n",
    "veg_data = pd.read_csv(veg_path, low_memory = False)\n",
    "\n",
    "continuous = ['TN','TP','TEMP','DO','TURB','COND','VEL','SS','WDP','CHLcal','SECCHI']\n",
    "\n",
    "print(\"Now adding a year column\")\n",
    "water_data[\"YEAR\"] = pd.DatetimeIndex(water_data[\"DATE\"]).year\n",
    "print(\"Now adding a time code column\")\n",
    "water_data[\"TIME CODE\"] = water_data[\"LOCATCD\"].astype(str).apply(lambda x: x[3])\n",
    "\n",
    "print(\"Veg data\")\n",
    "print(veg_data.columns)\n",
    "print(veg_data.shape)\n",
    "\n",
    "print(\"\\n\\n Water data\")\n",
    "print(water_data.columns)\n",
    "print(water_data.shape)\n",
    "\n",
    "print(\"Filtering by pool\")\n",
    "veg_data = veg_data[veg_data[\"FLDNUM\"]==5]\n",
    "water_data = water_data[water_data[\"FLDNUM\"]==5]\n",
    "print(veg_data.shape)\n",
    "print(water_data.shape)"
   ]
  },
  {
   "cell_type": "markdown",
   "id": "least-switch",
   "metadata": {},
   "source": [
    "#### Checking stratum data size"
   ]
  },
  {
   "cell_type": "code",
   "execution_count": 64,
   "id": "consecutive-address",
   "metadata": {
    "scrolled": true
   },
   "outputs": [
    {
     "data": {
      "text/plain": [
       "7461"
      ]
     },
     "execution_count": 64,
     "metadata": {},
     "output_type": "execute_result"
    }
   ],
   "source": [
    "sum(water_data[\"STRATUM\"] == 1)"
   ]
  },
  {
   "cell_type": "code",
   "execution_count": 131,
   "id": "facial-appreciation",
   "metadata": {
    "scrolled": false
   },
   "outputs": [
    {
     "data": {
      "text/plain": [
       "7525"
      ]
     },
     "execution_count": 131,
     "metadata": {},
     "output_type": "execute_result"
    }
   ],
   "source": [
    "sum(water_data[\"STRATUM\"]==2)"
   ]
  },
  {
   "cell_type": "markdown",
   "id": "still-mills",
   "metadata": {},
   "source": [
    "#### Taking a look at our variables"
   ]
  },
  {
   "cell_type": "code",
   "execution_count": 10,
   "id": "headed-peoples",
   "metadata": {
    "scrolled": false
   },
   "outputs": [
    {
     "data": {
      "text/html": [
       "<div>\n",
       "<style scoped>\n",
       "    .dataframe tbody tr th:only-of-type {\n",
       "        vertical-align: middle;\n",
       "    }\n",
       "\n",
       "    .dataframe tbody tr th {\n",
       "        vertical-align: top;\n",
       "    }\n",
       "\n",
       "    .dataframe thead th {\n",
       "        text-align: right;\n",
       "    }\n",
       "</style>\n",
       "<table border=\"1\" class=\"dataframe\">\n",
       "  <thead>\n",
       "    <tr style=\"text-align: right;\">\n",
       "      <th></th>\n",
       "      <th>TN</th>\n",
       "      <th>TP</th>\n",
       "      <th>TEMP</th>\n",
       "      <th>DO</th>\n",
       "      <th>TURB</th>\n",
       "      <th>COND</th>\n",
       "      <th>VEL</th>\n",
       "      <th>SS</th>\n",
       "      <th>WDP</th>\n",
       "      <th>CHLcal</th>\n",
       "      <th>SECCHI</th>\n",
       "    </tr>\n",
       "  </thead>\n",
       "  <tbody>\n",
       "    <tr>\n",
       "      <th>count</th>\n",
       "      <td>5464.000000</td>\n",
       "      <td>5299.000000</td>\n",
       "      <td>13571.000000</td>\n",
       "      <td>13538.000000</td>\n",
       "      <td>13462.000000</td>\n",
       "      <td>13576.000000</td>\n",
       "      <td>4242.000000</td>\n",
       "      <td>13238.000000</td>\n",
       "      <td>13204.000000</td>\n",
       "      <td>13456.000000</td>\n",
       "      <td>13558.000000</td>\n",
       "    </tr>\n",
       "    <tr>\n",
       "      <th>mean</th>\n",
       "      <td>2.965641</td>\n",
       "      <td>0.252258</td>\n",
       "      <td>16.560312</td>\n",
       "      <td>8.963488</td>\n",
       "      <td>105.219135</td>\n",
       "      <td>530.267457</td>\n",
       "      <td>0.746528</td>\n",
       "      <td>147.493673</td>\n",
       "      <td>7.041023</td>\n",
       "      <td>17.261624</td>\n",
       "      <td>24.077814</td>\n",
       "    </tr>\n",
       "    <tr>\n",
       "      <th>std</th>\n",
       "      <td>1.241985</td>\n",
       "      <td>0.119307</td>\n",
       "      <td>9.446221</td>\n",
       "      <td>2.743366</td>\n",
       "      <td>107.993398</td>\n",
       "      <td>84.976625</td>\n",
       "      <td>0.461052</td>\n",
       "      <td>145.729623</td>\n",
       "      <td>4.080450</td>\n",
       "      <td>12.008246</td>\n",
       "      <td>13.705124</td>\n",
       "    </tr>\n",
       "    <tr>\n",
       "      <th>min</th>\n",
       "      <td>-0.200000</td>\n",
       "      <td>-0.001000</td>\n",
       "      <td>0.000000</td>\n",
       "      <td>0.000000</td>\n",
       "      <td>3.000000</td>\n",
       "      <td>168.000000</td>\n",
       "      <td>0.000000</td>\n",
       "      <td>-1.000000</td>\n",
       "      <td>0.000000</td>\n",
       "      <td>-1.000000</td>\n",
       "      <td>1.000000</td>\n",
       "    </tr>\n",
       "    <tr>\n",
       "      <th>25%</th>\n",
       "      <td>2.266750</td>\n",
       "      <td>0.182000</td>\n",
       "      <td>12.700000</td>\n",
       "      <td>7.000000</td>\n",
       "      <td>40.000000</td>\n",
       "      <td>467.000000</td>\n",
       "      <td>0.380000</td>\n",
       "      <td>56.800000</td>\n",
       "      <td>4.000000</td>\n",
       "      <td>9.068450</td>\n",
       "      <td>14.000000</td>\n",
       "    </tr>\n",
       "    <tr>\n",
       "      <th>50%</th>\n",
       "      <td>2.935000</td>\n",
       "      <td>0.232000</td>\n",
       "      <td>16.900000</td>\n",
       "      <td>8.300000</td>\n",
       "      <td>76.000000</td>\n",
       "      <td>531.500000</td>\n",
       "      <td>0.750000</td>\n",
       "      <td>105.035000</td>\n",
       "      <td>6.500000</td>\n",
       "      <td>14.228590</td>\n",
       "      <td>21.000000</td>\n",
       "    </tr>\n",
       "    <tr>\n",
       "      <th>75%</th>\n",
       "      <td>3.548000</td>\n",
       "      <td>0.299000</td>\n",
       "      <td>26.100000</td>\n",
       "      <td>10.200000</td>\n",
       "      <td>125.000000</td>\n",
       "      <td>588.000000</td>\n",
       "      <td>1.080000</td>\n",
       "      <td>184.052500</td>\n",
       "      <td>9.500000</td>\n",
       "      <td>21.847948</td>\n",
       "      <td>31.000000</td>\n",
       "    </tr>\n",
       "    <tr>\n",
       "      <th>max</th>\n",
       "      <td>32.965000</td>\n",
       "      <td>3.500000</td>\n",
       "      <td>34.000000</td>\n",
       "      <td>25.000000</td>\n",
       "      <td>1330.000000</td>\n",
       "      <td>989.000000</td>\n",
       "      <td>2.270000</td>\n",
       "      <td>1439.600000</td>\n",
       "      <td>40.200000</td>\n",
       "      <td>151.036340</td>\n",
       "      <td>250.000000</td>\n",
       "    </tr>\n",
       "  </tbody>\n",
       "</table>\n",
       "</div>"
      ],
      "text/plain": [
       "                TN           TP          TEMP            DO          TURB  \\\n",
       "count  5464.000000  5299.000000  13571.000000  13538.000000  13462.000000   \n",
       "mean      2.965641     0.252258     16.560312      8.963488    105.219135   \n",
       "std       1.241985     0.119307      9.446221      2.743366    107.993398   \n",
       "min      -0.200000    -0.001000      0.000000      0.000000      3.000000   \n",
       "25%       2.266750     0.182000     12.700000      7.000000     40.000000   \n",
       "50%       2.935000     0.232000     16.900000      8.300000     76.000000   \n",
       "75%       3.548000     0.299000     26.100000     10.200000    125.000000   \n",
       "max      32.965000     3.500000     34.000000     25.000000   1330.000000   \n",
       "\n",
       "               COND          VEL            SS           WDP        CHLcal  \\\n",
       "count  13576.000000  4242.000000  13238.000000  13204.000000  13456.000000   \n",
       "mean     530.267457     0.746528    147.493673      7.041023     17.261624   \n",
       "std       84.976625     0.461052    145.729623      4.080450     12.008246   \n",
       "min      168.000000     0.000000     -1.000000      0.000000     -1.000000   \n",
       "25%      467.000000     0.380000     56.800000      4.000000      9.068450   \n",
       "50%      531.500000     0.750000    105.035000      6.500000     14.228590   \n",
       "75%      588.000000     1.080000    184.052500      9.500000     21.847948   \n",
       "max      989.000000     2.270000   1439.600000     40.200000    151.036340   \n",
       "\n",
       "             SECCHI  \n",
       "count  13558.000000  \n",
       "mean      24.077814  \n",
       "std       13.705124  \n",
       "min        1.000000  \n",
       "25%       14.000000  \n",
       "50%       21.000000  \n",
       "75%       31.000000  \n",
       "max      250.000000  "
      ]
     },
     "execution_count": 10,
     "metadata": {},
     "output_type": "execute_result"
    }
   ],
   "source": [
    "water_data[continuous].describe()"
   ]
  },
  {
   "cell_type": "markdown",
   "id": "massive-wildlife",
   "metadata": {},
   "source": [
    "#### Boxplots and histograms"
   ]
  },
  {
   "cell_type": "code",
   "execution_count": 146,
   "id": "breeding-wrist",
   "metadata": {
    "scrolled": true
   },
   "outputs": [
    {
     "data": {
      "image/png": "[encoded data removed]",
      "text/plain": [
       "<Figure size 432x288 with 1 Axes>"
      ]
     },
     "metadata": {
      "needs_background": "light"
     },
     "output_type": "display_data"
    }
   ],
   "source": [
    "var = \"TP\"\n",
    "water_data[[var,'STRATUM']].boxplot(by='STRATUM', meanline=True, showmeans=True, showcaps=True, \n",
    "                showbox=True, showfliers=True,return_type = 'axes')\n",
    "plt.suptitle('') # that's what you're after\n",
    "plt.show()"
   ]
  },
  {
   "cell_type": "code",
   "execution_count": 148,
   "id": "loaded-pressure",
   "metadata": {},
   "outputs": [
    {
     "data": {
      "text/plain": [
       "Text(0.5, 0.98, 'TP')"
      ]
     },
     "execution_count": 148,
     "metadata": {},
     "output_type": "execute_result"
    },
    {
     "data": {
      "image/png": "[encoded data removed]",
      "text/plain": [
       "<Figure size 432x288 with 2 Axes>"
      ]
     },
     "metadata": {
      "needs_background": "light"
     },
     "output_type": "display_data"
    }
   ],
   "source": [
    "water_data[[var,'STRATUM']].hist(by='STRATUM')\n",
    "plt.suptitle(var) # that's what you're after"
   ]
  },
  {
   "cell_type": "markdown",
   "id": "particular-fight",
   "metadata": {},
   "source": [
    "#### Missing data"
   ]
  },
  {
   "cell_type": "code",
   "execution_count": 28,
   "id": "uniform-institute",
   "metadata": {},
   "outputs": [
    {
     "data": {
      "text/plain": [
       "TN         9522\n",
       "TP         9687\n",
       "TEMP       1415\n",
       "DO         1448\n",
       "TURB       1524\n",
       "COND       1410\n",
       "VEL       10744\n",
       "SS         1748\n",
       "WDP        1782\n",
       "CHLcal     1530\n",
       "SECCHI     1428\n",
       "dtype: int64"
      ]
     },
     "execution_count": 28,
     "metadata": {},
     "output_type": "execute_result"
    }
   ],
   "source": [
    "water_data[continuous].isnull().sum()"
   ]
  },
  {
   "cell_type": "code",
   "execution_count": 30,
   "id": "outer-investigator",
   "metadata": {},
   "outputs": [],
   "source": [
    "water_filtered = water_data.dropna(axis=0, how='any', thresh=None, subset=continuous, inplace=False)"
   ]
  },
  {
   "cell_type": "code",
   "execution_count": 31,
   "id": "hundred-workstation",
   "metadata": {},
   "outputs": [
    {
     "data": {
      "text/plain": [
       "(1514, 133)"
      ]
     },
     "execution_count": 31,
     "metadata": {},
     "output_type": "execute_result"
    }
   ],
   "source": [
    "water_filtered.shape"
   ]
  },
  {
   "cell_type": "code",
   "execution_count": 129,
   "id": "ready-server",
   "metadata": {
    "scrolled": true
   },
   "outputs": [
    {
     "data": {
      "text/plain": [
       "Text(0.5, 1.0, 'Number of Data Points by year')"
      ]
     },
     "execution_count": 129,
     "metadata": {},
     "output_type": "execute_result"
    },
    {
     "data": {
      "image/png": "[encoded data removed]",
      "text/plain": [
       "<Figure size 432x288 with 1 Axes>"
      ]
     },
     "metadata": {
      "needs_background": "light"
     },
     "output_type": "display_data"
    }
   ],
   "source": [
    "water_data[\"YEAR\"].value_counts().sort_index().plot()\n",
    "plt.title(\"Number of Data Points by year\")"
   ]
  },
  {
   "cell_type": "markdown",
   "id": "anonymous-secretary",
   "metadata": {},
   "source": [
    "#### Interpolating missing data"
   ]
  },
  {
   "cell_type": "code",
   "execution_count": 151,
   "id": "quality-gates",
   "metadata": {},
   "outputs": [
    {
     "name": "stdout",
     "output_type": "stream",
     "text": [
      "Building a new dataframe with predicted values\n",
      "Appending predicted data for  1993  timecode  3\n",
      "Size of this year and timecode: (150, 135)\n",
      "Interpolating TN\n",
      "Less than 2 locations have TN in this set, dropping rows without TN\n",
      "Current set is now  (80, 136)\n",
      "Interpolating TP\n",
      "Less than 2 locations have TP in this set, dropping rows without TP\n",
      "Current set is now  (80, 137)\n",
      "Interpolating VEL\n"
     ]
    },
    {
     "ename": "IndexError",
     "evalue": "list index out of range",
     "output_type": "error",
     "traceback": [
      "\u001b[1;31m---------------------------------------------------------------------------\u001b[0m",
      "\u001b[1;31mIndexError\u001b[0m                                Traceback (most recent call last)",
      "\u001b[1;32m<ipython-input-151-982bc02397e7>\u001b[0m in \u001b[0;36m<module>\u001b[1;34m\u001b[0m\n\u001b[0;32m      1\u001b[0m \u001b[0mmissing_vars\u001b[0m \u001b[1;33m=\u001b[0m \u001b[1;33m[\u001b[0m\u001b[1;34m\"TN\"\u001b[0m\u001b[1;33m,\u001b[0m\u001b[1;34m\"TP\"\u001b[0m\u001b[1;33m,\u001b[0m\u001b[1;34m\"VEL\"\u001b[0m\u001b[1;33m]\u001b[0m\u001b[1;33m\u001b[0m\u001b[1;33m\u001b[0m\u001b[0m\n\u001b[1;32m----> 2\u001b[1;33m \u001b[0mwater_interpolated\u001b[0m \u001b[1;33m=\u001b[0m \u001b[0mlinear_interpolate\u001b[0m\u001b[1;33m(\u001b[0m\u001b[0mwater_data\u001b[0m\u001b[1;33m,\u001b[0m\u001b[0mmissing_vars\u001b[0m\u001b[1;33m)\u001b[0m\u001b[1;33m\u001b[0m\u001b[1;33m\u001b[0m\u001b[0m\n\u001b[0m",
      "\u001b[1;32m<ipython-input-150-5e71b6a97b13>\u001b[0m in \u001b[0;36mlinear_interpolate\u001b[1;34m(data, missing_vars, numlocations)\u001b[0m\n\u001b[0;32m    235\u001b[0m                         \u001b[1;32mif\u001b[0m \u001b[0mpd\u001b[0m\u001b[1;33m.\u001b[0m\u001b[0misnull\u001b[0m\u001b[1;33m(\u001b[0m\u001b[0mrow\u001b[0m\u001b[1;33m[\u001b[0m\u001b[0mvar\u001b[0m\u001b[1;33m]\u001b[0m\u001b[1;33m)\u001b[0m\u001b[1;33m:\u001b[0m\u001b[1;33m\u001b[0m\u001b[1;33m\u001b[0m\u001b[0m\n\u001b[0;32m    236\u001b[0m                             \u001b[1;31m#print(\"Predicting \",row[\"LOCATCD\"])\u001b[0m\u001b[1;33m\u001b[0m\u001b[1;33m\u001b[0m\u001b[1;33m\u001b[0m\u001b[0m\n\u001b[1;32m--> 237\u001b[1;33m                             \u001b[0mcurset\u001b[0m\u001b[1;33m.\u001b[0m\u001b[0mloc\u001b[0m\u001b[1;33m[\u001b[0m\u001b[0mindex\u001b[0m\u001b[1;33m,\u001b[0m\u001b[0mnewcolumn\u001b[0m\u001b[1;33m]\u001b[0m \u001b[1;33m=\u001b[0m \u001b[0mpredict\u001b[0m\u001b[1;33m(\u001b[0m\u001b[0mDict\u001b[0m\u001b[1;33m[\u001b[0m\u001b[0mrow\u001b[0m\u001b[1;33m[\u001b[0m\u001b[1;34m\"LOCATCD\"\u001b[0m\u001b[1;33m]\u001b[0m\u001b[1;33m]\u001b[0m\u001b[1;33m)\u001b[0m\u001b[1;33m\u001b[0m\u001b[1;33m\u001b[0m\u001b[0m\n\u001b[0m\u001b[0;32m    238\u001b[0m                         \u001b[1;32melse\u001b[0m\u001b[1;33m:\u001b[0m\u001b[1;33m\u001b[0m\u001b[1;33m\u001b[0m\u001b[0m\n\u001b[0;32m    239\u001b[0m                             \u001b[0mcurset\u001b[0m\u001b[1;33m.\u001b[0m\u001b[0mloc\u001b[0m\u001b[1;33m[\u001b[0m\u001b[0mindex\u001b[0m\u001b[1;33m,\u001b[0m\u001b[0mnewcolumn\u001b[0m\u001b[1;33m]\u001b[0m \u001b[1;33m=\u001b[0m \u001b[0mrow\u001b[0m\u001b[1;33m[\u001b[0m\u001b[0mvar\u001b[0m\u001b[1;33m]\u001b[0m\u001b[1;33m\u001b[0m\u001b[1;33m\u001b[0m\u001b[0m\n",
      "\u001b[1;32m<ipython-input-150-5e71b6a97b13>\u001b[0m in \u001b[0;36mpredict\u001b[1;34m(tuples, numclosest)\u001b[0m\n\u001b[0;32m    124\u001b[0m \u001b[1;33m\u001b[0m\u001b[0m\n\u001b[0;32m    125\u001b[0m \u001b[1;32mdef\u001b[0m \u001b[0mpredict\u001b[0m\u001b[1;33m(\u001b[0m\u001b[0mtuples\u001b[0m\u001b[1;33m,\u001b[0m\u001b[0mnumclosest\u001b[0m \u001b[1;33m=\u001b[0m \u001b[1;36m2\u001b[0m\u001b[1;33m)\u001b[0m\u001b[1;33m:\u001b[0m\u001b[1;33m\u001b[0m\u001b[1;33m\u001b[0m\u001b[0m\n\u001b[1;32m--> 126\u001b[1;33m     \u001b[0mloc2\u001b[0m \u001b[1;33m=\u001b[0m \u001b[0mtuples\u001b[0m\u001b[1;33m[\u001b[0m\u001b[1;36m0\u001b[0m\u001b[1;33m]\u001b[0m\u001b[1;33m\u001b[0m\u001b[1;33m\u001b[0m\u001b[0m\n\u001b[0m\u001b[0;32m    127\u001b[0m     \u001b[0mloc3\u001b[0m \u001b[1;33m=\u001b[0m \u001b[0mtuples\u001b[0m\u001b[1;33m[\u001b[0m\u001b[1;36m1\u001b[0m\u001b[1;33m]\u001b[0m\u001b[1;33m\u001b[0m\u001b[1;33m\u001b[0m\u001b[0m\n\u001b[0;32m    128\u001b[0m     \u001b[0md12\u001b[0m \u001b[1;33m=\u001b[0m \u001b[0mloc2\u001b[0m\u001b[1;33m[\u001b[0m\u001b[1;36m1\u001b[0m\u001b[1;33m]\u001b[0m\u001b[1;33m\u001b[0m\u001b[1;33m\u001b[0m\u001b[0m\n",
      "\u001b[1;31mIndexError\u001b[0m: list index out of range"
     ]
    }
   ],
   "source": [
    "missing_vars = [\"TN\",\"TP\",\"VEL\"]\n",
    "water_interpolated = linear_interpolate(water_data,missing_vars)"
   ]
  },
  {
   "cell_type": "code",
   "execution_count": null,
   "id": "living-income",
   "metadata": {},
   "outputs": [],
   "source": []
  }
 ],
 "metadata": {
  "kernelspec": {
   "display_name": "Python 3",
   "language": "python",
   "name": "python3"
  },
  "language_info": {
   "codemirror_mode": {
    "name": "ipython",
    "version": 3
   },
   "file_extension": ".py",
   "mimetype": "text/x-python",
   "name": "python",
   "nbconvert_exporter": "python",
   "pygments_lexer": "ipython3",
   "version": "3.8.5"
  }
 },
 "nbformat": 4,
 "nbformat_minor": 5
}
