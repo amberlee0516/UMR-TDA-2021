{
 "metadata": {
  "language_info": {
   "codemirror_mode": {
    "name": "ipython",
    "version": 3
   },
   "file_extension": ".py",
   "mimetype": "text/x-python",
   "name": "python",
   "nbconvert_exporter": "python",
   "pygments_lexer": "ipython3",
   "version": "3.8.7"
  },
  "orig_nbformat": 2,
  "kernelspec": {
   "name": "python387jvsc74a57bd00adcc2737ebf6a4a119f135174df96668767fca1ef1112612db5ecadf2b6d608",
   "display_name": "Python 3.8.7 64-bit"
  },
  "metadata": {
   "interpreter": {
    "hash": "0adcc2737ebf6a4a119f135174df96668767fca1ef1112612db5ecadf2b6d608"
   }
  }
 },
 "nbformat": 4,
 "nbformat_minor": 2,
 "cells": [
  {
   "cell_type": "code",
   "execution_count": 6,
   "metadata": {},
   "outputs": [],
   "source": [
    "# Packages\n",
    "import pandas as pd\n",
    "import numpy as np\n",
    "from geopy import distance\n",
    "pd.set_option('display.max_columns', None)"
   ]
  },
  {
   "cell_type": "code",
   "execution_count": 3,
   "metadata": {},
   "outputs": [
    {
     "output_type": "stream",
     "name": "stderr",
     "text": [
      "/Users/alainastockdill/Library/Python/3.8/lib/python/site-packages/IPython/core/interactiveshell.py:3165: DtypeWarning: Columns (7,12,14,17,19,21,23,25,32,48,51,52,55,57,59,61,63,65,67,70,71,72,73,74,75,76,77,126,129) have mixed types.Specify dtype option on import or set low_memory=False.\n  has_raised = await self.run_ast_nodes(code_ast.body, cell_name,\n"
     ]
    }
   ],
   "source": [
    "data = pd.read_csv(\"../pool data/ltrm_water_data_lat_long.csv\")\n",
    "# We want just the first data points with lat, long, and tp\n",
    "data = data.head()\n",
    "data = data[[\"LATITUDE\", \"LONGITUDE\", \"TP\"]]\n",
    "\n",
    "print(data)"
   ]
  },
  {
   "cell_type": "code",
   "execution_count": 16,
   "metadata": {},
   "outputs": [
    {
     "output_type": "stream",
     "name": "stdout",
     "text": [
      "None\n"
     ]
    }
   ],
   "source": [
    "# Get matrix of zeros\n",
    "dist_matrix = np.zeros((5,5))\n",
    "\n",
    "\n",
    "def Distance(row1, row2):\n",
    "    series1 = (row1.LATTIDUE, row1.LONGITUDE)\n",
    "    series2 = (row2.LATITUDE, row2.LONGITUDE)\n",
    "    dist = distance.distance(series1, series2).km\n",
    "    return dist\n",
    "\n",
    "def fillMatrix(data):\n",
    "    dist_matrix = np.zeros(data.size, data.size)\n",
    "#    row1i = data.iloc[0]\n",
    "#    for index, row in data.iterrows():\n",
    "#        dist_matrix[indez]\n",
    "    for i in range(0, dist_matrix.size) :\n",
    "        loc_i = data.iloc[i]\n",
    "        for j in range(i + 1, dist_matrix.size - 1) :\n",
    "            loc_j = data.iloc[j]\n",
    "            dist_matrix[i, j] = Distance(loc_i, loc_j)  \n",
    "    return dist_matrix    \n",
    "\n",
    "\n",
    "\n",
    "\n",
    "def findTwoClosest(distMatrix):\n",
    "\n"
   ]
  },
  {
   "cell_type": "code",
   "execution_count": 12,
   "metadata": {},
   "outputs": [
    {
     "output_type": "stream",
     "name": "stdout",
     "text": [
      "    LATITUDE  LONGITUDE     TP\n0  39.939235 -90.533462  0.471\n"
     ]
    }
   ],
   "source": [
    "print(data[0:1])"
   ]
  },
  {
   "cell_type": "code",
   "execution_count": null,
   "metadata": {},
   "outputs": [],
   "source": []
  },
  {
   "cell_type": "code",
   "execution_count": null,
   "metadata": {},
   "outputs": [],
   "source": []
  }
 ]
}