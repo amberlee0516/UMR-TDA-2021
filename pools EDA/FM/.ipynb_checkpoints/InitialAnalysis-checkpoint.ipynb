{
 "cells": [
  {
   "cell_type": "code",
   "execution_count": 2,
   "id": "b289fe54-7d72-42c5-81cf-2094a818986c",
   "metadata": {},
   "outputs": [
    {
     "name": "stdout",
     "output_type": "stream",
     "text": [
      "Very nice\n"
     ]
    }
   ],
   "source": [
    "# Frederick \"Forrest\" Miller, REU Initial Analysis of Pool 26\n",
    "# imports\n",
    "import pandas as pd\n",
    "import numpy as np\n",
    "import pickle\n",
    "import matplotlib\n",
    "print(\"Very nice\")"
   ]
  },
  {
   "cell_type": "code",
   "execution_count": 3,
   "id": "e564cc6c-9a74-4bc3-b4c7-2565cee99366",
   "metadata": {},
   "outputs": [
    {
     "name": "stdout",
     "output_type": "stream",
     "text": [
      "Index(['BARCODE', 'ROWNUM', 'PAGENUM', 'FLDNUM', 'PROJCD', 'POOL', 'DATE',\n",
      "       'LDRCODE', 'RCRDCODE', 'DETRITUS', 'SBSTRATE', 'SITECD', 'MSTRATUM',\n",
      "       'ASTRATUM', 'RIVMILE', 'VEG_S', 'VEG_RF', 'VEG_E', 'VEG_A', 'VEG_NRF',\n",
      "       'VEG_U', 'COV_NRF', 'COV_RF', 'COV_E', 'EAST1', 'NORTH1', 'ZONE',\n",
      "       'ACCUR1', 'METHOD', 'EAST2', 'NORTH2', 'ACCUR2', 'ZONE_U', 'EAST_U',\n",
      "       'NORTH_U', 'GRIDCODE', 'EAST_15', 'NORTH_15', 'HABITAT1', 'HABITAT2',\n",
      "       'HABITAT3', 'HABITAT4', 'HABITAT5', 'HABITAT6', 'DEPTH1', 'DEPTH2',\n",
      "       'DEPTH3', 'DEPTH4', 'DEPTH5', 'DEPTH6', 'DENSITY1', 'DENSITY2',\n",
      "       'DENSITY3', 'DENSITY4', 'DENSITY5', 'DENSITY6', 'BATCHNUM', 'SPPCD',\n",
      "       'VISUAL1', 'VISUAL2', 'VISUAL3', 'VISUAL4', 'VISUAL5', 'VISUAL6',\n",
      "       'RAKE1', 'RAKE2', 'RAKE3', 'RAKE4', 'RAKE5', 'RAKE6', 'ADDSPP',\n",
      "       'COVSPP', 'QECODE', 'VOUCHER'],\n",
      "      dtype='object')\n",
      "(125302, 74)\n",
      "Index(['SHEETBAR', 'FLDNUM', 'DATE', 'TIME', 'NSAMPLES', 'PROJCD', 'LOCATCD',\n",
      "       'DATABLCK', 'WAVHI', 'WAVEHIQF',\n",
      "       ...\n",
      "       'SO4', 'SO4QF', 'HABCLASS', 'INSTCODE', 'LINKBAR', 'RAWNTU', 'RAWNTUQF',\n",
      "       'CHLcal', 'LATITUDE', 'LONGITUDE'],\n",
      "      dtype='object', length=133)\n",
      "(106052, 133)\n",
      "(16513, 133)\n",
      "(6399, 74)\n",
      "dub\n"
     ]
    }
   ],
   "source": [
    "# get data and filter for pool\n",
    "water_data = pickle.load(open(r\"C:\\Users\\forre\\Desktop\\REU\\TDA\\Data\\water_data_coords.p\", \"rb\"))\n",
    "veg_path = r\"C:\\Users\\forre\\Desktop\\REU\\TDA\\Data\\ltrm_vegsrs_data.csv\"\n",
    "veg_data = pd.read_csv(veg_path, low_memory = False)\n",
    "print(veg_data.columns)\n",
    "print(veg_data.shape)\n",
    "print(water_data.columns)\n",
    "print(water_data.shape)\n",
    "\n",
    "# Filter each dataset by Open river FLDNUM == 4\n",
    "water_data = water_data[water_data[\"FLDNUM\"]==4]\n",
    "veg_data = veg_data[veg_data[\"FLDNUM\"]==4]\n",
    "print(water_data.shape)\n",
    "print(veg_data.shape)\n",
    "\n",
    "print(\"dub\")\n",
    "\n"
   ]
  },
  {
   "cell_type": "code",
   "execution_count": 4,
   "id": "5ac81094-61b2-4d3c-8f95-6c0f46d3e25e",
   "metadata": {},
   "outputs": [
    {
     "data": {
      "text/html": [
       "<div>\n",
       "<style scoped>\n",
       "    .dataframe tbody tr th:only-of-type {\n",
       "        vertical-align: middle;\n",
       "    }\n",
       "\n",
       "    .dataframe tbody tr th {\n",
       "        vertical-align: top;\n",
       "    }\n",
       "\n",
       "    .dataframe thead th {\n",
       "        text-align: right;\n",
       "    }\n",
       "</style>\n",
       "<table border=\"1\" class=\"dataframe\">\n",
       "  <thead>\n",
       "    <tr style=\"text-align: right;\">\n",
       "      <th></th>\n",
       "      <th>TN</th>\n",
       "      <th>TP</th>\n",
       "      <th>TEMP</th>\n",
       "      <th>DO</th>\n",
       "      <th>TURB</th>\n",
       "      <th>COND</th>\n",
       "      <th>VEL</th>\n",
       "      <th>SS</th>\n",
       "      <th>WDP</th>\n",
       "      <th>CHLcal</th>\n",
       "      <th>SECCHI</th>\n",
       "    </tr>\n",
       "  </thead>\n",
       "  <tbody>\n",
       "    <tr>\n",
       "      <th>count</th>\n",
       "      <td>4386.000000</td>\n",
       "      <td>4331.000000</td>\n",
       "      <td>14890.000000</td>\n",
       "      <td>14872.000000</td>\n",
       "      <td>11161.000000</td>\n",
       "      <td>14523.000000</td>\n",
       "      <td>8943.000000</td>\n",
       "      <td>10859.000000</td>\n",
       "      <td>14874.000000</td>\n",
       "      <td>11100.000000</td>\n",
       "      <td>14798.000000</td>\n",
       "    </tr>\n",
       "    <tr>\n",
       "      <th>mean</th>\n",
       "      <td>3.212318</td>\n",
       "      <td>0.235113</td>\n",
       "      <td>16.147435</td>\n",
       "      <td>10.351547</td>\n",
       "      <td>51.033868</td>\n",
       "      <td>466.784273</td>\n",
       "      <td>0.241396</td>\n",
       "      <td>62.928264</td>\n",
       "      <td>2.885055</td>\n",
       "      <td>34.994239</td>\n",
       "      <td>34.763617</td>\n",
       "    </tr>\n",
       "    <tr>\n",
       "      <th>std</th>\n",
       "      <td>4.548059</td>\n",
       "      <td>0.180547</td>\n",
       "      <td>9.477294</td>\n",
       "      <td>3.540395</td>\n",
       "      <td>50.475523</td>\n",
       "      <td>95.186056</td>\n",
       "      <td>0.345619</td>\n",
       "      <td>64.249803</td>\n",
       "      <td>2.674017</td>\n",
       "      <td>35.727238</td>\n",
       "      <td>20.680236</td>\n",
       "    </tr>\n",
       "    <tr>\n",
       "      <th>min</th>\n",
       "      <td>-0.200000</td>\n",
       "      <td>-0.001000</td>\n",
       "      <td>-0.500000</td>\n",
       "      <td>0.000000</td>\n",
       "      <td>0.000000</td>\n",
       "      <td>0.000000</td>\n",
       "      <td>0.000000</td>\n",
       "      <td>-0.100000</td>\n",
       "      <td>0.000000</td>\n",
       "      <td>-1.000000</td>\n",
       "      <td>1.000000</td>\n",
       "    </tr>\n",
       "    <tr>\n",
       "      <th>25%</th>\n",
       "      <td>2.009000</td>\n",
       "      <td>0.148000</td>\n",
       "      <td>11.500000</td>\n",
       "      <td>8.000000</td>\n",
       "      <td>20.000000</td>\n",
       "      <td>409.000000</td>\n",
       "      <td>0.000000</td>\n",
       "      <td>23.200000</td>\n",
       "      <td>0.900000</td>\n",
       "      <td>12.097422</td>\n",
       "      <td>21.000000</td>\n",
       "    </tr>\n",
       "    <tr>\n",
       "      <th>50%</th>\n",
       "      <td>3.003500</td>\n",
       "      <td>0.194000</td>\n",
       "      <td>16.200000</td>\n",
       "      <td>9.600000</td>\n",
       "      <td>36.000000</td>\n",
       "      <td>453.000000</td>\n",
       "      <td>0.000000</td>\n",
       "      <td>41.700000</td>\n",
       "      <td>1.980000</td>\n",
       "      <td>24.084500</td>\n",
       "      <td>30.000000</td>\n",
       "    </tr>\n",
       "    <tr>\n",
       "      <th>75%</th>\n",
       "      <td>4.047000</td>\n",
       "      <td>0.265000</td>\n",
       "      <td>24.500000</td>\n",
       "      <td>12.400000</td>\n",
       "      <td>65.000000</td>\n",
       "      <td>513.000000</td>\n",
       "      <td>0.420000</td>\n",
       "      <td>81.800000</td>\n",
       "      <td>4.000000</td>\n",
       "      <td>45.222620</td>\n",
       "      <td>42.000000</td>\n",
       "    </tr>\n",
       "    <tr>\n",
       "      <th>max</th>\n",
       "      <td>187.429000</td>\n",
       "      <td>4.148000</td>\n",
       "      <td>40.300000</td>\n",
       "      <td>27.100000</td>\n",
       "      <td>850.000000</td>\n",
       "      <td>1146.000000</td>\n",
       "      <td>1.700000</td>\n",
       "      <td>1023.000000</td>\n",
       "      <td>22.800000</td>\n",
       "      <td>737.749800</td>\n",
       "      <td>433.000000</td>\n",
       "    </tr>\n",
       "  </tbody>\n",
       "</table>\n",
       "</div>"
      ],
      "text/plain": [
       "                TN           TP          TEMP            DO          TURB  \\\n",
       "count  4386.000000  4331.000000  14890.000000  14872.000000  11161.000000   \n",
       "mean      3.212318     0.235113     16.147435     10.351547     51.033868   \n",
       "std       4.548059     0.180547      9.477294      3.540395     50.475523   \n",
       "min      -0.200000    -0.001000     -0.500000      0.000000      0.000000   \n",
       "25%       2.009000     0.148000     11.500000      8.000000     20.000000   \n",
       "50%       3.003500     0.194000     16.200000      9.600000     36.000000   \n",
       "75%       4.047000     0.265000     24.500000     12.400000     65.000000   \n",
       "max     187.429000     4.148000     40.300000     27.100000    850.000000   \n",
       "\n",
       "               COND          VEL            SS           WDP        CHLcal  \\\n",
       "count  14523.000000  8943.000000  10859.000000  14874.000000  11100.000000   \n",
       "mean     466.784273     0.241396     62.928264      2.885055     34.994239   \n",
       "std       95.186056     0.345619     64.249803      2.674017     35.727238   \n",
       "min        0.000000     0.000000     -0.100000      0.000000     -1.000000   \n",
       "25%      409.000000     0.000000     23.200000      0.900000     12.097422   \n",
       "50%      453.000000     0.000000     41.700000      1.980000     24.084500   \n",
       "75%      513.000000     0.420000     81.800000      4.000000     45.222620   \n",
       "max     1146.000000     1.700000   1023.000000     22.800000    737.749800   \n",
       "\n",
       "             SECCHI  \n",
       "count  14798.000000  \n",
       "mean      34.763617  \n",
       "std       20.680236  \n",
       "min        1.000000  \n",
       "25%       21.000000  \n",
       "50%       30.000000  \n",
       "75%       42.000000  \n",
       "max      433.000000  "
      ]
     },
     "execution_count": 4,
     "metadata": {},
     "output_type": "execute_result"
    }
   ],
   "source": [
    "# initial analysis with a bunch of box plots \n",
    "continuous = ['TN','TP','TEMP','DO','TURB','COND','VEL','SS','WDP','CHLcal','SECCHI']\n",
    "water_data[continuous].describe()"
   ]
  },
  {
   "cell_type": "code",
   "execution_count": 14,
   "id": "b171ecd2-20ab-45f6-ad9c-c493927d0985",
   "metadata": {
    "tags": []
   },
   "outputs": [
    {
     "name": "stdout",
     "output_type": "stream",
     "text": [
      "[5 1 2 3 4]\n",
      "['TN', 'TP', 'TEMP', 'DO', 'TURB', 'COND', 'VEL', 'SS', 'WDP', 'CHLcal', 'SECCHI']\n"
     ]
    },
    {
     "data": {
      "text/plain": [
       "<AxesSubplot:title={'center':'DO'}, xlabel='[STRATUM]'>"
      ]
     },
     "execution_count": 14,
     "metadata": {},
     "output_type": "execute_result"
    },
    {
     "data": {
      "image/png": "[encoded data removed]",
      "text/plain": [
       "<Figure size 432x288 with 1 Axes>"
      ]
     },
     "metadata": {
      "needs_background": "light"
     },
     "output_type": "display_data"
    }
   ],
   "source": [
    "\"\"\"\n",
    "take water_data frame and do box plots on variables \n",
    "like this: water_data[\"SECCHI\"].plot.box()\n",
    "and change it for each thing \n",
    "\n",
    "\n",
    "For presentation: \n",
    "summary stats on those variables and also \n",
    "vegetation data \n",
    "\n",
    "Also incorporate Doug's map and make a beamer presentation\n",
    "\n",
    "try to run kepler on it?\n",
    "\"\"\"\n",
    "\n",
    "print(water_data[\"STRATUM\"].unique())\n",
    "print(list(water_data[continuous].columns))\n",
    "water_data[['DO','STRATUM']].boxplot(by = 'STRATUM', meanline = True, showmeans = True, showcaps = True,\n",
    "                                    showbox = True, showfliers = True)"
   ]
  },
  {
   "cell_type": "code",
   "execution_count": 16,
   "id": "87261e95-f2ff-40ed-8357-5ffef8f24b67",
   "metadata": {},
   "outputs": [
    {
     "data": {
      "text/plain": [
       "array([[<AxesSubplot:title={'center':'1'}>,\n",
       "        <AxesSubplot:title={'center':'2'}>],\n",
       "       [<AxesSubplot:title={'center':'3'}>,\n",
       "        <AxesSubplot:title={'center':'4'}>],\n",
       "       [<AxesSubplot:title={'center':'5'}>, <AxesSubplot:>]], dtype=object)"
      ]
     },
     "execution_count": 16,
     "metadata": {},
     "output_type": "execute_result"
    },
    {
     "data": {
      "image/png": "[encoded data removed]",
      "text/plain": [
       "<Figure size 432x288 with 6 Axes>"
      ]
     },
     "metadata": {
      "needs_background": "light"
     },
     "output_type": "display_data"
    }
   ],
   "source": [
    "water_data[['DO','STRATUM']].hist(by = 'STRATUM')"
   ]
  },
  {
   "cell_type": "code",
   "execution_count": null,
   "id": "98ddf615-5838-4d95-a4c1-b5f1747ef26e",
   "metadata": {},
   "outputs": [],
   "source": []
  }
 ],
 "metadata": {
  "kernelspec": {
   "display_name": "Python 3",
   "language": "python",
   "name": "python3"
  },
  "language_info": {
   "codemirror_mode": {
    "name": "ipython",
    "version": 3
   },
   "file_extension": ".py",
   "mimetype": "text/x-python",
   "name": "python",
   "nbconvert_exporter": "python",
   "pygments_lexer": "ipython3",
   "version": "3.8.2"
  }
 },
 "nbformat": 4,
 "nbformat_minor": 5
}
