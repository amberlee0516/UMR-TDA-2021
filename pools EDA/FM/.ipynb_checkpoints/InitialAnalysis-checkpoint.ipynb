{
 "cells": [
  {
   "cell_type": "code",
   "execution_count": 1,
   "id": "b289fe54-7d72-42c5-81cf-2094a818986c",
   "metadata": {},
   "outputs": [
    {
     "name": "stdout",
     "output_type": "stream",
     "text": [
      "Very nice\n"
     ]
    }
   ],
   "source": [
    "# Frederick \"Forrest\" Miller, REU Initial Analysis of Pool 26\n",
    "# imports\n",
    "import pandas as pd\n",
    "import numpy as np\n",
    "import pickle\n",
    "print(\"Very nice\")"
   ]
  },
  {
   "cell_type": "code",
   "execution_count": null,
   "id": "e564cc6c-9a74-4bc3-b4c7-2565cee99366",
   "metadata": {},
   "outputs": [],
   "source": [
    "# get data and filter for pool"
   ]
  },
  {
   "cell_type": "code",
   "execution_count": null,
   "id": "5ac81094-61b2-4d3c-8f95-6c0f46d3e25e",
   "metadata": {},
   "outputs": [],
   "source": [
    "# initial analysis with a bunch of box plots "
   ]
  }
 ],
 "metadata": {
  "kernelspec": {
   "display_name": "Python 3",
   "language": "python",
   "name": "python3"
  },
  "language_info": {
   "codemirror_mode": {
    "name": "ipython",
    "version": 3
   },
   "file_extension": ".py",
   "mimetype": "text/x-python",
   "name": "python",
   "nbconvert_exporter": "python",
   "pygments_lexer": "ipython3",
   "version": "3.8.2"
  }
 },
 "nbformat": 4,
 "nbformat_minor": 5
}
