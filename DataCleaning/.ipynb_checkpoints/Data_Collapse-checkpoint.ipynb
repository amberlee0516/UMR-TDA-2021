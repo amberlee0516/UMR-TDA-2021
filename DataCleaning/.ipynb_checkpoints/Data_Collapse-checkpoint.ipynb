{
 "cells": [
  {
<<<<<<< HEAD
   "cell_type": "markdown",
   "metadata": {},
=======
>>>>>>> ac2d99dda873f786f2fa53aab5c77ce41fc69fc3
   "source": [
    "# Collapsing rows with the same sample barcode\n",
    "<hr>\n",
    "\n",
    "The purpose of this program is to clean the current data set and remove the remaining rows with non-unique barcodes (SHEETBAR). This will be done by combining or \"collapsing\" the rows witht he same barcode. While filtering for  the samples taken at the surface of the river (CALCZCD == \"SF\") and removing samples with bad QF codes accounted for a majority of the rows with identical barcodes, there are still several rows that need to be removed.\n",
    " \n",
    "\n",
    "It is important that our data sets consists only of unqiue barcodes because it removes issues when interpolating the data and predicting our missing continuous variable values. For example, if two samples have the same barcode, then their latitude and longitude points are going to be equal. Say one of these two records has a missing TP value. When the interpolation algorithm tries to predict the missing TP value, it will search for the closest samples and create a new TP value as a linear combination of those closest points. Since we have two identcal lat and long points, the distance will be 0 and thus, by definition of our weights in the linear combination, we will be diving by 0.\n",
    " \n",
    "In each instance of multiple rows with the same SHEETBAR, there will be some combinations of sample and NA values for each continuous variable. Since our goal is combine it to combine the rows with the same SHEETBAR, we will find the average for each column, excluding the DATE, STRATUM, LOCATCD, LATITUDE and LONGITUDE columns.\n",
    "\n",
    "The data set at this point should have already been filtered for the surface samples and bad QF codes.\n"
<<<<<<< HEAD
   ]
  },
  {
   "cell_type": "code",
   "execution_count": 1,
   "metadata": {},
   "outputs": [],
=======
   ],
   "cell_type": "markdown",
   "metadata": {}
  },
  {
>>>>>>> ac2d99dda873f786f2fa53aab5c77ce41fc69fc3
   "source": [
    "# Import libraries\n",
    "import pandas as pd\n",
    "from geopy import distance\n",
    "pd.set_option('display.max_columns', None)\n",
    "import numpy as np"
<<<<<<< HEAD
   ]
=======
   ],
   "cell_type": "markdown",
   "metadata": {}
>>>>>>> ac2d99dda873f786f2fa53aab5c77ce41fc69fc3
  },
  {
   "cell_type": "code",
   "execution_count": 2,
   "metadata": {},
   "outputs": [
    {
     "output_type": "stream",
     "name": "stderr",
     "text": [
      "/Library/Frameworks/Python.framework/Versions/3.9/lib/python3.9/site-packages/IPython/core/interactiveshell.py:3155: DtypeWarning: Columns (20,21,23) have mixed types.Specify dtype option on import or set low_memory=False.\n  has_raised = await self.run_ast_nodes(code_ast.body, cell_name,\n"
     ]
    }
   ],
   "source": [
    "# The data at this point will have already been filtered by its QF code and by its CALCZCD\n",
    "# The data set should consist of only surface level points \n",
    "data = pd.read_csv(\"../LTRM data/water_data_filtered.csv\")\n"
   ]
  },
  {
   "cell_type": "code",
   "execution_count": 3,
   "metadata": {},
   "outputs": [],
   "source": [
    "# Filter out the continous variables that we want\n",
    "# Wont need this step since the columns were filtered earlier\n",
    "data = data[['SHEETBAR','TN','TP','TEMP','DO','TURB','COND','VEL','SS','WDP','CHLcal','SECCHI', 'LONGITUDE', 'LATITUDE', 'DATE', 'FLDNUM', 'LOCATCD', 'STRATUM']]"
   ]
  },
  {
   "cell_type": "code",
   "execution_count": 4,
   "metadata": {},
   "outputs": [],
   "source": [
    "# We know based on inspection that there may be negative TP and TN values. We are going to remove these samples\n",
    "data = data.drop(data.index[data['TP'] < 0])\n",
    "data = data.drop(data.index[data['TN'] < 0])"
   ]
  },
  {
   "cell_type": "code",
   "execution_count": 5,
   "metadata": {},
   "outputs": [],
   "source": [
    "# Determine which columns are duplicates and count how many duplicates there are\n",
    "duplicates = data.groupby(['SHEETBAR']).size()"
   ]
  },
  {
   "cell_type": "code",
   "execution_count": 6,
   "metadata": {},
   "outputs": [],
   "source": [
    "# Reset index of duplicates and rename the column to \"count\" \n",
    "duplicates = pd.DataFrame(duplicates, columns = ['count']).reset_index()\n",
    "duplicates = duplicates[duplicates['count'] > 1]"
   ]
  },
  {
   "cell_type": "code",
   "execution_count": 7,
   "metadata": {},
   "outputs": [],
   "source": [
    "# Create empty dataframe that will store the new collapsed data set\n",
    "collapsed_data = pd.DataFrame()"
   ]
  },
  {
   "cell_type": "code",
   "execution_count": 8,
   "metadata": {},
   "outputs": [],
   "source": [
    "# Since we only need to examine the data that has duplicate barcodes, we can set aside the unique barcodes\n",
    "collapsed_data = data[-pd.Series(data[\"SHEETBAR\"]).isin(duplicates[\"SHEETBAR\"])]\n",
    "\n",
    "# Store the duplicated data in its own data set called data_dups\n",
    "data_dups = data[pd.Series(data[\"SHEETBAR\"]).isin(duplicates[\"SHEETBAR\"])]\n"
   ]
  },
  {
   "cell_type": "code",
   "execution_count": 9,
   "metadata": {},
   "outputs": [],
   "source": [
    "# Create a separate dataframe that stores the date of each barcode \n",
    "# Drops duplicates so that we will only have one date per barcode\n",
    "identifiers = pd.DataFrame(data_dups, columns = ['SHEETBAR','DATE', 'STRATUM', 'LOCATCD', 'LATITUDE', 'LONGITUDE']).drop_duplicates()"
   ]
  },
  {
   "cell_type": "code",
   "execution_count": 10,
   "metadata": {},
   "outputs": [],
   "source": [
    "# Remove the identifier columns so that their averages are not taken\n",
    "data_dups = data_dups[['SHEETBAR','TN','TP','TEMP','DO','TURB','COND','VEL','SS','WDP','CHLcal','SECCHI']]"
   ]
  },
  {
   "cell_type": "code",
   "execution_count": 11,
   "metadata": {},
   "outputs": [],
   "source": [
    "# Find the average of each variable by barcode\n",
    "# If there is only na values, na will be returned\n",
    "# For any number of values per variable, the average will be found\n",
    "temp = data_dups.groupby(['SHEETBAR'], as_index = False).mean()"
   ]
  },
  {
   "cell_type": "code",
   "execution_count": 12,
   "metadata": {},
   "outputs": [],
   "source": [
    "# Adds the date to the collapsed data by the sheetbar\n",
    "temp = temp.merge(identifiers, on = ['SHEETBAR'])"
   ]
  },
  {
   "cell_type": "code",
   "execution_count": 13,
   "metadata": {},
   "outputs": [
    {
     "output_type": "execute_result",
     "data": {
      "text/plain": [
       "        SHEETBAR        TN        TP  TEMP         DO   TURB        COND  \\\n",
       "0       -4203181  1.820000  0.083000  -0.1  13.700000    6.0  114.000000   \n",
       "1       -4103818  3.200000  0.123000   0.8  11.600000    3.0  510.000000   \n",
       "2       -4103809  3.920000  0.152000   0.0  11.300000    1.0  660.000000   \n",
       "3       -4102507  5.270000  0.114000   0.7  13.200000    2.0  586.000000   \n",
       "4       -4102504  4.850000  0.101000   0.0  12.400000    3.0  310.000000   \n",
       "...          ...       ...       ...   ...        ...    ...         ...   \n",
       "105266  47001269  8.620000  0.193000  17.3   8.800000   28.0  727.000000   \n",
       "0       42009244       NaN       NaN   8.9  10.300000   20.0  254.000000   \n",
       "1       46015274  1.599000  0.664000  24.5   6.200000  140.0  461.000000   \n",
       "2       47000506  1.705333  0.116667  10.4  12.166667   11.0  353.666667   \n",
       "3       47000678  2.165000  0.180333  28.3   5.300000   19.0  447.000000   \n",
       "\n",
       "         VEL          SS   WDP      CHLcal  SECCHI  LONGITUDE   LATITUDE  \\\n",
       "0       0.00   -1.000000  2.07         NaN    98.0 -91.252326  43.841345   \n",
       "1       0.13   -1.000000  3.20         NaN   263.0 -92.052631  44.398767   \n",
       "2        NaN   -1.000000  4.90         NaN   269.0 -92.134004  44.423271   \n",
       "3       0.05   -1.000000  3.32         NaN   210.0 -91.946849  44.327321   \n",
       "4       0.06   -1.000000  1.25         NaN   152.0 -91.980508  44.391943   \n",
       "...      ...         ...   ...         ...     ...        ...        ...   \n",
       "105266   NaN   24.300000   NaN    3.917360     NaN -91.197341  43.093663   \n",
       "0       0.19   19.000000  3.60    3.932990    42.0 -91.275639  43.846885   \n",
       "1       0.01  164.900000  0.57  113.298125    13.0 -90.103645  40.253465   \n",
       "2       0.05   14.933333   NaN   12.040600    45.0 -91.205630  43.370779   \n",
       "3        NaN         NaN  0.91    9.197013    45.0 -91.248337  43.415769   \n",
       "\n",
       "              DATE  FLDNUM  LOCATCD  STRATUM  \n",
       "0       12/03/1991     2.0  BK01.0N      NaN  \n",
       "1       02/13/1993     1.0  M761.5E      NaN  \n",
       "2       02/12/1993     1.0  M766.0I      NaN  \n",
       "3       02/06/1992     1.0  M753.2S      5.0  \n",
       "4       02/06/1992     1.0  M758.6Y      3.0  \n",
       "...            ...     ...      ...      ...  \n",
       "105266  06/16/2006     7.0  YL01.5Y      NaN  \n",
       "0       04/24/2001     NaN  0121088      3.0  \n",
       "1       08/07/2009     NaN  0962021      3.0  \n",
       "2       10/29/1999     NaN  M663.4E      NaN  \n",
       "3       07/24/2001     NaN  M667.8F      NaN  \n",
       "\n",
       "[105147 rows x 18 columns]"
      ],
      "text/html": "<div>\n<style scoped>\n    .dataframe tbody tr th:only-of-type {\n        vertical-align: middle;\n    }\n\n    .dataframe tbody tr th {\n        vertical-align: top;\n    }\n\n    .dataframe thead th {\n        text-align: right;\n    }\n</style>\n<table border=\"1\" class=\"dataframe\">\n  <thead>\n    <tr style=\"text-align: right;\">\n      <th></th>\n      <th>SHEETBAR</th>\n      <th>TN</th>\n      <th>TP</th>\n      <th>TEMP</th>\n      <th>DO</th>\n      <th>TURB</th>\n      <th>COND</th>\n      <th>VEL</th>\n      <th>SS</th>\n      <th>WDP</th>\n      <th>CHLcal</th>\n      <th>SECCHI</th>\n      <th>LONGITUDE</th>\n      <th>LATITUDE</th>\n      <th>DATE</th>\n      <th>FLDNUM</th>\n      <th>LOCATCD</th>\n      <th>STRATUM</th>\n    </tr>\n  </thead>\n  <tbody>\n    <tr>\n      <th>0</th>\n      <td>-4203181</td>\n      <td>1.820000</td>\n      <td>0.083000</td>\n      <td>-0.1</td>\n      <td>13.700000</td>\n      <td>6.0</td>\n      <td>114.000000</td>\n      <td>0.00</td>\n      <td>-1.000000</td>\n      <td>2.07</td>\n      <td>NaN</td>\n      <td>98.0</td>\n      <td>-91.252326</td>\n      <td>43.841345</td>\n      <td>12/03/1991</td>\n      <td>2.0</td>\n      <td>BK01.0N</td>\n      <td>NaN</td>\n    </tr>\n    <tr>\n      <th>1</th>\n      <td>-4103818</td>\n      <td>3.200000</td>\n      <td>0.123000</td>\n      <td>0.8</td>\n      <td>11.600000</td>\n      <td>3.0</td>\n      <td>510.000000</td>\n      <td>0.13</td>\n      <td>-1.000000</td>\n      <td>3.20</td>\n      <td>NaN</td>\n      <td>263.0</td>\n      <td>-92.052631</td>\n      <td>44.398767</td>\n      <td>02/13/1993</td>\n      <td>1.0</td>\n      <td>M761.5E</td>\n      <td>NaN</td>\n    </tr>\n    <tr>\n      <th>2</th>\n      <td>-4103809</td>\n      <td>3.920000</td>\n      <td>0.152000</td>\n      <td>0.0</td>\n      <td>11.300000</td>\n      <td>1.0</td>\n      <td>660.000000</td>\n      <td>NaN</td>\n      <td>-1.000000</td>\n      <td>4.90</td>\n      <td>NaN</td>\n      <td>269.0</td>\n      <td>-92.134004</td>\n      <td>44.423271</td>\n      <td>02/12/1993</td>\n      <td>1.0</td>\n      <td>M766.0I</td>\n      <td>NaN</td>\n    </tr>\n    <tr>\n      <th>3</th>\n      <td>-4102507</td>\n      <td>5.270000</td>\n      <td>0.114000</td>\n      <td>0.7</td>\n      <td>13.200000</td>\n      <td>2.0</td>\n      <td>586.000000</td>\n      <td>0.05</td>\n      <td>-1.000000</td>\n      <td>3.32</td>\n      <td>NaN</td>\n      <td>210.0</td>\n      <td>-91.946849</td>\n      <td>44.327321</td>\n      <td>02/06/1992</td>\n      <td>1.0</td>\n      <td>M753.2S</td>\n      <td>5.0</td>\n    </tr>\n    <tr>\n      <th>4</th>\n      <td>-4102504</td>\n      <td>4.850000</td>\n      <td>0.101000</td>\n      <td>0.0</td>\n      <td>12.400000</td>\n      <td>3.0</td>\n      <td>310.000000</td>\n      <td>0.06</td>\n      <td>-1.000000</td>\n      <td>1.25</td>\n      <td>NaN</td>\n      <td>152.0</td>\n      <td>-91.980508</td>\n      <td>44.391943</td>\n      <td>02/06/1992</td>\n      <td>1.0</td>\n      <td>M758.6Y</td>\n      <td>3.0</td>\n    </tr>\n    <tr>\n      <th>...</th>\n      <td>...</td>\n      <td>...</td>\n      <td>...</td>\n      <td>...</td>\n      <td>...</td>\n      <td>...</td>\n      <td>...</td>\n      <td>...</td>\n      <td>...</td>\n      <td>...</td>\n      <td>...</td>\n      <td>...</td>\n      <td>...</td>\n      <td>...</td>\n      <td>...</td>\n      <td>...</td>\n      <td>...</td>\n      <td>...</td>\n    </tr>\n    <tr>\n      <th>105266</th>\n      <td>47001269</td>\n      <td>8.620000</td>\n      <td>0.193000</td>\n      <td>17.3</td>\n      <td>8.800000</td>\n      <td>28.0</td>\n      <td>727.000000</td>\n      <td>NaN</td>\n      <td>24.300000</td>\n      <td>NaN</td>\n      <td>3.917360</td>\n      <td>NaN</td>\n      <td>-91.197341</td>\n      <td>43.093663</td>\n      <td>06/16/2006</td>\n      <td>7.0</td>\n      <td>YL01.5Y</td>\n      <td>NaN</td>\n    </tr>\n    <tr>\n      <th>0</th>\n      <td>42009244</td>\n      <td>NaN</td>\n      <td>NaN</td>\n      <td>8.9</td>\n      <td>10.300000</td>\n      <td>20.0</td>\n      <td>254.000000</td>\n      <td>0.19</td>\n      <td>19.000000</td>\n      <td>3.60</td>\n      <td>3.932990</td>\n      <td>42.0</td>\n      <td>-91.275639</td>\n      <td>43.846885</td>\n      <td>04/24/2001</td>\n      <td>NaN</td>\n      <td>0121088</td>\n      <td>3.0</td>\n    </tr>\n    <tr>\n      <th>1</th>\n      <td>46015274</td>\n      <td>1.599000</td>\n      <td>0.664000</td>\n      <td>24.5</td>\n      <td>6.200000</td>\n      <td>140.0</td>\n      <td>461.000000</td>\n      <td>0.01</td>\n      <td>164.900000</td>\n      <td>0.57</td>\n      <td>113.298125</td>\n      <td>13.0</td>\n      <td>-90.103645</td>\n      <td>40.253465</td>\n      <td>08/07/2009</td>\n      <td>NaN</td>\n      <td>0962021</td>\n      <td>3.0</td>\n    </tr>\n    <tr>\n      <th>2</th>\n      <td>47000506</td>\n      <td>1.705333</td>\n      <td>0.116667</td>\n      <td>10.4</td>\n      <td>12.166667</td>\n      <td>11.0</td>\n      <td>353.666667</td>\n      <td>0.05</td>\n      <td>14.933333</td>\n      <td>NaN</td>\n      <td>12.040600</td>\n      <td>45.0</td>\n      <td>-91.205630</td>\n      <td>43.370779</td>\n      <td>10/29/1999</td>\n      <td>NaN</td>\n      <td>M663.4E</td>\n      <td>NaN</td>\n    </tr>\n    <tr>\n      <th>3</th>\n      <td>47000678</td>\n      <td>2.165000</td>\n      <td>0.180333</td>\n      <td>28.3</td>\n      <td>5.300000</td>\n      <td>19.0</td>\n      <td>447.000000</td>\n      <td>NaN</td>\n      <td>NaN</td>\n      <td>0.91</td>\n      <td>9.197013</td>\n      <td>45.0</td>\n      <td>-91.248337</td>\n      <td>43.415769</td>\n      <td>07/24/2001</td>\n      <td>NaN</td>\n      <td>M667.8F</td>\n      <td>NaN</td>\n    </tr>\n  </tbody>\n</table>\n<p>105147 rows × 18 columns</p>\n</div>"
     },
     "metadata": {},
     "execution_count": 13
    }
   ],
   "source": [
    "# Add the combined duplicate samples to the single row samples\n",
    "collapsed_data.append(temp)"
   ]
  },
  {
   "cell_type": "code",
   "execution_count": 14,
   "metadata": {},
   "outputs": [
    {
     "output_type": "execute_result",
     "data": {
      "text/plain": [
       "        SHEETBAR     TN     TP  TEMP    DO  TURB   COND   VEL    SS   WDP  \\\n",
       "0       -4203181  1.820  0.083  -0.1  13.7   6.0  114.0  0.00  -1.0  2.07   \n",
       "1       -4103818  3.200  0.123   0.8  11.6   3.0  510.0  0.13  -1.0  3.20   \n",
       "2       -4103809  3.920  0.152   0.0  11.3   1.0  660.0   NaN  -1.0  4.90   \n",
       "3       -4102507  5.270  0.114   0.7  13.2   2.0  586.0  0.05  -1.0  3.32   \n",
       "4       -4102504  4.850  0.101   0.0  12.4   3.0  310.0  0.06  -1.0  1.25   \n",
       "...          ...    ...    ...   ...   ...   ...    ...   ...   ...   ...   \n",
       "105138  47001262  6.830  0.061   NaN   NaN   6.0    NaN   NaN   7.9   NaN   \n",
       "105139  47001263  2.728  0.107  22.8   8.4   8.0  485.0   NaN  10.5   NaN   \n",
       "105140  47001267  2.522  0.121  22.4   6.6   8.0  477.0   NaN  10.3   NaN   \n",
       "105141  47001268  1.430  0.094  23.4  11.0  16.0  280.0   NaN  28.0   NaN   \n",
       "105142  47001269  8.620  0.193  17.3   8.8  28.0  727.0   NaN  24.3   NaN   \n",
       "\n",
       "          CHLcal  SECCHI  LONGITUDE   LATITUDE        DATE  FLDNUM  LOCATCD  \\\n",
       "0            NaN    98.0 -91.252326  43.841345  12/03/1991       2  BK01.0N   \n",
       "1            NaN   263.0 -92.052631  44.398767  02/13/1993       1  M761.5E   \n",
       "2            NaN   269.0 -92.134004  44.423271  02/12/1993       1  M766.0I   \n",
       "3            NaN   210.0 -91.946849  44.327321  02/06/1992       1  M753.2S   \n",
       "4            NaN   152.0 -91.980508  44.391943  02/06/1992       1  M758.6Y   \n",
       "...          ...     ...        ...        ...         ...     ...      ...   \n",
       "105138   4.52596     NaN -91.197341  43.093663  05/19/2006       7  YL01.5Y   \n",
       "105139  15.86632     NaN -91.205630  43.370779  06/16/2006       7  M663.4E   \n",
       "105140   1.83928     NaN -91.112240  43.200813  06/16/2006       7  M646.9X   \n",
       "105141  74.57208     NaN -91.049424  43.000181  06/16/2006       7  WS05.0Y   \n",
       "105142   3.91736     NaN -91.197341  43.093663  06/16/2006       7  YL01.5Y   \n",
       "\n",
       "        STRATUM  \n",
       "0           NaN  \n",
       "1           NaN  \n",
       "2           NaN  \n",
       "3           5.0  \n",
       "4           3.0  \n",
       "...         ...  \n",
       "105138      NaN  \n",
       "105139      NaN  \n",
       "105140      NaN  \n",
       "105141      NaN  \n",
       "105142      NaN  \n",
       "\n",
       "[105143 rows x 18 columns]"
      ],
      "text/html": "<div>\n<style scoped>\n    .dataframe tbody tr th:only-of-type {\n        vertical-align: middle;\n    }\n\n    .dataframe tbody tr th {\n        vertical-align: top;\n    }\n\n    .dataframe thead th {\n        text-align: right;\n    }\n</style>\n<table border=\"1\" class=\"dataframe\">\n  <thead>\n    <tr style=\"text-align: right;\">\n      <th></th>\n      <th>SHEETBAR</th>\n      <th>TN</th>\n      <th>TP</th>\n      <th>TEMP</th>\n      <th>DO</th>\n      <th>TURB</th>\n      <th>COND</th>\n      <th>VEL</th>\n      <th>SS</th>\n      <th>WDP</th>\n      <th>CHLcal</th>\n      <th>SECCHI</th>\n      <th>LONGITUDE</th>\n      <th>LATITUDE</th>\n      <th>DATE</th>\n      <th>FLDNUM</th>\n      <th>LOCATCD</th>\n      <th>STRATUM</th>\n    </tr>\n  </thead>\n  <tbody>\n    <tr>\n      <th>0</th>\n      <td>-4203181</td>\n      <td>1.820</td>\n      <td>0.083</td>\n      <td>-0.1</td>\n      <td>13.7</td>\n      <td>6.0</td>\n      <td>114.0</td>\n      <td>0.00</td>\n      <td>-1.0</td>\n      <td>2.07</td>\n      <td>NaN</td>\n      <td>98.0</td>\n      <td>-91.252326</td>\n      <td>43.841345</td>\n      <td>12/03/1991</td>\n      <td>2</td>\n      <td>BK01.0N</td>\n      <td>NaN</td>\n    </tr>\n    <tr>\n      <th>1</th>\n      <td>-4103818</td>\n      <td>3.200</td>\n      <td>0.123</td>\n      <td>0.8</td>\n      <td>11.6</td>\n      <td>3.0</td>\n      <td>510.0</td>\n      <td>0.13</td>\n      <td>-1.0</td>\n      <td>3.20</td>\n      <td>NaN</td>\n      <td>263.0</td>\n      <td>-92.052631</td>\n      <td>44.398767</td>\n      <td>02/13/1993</td>\n      <td>1</td>\n      <td>M761.5E</td>\n      <td>NaN</td>\n    </tr>\n    <tr>\n      <th>2</th>\n      <td>-4103809</td>\n      <td>3.920</td>\n      <td>0.152</td>\n      <td>0.0</td>\n      <td>11.3</td>\n      <td>1.0</td>\n      <td>660.0</td>\n      <td>NaN</td>\n      <td>-1.0</td>\n      <td>4.90</td>\n      <td>NaN</td>\n      <td>269.0</td>\n      <td>-92.134004</td>\n      <td>44.423271</td>\n      <td>02/12/1993</td>\n      <td>1</td>\n      <td>M766.0I</td>\n      <td>NaN</td>\n    </tr>\n    <tr>\n      <th>3</th>\n      <td>-4102507</td>\n      <td>5.270</td>\n      <td>0.114</td>\n      <td>0.7</td>\n      <td>13.2</td>\n      <td>2.0</td>\n      <td>586.0</td>\n      <td>0.05</td>\n      <td>-1.0</td>\n      <td>3.32</td>\n      <td>NaN</td>\n      <td>210.0</td>\n      <td>-91.946849</td>\n      <td>44.327321</td>\n      <td>02/06/1992</td>\n      <td>1</td>\n      <td>M753.2S</td>\n      <td>5.0</td>\n    </tr>\n    <tr>\n      <th>4</th>\n      <td>-4102504</td>\n      <td>4.850</td>\n      <td>0.101</td>\n      <td>0.0</td>\n      <td>12.4</td>\n      <td>3.0</td>\n      <td>310.0</td>\n      <td>0.06</td>\n      <td>-1.0</td>\n      <td>1.25</td>\n      <td>NaN</td>\n      <td>152.0</td>\n      <td>-91.980508</td>\n      <td>44.391943</td>\n      <td>02/06/1992</td>\n      <td>1</td>\n      <td>M758.6Y</td>\n      <td>3.0</td>\n    </tr>\n    <tr>\n      <th>...</th>\n      <td>...</td>\n      <td>...</td>\n      <td>...</td>\n      <td>...</td>\n      <td>...</td>\n      <td>...</td>\n      <td>...</td>\n      <td>...</td>\n      <td>...</td>\n      <td>...</td>\n      <td>...</td>\n      <td>...</td>\n      <td>...</td>\n      <td>...</td>\n      <td>...</td>\n      <td>...</td>\n      <td>...</td>\n      <td>...</td>\n    </tr>\n    <tr>\n      <th>105138</th>\n      <td>47001262</td>\n      <td>6.830</td>\n      <td>0.061</td>\n      <td>NaN</td>\n      <td>NaN</td>\n      <td>6.0</td>\n      <td>NaN</td>\n      <td>NaN</td>\n      <td>7.9</td>\n      <td>NaN</td>\n      <td>4.52596</td>\n      <td>NaN</td>\n      <td>-91.197341</td>\n      <td>43.093663</td>\n      <td>05/19/2006</td>\n      <td>7</td>\n      <td>YL01.5Y</td>\n      <td>NaN</td>\n    </tr>\n    <tr>\n      <th>105139</th>\n      <td>47001263</td>\n      <td>2.728</td>\n      <td>0.107</td>\n      <td>22.8</td>\n      <td>8.4</td>\n      <td>8.0</td>\n      <td>485.0</td>\n      <td>NaN</td>\n      <td>10.5</td>\n      <td>NaN</td>\n      <td>15.86632</td>\n      <td>NaN</td>\n      <td>-91.205630</td>\n      <td>43.370779</td>\n      <td>06/16/2006</td>\n      <td>7</td>\n      <td>M663.4E</td>\n      <td>NaN</td>\n    </tr>\n    <tr>\n      <th>105140</th>\n      <td>47001267</td>\n      <td>2.522</td>\n      <td>0.121</td>\n      <td>22.4</td>\n      <td>6.6</td>\n      <td>8.0</td>\n      <td>477.0</td>\n      <td>NaN</td>\n      <td>10.3</td>\n      <td>NaN</td>\n      <td>1.83928</td>\n      <td>NaN</td>\n      <td>-91.112240</td>\n      <td>43.200813</td>\n      <td>06/16/2006</td>\n      <td>7</td>\n      <td>M646.9X</td>\n      <td>NaN</td>\n    </tr>\n    <tr>\n      <th>105141</th>\n      <td>47001268</td>\n      <td>1.430</td>\n      <td>0.094</td>\n      <td>23.4</td>\n      <td>11.0</td>\n      <td>16.0</td>\n      <td>280.0</td>\n      <td>NaN</td>\n      <td>28.0</td>\n      <td>NaN</td>\n      <td>74.57208</td>\n      <td>NaN</td>\n      <td>-91.049424</td>\n      <td>43.000181</td>\n      <td>06/16/2006</td>\n      <td>7</td>\n      <td>WS05.0Y</td>\n      <td>NaN</td>\n    </tr>\n    <tr>\n      <th>105142</th>\n      <td>47001269</td>\n      <td>8.620</td>\n      <td>0.193</td>\n      <td>17.3</td>\n      <td>8.8</td>\n      <td>28.0</td>\n      <td>727.0</td>\n      <td>NaN</td>\n      <td>24.3</td>\n      <td>NaN</td>\n      <td>3.91736</td>\n      <td>NaN</td>\n      <td>-91.197341</td>\n      <td>43.093663</td>\n      <td>06/16/2006</td>\n      <td>7</td>\n      <td>YL01.5Y</td>\n      <td>NaN</td>\n    </tr>\n  </tbody>\n</table>\n<p>105143 rows × 18 columns</p>\n</div>"
     },
     "metadata": {},
     "execution_count": 14
    }
   ],
   "source": [
    "collapsed_data.reset_index(drop = True)"
   ]
  },
  {
   "cell_type": "code",
   "execution_count": 15,
   "metadata": {},
   "outputs": [],
   "source": [
    "collapsed_data.to_csv(\"../LTRM data/cleaned_data.csv\", index = False)"
   ]
  }
 ],
 "metadata": {
  "kernelspec": {
   "name": "python395jvsc74a57bd07812ea015bdcee6f23a998adcdd2ef97c151c0c241b7b7070987d9313e41299d",
   "display_name": "Python 3.9.5 64-bit ('3.9')"
  },
  "language_info": {
   "codemirror_mode": {
    "name": "ipython",
    "version": 3
   },
   "file_extension": ".py",
   "mimetype": "text/x-python",
   "name": "python",
   "nbconvert_exporter": "python",
   "pygments_lexer": "ipython3",
   "version": "3.9.5"
  },
  "metadata": {
   "interpreter": {
    "hash": "0adcc2737ebf6a4a119f135174df96668767fca1ef1112612db5ecadf2b6d608"
   }
  }
 },
 "nbformat": 4,
 "nbformat_minor": 2
}