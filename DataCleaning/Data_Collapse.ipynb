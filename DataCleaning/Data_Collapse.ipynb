{
 "cells": [
  {
   "source": [
    "# Collapsing rows with the same sample barcode\n",
    "<hr>\n",
    "\n",
    "The purpose of this program is to clean the current data set and remove the remaining rows with non-unique barcodes (SHEETBAR). This will be done by combining or \"collapsing\" the rows witht he same barcode. While filtering for  the samples taken at the surface of the river (CALCZCD == \"SF\") and removing samples with bad QF codes accounted for a majority of the rows with identical barcodes, there are still several rows that need to be removed.\n",
    " \n",
    "\n",
    "It is important that our data sets consists only of unqiue barcodes because it removes issues when interpolating the data and predicting our missing continuous variable values. For example, if two samples have the same barcode, then their latitude and longitude points are going to be equal. Say one of these two records has a missing TP value. When the interpolation algorithm tries to predict the missing TP value, it will search for the closest samples and create a new TP value as a linear combination of those closest points. Since we have two identcal lat and long points, the distance will be 0 and thus, by definition of our weights in the linear combination, we will be diving by 0.\n",
    " \n",
    "In each instance of multiple rows with the same SHEETBAR, there will be some combinations of sample and NA values for each continuous variable. Since our goal is combine it to combine the rows with the same SHEETBAR, we will find the average for each column, excluding the DATE, STRATUM, LOCATCD, LATITUDE and LONGITUDE columns.\n",
    "\n",
    "The data set at this point should have already been filtered for the surface samples and bad QF codes.\n"
   ],
   "cell_type": "markdown",
   "metadata": {}
  },
  {
   "source": [
    "# Import libraries\n",
    "import pandas as pd\n",
    "from geopy import distance\n",
    "pd.set_option('display.max_columns', None)\n",
    "import numpy as np"
   ],
   "cell_type": "code",
   "metadata": {},
   "execution_count": 51,
   "outputs": []
  },
  {
   "cell_type": "code",
   "execution_count": 57,
   "metadata": {},
   "outputs": [
    {
     "output_type": "stream",
     "name": "stderr",
     "text": [
      "/Library/Frameworks/Python.framework/Versions/3.9/lib/python3.9/site-packages/IPython/core/interactiveshell.py:3155: DtypeWarning: Columns (20,21,23) have mixed types.Specify dtype option on import or set low_memory=False.\n  has_raised = await self.run_ast_nodes(code_ast.body, cell_name,\n"
     ]
    }
   ],
   "source": [
    "# The data at this point will have already been filtered by its QF code and by its CALCZCD\n",
    "# The data set should consist of only surface level points \n",
    "data = pd.read_csv(\"../LTRM data/water_data_filtered.csv\")\n"
   ]
  },
  {
   "cell_type": "code",
   "execution_count": 58,
   "metadata": {},
   "outputs": [],
   "source": [
    "# Filter out the continous variables that we want\n",
    "# Gets rid of the columns with QF codes\n",
    "data = data[['SHEETBAR','TN','TP','TEMP','DO','TURB','COND','VEL','SS','WDP','CHLcal','SECCHI', 'LONGITUDE', 'LATITUDE', 'DATE', 'FLDNUM', 'LOCATCD', 'STRATUM']]"
   ]
  },
  {
   "cell_type": "code",
   "execution_count": 59,
   "metadata": {},
   "outputs": [
    {
     "output_type": "stream",
     "name": "stdout",
     "text": [
      "(105153, 18)\n"
     ]
    }
   ],
   "source": [
    "# We know based on inspection that there may be negative TP and TN values. We are going to remove these samples\n",
    "data = data.drop(data.index[data['TP'] < 0])\n",
    "data = data.drop(data.index[data['TN'] < 0])\n",
    "print(data.shape)"
   ]
  },
  {
   "cell_type": "code",
   "execution_count": 66,
   "metadata": {},
   "outputs": [
    {
     "output_type": "stream",
     "name": "stdout",
     "text": [
      "(105147,)\n"
     ]
    }
   ],
   "source": [
    "# Determine how many unique SHEETBAR codes there are and how many times each code occurs\n",
    "# The number of rows in our final dataframe should be the same number of rows in unique_sheetbars\n",
    "unique_sheetbars = data.groupby(['SHEETBAR']).size()\n",
    "print(unique_sheetbars.shape)"
   ]
  },
  {
   "cell_type": "code",
   "execution_count": 67,
   "metadata": {},
   "outputs": [
    {
     "output_type": "stream",
     "name": "stdout",
     "text": [
      "(4, 2)\n        SHEETBAR  count\n22957   42009244      2\n97418   46015274      2\n104734  47000506      3\n104840  47000678      3\n"
     ]
    }
   ],
   "source": [
    "# Rename the column to \"count\" \n",
    "unique_sheetbars = pd.DataFrame(unique_sheetbars, columns = ['count']).reset_index()\n",
    "\n",
    "# Filter out the sheetbar codes that have multiple rows \n",
    "duplicate_sheetbars = unique_sheetbars[unique_sheetbars['count'] > 1]\n",
    "print(duplicate_sheetbars.shape)\n",
    "print(duplicate_sheetbars)\n"
   ]
  },
  {
   "cell_type": "code",
   "execution_count": 44,
   "metadata": {},
   "outputs": [],
   "source": [
    "# Create empty dataframe that will store the new collapsed data set\n",
    "collapsed_data = pd.DataFrame()"
   ]
  },
  {
   "cell_type": "code",
   "execution_count": 46,
   "metadata": {},
   "outputs": [
    {
     "output_type": "stream",
     "name": "stdout",
     "text": [
      "(105143, 18)\n(10, 18)\n"
     ]
    }
   ],
   "source": [
    "# Since we only need to examine the data that has duplicate barcodes, we can set aside the unique barcodes\n",
    "collapsed_data = data[-pd.Series(data[\"SHEETBAR\"]).isin(duplicate_sheetbars['SHEETBAR'])]\n",
    "print(collapsed_data.shape)\n",
    "\n",
    "# Store the rows with the repeated sheetbars called data_dups \n",
    "data_dups = data[pd.Series(data['SHEETBAR']).isin(duplicate_sheetbars['SHEETBAR'])]\n",
    "print(data_dups.shape)\n"
   ]
  },
  {
   "cell_type": "code",
   "execution_count": 31,
   "metadata": {},
   "outputs": [],
   "source": [
    "# Create a separate dataframe that stores the date, stratum, fldnum, lat, long, and location code of each sample\n",
    "# Drops duplicates so that we will only have one set of values per barcode\n",
    "identifiers = pd.DataFrame(data_dups, columns = ['SHEETBAR','DATE', 'STRATUM', 'LOCATCD', 'FLDNUM', 'LATITUDE', 'LONGITUDE']).drop_duplicates()"
   ]
  },
  {
   "cell_type": "code",
   "execution_count": 32,
   "metadata": {},
   "outputs": [],
   "source": [
    "# Remove the identifier columns so that their averages are not taken\n",
    "data_dups = data_dups[['SHEETBAR','TN','TP','TEMP','DO','TURB','COND','VEL','SS','WDP','CHLcal','SECCHI']]"
   ]
  },
  {
   "cell_type": "code",
   "execution_count": 33,
   "metadata": {},
   "outputs": [
    {
     "output_type": "stream",
     "name": "stdout",
     "text": [
      "(4, 12)\n"
     ]
    }
   ],
   "source": [
    "# Find the average of each continuous variable by barcode\n",
    "# If there is only na values, na will be returned\n",
    "# For any number of values per variable, the average will be found\n",
    "temp = data_dups.groupby(['SHEETBAR'], as_index = False).mean()\n",
    "print(temp.shape)"
   ]
  },
  {
   "cell_type": "code",
   "execution_count": 34,
   "metadata": {},
   "outputs": [
    {
     "output_type": "stream",
     "name": "stdout",
     "text": [
      "(4, 18)\n"
     ]
    }
   ],
   "source": [
    "# Adds the indentifiers to the collapsed data by the sheetbar\n",
    "temp = temp.merge(identifiers, on = ['SHEETBAR'])\n",
    "print(temp.shape)"
   ]
  },
  {
   "cell_type": "code",
   "execution_count": 50,
   "metadata": {},
   "outputs": [],
   "source": [
    "# Add the averaged rows to our final dataframe\n",
    "collapsed_data = collapsed_data.append(temp, ignore_index = True)\n"
   ]
  },
  {
   "cell_type": "code",
   "execution_count": 36,
   "metadata": {},
   "outputs": [],
   "source": [
    "# We don't need thi\n",
    "#collapsed_data = collapsed_data.reset_index(drop = True)"
   ]
  },
  {
   "cell_type": "code",
   "execution_count": 37,
   "metadata": {},
   "outputs": [],
   "source": [
    "collapsed_data.to_csv(\"../LTRM data/cleaned_data.csv\")"
   ]
  }
 ],
 "metadata": {
  "kernelspec": {
   "name": "python395jvsc74a57bd07812ea015bdcee6f23a998adcdd2ef97c151c0c241b7b7070987d9313e41299d",
   "display_name": "Python 3.9.5 64-bit ('3.9')"
  },
  "language_info": {
   "codemirror_mode": {
    "name": "ipython",
    "version": 3
   },
   "file_extension": ".py",
   "mimetype": "text/x-python",
   "name": "python",
   "nbconvert_exporter": "python",
   "pygments_lexer": "ipython3",
   "version": "3.9.5"
  },
  "metadata": {
   "interpreter": {
    "hash": "0adcc2737ebf6a4a119f135174df96668767fca1ef1112612db5ecadf2b6d608"
   }
  }
 },
 "nbformat": 4,
 "nbformat_minor": 2
}