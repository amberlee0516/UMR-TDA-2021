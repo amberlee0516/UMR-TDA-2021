{
 "cells": [
  {
   "cell_type": "code",
   "execution_count": 1,
   "id": "2b14e596",
   "metadata": {},
   "outputs": [],
   "source": [
    "import sys\n",
    "import pandas as pd\n",
    "from geopy import distance\n",
    "import math\n",
    "pd.set_option('display.max_columns', None)\n",
    "import numpy as np"
   ]
  },
  {
   "cell_type": "code",
   "execution_count": 2,
   "id": "636ec9b4",
   "metadata": {},
   "outputs": [],
   "source": [
    "filePath = r\"C:\\Users\\killiad\\Documents\\Senior\\REU\\Data\\ltrm_water_data_lat_long.csv\"\n",
    "dataFrame = pd.read_csv(filePath, low_memory = False)\n",
    "dataFrame = dataFrame[dataFrame['FLDNUM'] == 4]"
   ]
  },
  {
   "cell_type": "code",
   "execution_count": 12,
   "id": "142445cc",
   "metadata": {},
   "outputs": [],
   "source": [
    "def predict(df, hashtable, naVar, k):\n",
    "    df[\"PREDICTED_\" + naVar] = df[naVar]\n",
    "    naIndices = np.argwhere(np.isnan(np.array(df[naVar]))).flatten()\n",
    "    for index in naIndices:\n",
    "        distances, neighbors = k_nearest_neighbors(df, index, k)\n",
    "        interpolate(df, distances, neighbors, naVar)\n",
    "\n",
    "def transform(minimum, maximum, x):\n",
    "    return (1 / (maximum - minimum) ) * (x - minimum)\n",
    "\n",
    "def dist(point1, point2):\n",
    "    return distance.distance(point1, point2).km\n",
    "    \n",
    "def construct_hashtable(df):\n",
    "    #get hashtable information\n",
    "    data_length = math.sqrt(df.shape[0])\n",
    "    interval_length = 1 / data_length\n",
    "    lat_minimum = df[[\"LATITUDE\"]].min()[0] - 1\n",
    "    lat_maximum = df[[\"LATITUDE\"]].max()[0] + 1\n",
    "    long_minimum = df[[\"LONGITUDE\"]].min()[0] - 1\n",
    "    long_maximum = df[[\"LONGITUDE\"]].max()[0] + 1\n",
    "    \n",
    "    #construct hashtable\n",
    "    hashtable = [[[] for x in range(int(data_length))] for y in range(int(data_length))]\n",
    "    \n",
    "    #populate hashtable\n",
    "    for index, row in df.iterrows():\n",
    "        r_lat = row['LATITUDE']\n",
    "        r_long = row['LONGITUDE']\n",
    "        lat = math.floor(transform(lat_minimum, lat_maximum, r_lat) / interval_length)\n",
    "        long = math.floor(transform(long_minimum, long_maximum, r_long) / interval_length)\n",
    "        hashtable[lat][long].append((index, r_lat, r_long))\n",
    "\n",
    "    return hashtable\n",
    "\n",
    "def k_nearest_neighbors(df, index, naVar, hashtable, k):\n",
    "\n",
    "    distances = []\n",
    "    neighbor_indices = []\n",
    "    neighbors = {}\n",
    "    \n",
    "    data_length = math.sqrt(df.shape[0])\n",
    "    interval_length = 1 / data_length\n",
    "    lat_minimum = df[[\"LATITUDE\"]].min()[0] - 1\n",
    "    lat_maximum = df[[\"LATITUDE\"]].max()[0] + 1\n",
    "    long_minimum = df[[\"LONGITUDE\"]].min()[0] - 1\n",
    "    long_maximum = df[[\"LONGITUDE\"]].max()[0] + 1\n",
    "    \n",
    "    \n",
    "    row = df.loc[index]\n",
    "    point_na = (row['LATITUDE'], row['LONGITUDE'])\n",
    "    lat = math.floor(transform(lat_minimum, lat_maximum, point_na[0]) / interval_length)\n",
    "    long = math.floor(transform(long_minimum, long_maximum, point_na[1]) / interval_length)\n",
    "    print(lat)\n",
    "    print(long)\n",
    "    \n",
    "    for index, latitude, longitude in hashtable[lat][long]:\n",
    "        distance = dist(point_na, (latitude, longitude))\n",
    "        if not np.isnan(df.loc[index][naVar]) and distance != 0:\n",
    "            distances.append(distance)\n",
    "            neighbors[distances[-1]] = index\n",
    "    distances.sort()\n",
    "    distances = distances[0:k]\n",
    "    print(len(distances))\n",
    "    for distance in distances:\n",
    "        neighbor_indices.append(neighbors[distance])\n",
    "    \n",
    "    return (distances, neighbor_indices)\n",
    "\n",
    "def interpolate(df, distances, neighbors, naVar):\n",
    "    pass"
   ]
  },
  {
   "cell_type": "code",
   "execution_count": 4,
   "id": "8bb17425",
   "metadata": {},
   "outputs": [],
   "source": [
    "hashtable = construct_hashtable(dataFrame)"
   ]
  },
  {
   "cell_type": "code",
   "execution_count": 13,
   "id": "a389a234",
   "metadata": {},
   "outputs": [
    {
     "name": "stdout",
     "output_type": "stream",
     "text": [
      "84\n",
      "103\n",
      "6\n"
     ]
    },
    {
     "data": {
      "text/plain": [
       "([0.0009996611930751433,\n",
       "  0.0009996611930751433,\n",
       "  0.0009996611930751433,\n",
       "  0.0009996611930751433,\n",
       "  0.0009996611930751433,\n",
       "  0.0009996611930751433],\n",
       " [156615, 156615, 156615, 156615, 156615, 156615])"
      ]
     },
     "execution_count": 13,
     "metadata": {},
     "output_type": "execute_result"
    }
   ],
   "source": [
    "k_nearest_neighbors(dataFrame, 159509, 'TP', hashtable, 6)"
   ]
  },
  {
   "cell_type": "code",
   "execution_count": 27,
   "id": "0fc07ca2",
   "metadata": {},
   "outputs": [
    {
     "data": {
      "text/plain": [
       "730"
      ]
     },
     "execution_count": 27,
     "metadata": {},
     "output_type": "execute_result"
    }
   ],
   "source": [
    "lst = []\n",
    "for index, lat, long in hashtable[84][103]:\n",
    "    if not np.isnan(dataFrame.loc[index]['TP']):\n",
    "        lst.append(index)\n",
    "len(lst)"
   ]
  },
  {
   "cell_type": "code",
   "execution_count": null,
   "id": "5edcdc22",
   "metadata": {},
   "outputs": [],
   "source": []
  }
 ],
 "metadata": {
  "kernelspec": {
   "display_name": "Python 3",
   "language": "python",
   "name": "python3"
  },
  "language_info": {
   "codemirror_mode": {
    "name": "ipython",
    "version": 3
   },
   "file_extension": ".py",
   "mimetype": "text/x-python",
   "name": "python",
   "nbconvert_exporter": "python",
   "pygments_lexer": "ipython3",
   "version": "3.8.8"
  }
 },
 "nbformat": 4,
 "nbformat_minor": 5
}
