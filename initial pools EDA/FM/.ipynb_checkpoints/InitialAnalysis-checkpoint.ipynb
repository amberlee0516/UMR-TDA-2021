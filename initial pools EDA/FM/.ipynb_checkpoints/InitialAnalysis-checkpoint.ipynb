{
 "cells": [
  {
   "cell_type": "code",
   "execution_count": null,
   "id": "b289fe54-7d72-42c5-81cf-2094a818986c",
   "metadata": {},
   "outputs": [],
   "source": [
    "# Frederick \"Forrest\" Miller, REU Initial Analysis of Pool 26\n",
    "# imports\n",
    "import pandas as pd\n",
    "import numpy as np\n",
    "print(\"Very nice\")"
   ]
  }
 ],
 "metadata": {
  "kernelspec": {
   "display_name": "Python 3",
   "language": "python",
   "name": "python3"
  },
  "language_info": {
   "codemirror_mode": {
    "name": "ipython",
    "version": 3
   },
   "file_extension": ".py",
   "mimetype": "text/x-python",
   "name": "python",
   "nbconvert_exporter": "python",
   "pygments_lexer": "ipython3",
   "version": "3.8.2"
  }
 },
 "nbformat": 4,
 "nbformat_minor": 5
}
