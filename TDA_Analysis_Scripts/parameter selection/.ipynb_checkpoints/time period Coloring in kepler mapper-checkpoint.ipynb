{
 "cells": [
  {
   "cell_type": "markdown",
   "id": "223148a2",
   "metadata": {},
   "source": [
    "## Load libraries"
   ]
  },
  {
   "cell_type": "code",
   "execution_count": 4,
   "id": "a524414c",
   "metadata": {},
   "outputs": [],
   "source": [
    "import kmapper as km\n",
    "# import sklearn\n",
    "\n",
    "from sklearn.cluster import DBSCAN # clustering algorithm\n",
    "from sklearn.decomposition import PCA # projection (lens) creation\n",
    "from sklearn.preprocessing import StandardScaler\n",
    "from sklearn.compose import ColumnTransformer\n",
    "import hdbscan\n",
    "\n",
    "# from sklearn import ensemble\n",
    "# from sklearn.manifold import MDS\n",
    "\n",
    "import plotly.graph_objs as go\n",
    "# from ipywidgets import interactive, HBox, VBox, widgets, interact # ?\n",
    "# import dash_html_components as html # ?\n",
    "# import dash_core_components as dcc # ?\n",
    "\n",
    "from kmapper.plotlyviz import * # static and interactive plots\n",
    "import psutil # for plotlyviz\n",
    "import kaleido # for plotlyviz\n",
    "# import networkx # ?\n",
    "\n",
    "# import dash # ?\n",
    "import warnings #? \n",
    "warnings.filterwarnings(\"ignore\")\n",
    "\n",
    "import pandas as pd\n",
    "import numpy as np\n",
    "import matplotlib.pyplot as plt"
   ]
  },
  {
   "cell_type": "markdown",
   "id": "bfbe141e",
   "metadata": {},
   "source": [
    "## Read data\n",
    "\n",
    "X is a rescaled dataframe using standard scaling (mean and standard deviation). I included unscaled variables year, season, field number, stratum, and sheetbar as well."
   ]
  },
  {
   "cell_type": "code",
   "execution_count": 7,
   "id": "371ab564",
   "metadata": {},
   "outputs": [
    {
     "name": "stdout",
     "output_type": "stream",
     "text": [
      "   SHEETBAR        DATE   LATITUDE  LONGITUDE         FLDNUM       STRATUM  \\\n",
      "0  41000065  07/26/1993  44.571864 -92.510970  Lake City, MN  Main channel   \n",
      "1  41000066  07/26/1993  44.575497 -92.518497  Lake City, MN  Main channel   \n",
      "2  41000067  07/26/1993  44.573718 -92.523549  Lake City, MN  Main channel   \n",
      "3  41000068  07/26/1993  44.566588 -92.541238  Lake City, MN  Main channel   \n",
      "4  41000069  07/26/1993  44.568419 -92.548780  Lake City, MN  Main channel   \n",
      "\n",
      "   LOCATCD     TN     TP  TEMP   DO  TURB   COND   VEL    SS  WDP   CHLcal  \\\n",
      "0  9312103  3.955  0.228  23.0  6.6    28  550.0  0.50  42.3  2.2  9.44875   \n",
      "1  9312002  4.876  0.229  23.0  6.6    28  554.0  0.72  37.6  8.2  8.24230   \n",
      "2  9312102  3.955  0.220  22.9  6.3    24  564.0  0.66  34.1  4.3  8.72488   \n",
      "3  9312003  4.257  0.212  22.9  6.4    28  563.0  0.69  33.4  9.1  8.48359   \n",
      "4  9312104  4.030  0.237  23.0  6.6    33  556.0  0.68  48.0  6.7  9.52918   \n",
      "\n",
      "   SECCHI  YEAR  SEASON  \n",
      "0      40  1993       2  \n",
      "1      42  1993       2  \n",
      "2      43  1993       2  \n",
      "3      38  1993       2  \n",
      "4      45  1993       2  \n",
      "        WDP    SECCHI      TEMP        DO      TURB       VEL        TP  \\\n",
      "0 -0.362348  -0.31958  0.861452 -1.070321 -0.201687   0.38197  0.178906   \n",
      "1  1.517428 -0.268383  0.861452 -1.070321 -0.201687  0.923263  0.185471   \n",
      "2  0.295574 -0.242785  0.850848 -1.163927 -0.263691  0.775638  0.126391   \n",
      "3  1.799394 -0.370777  0.850848 -1.132725 -0.201687   0.84945  0.073876   \n",
      "4  1.047484 -0.191589  0.861452 -1.070321 -0.124182  0.824846  0.237986   \n",
      "\n",
      "         TN        SS    CHLcal  YEAR SEASON         FLDNUM       STRATUM  \\\n",
      "0   0.72931 -0.110019 -0.561444  1993      2  Lake City, MN  Main channel   \n",
      "1  1.305956 -0.165548 -0.601495  1993      2  Lake City, MN  Main channel   \n",
      "2   0.72931 -0.206899 -0.585475  1993      2  Lake City, MN  Main channel   \n",
      "3  0.918395 -0.215169 -0.593485  1993      2  Lake City, MN  Main channel   \n",
      "4  0.776269 -0.042676 -0.558773  1993      2  Lake City, MN  Main channel   \n",
      "\n",
      "   SHEETBAR  \n",
      "0  41000065  \n",
      "1  41000066  \n",
      "2  41000067  \n",
      "3  41000068  \n",
      "4  41000069  \n"
     ]
    }
   ],
   "source": [
    "water20 = pd.read_csv(\"../../LTRM data/RF interpolation/water_full.csv\")\n",
    "print(water20.head())\n",
    "\n",
    "\n",
    "X = water20[[\"WDP\", \"SECCHI\", \"TEMP\", \"DO\", \"TURB\",\n",
    "             \"VEL\", \"TP\", \"TN\", \"SS\", \"CHLcal\", \n",
    "             \"YEAR\", \"SEASON\", \"FLDNUM\", \"STRATUM\", \"SHEETBAR\"]]\n",
    "\n",
    "ct = ColumnTransformer([\n",
    "        ('somename', StandardScaler(), [\"WDP\", \"SECCHI\", \"TEMP\", \"DO\", \"TURB\",\n",
    "                                        \"VEL\", \"TP\", \"TN\", \"SS\", \"CHLcal\"])\n",
    "    ], remainder='passthrough')\n",
    "\n",
    "X = pd.DataFrame(ct.fit_transform(X), columns = [\"WDP\", \"SECCHI\", \"TEMP\", \"DO\", \"TURB\",\n",
    "                                                 \"VEL\", \"TP\", \"TN\", \"SS\", \"CHLcal\", \n",
    "                                                 \"YEAR\", \"SEASON\", \"FLDNUM\", \"STRATUM\", \"SHEETBAR\"])\n",
    "\n",
    "print(X.head())"
   ]
  },
  {
   "cell_type": "markdown",
   "id": "0704bf96",
   "metadata": {},
   "source": [
    "## Define db and hdb mapper functions"
   ]
  },
  {
   "cell_type": "code",
   "execution_count": 122,
   "id": "fa1a00a3",
   "metadata": {},
   "outputs": [],
   "source": [
    "def mapper_pca2_db(df, DBSCAN_EPSILON = 10, DBSCAN_MIN_SAMPLES = 20,\n",
    "                   N_CUBES = [10,10], PERC_OVERLAP = [.25,.25], return_with_df = False, print_pca_info = False):\n",
    "    \"\"\"\n",
    "    \"\"\"\n",
    "    \n",
    "    df.reset_index(drop = True, inplace = True)\n",
    "    \n",
    "    X = df[[\"WDP\", \"SECCHI\", \"TEMP\", \"DO\", \"TURB\", \n",
    "                \"VEL\", \"TP\", \"TN\", \"SS\", \"CHLcal\"]]\n",
    "     \n",
    "    # for discerning primary variables in PCA \n",
    "    continuous_variables = [\"WDP\", \"SECCHI\", \"TEMP\", \"DO\", \"TURB\", \n",
    "                            \"VEL\", \"TP\", \"TN\", \"SS\", \"CHLcal\"]\n",
    "    \n",
    "    var_to_index = {continuous_variables[i] : i for i in range(len(continuous_variables))}\n",
    "    projected_vars = continuous_variables\n",
    "    projected_var_indices = [var_to_index[var] for var in projected_vars]\n",
    "    \n",
    "    \n",
    "    # create instance of clustering alg\n",
    "    cluster_alg = DBSCAN(eps = DBSCAN_EPSILON, min_samples = DBSCAN_MIN_SAMPLES, \n",
    "                         metric='euclidean')\n",
    "\n",
    "    # instantiate kepler mapper object\n",
    "    mapper = km.KeplerMapper(verbose = 0)\n",
    "    \n",
    "    # defining filter function as projection on to the first 2 component axis\n",
    "    pca = PCA(n_components = 2)\n",
    "    lens = pca.fit_transform(X)\n",
    "    \n",
    "    if print_pca_info: \n",
    "        for j in range(2):\n",
    "            pc_j = pca.components_[j]\n",
    "            largest_magnitude = max(abs(pc_j))\n",
    "            idx_magnitude = np.where(abs(pc_j) == largest_magnitude)[0][0]\n",
    "\n",
    "            print(\"*** PCA\", j+1, \" ***\")\n",
    "            print(\"Primary variable: \", continuous_variables[idx_magnitude])\n",
    "            print(\"Corresponding component: \", pc_j[idx_magnitude])\n",
    "            print(\"Explained variance: \", pca.explained_variance_ratio_[j])\n",
    "    \n",
    "    summary_variable = mapper.project(np.array(X), projection=projected_var_indices, scaler=None)\n",
    "    # similar to fit transform\n",
    "    \n",
    "    # Generate the simplicial complex\n",
    "    scomplex = mapper.map(lens, X, \n",
    "                          cover=km.Cover(n_cubes = N_CUBES, perc_overlap = PERC_OVERLAP), \n",
    "                          clusterer = cluster_alg)\n",
    "    \n",
    "    if return_with_df: \n",
    "        return(scomplex, df)\n",
    "\n",
    "    return(scomplex)"
   ]
  },
  {
   "cell_type": "code",
   "execution_count": 8,
   "id": "a3415623",
   "metadata": {},
   "outputs": [],
   "source": [
    "def mapper_pca2_hdb(df, HDB_MIN_CLUSTER = 45, HDB_MIN_SAMPLES = 10, HDB_EPSILON = 1,\n",
    "                    N_CUBES = [10,10], PERC_OVERLAP = [.25,.25], return_with_df = False, print_pca_info = False):\n",
    "    \"\"\"\n",
    "    \"\"\"\n",
    "  \n",
    "    df.reset_index(drop = True, inplace = True)\n",
    "    \n",
    "    X = df[[\"WDP\", \"SECCHI\", \"TEMP\", \"DO\", \"TURB\", \n",
    "                \"VEL\", \"TP\", \"TN\", \"SS\", \"CHLcal\"]]\n",
    "\n",
    "    # for discerning primary variables in PCA \n",
    "    continuous_variables = [\"WDP\", \"SECCHI\", \"TEMP\", \"DO\", \"TURB\", \n",
    "                            \"VEL\", \"TP\", \"TN\", \"SS\", \"CHLcal\"]\n",
    "    \n",
    "    var_to_index = {continuous_variables[i] : i for i in range(len(continuous_variables))}\n",
    "    projected_vars = continuous_variables\n",
    "    projected_var_indices = [var_to_index[var] for var in projected_vars]\n",
    "    \n",
    "    # create instance of clustering alg\n",
    "    cluster_alg = hdbscan.HDBSCAN(min_cluster_size = HDB_MIN_CLUSTER, min_samples = HDB_MIN_SAMPLES,\n",
    "                                  cluster_selection_epsilon= HDB_EPSILON, cluster_selection_method = 'eom')\n",
    "\n",
    "    # instantiate kepler mapper object\n",
    "    mapper = km.KeplerMapper(verbose = 0)\n",
    "    \n",
    "    # defining filter function as projection on to the first 2 component axis\n",
    "    pca = PCA(n_components = 2)\n",
    "    lens = pca.fit_transform(X)\n",
    "    \n",
    "    if print_pca_info: \n",
    "        for j in range(2):\n",
    "            pc_j = pca.components_[j]\n",
    "            largest_magnitude = max(abs(pc_j))\n",
    "            idx_magnitude = np.where(abs(pc_j) == largest_magnitude)[0][0]\n",
    "\n",
    "            print(\"*** PCA\", j+1, \" ***\")\n",
    "            print(\"Primary variable: \", continuous_variables[idx_magnitude])\n",
    "            print(\"Corresponding component: \", pc_j[idx_magnitude])\n",
    "            print(\"Explained variance: \", pca.explained_variance_ratio_[j])\n",
    "    \n",
    "    summary_variable = mapper.project(np.array(X), projection=projected_var_indices, scaler=None)\n",
    "    # similar to fit transform\n",
    "    \n",
    "    # Generate the simplicial complex\n",
    "    scomplex = mapper.map(lens, X, \n",
    "                          cover=km.Cover(n_cubes = N_CUBES, perc_overlap = PERC_OVERLAP), \n",
    "                          clusterer = cluster_alg)  \n",
    "    \n",
    "    if return_with_df:\n",
    "        return(scomplex, df)\n",
    "    \n",
    "    return(scomplex)"
   ]
  },
  {
   "cell_type": "markdown",
   "id": "94981b31",
   "metadata": {},
   "source": [
    "## DBscan uncolored graph"
   ]
  },
  {
   "cell_type": "code",
   "execution_count": 123,
   "id": "a8a9e3f5",
   "metadata": {},
   "outputs": [],
   "source": [
    "db_scomplex, dbscan_df = mapper_pca2_db(X, DBSCAN_EPSILON = 10, DBSCAN_MIN_SAMPLES = 10,\n",
    "                                        N_CUBES = [75,75], PERC_OVERLAP = [0.5,0.5], \n",
    "                                        return_with_df = True, print_pca_info = False)"
   ]
  },
  {
   "cell_type": "code",
   "execution_count": 124,
   "id": "d9dbde1c",
   "metadata": {},
   "outputs": [
    {
     "data": {
      "application/vnd.jupyter.widget-view+json": {
       "model_id": "3f1c06998abc4e28921f5ae6aa19ffd9",
       "version_major": 2,
       "version_minor": 0
      },
      "text/plain": [
       "VBox(children=(HBox(children=(FigureWidget({\n",
       "    'data': [{'hoverinfo': 'none',\n",
       "              'line': {'color'…"
      ]
     },
     "metadata": {},
     "output_type": "display_data"
    }
   ],
   "source": [
    "plotlyviz(db_scomplex, graph_layout = \"kk\", dashboard = True)"
   ]
  },
  {
   "cell_type": "markdown",
   "id": "be2f6afe",
   "metadata": {},
   "source": [
    "#### color DBscan"
   ]
  },
  {
   "cell_type": "code",
   "execution_count": 126,
   "id": "f900e2a0",
   "metadata": {},
   "outputs": [
    {
     "data": {
      "application/vnd.jupyter.widget-view+json": {
       "model_id": "245caa4d359c4e5499bd08e103cd5b7d",
       "version_major": 2,
       "version_minor": 0
      },
      "text/plain": [
       "VBox(children=(HBox(children=(FigureWidget({\n",
       "    'data': [{'hoverinfo': 'none',\n",
       "              'line': {'color'…"
      ]
     },
     "metadata": {},
     "output_type": "display_data"
    }
   ],
   "source": [
    "color_by_var(db_scomplex, dbscan_df, \"YEAR\")"
   ]
  },
  {
   "cell_type": "code",
   "execution_count": 127,
   "id": "5b2970ab",
   "metadata": {},
   "outputs": [
    {
     "data": {
      "application/vnd.jupyter.widget-view+json": {
       "model_id": "e25d191f1b384ccc85f0cc04ab0c8ded",
       "version_major": 2,
       "version_minor": 0
      },
      "text/plain": [
       "VBox(children=(HBox(children=(FigureWidget({\n",
       "    'data': [{'hoverinfo': 'none',\n",
       "              'line': {'color'…"
      ]
     },
     "metadata": {},
     "output_type": "display_data"
    }
   ],
   "source": [
    "color_by_var(db_scomplex, dbscan_df, \"SEASON\")"
   ]
  },
  {
   "cell_type": "code",
   "execution_count": 128,
   "id": "1f75fc2b",
   "metadata": {},
   "outputs": [
    {
     "data": {
      "application/vnd.jupyter.widget-view+json": {
       "model_id": "36e714e432d345a2ba17df1187be9dbd",
       "version_major": 2,
       "version_minor": 0
      },
      "text/plain": [
       "VBox(children=(HBox(children=(FigureWidget({\n",
       "    'data': [{'hoverinfo': 'none',\n",
       "              'line': {'color'…"
      ]
     },
     "metadata": {},
     "output_type": "display_data"
    }
   ],
   "source": [
    "color_by_var(db_scomplex, dbscan_df, \"CHLcal\")"
   ]
  },
  {
   "cell_type": "code",
   "execution_count": 133,
   "id": "38cbd5be",
   "metadata": {},
   "outputs": [
    {
     "data": {
      "application/vnd.jupyter.widget-view+json": {
       "model_id": "3e08c7362f204b08b6e3413484e291a1",
       "version_major": 2,
       "version_minor": 0
      },
      "text/plain": [
       "VBox(children=(HBox(children=(FigureWidget({\n",
       "    'data': [{'hoverinfo': 'none',\n",
       "              'line': {'color'…"
      ]
     },
     "metadata": {},
     "output_type": "display_data"
    }
   ],
   "source": [
    "color_by_var(db_scomplex, dbscan_df, \"SS\")"
   ]
  },
  {
   "cell_type": "code",
   "execution_count": 130,
   "id": "6fde573a",
   "metadata": {},
   "outputs": [
    {
     "data": {
      "application/vnd.jupyter.widget-view+json": {
       "model_id": "06431976a51a40aba16fa26e26e7cfbf",
       "version_major": 2,
       "version_minor": 0
      },
      "text/plain": [
       "VBox(children=(HBox(children=(FigureWidget({\n",
       "    'data': [{'hoverinfo': 'none',\n",
       "              'line': {'color'…"
      ]
     },
     "metadata": {},
     "output_type": "display_data"
    }
   ],
   "source": [
    "color_by_var(db_scomplex, dbscan_df, \"TURB\")"
   ]
  },
  {
   "cell_type": "code",
   "execution_count": 131,
   "id": "70017595",
   "metadata": {},
   "outputs": [
    {
     "data": {
      "application/vnd.jupyter.widget-view+json": {
       "model_id": "f5ae5870b9e9485b803fad31b308a0c8",
       "version_major": 2,
       "version_minor": 0
      },
      "text/plain": [
       "VBox(children=(HBox(children=(FigureWidget({\n",
       "    'data': [{'hoverinfo': 'none',\n",
       "              'line': {'color'…"
      ]
     },
     "metadata": {},
     "output_type": "display_data"
    }
   ],
   "source": [
    "color_by_var(db_scomplex, dbscan_df, \"SECCHI\")"
   ]
  },
  {
   "cell_type": "code",
   "execution_count": 132,
   "id": "eae779c1",
   "metadata": {},
   "outputs": [
    {
     "data": {
      "application/vnd.jupyter.widget-view+json": {
       "model_id": "6d218c897f454c36a5dd825a34741f87",
       "version_major": 2,
       "version_minor": 0
      },
      "text/plain": [
       "VBox(children=(HBox(children=(FigureWidget({\n",
       "    'data': [{'hoverinfo': 'none',\n",
       "              'line': {'color'…"
      ]
     },
     "metadata": {},
     "output_type": "display_data"
    }
   ],
   "source": [
    "color_by_var(db_scomplex, dbscan_df, \"WDP\")"
   ]
  },
  {
   "cell_type": "markdown",
   "id": "1bde91b6",
   "metadata": {},
   "source": [
    "## HDBscan uncolored graph"
   ]
  },
  {
   "cell_type": "code",
   "execution_count": 9,
   "id": "bc8992c4",
   "metadata": {},
   "outputs": [
    {
     "name": "stdout",
     "output_type": "stream",
     "text": [
      "*** PCA 1  ***\n",
      "Primary variable:  SS\n",
      "Corresponding component:  0.46292883376482535\n",
      "Explained variance:  0.3447943056177738\n",
      "*** PCA 2  ***\n",
      "Primary variable:  CHLcal\n",
      "Corresponding component:  -0.474609974501097\n",
      "Explained variance:  0.18571896962264153\n"
     ]
    }
   ],
   "source": [
    "hdb_scomplex, hdbscan_df = mapper_pca2_hdb(X, HDB_MIN_CLUSTER = 10, HDB_MIN_SAMPLES = 10,\n",
    "                                           HDB_EPSILON = 1, N_CUBES = [75, 75], PERC_OVERLAP = [0.5, 0.5],\n",
    "                                           return_with_df = True, print_pca_info = False)"
   ]
  },
  {
   "cell_type": "code",
   "execution_count": 10,
   "id": "1781324d",
   "metadata": {},
   "outputs": [
    {
     "data": {
      "application/vnd.jupyter.widget-view+json": {
       "model_id": "75f1a63200724c97b682f9969bf96969",
       "version_major": 2,
       "version_minor": 0
      },
      "text/plain": [
       "VBox(children=(HBox(children=(FigureWidget({\n",
       "    'data': [{'hoverinfo': 'none',\n",
       "              'line': {'color'…"
      ]
     },
     "metadata": {},
     "output_type": "display_data"
    }
   ],
   "source": [
    "plotlyviz(hdb_scomplex, graph_layout = \"fr\", dashboard = True)"
   ]
  },
  {
   "cell_type": "markdown",
   "id": "5d8f9f43",
   "metadata": {},
   "source": [
    "## Color the hdb graph"
   ]
  },
  {
   "cell_type": "code",
   "execution_count": 110,
   "id": "34e47bf2",
   "metadata": {},
   "outputs": [],
   "source": [
    "def color_by_var(scomplex, df, cont_var_str):\n",
    "    \"\"\"\n",
    "    params\n",
    "    * scomplex is the first return from mapper_pca2_db or mapper_pca2_hdb\n",
    "    * df is the second retrun from mapper_pca2_db or mapper_pca2_hdb\n",
    "    \"\"\"\n",
    "\n",
    "    kmgraph, mapper_summary, colorf_distribution = get_mapper_graph(scomplex,\n",
    "                                                                    color_values = df[cont_var_str],\n",
    "                                                                    color_function_name = [cont_var_str])\n",
    "\n",
    "    for node in kmgraph['nodes']:\n",
    "        node['custom_tooltips'] = np.array(df[cont_var_str])[scomplex['nodes'][node['name']]]\n",
    "        # scomplex['nodes'] is a dictionary with keys that are the mapper nodes, cube600_cluster1, cube5_cluster0, etc....\n",
    "        # [node['name']] is the name of the mapper node (such as cube600_cluster1)\n",
    "        # scomplex['nodes'][node['name']] is a list of row numbers\n",
    "        # that correspond with X\n",
    "        \n",
    "    plotly_graph_data = plotly_graph(kmgraph, graph_layout='kk')\n",
    "    \n",
    "    title_str = \"HDBscan\" + cont_var_str\n",
    "    layout = plot_layout(title=title_str,\n",
    "                         width=620, height=570,\n",
    "                         annotation_text=get_kmgraph_meta(mapper_summary))\n",
    "\n",
    "    fw_graph = go.FigureWidget(data = plotly_graph_data, layout=layout)\n",
    "    fw_hist = node_hist_fig(colorf_distribution)\n",
    "    fw_summary = summary_fig(mapper_summary, height=300)\n",
    "    dashboard = hovering_widgets(kmgraph,\n",
    "                                 fw_graph,\n",
    "                                 ctooltips=True, # ctooltips = True, because we assigned a label to each\n",
    "                                                 #cluster member\n",
    "                                 member_textbox_width=600)\n",
    "\n",
    "    #Update the fw_graph colorbar, setting its title:\n",
    "\n",
    "    fw_graph.data[1].marker.colorbar.title = cont_var_str\n",
    "    \n",
    "    return(dashboard)\n",
    "    \n"
   ]
  },
  {
   "cell_type": "code",
   "execution_count": 111,
   "id": "7208cb3b",
   "metadata": {},
   "outputs": [
    {
     "data": {
      "application/vnd.jupyter.widget-view+json": {
       "model_id": "996aa511e349418f889447ce1c97f1f4",
       "version_major": 2,
       "version_minor": 0
      },
      "text/plain": [
       "VBox(children=(HBox(children=(FigureWidget({\n",
       "    'data': [{'hoverinfo': 'none',\n",
       "              'line': {'color'…"
      ]
     },
     "metadata": {},
     "output_type": "display_data"
    }
   ],
   "source": [
    "color_by_var(hdb_scomplex, hdbscan_df, \"YEAR\")"
   ]
  },
  {
   "cell_type": "code",
   "execution_count": 112,
   "id": "cb4b3a77",
   "metadata": {},
   "outputs": [
    {
     "data": {
      "application/vnd.jupyter.widget-view+json": {
       "model_id": "1ed7093239134265b15dea5e19aa8cf9",
       "version_major": 2,
       "version_minor": 0
      },
      "text/plain": [
       "VBox(children=(HBox(children=(FigureWidget({\n",
       "    'data': [{'hoverinfo': 'none',\n",
       "              'line': {'color'…"
      ]
     },
     "metadata": {},
     "output_type": "display_data"
    }
   ],
   "source": [
    "color_by_var(hdb_scomplex, hdbscan_df, \"SEASON\")"
   ]
  },
  {
   "cell_type": "code",
   "execution_count": 113,
   "id": "42ba0cd5",
   "metadata": {},
   "outputs": [
    {
     "data": {
      "application/vnd.jupyter.widget-view+json": {
       "model_id": "e82c4f8fd2774a22891560e74f145a8a",
       "version_major": 2,
       "version_minor": 0
      },
      "text/plain": [
       "VBox(children=(HBox(children=(FigureWidget({\n",
       "    'data': [{'hoverinfo': 'none',\n",
       "              'line': {'color'…"
      ]
     },
     "metadata": {},
     "output_type": "display_data"
    }
   ],
   "source": [
    "color_by_var(hdb_scomplex, hdbscan_df, \"CHLcal\")"
   ]
  },
  {
   "cell_type": "code",
   "execution_count": 114,
   "id": "7bfc2378",
   "metadata": {},
   "outputs": [
    {
     "data": {
      "application/vnd.jupyter.widget-view+json": {
       "model_id": "b16dcaa42bd742b9aff75ebb69956d5f",
       "version_major": 2,
       "version_minor": 0
      },
      "text/plain": [
       "VBox(children=(HBox(children=(FigureWidget({\n",
       "    'data': [{'hoverinfo': 'none',\n",
       "              'line': {'color'…"
      ]
     },
     "metadata": {},
     "output_type": "display_data"
    }
   ],
   "source": [
    "color_by_var(hdb_scomplex, hdbscan_df, \"SS\")"
   ]
  },
  {
   "cell_type": "code",
   "execution_count": 115,
   "id": "f3a2eef6",
   "metadata": {},
   "outputs": [
    {
     "data": {
      "application/vnd.jupyter.widget-view+json": {
       "model_id": "7e37bf835f4040b98a29c8060efe874b",
       "version_major": 2,
       "version_minor": 0
      },
      "text/plain": [
       "VBox(children=(HBox(children=(FigureWidget({\n",
       "    'data': [{'hoverinfo': 'none',\n",
       "              'line': {'color'…"
      ]
     },
     "metadata": {},
     "output_type": "display_data"
    }
   ],
   "source": [
    "color_by_var(hdb_scomplex, hdbscan_df, \"TURB\")"
   ]
  },
  {
   "cell_type": "code",
   "execution_count": 116,
   "id": "61f78928",
   "metadata": {},
   "outputs": [
    {
     "data": {
      "application/vnd.jupyter.widget-view+json": {
       "model_id": "6662374f710a4f81bc5d693a660ae4af",
       "version_major": 2,
       "version_minor": 0
      },
      "text/plain": [
       "VBox(children=(HBox(children=(FigureWidget({\n",
       "    'data': [{'hoverinfo': 'none',\n",
       "              'line': {'color'…"
      ]
     },
     "metadata": {},
     "output_type": "display_data"
    }
   ],
   "source": [
    "color_by_var(hdb_scomplex, hdbscan_df, \"SECCHI\")"
   ]
  },
  {
   "cell_type": "code",
   "execution_count": 117,
   "id": "a65f64d1",
   "metadata": {},
   "outputs": [
    {
     "data": {
      "application/vnd.jupyter.widget-view+json": {
       "model_id": "cbdc723fa98c48f88a11e6846800873b",
       "version_major": 2,
       "version_minor": 0
      },
      "text/plain": [
       "VBox(children=(HBox(children=(FigureWidget({\n",
       "    'data': [{'hoverinfo': 'none',\n",
       "              'line': {'color'…"
      ]
     },
     "metadata": {},
     "output_type": "display_data"
    }
   ],
   "source": [
    "color_by_var(hdb_scomplex, hdbscan_df, \"WDP\")"
   ]
  },
  {
   "cell_type": "code",
   "execution_count": null,
   "id": "97b5b15a",
   "metadata": {},
   "outputs": [],
   "source": [
    "def color_by_var(scomplex, df, cont_var_str):\n",
    "    \"\"\"\n",
    "    params\n",
    "    * scomplex is the first return from mapper_pca2_db or mapper_pca2_hdb\n",
    "    * df is the second retrun from mapper_pca2_db or mapper_pca2_hdb\n",
    "    \"\"\"\n",
    "\n",
    "    kmgraph, mapper_summary, colorf_distribution = get_mapper_graph(scomplex,\n",
    "                                                                    color_values = df[cont_var_str],\n",
    "                                                                    color_function_name = [cont_var_str])\n",
    "\n",
    "    for node in kmgraph['nodes']:\n",
    "        node['custom_tooltips'] = np.array(df[cont_var_str])[scomplex['nodes'][node['name']]]\n",
    "        # scomplex['nodes'] is a dictionary with keys that are the mapper nodes, cube600_cluster1, cube5_cluster0, etc....\n",
    "        # [node['name']] is the name of the mapper node (such as cube600_cluster1)\n",
    "        # scomplex['nodes'][node['name']] is a list of row numbers\n",
    "        # that correspond with X\n",
    "        \n",
    "    plotly_graph_data = plotly_graph(kmgraph, graph_layout='kk')\n",
    "    \n",
    "    title_str = \"HDBscan\" + cont_var_str\n",
    "    layout = plot_layout(title=title_str,\n",
    "                         width=620, height=570,\n",
    "                         annotation_text=get_kmgraph_meta(mapper_summary))\n",
    "\n",
    "    fw_graph = go.FigureWidget(data = plotly_graph_data, layout=layout)\n",
    "    fw_hist = node_hist_fig(colorf_distribution)\n",
    "    fw_summary = summary_fig(mapper_summary, height=300)\n",
    "    dashboard = hovering_widgets(kmgraph,\n",
    "                                 fw_graph,\n",
    "                                 ctooltips=True, # ctooltips = True, because we assigned a label to each\n",
    "                                                 #cluster member\n",
    "                                 member_textbox_width=600)\n",
    "\n",
    "    #Update the fw_graph colorbar, setting its title:\n",
    "\n",
    "    fw_graph.data[1].marker.colorbar.title = cont_var_str\n",
    "    \n",
    "    return(dashboard)\n",
    "    \n"
   ]
  },
  {
   "cell_type": "code",
   "execution_count": null,
   "id": "d21a20e1",
   "metadata": {},
   "outputs": [],
   "source": []
  },
  {
   "cell_type": "code",
   "execution_count": null,
   "id": "9f5998d2",
   "metadata": {},
   "outputs": [],
   "source": []
  },
  {
   "cell_type": "code",
   "execution_count": null,
   "id": "292c1c2d",
   "metadata": {},
   "outputs": [],
   "source": []
  },
  {
   "cell_type": "code",
   "execution_count": null,
   "id": "1fea7f08",
   "metadata": {},
   "outputs": [],
   "source": []
  },
  {
   "cell_type": "code",
   "execution_count": 81,
   "id": "9365a5f0",
   "metadata": {},
   "outputs": [],
   "source": [
    "pl_brewer = [[0.0, '#006837'],\n",
    "             [0.1, '#1a9850'],\n",
    "             [0.2, '#66bd63'],\n",
    "             [0.3, '#a6d96a'],\n",
    "             [0.4, '#d9ef8b'],\n",
    "             [0.5, '#ffffbf'],\n",
    "             [0.6, '#fee08b'],\n",
    "             [0.7, '#fdae61'],\n",
    "             [0.8, '#f46d43'],\n",
    "             [0.9, '#d73027'],\n",
    "             [1.0, '#a50026']]\n",
    "\n",
    "kmgraph, mapper_summary, colorf_distribution = get_mapper_graph(scomplex,\n",
    "                                                                colorscale = pl_brewer,\n",
    "                                                                color_values = X[\"SEASON\"],\n",
    "                                                                color_function_name = [\"season\"])\n",
    "\n"
   ]
  },
  {
   "cell_type": "code",
   "execution_count": 82,
   "id": "8abda246",
   "metadata": {
    "scrolled": false
   },
   "outputs": [],
   "source": [
    "for node in kmgraph['nodes']:\n",
    "    node['custom_tooltips'] = np.array(X[\"SEASON\"])[scomplex['nodes'][node['name']]]\n",
    "    # scomplex['nodes'] is a dictionary with keys that are the mapper nodes, cube600_cluster1, cube5_cluster0, etc....\n",
    "    # [node['name']] is the name of the mapper node (such as cube600_cluster1)\n",
    "    # scomplex['nodes'][node['name']] is a list of row numbers\n",
    "    # that correspond with X"
   ]
  },
  {
   "cell_type": "code",
   "execution_count": 83,
   "id": "8df5fbe0",
   "metadata": {},
   "outputs": [],
   "source": [
    "plotly_graph_data = plotly_graph(kmgraph, graph_layout='fr', colorscale = pl_brewer)\n",
    "layout = plot_layout(title='HDBScan, year colored, tool tips is stratum',\n",
    "                     width=620, height=570,\n",
    "                     annotation_text=get_kmgraph_meta(mapper_summary))\n",
    "\n",
    "fw_graph = go.FigureWidget(data = plotly_graph_data, layout=layout)\n",
    "fw_hist = node_hist_fig(colorf_distribution)\n",
    "fw_summary = summary_fig(mapper_summary, height=300)\n",
    "dashboard = hovering_widgets(kmgraph,\n",
    "                             fw_graph,\n",
    "                             ctooltips=True, # ctooltips = True, because we assigned a label to each\n",
    "                                             #cluster member\n",
    "                             member_textbox_width=600)\n",
    "\n",
    "#Update the fw_graph colorbar, setting its title:\n",
    "\n",
    "fw_graph.data[1].marker.colorbar.title = 'year'"
   ]
  },
  {
   "cell_type": "code",
   "execution_count": 88,
   "id": "eb06d537",
   "metadata": {},
   "outputs": [
    {
     "data": {
      "text/plain": [
       "{'custom_meta': {'projection': '[0, 1, 2, 3, 4, 5, 6, 7, 8, 9]',\n",
       "  'n_cubes': [75, 75],\n",
       "  'perc_overlap': [0.5, 0.5],\n",
       "  'clusterer': 'HDBSCAN(cluster_selection_epsilon=1, min_cluster_size=10, min_samples=10)',\n",
       "  'scaler': 'None'},\n",
       " 'color_function_name': ['season'],\n",
       " 'node_color_function': 'mean',\n",
       " 'n_nodes': 457,\n",
       " 'n_edges': 1523,\n",
       " 'n_total': 242622,\n",
       " 'n_unique': 69244}"
      ]
     },
     "execution_count": 88,
     "metadata": {},
     "output_type": "execute_result"
    }
   ],
   "source": []
  },
  {
   "cell_type": "code",
   "execution_count": 85,
   "id": "d13f7997",
   "metadata": {},
   "outputs": [
    {
     "data": {
      "application/vnd.jupyter.widget-view+json": {
       "model_id": "5d137aa574c84d8f88deb5fdb0213404",
       "version_major": 2,
       "version_minor": 0
      },
      "text/plain": [
       "VBox(children=(HBox(children=(FigureWidget({\n",
       "    'data': [{'hoverinfo': 'none',\n",
       "              'line': {'color'…"
      ]
     },
     "metadata": {},
     "output_type": "display_data"
    }
   ],
   "source": [
    "dashboard"
   ]
  },
  {
   "cell_type": "markdown",
   "id": "dc572fc2",
   "metadata": {},
   "source": [
    "## Playing around with the structure of scomplex"
   ]
  },
  {
   "cell_type": "code",
   "execution_count": 4,
   "id": "9d1cde26",
   "metadata": {},
   "outputs": [],
   "source": [
    "scomplex_db = mapper_pca2_db(X, DBSCAN_EPSILON = 1, DBSCAN_MIN_SAMPLES = 5, N_CUBES = [100,100], \n",
    "                             PERC_OVERLAP = [.5,.5], remove_cond_bool = True, scomplex_bool = True)"
   ]
  },
  {
   "cell_type": "code",
   "execution_count": 25,
   "id": "afec1d58",
   "metadata": {},
   "outputs": [],
   "source": [
    "plotly_graph_data = plotly_graph(kmgraph, graph_layout = 'fr')\n",
    "\n",
    "layout = plot_layout(title = 'HDBScan',\n",
    "                     width = 620, height = 570,\n",
    "                     annotation_text = get_kmgraph_meta(mapper_summary))\n",
    "\n",
    "fw_graph = go.FigureWidget(data=plotly_graph_data, layout=layout)"
   ]
  },
  {
   "cell_type": "code",
   "execution_count": 3,
   "id": "fd393649",
   "metadata": {},
   "outputs": [],
   "source": [
    "def mapper_pca2_db(df, DBSCAN_EPSILON = 10, DBSCAN_MIN_SAMPLES = 20, \n",
    "                N_CUBES = [10,10], PERC_OVERLAP = [.25,.25],\n",
    "                remove_cond_bool = False, scomplex_bool = False):\n",
    "    \"\"\"\n",
    "    \"\"\"\n",
    "    \n",
    "    if remove_cond_bool:\n",
    "        \n",
    "        X = df[[\"WDP\", \"SECCHI\", \"TEMP\", \"DO\", \"TURB\", \n",
    "                \"VEL\", \"TP\", \"TN\", \"SS\", \"CHLcal\"]]\n",
    "        \n",
    "    else:\n",
    "        \n",
    "        X = df[[\"WDP\", \"SECCHI\", \"TEMP\", \"DO\", \"TURB\", \n",
    "                \"VEL\", \"TP\", \"TN\", \"SS\", \"CHLcal\", \"COND\"]]\n",
    "    \n",
    "    # for discerning primary variables in PCA \n",
    "    continuous_variables = [\"WDP\", \"SECCHI\", \"TEMP\", \"DO\", \"TURB\", \n",
    "                            \"VEL\", \"TP\", \"TN\", \"SS\", \"CHLcal\"]\n",
    "    \n",
    "    if not remove_cond_bool:\n",
    "        \n",
    "        continuous_variables.append(\"COND\")\n",
    "    \n",
    "    var_to_index = {continuous_variables[i] : i for i in range(len(continuous_variables))}\n",
    "    projected_vars = continuous_variables\n",
    "    projected_var_indices = [var_to_index[var] for var in projected_vars]\n",
    "    \n",
    "#     if X.shape[0]<10:\n",
    "#         #print(X)\n",
    "#         print(\"Not enough data in \", title, \"_size = \", X.shape[0])\n",
    "#         return(X.shape[0])\n",
    "    \n",
    "    # to match up indices in scomplex with the original dataframe X\n",
    "    X.reset_index(drop = True, inplace = True) \n",
    "    \n",
    "    # create instance of clustering alg\n",
    "    cluster_alg = DBSCAN(eps = DBSCAN_EPSILON, min_samples = DBSCAN_MIN_SAMPLES, \n",
    "                         metric='euclidean')\n",
    "\n",
    "    # instantiate kepler mapper object\n",
    "    mapper = km.KeplerMapper(verbose = 0)\n",
    "    \n",
    "    # defining filter function as projection on to the first 2 component axis\n",
    "    pca = PCA(n_components = 2)\n",
    "    lens = pca.fit_transform(X)\n",
    "    \n",
    "#     for j in range(2):\n",
    "#         pc_j = pca.components_[j]\n",
    "#         largest_magnitude = max(abs(pc_j))\n",
    "#         idx_magnitude = np.where(abs(pc_j) == largest_magnitude)[0][0]\n",
    "        \n",
    "#         print(\"*** PCA\", j+1, \" ***\")\n",
    "#         print(\"Primary variable: \", continuous_variables[idx_magnitude])\n",
    "#         print(\"Corresponding component: \", pc_j[idx_magnitude])\n",
    "#         print(\"Explained variance: \", pca.explained_variance_ratio_[j])\n",
    "    \n",
    "    summary_variable = mapper.project(np.array(X), projection=projected_var_indices, scaler=None)\n",
    "    # similar to fit transform\n",
    "    \n",
    "    # Generate the simplicial complex\n",
    "    scomplex = mapper.map(lens, X, \n",
    "                          cover=km.Cover(n_cubes = N_CUBES, perc_overlap = PERC_OVERLAP), \n",
    "                          clusterer = cluster_alg)  \n",
    "\n",
    "    if scomplex_bool: \n",
    "        return(scomplex)\n",
    "    \n",
    "    # the rest of this is for coloring \n",
    "    \n",
    "    pl_brewer = [[0.0, '#006837'],\n",
    "             [0.1, '#1a9850'],\n",
    "             [0.2, '#66bd63'],\n",
    "             [0.3, '#a6d96a'],\n",
    "             [0.4, '#d9ef8b'],\n",
    "             [0.5, '#ffffbf'],\n",
    "             [0.6, '#fee08b'],\n",
    "             [0.7, '#fdae61'],\n",
    "             [0.8, '#f46d43'],\n",
    "             [0.9, '#d73027'],\n",
    "             [1.0, '#a50026']]\n",
    "\n",
    "    color_values = lens[:,0] - lens[:,0].min() # changes if PCA1 or PCA1 and PCA2\n",
    "    # can change to other variables\n",
    "    color_function_name = ['Distance to x-min'] # set name of color function\n",
    "    my_colorscale = pl_brewer\n",
    "    kmgraph, mapper_summary, colorf_distribution = get_mapper_graph(scomplex,\n",
    "                                                                    color_values,\n",
    "                                                                    color_function_name=color_function_name, \n",
    "                                                                    colorscale=my_colorscale)\n",
    "    \n",
    "    plotly_graph_data = plotly_graph(kmgraph, graph_layout='fr', colorscale=my_colorscale, \n",
    "                                     factor_size=2.5, edge_linewidth=0.5)\n",
    "    \n",
    "    plot_title = str(DBSCAN_EPSILON) + str(DBSCAN_EPSILON) + ', MIN_SAMPLES ' + str(DBSCAN_MIN_SAMPLES) \n",
    "\n",
    "    layout = plot_layout(title=plot_title,  \n",
    "                         width=620, height=570,\n",
    "                         annotation_text=get_kmgraph_meta(mapper_summary))\n",
    "\n",
    "    # FigureWidget is responsible for event listeners\n",
    "\n",
    "    fw_graph = go.FigureWidget(data=plotly_graph_data, layout=layout)\n",
    "    fw_summary = summary_fig(mapper_summary, height=300)\n",
    "\n",
    "    dashboard = hovering_widgets(kmgraph, fw_graph, member_textbox_width=600)\n",
    "\n",
    "    # DESIRED FILE PATH, CHANGE TO FIT YOUR LOCAL MACHINE\n",
    "    directory_path = \"mapper outputs\"\n",
    "    \n",
    "    #Update the fw_graph colorbar, setting its title:\n",
    "    fw_graph.data[1].marker.colorbar.title = 'dist to<br>x-min'\n",
    "    html_output_path = directory_path + 'Eps_' + str(DBSCAN_EPSILON) +'_MinS_' + str(DBSCAN_MIN_SAMPLES) + '_NCubes_' + str(N_CUBES) + '_PercOvlp_' + str(PERC_OVERLAP) + '.html'\n",
    "    mapper.visualize(scomplex, color_values=color_values, color_function_name=color_function_name,\n",
    "                     path_html=html_output_path, lens = summary_variable, lens_names = projected_vars)\n",
    "    \n",
    "    return scomplex, X"
   ]
  }
 ],
 "metadata": {
  "kernelspec": {
   "display_name": "Python 3",
   "language": "python",
   "name": "python3"
  },
  "language_info": {
   "codemirror_mode": {
    "name": "ipython",
    "version": 3
   },
   "file_extension": ".py",
   "mimetype": "text/x-python",
   "name": "python",
   "nbconvert_exporter": "python",
   "pygments_lexer": "ipython3",
   "version": "3.9.5"
  }
 },
 "nbformat": 4,
 "nbformat_minor": 5
}
