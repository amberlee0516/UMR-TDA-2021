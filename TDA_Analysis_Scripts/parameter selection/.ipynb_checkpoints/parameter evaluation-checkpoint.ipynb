{
 "cells": [
  {
   "cell_type": "markdown",
   "id": "72bc2c3e",
   "metadata": {},
   "source": [
    "# Setting up TDA\n",
    "\n",
    "#### Introduction\n",
    "\n",
    "Recall the broad steps of TDA:\n",
    "1. Start with the data. Apply a filter function.\n",
    "2. Create overlapping bins of the data using the image of the filter function.\n",
    "3. Cluster the data in the overlapping bins of the data (aka the pre-image).\n",
    "4. Create a directed graph.\n",
    "\n",
    "We must choose the following methods and parameters. These correspond to the first three steps of TDA.\n",
    "1. The method for scaling the data and the filter function\n",
    "2. Parameters or (a) number of bins and (b) percent overlap of the bins\n",
    "3. The clustering algorithm and the parameters\n",
    "\n",
    "We already decided on PCA2 for our filter function because...\n",
    "\n",
    "#### Summary\n",
    "\n",
    "This notebook is about selecting the methods and parameters within TDA. Specifically, we go through\n",
    "1. Scaling the data -- we decide on Robust Scaling over Standard Scaling\n",
    "2. Clustering -- we decide on DBscan clustering and the parameters epsilon = xx and min_sample_size = xx.\n",
    "3. TDA parameters -- we decide on n_cubes = xx and perc_overlap = xx. \n",
    "\n",
    "#### Heuristics of parameter and method selection\n",
    "\n",
    "1. Each cluster has at most 10% of the data\n",
    "2. The Mapper output represents at least 90% of the data (no more than 10% of the original data, aka 7600 data points, are lost as noise).\n",
    "\n",
    "The print statements about the maximum data points in a node and number of unique samples address each of these heuristics, repsectively. \n",
    "\n",
    "#### Notes\n",
    "\n",
    "* COND is removed in this analysis.\n",
    "* "
   ]
  },
  {
   "cell_type": "markdown",
   "id": "223148a2",
   "metadata": {},
   "source": [
    "## Load libraries"
   ]
  },
  {
   "cell_type": "code",
   "execution_count": 5,
   "id": "a524414c",
   "metadata": {},
   "outputs": [],
   "source": [
    "import kmapper as km\n",
    "# import sklearn\n",
    "\n",
    "from sklearn.cluster import DBSCAN # clustering algorithm\n",
    "from sklearn.decomposition import PCA # projection (lens) creation\n",
    "from sklearn.preprocessing import StandardScaler\n",
    "from sklearn.preprocessing import RobustScaler\n",
    "from sklearn.compose import ColumnTransformer\n",
    "\n",
    "import hdbscan\n",
    "\n",
    "# from sklearn import ensemble\n",
    "# from sklearn.manifold import MDS\n",
    "\n",
    "import plotly.graph_objs as go\n",
    "# from ipywidgets import interactive, HBox, VBox, widgets, interact # ?\n",
    "# import dash_html_components as html # ?\n",
    "# import dash_core_components as dcc # ?\n",
    "\n",
    "from kmapper.plotlyviz import * # static and interactive plots\n",
    "import psutil # for plotlyviz\n",
    "import kaleido # for plotlyviz\n",
    "# import networkx # ?\n",
    "\n",
    "# import dash # ?\n",
    "import warnings #? \n",
    "warnings.filterwarnings(\"ignore\")\n",
    "\n",
    "import pandas as pd\n",
    "import numpy as np\n",
    "import matplotlib.pyplot as plt"
   ]
  },
  {
   "cell_type": "code",
   "execution_count": 6,
   "id": "9907a1bc",
   "metadata": {},
   "outputs": [],
   "source": [
    "import json as js\n",
    "import pickle as pk"
   ]
  },
  {
   "cell_type": "markdown",
   "id": "5cbf6e99",
   "metadata": {},
   "source": [
    "# Read data"
   ]
  },
  {
   "cell_type": "code",
   "execution_count": 7,
   "id": "114d72dc",
   "metadata": {},
   "outputs": [],
   "source": [
    "water20 = pd.read_csv(\"../../LTRM data/RF interpolation/water_full.csv\")"
   ]
  },
  {
   "cell_type": "code",
   "execution_count": 8,
   "id": "959bd44b",
   "metadata": {},
   "outputs": [
    {
     "data": {
      "text/html": [
       "<div>\n",
       "<style scoped>\n",
       "    .dataframe tbody tr th:only-of-type {\n",
       "        vertical-align: middle;\n",
       "    }\n",
       "\n",
       "    .dataframe tbody tr th {\n",
       "        vertical-align: top;\n",
       "    }\n",
       "\n",
       "    .dataframe thead th {\n",
       "        text-align: right;\n",
       "    }\n",
       "</style>\n",
       "<table border=\"1\" class=\"dataframe\">\n",
       "  <thead>\n",
       "    <tr style=\"text-align: right;\">\n",
       "      <th></th>\n",
       "      <th>SHEETBAR</th>\n",
       "      <th>DATE</th>\n",
       "      <th>LATITUDE</th>\n",
       "      <th>LONGITUDE</th>\n",
       "      <th>FLDNUM</th>\n",
       "      <th>STRATUM</th>\n",
       "      <th>LOCATCD</th>\n",
       "      <th>TN</th>\n",
       "      <th>TP</th>\n",
       "      <th>TEMP</th>\n",
       "      <th>DO</th>\n",
       "      <th>TURB</th>\n",
       "      <th>COND</th>\n",
       "      <th>VEL</th>\n",
       "      <th>SS</th>\n",
       "      <th>WDP</th>\n",
       "      <th>CHLcal</th>\n",
       "      <th>SECCHI</th>\n",
       "      <th>YEAR</th>\n",
       "      <th>SEASON</th>\n",
       "    </tr>\n",
       "  </thead>\n",
       "  <tbody>\n",
       "    <tr>\n",
       "      <th>0</th>\n",
       "      <td>41000065</td>\n",
       "      <td>07/26/1993</td>\n",
       "      <td>44.571864</td>\n",
       "      <td>-92.510970</td>\n",
       "      <td>Lake City, MN</td>\n",
       "      <td>Main channel</td>\n",
       "      <td>9312103</td>\n",
       "      <td>3.955</td>\n",
       "      <td>0.228</td>\n",
       "      <td>23.0</td>\n",
       "      <td>6.6</td>\n",
       "      <td>28</td>\n",
       "      <td>550.0</td>\n",
       "      <td>0.50</td>\n",
       "      <td>42.3</td>\n",
       "      <td>2.2</td>\n",
       "      <td>9.44875</td>\n",
       "      <td>40</td>\n",
       "      <td>1993</td>\n",
       "      <td>2</td>\n",
       "    </tr>\n",
       "    <tr>\n",
       "      <th>1</th>\n",
       "      <td>41000066</td>\n",
       "      <td>07/26/1993</td>\n",
       "      <td>44.575497</td>\n",
       "      <td>-92.518497</td>\n",
       "      <td>Lake City, MN</td>\n",
       "      <td>Main channel</td>\n",
       "      <td>9312002</td>\n",
       "      <td>4.876</td>\n",
       "      <td>0.229</td>\n",
       "      <td>23.0</td>\n",
       "      <td>6.6</td>\n",
       "      <td>28</td>\n",
       "      <td>554.0</td>\n",
       "      <td>0.72</td>\n",
       "      <td>37.6</td>\n",
       "      <td>8.2</td>\n",
       "      <td>8.24230</td>\n",
       "      <td>42</td>\n",
       "      <td>1993</td>\n",
       "      <td>2</td>\n",
       "    </tr>\n",
       "    <tr>\n",
       "      <th>2</th>\n",
       "      <td>41000067</td>\n",
       "      <td>07/26/1993</td>\n",
       "      <td>44.573718</td>\n",
       "      <td>-92.523549</td>\n",
       "      <td>Lake City, MN</td>\n",
       "      <td>Main channel</td>\n",
       "      <td>9312102</td>\n",
       "      <td>3.955</td>\n",
       "      <td>0.220</td>\n",
       "      <td>22.9</td>\n",
       "      <td>6.3</td>\n",
       "      <td>24</td>\n",
       "      <td>564.0</td>\n",
       "      <td>0.66</td>\n",
       "      <td>34.1</td>\n",
       "      <td>4.3</td>\n",
       "      <td>8.72488</td>\n",
       "      <td>43</td>\n",
       "      <td>1993</td>\n",
       "      <td>2</td>\n",
       "    </tr>\n",
       "    <tr>\n",
       "      <th>3</th>\n",
       "      <td>41000068</td>\n",
       "      <td>07/26/1993</td>\n",
       "      <td>44.566588</td>\n",
       "      <td>-92.541238</td>\n",
       "      <td>Lake City, MN</td>\n",
       "      <td>Main channel</td>\n",
       "      <td>9312003</td>\n",
       "      <td>4.257</td>\n",
       "      <td>0.212</td>\n",
       "      <td>22.9</td>\n",
       "      <td>6.4</td>\n",
       "      <td>28</td>\n",
       "      <td>563.0</td>\n",
       "      <td>0.69</td>\n",
       "      <td>33.4</td>\n",
       "      <td>9.1</td>\n",
       "      <td>8.48359</td>\n",
       "      <td>38</td>\n",
       "      <td>1993</td>\n",
       "      <td>2</td>\n",
       "    </tr>\n",
       "    <tr>\n",
       "      <th>4</th>\n",
       "      <td>41000069</td>\n",
       "      <td>07/26/1993</td>\n",
       "      <td>44.568419</td>\n",
       "      <td>-92.548780</td>\n",
       "      <td>Lake City, MN</td>\n",
       "      <td>Main channel</td>\n",
       "      <td>9312104</td>\n",
       "      <td>4.030</td>\n",
       "      <td>0.237</td>\n",
       "      <td>23.0</td>\n",
       "      <td>6.6</td>\n",
       "      <td>33</td>\n",
       "      <td>556.0</td>\n",
       "      <td>0.68</td>\n",
       "      <td>48.0</td>\n",
       "      <td>6.7</td>\n",
       "      <td>9.52918</td>\n",
       "      <td>45</td>\n",
       "      <td>1993</td>\n",
       "      <td>2</td>\n",
       "    </tr>\n",
       "  </tbody>\n",
       "</table>\n",
       "</div>"
      ],
      "text/plain": [
       "   SHEETBAR        DATE   LATITUDE  LONGITUDE         FLDNUM       STRATUM  \\\n",
       "0  41000065  07/26/1993  44.571864 -92.510970  Lake City, MN  Main channel   \n",
       "1  41000066  07/26/1993  44.575497 -92.518497  Lake City, MN  Main channel   \n",
       "2  41000067  07/26/1993  44.573718 -92.523549  Lake City, MN  Main channel   \n",
       "3  41000068  07/26/1993  44.566588 -92.541238  Lake City, MN  Main channel   \n",
       "4  41000069  07/26/1993  44.568419 -92.548780  Lake City, MN  Main channel   \n",
       "\n",
       "   LOCATCD     TN     TP  TEMP   DO  TURB   COND   VEL    SS  WDP   CHLcal  \\\n",
       "0  9312103  3.955  0.228  23.0  6.6    28  550.0  0.50  42.3  2.2  9.44875   \n",
       "1  9312002  4.876  0.229  23.0  6.6    28  554.0  0.72  37.6  8.2  8.24230   \n",
       "2  9312102  3.955  0.220  22.9  6.3    24  564.0  0.66  34.1  4.3  8.72488   \n",
       "3  9312003  4.257  0.212  22.9  6.4    28  563.0  0.69  33.4  9.1  8.48359   \n",
       "4  9312104  4.030  0.237  23.0  6.6    33  556.0  0.68  48.0  6.7  9.52918   \n",
       "\n",
       "   SECCHI  YEAR  SEASON  \n",
       "0      40  1993       2  \n",
       "1      42  1993       2  \n",
       "2      43  1993       2  \n",
       "3      38  1993       2  \n",
       "4      45  1993       2  "
      ]
     },
     "execution_count": 8,
     "metadata": {},
     "output_type": "execute_result"
    }
   ],
   "source": [
    "water20.head()"
   ]
  },
  {
   "cell_type": "markdown",
   "id": "215e3fc9",
   "metadata": {},
   "source": [
    "# Scaling\n",
    "\n",
    "Standard scaling uses mean and standard deviation. Robust scaling uses median and IQR.\n",
    "\n",
    "The motivation for scaling the data prior to running TDA is that the units of each continuous variable is different. Thus, the ranges are different. For example, SECCHI and SS have ranges from 0 to 120, while VEL and TP  all have values less than 20.\n",
    "\n",
    "It is beneficial to have continuous variables in the same \"units\" by subtracting the mean or median and dividing by the standard deviation or IQR.\n",
    "\n",
    "First, it is beneficial for PCA, which finds axes of maximum variance. Without standardizing the variables, SECCHI was consistently a PCA... xx. \n",
    "\n",
    "Clustering algorithms use some form of distance metric, so standardizing is also helpful here. \"If one of your features has a range of values much larger than the others, clustering will be completely dominated by that one feature.\" from [this Stack Overflow thread](https://datascience.stackexchange.com/questions/6715/is-it-necessary-to-standardize-your-data-before-clustering). (If we were to cluster data on weight and height, we would want to cluster by kilograms and meters but not grams and meters.)\n",
    "\n",
    "We let $X$ denote the data with robust scaling and $Z$ denote the data with standard scaling. \n",
    "\n",
    "We choose robust scaling over standard scaling because the distributions among the continuous variables are more similar with robust scaling. \n"
   ]
  },
  {
   "cell_type": "code",
   "execution_count": 38,
   "id": "1b93554a",
   "metadata": {},
   "outputs": [
    {
     "data": {
      "image/png": "[encoded data removed]",
      "text/plain": [
       "<Figure size 720x504 with 2 Axes>"
      ]
     },
     "metadata": {
      "needs_background": "light"
     },
     "output_type": "display_data"
    }
   ],
   "source": [
    "fig = plt.figure(figsize =(10, 7))\n",
    " \n",
    "# Creating plot\n",
    "plt.boxplot(water20[[\"WDP\", \"SECCHI\", \"TEMP\", \"DO\", \"TURB\",\n",
    "             \"VEL\", \"TP\", \"TN\", \"SS\", \"CHLcal\"]])\n",
    "ax = fig.add_subplot(111)\n",
    "\n",
    "bp = ax.boxplot(water20[[\"WDP\", \"SECCHI\", \"TEMP\", \"DO\", \"TURB\",\n",
    "             \"VEL\", \"TP\", \"TN\", \"SS\", \"CHLcal\"]], patch_artist = True,\n",
    "                notch ='True', vert = 1)\n",
    "\n",
    "\n",
    "ax.set_xticklabels([\"WDP\", \"SECCHI\", \"TEMP\", \"DO\", \"TURB\",\n",
    "                    \"VEL\", \"TP\", \"TN\", \"SS\", \"CHLcal\"])\n",
    "\n",
    "ax.set_ylim(0, 80)\n",
    "ax.get_yaxis().set_visible(False)\n",
    "\n",
    "#ax.set_yticklables([-5, 0, 5, 10, 15, 20])\n",
    "\n",
    "plt.title(\"Distribution of unstandardized variables\")\n",
    "\n",
    " \n",
    "# show plot\n",
    "plt.show(bp)"
   ]
  },
  {
   "cell_type": "markdown",
   "id": "ab81a73c",
   "metadata": {},
   "source": [
    "### Robust scaling"
   ]
  },
  {
   "cell_type": "code",
   "execution_count": 9,
   "id": "ad6893db",
   "metadata": {
    "scrolled": true
   },
   "outputs": [
    {
     "data": {
      "image/png": "[encoded data removed]",
      "text/plain": [
       "<Figure size 720x504 with 2 Axes>"
      ]
     },
     "metadata": {
      "needs_background": "light"
     },
     "output_type": "display_data"
    }
   ],
   "source": [
    "X = water20[[\"WDP\", \"SECCHI\", \"TEMP\", \"DO\", \"TURB\",\n",
    "             \"VEL\", \"TP\", \"TN\", \"SS\", \"CHLcal\", \n",
    "             \"YEAR\", \"SEASON\", \"FLDNUM\", \"STRATUM\"]]\n",
    "\n",
    "ct = ColumnTransformer([\n",
    "        ('somename', RobustScaler(), [\"WDP\", \"SECCHI\", \"TEMP\", \"DO\", \"TURB\",\n",
    "                                        \"VEL\", \"TP\", \"TN\", \"SS\", \"CHLcal\"])\n",
    "    ], remainder='passthrough')\n",
    "\n",
    "X = pd.DataFrame(ct.fit_transform(X), columns = [\"WDP\", \"SECCHI\", \"TEMP\", \"DO\", \"TURB\",\n",
    "                                                 \"VEL\", \"TP\", \"TN\", \"SS\", \"CHLcal\", \n",
    "                                                 \"YEAR\", \"SEASON\", \"FLDNUM\", \"STRATUM\"])\n",
    "\n",
    "X = pd.DataFrame(X, columns = [\"WDP\", \"SECCHI\", \"TEMP\", \"DO\", \"TURB\",\n",
    "                             \"VEL\", \"TP\", \"TN\", \"SS\", \"CHLcal\"])\n",
    "\n",
    "fig = plt.figure(figsize =(10, 7))\n",
    " \n",
    "# Creating plot\n",
    "plt.boxplot(X)\n",
    "ax = fig.add_subplot(111)\n",
    "\n",
    "bp = ax.boxplot(X, patch_artist = True,\n",
    "                notch ='True', vert = 1)\n",
    "\n",
    "\n",
    "ax.set_xticklabels([\"WDP\", \"SECCHI\", \"TEMP\", \"DO\", \"TURB\",\n",
    "                    \"VEL\", \"TP\", \"TN\", \"SS\", \"CHLcal\"])\n",
    "\n",
    "ax.set_ylim(-1, 20)\n",
    "ax.get_yaxis().set_visible(False)\n",
    "\n",
    "#ax.set_yticklables([-5, 0, 5, 10, 15, 20])\n",
    "\n",
    "plt.title(\"Distribution of robust standardized variables\")\n",
    "\n",
    " \n",
    "# show plot\n",
    "plt.show(bp)"
   ]
  },
  {
   "cell_type": "markdown",
   "id": "e6a6657a",
   "metadata": {},
   "source": [
    "## Standard scaling"
   ]
  },
  {
   "cell_type": "code",
   "execution_count": 56,
   "id": "0bae6ede",
   "metadata": {
    "scrolled": true
   },
   "outputs": [
    {
     "data": {
      "image/png": "[encoded data removed]",
      "text/plain": [
       "<Figure size 720x504 with 2 Axes>"
      ]
     },
     "metadata": {
      "needs_background": "light"
     },
     "output_type": "display_data"
    }
   ],
   "source": [
    "Z = water20[[\"WDP\", \"SECCHI\", \"TEMP\", \"DO\", \"TURB\",\n",
    "             \"VEL\", \"TP\", \"TN\", \"SS\", \"CHLcal\", \n",
    "             \"YEAR\", \"SEASON\", \"FLDNUM\", \"STRATUM\"]]\n",
    "\n",
    "ct = ColumnTransformer([\n",
    "        ('somename', StandardScaler(), [\"WDP\", \"SECCHI\", \"TEMP\", \"DO\", \"TURB\",\n",
    "                                        \"VEL\", \"TP\", \"TN\", \"SS\", \"CHLcal\"])\n",
    "    ], remainder='passthrough')\n",
    "\n",
    "Z = pd.DataFrame(ct.fit_transform(Z), columns = [\"WDP\", \"SECCHI\", \"TEMP\", \"DO\", \"TURB\",\n",
    "                                                 \"VEL\", \"TP\", \"TN\", \"SS\", \"CHLcal\", \n",
    "                                                 \"YEAR\", \"SEASON\", \"FLDNUM\", \"STRATUM\"])\n",
    "\n",
    "Z = pd.DataFrame(Z, columns = [\"WDP\", \"SECCHI\", \"TEMP\", \"DO\", \"TURB\",\n",
    "                             \"VEL\", \"TP\", \"TN\", \"SS\", \"CHLcal\"])\n",
    "\n",
    "\n",
    "fig = plt.figure(figsize =(10, 7))\n",
    " \n",
    "# Creating plot\n",
    "plt.boxplot(Z)\n",
    "ax = fig.add_subplot(111)\n",
    "\n",
    "bp = ax.boxplot(Z, patch_artist = True,\n",
    "                notch ='True', vert = 1)\n",
    "\n",
    "\n",
    "ax.set_xticklabels([\"WDP\", \"SECCHI\", \"TEMP\", \"DO\", \"TURB\",\n",
    "                    \"VEL\", \"TP\", \"TN\", \"SS\", \"CHLcal\"])\n",
    "\n",
    "ax.set_ylim(-5, 20)\n",
    "ax.get_yaxis().set_visible(False)\n",
    "\n",
    "#ax.set_yticklables([-5, 0, 5, 10, 15, 20])\n",
    "\n",
    "plt.title(\"Distribution of robust scaled variables\")\n",
    "\n",
    " \n",
    "# show plot\n",
    "plt.show(bp)"
   ]
  },
  {
   "cell_type": "markdown",
   "id": "cfe1ebc6",
   "metadata": {},
   "source": [
    "### Filter function: PCA2 projection\n",
    "\n",
    "We can see that the ranges of PCA1 and PCA2 are within much more reasonable ranges after scaling. The unscaled PCA has"
   ]
  },
  {
   "cell_type": "code",
   "execution_count": 57,
   "id": "e3a4756a",
   "metadata": {},
   "outputs": [
    {
     "data": {
      "image/png": "[encoded data removed]",
      "text/plain": [
       "<Figure size 432x288 with 1 Axes>"
      ]
     },
     "metadata": {
      "needs_background": "light"
     },
     "output_type": "display_data"
    }
   ],
   "source": [
    "pca = PCA(n_components = 2)\n",
    "lens = pca.fit_transform(X)\n",
    "\n",
    "fig, ax = plt.subplots()\n",
    "ax.scatter(lens[:,0], lens[:,1], s = 10, alpha = 0.047)\n",
    "ax.set_xlabel('Principal Component 1', fontsize = 15)\n",
    "ax.set_ylabel('Principal Component 2', fontsize = 15)\n",
    "ax.set_title('2 component PCA of robust scaled LTRM data', fontsize = 20)\n",
    "ax.grid(True)\n",
    "\n",
    "plt.show()"
   ]
  },
  {
   "cell_type": "code",
   "execution_count": 58,
   "id": "745df728",
   "metadata": {},
   "outputs": [
    {
     "data": {
      "image/png": "[encoded data removed]",
      "text/plain": [
       "<Figure size 432x288 with 1 Axes>"
      ]
     },
     "metadata": {
      "needs_background": "light"
     },
     "output_type": "display_data"
    }
   ],
   "source": [
    "pca = PCA(n_components = 2)\n",
    "lens = pca.fit_transform(water20[[\"WDP\", \"SECCHI\", \"TEMP\", \"DO\", \"TURB\",\n",
    "                                 \"VEL\", \"TP\", \"TN\", \"SS\", \"CHLcal\"]])\n",
    "\n",
    "fig, ax = plt.subplots()\n",
    "ax.scatter(lens[:,0], lens[:,1], s = 10, alpha = 0.047)\n",
    "ax.set_xlabel('Principal Component 1', fontsize = 15)\n",
    "ax.set_ylabel('Principal Component 2', fontsize = 15)\n",
    "ax.set_title('2 component PCA of unstandardized LTRM data', fontsize = 20)\n",
    "ax.grid(True)\n",
    "\n",
    "plt.show()"
   ]
  },
  {
   "cell_type": "markdown",
   "id": "cdba3cde",
   "metadata": {},
   "source": [
    "# Define mapper functions\n",
    "\n",
    "The first one uses DBscan as the clustering algorithm. The second one uses HDBscan as the clustering algorithm."
   ]
  },
  {
   "cell_type": "code",
   "execution_count": 4,
   "id": "d0123024",
   "metadata": {},
   "outputs": [],
   "source": [
    "def mapper_pca2_db(df, DBSCAN_EPSILON = 10, DBSCAN_MIN_SAMPLES = 20, \n",
    "                N_CUBES = [10,10], PERC_OVERLAP = [.25,.25], return_with_df = False, print_pca_info = False):\n",
    "    \"\"\"\n",
    "    \"\"\"\n",
    "    \n",
    "    X = df[[\"WDP\", \"SECCHI\", \"TEMP\", \"DO\", \"TURB\", \n",
    "                \"VEL\", \"TP\", \"TN\", \"SS\", \"CHLcal\"]]\n",
    "     \n",
    "    # for discerning primary variables in PCA \n",
    "    continuous_variables = [\"WDP\", \"SECCHI\", \"TEMP\", \"DO\", \"TURB\", \n",
    "                            \"VEL\", \"TP\", \"TN\", \"SS\", \"CHLcal\"]\n",
    "    \n",
    "    var_to_index = {continuous_variables[i] : i for i in range(len(continuous_variables))}\n",
    "    projected_vars = continuous_variables\n",
    "    projected_var_indices = [var_to_index[var] for var in projected_vars]\n",
    "    \n",
    "#     if X.shape[0]<10:\n",
    "#         #print(X)\n",
    "#         print(\"Not enough data in \", title, \"_size = \", X.shape[0])\n",
    "#         return(X.shape[0])\n",
    "    \n",
    "    # to match up indices in scomplex with the original dataframe X\n",
    "    X.reset_index(drop = True, inplace = True) \n",
    "    \n",
    "    # create instance of clustering alg\n",
    "    cluster_alg = DBSCAN(eps = DBSCAN_EPSILON, min_samples = DBSCAN_MIN_SAMPLES, \n",
    "                         metric='euclidean')\n",
    "\n",
    "    # instantiate kepler mapper object\n",
    "    mapper = km.KeplerMapper(verbose = 0)\n",
    "    \n",
    "    # defining filter function as projection on to the first 2 component axis\n",
    "    pca = PCA(n_components = 2)\n",
    "    lens = pca.fit_transform(X)\n",
    "    \n",
    "    if print_pca_info: \n",
    "        for j in range(2):\n",
    "            pc_j = pca.components_[j]\n",
    "            largest_magnitude = max(abs(pc_j))\n",
    "            idx_magnitude = np.where(abs(pc_j) == largest_magnitude)[0][0]\n",
    "\n",
    "            print(\"*** PCA\", j+1, \" ***\")\n",
    "            print(\"Primary variable: \", continuous_variables[idx_magnitude])\n",
    "            print(\"Corresponding component: \", pc_j[idx_magnitude])\n",
    "            print(\"Explained variance: \", pca.explained_variance_ratio_[j])\n",
    "    \n",
    "    summary_variable = mapper.project(np.array(X), projection=projected_var_indices, scaler=None)\n",
    "    # similar to fit transform\n",
    "    \n",
    "    # Generate the simplicial complex\n",
    "    scomplex = mapper.map(lens, X, \n",
    "                          cover=km.Cover(n_cubes = N_CUBES, perc_overlap = PERC_OVERLAP), \n",
    "                          clusterer = cluster_alg)\n",
    "    \n",
    "    if return_with_df: \n",
    "        return(scomplex, X)\n",
    "\n",
    "    return(scomplex)"
   ]
  },
  {
   "cell_type": "code",
   "execution_count": 18,
   "id": "1e173dcd",
   "metadata": {},
   "outputs": [],
   "source": [
    "def mapper_pca2_hdb(df, HDB_MIN_CLUSTER = 45, HDB_MIN_SAMPLES = 10, HDB_EPSILON = 1,\n",
    "                    N_CUBES = [10,10], PERC_OVERLAP = [.25,.25], return_with_df = False, print_pca_info = False):\n",
    "    \"\"\"\n",
    "    \"\"\"\n",
    "  \n",
    "    X = df[[\"WDP\", \"SECCHI\", \"TEMP\", \"DO\", \"TURB\", \n",
    "                \"VEL\", \"TP\", \"TN\", \"SS\", \"CHLcal\"]]\n",
    "\n",
    "    # for discerning primary variables in PCA \n",
    "    continuous_variables = [\"WDP\", \"SECCHI\", \"TEMP\", \"DO\", \"TURB\", \n",
    "                            \"VEL\", \"TP\", \"TN\", \"SS\", \"CHLcal\"]\n",
    "    \n",
    "    var_to_index = {continuous_variables[i] : i for i in range(len(continuous_variables))}\n",
    "    projected_vars = continuous_variables\n",
    "    projected_var_indices = [var_to_index[var] for var in projected_vars]\n",
    "    \n",
    "#     if X.shape[0]<10:\n",
    "#         #print(X)\n",
    "#         print(\"Not enough data in \", title, \"_size = \", X.shape[0])\n",
    "#         return(X.shape[0])\n",
    "    \n",
    "    # to match up indices in scomplex with the original dataframe X\n",
    "    X.reset_index(drop = True, inplace = True) \n",
    "    \n",
    "    # create instance of clustering alg\n",
    "    cluster_alg = hdbscan.HDBSCAN(min_cluster_size = HDB_MIN_CLUSTER, min_samples = HDB_MIN_SAMPLES,\n",
    "                                  cluster_selection_epsilon= HDB_EPSILON, cluster_selection_method = 'eom')\n",
    "\n",
    "    # instantiate kepler mapper object\n",
    "    mapper = km.KeplerMapper(verbose = 0)\n",
    "    \n",
    "    # defining filter function as projection on to the first 2 component axis\n",
    "    pca = PCA(n_components = 2)\n",
    "    lens = pca.fit_transform(X)\n",
    "    \n",
    "    if print_pca_info: \n",
    "        for j in range(2):\n",
    "            pc_j = pca.components_[j]\n",
    "            largest_magnitude = max(abs(pc_j))\n",
    "            idx_magnitude = np.where(abs(pc_j) == largest_magnitude)[0][0]\n",
    "\n",
    "            print(\"*** PCA\", j+1, \" ***\")\n",
    "            print(\"Primary variable: \", continuous_variables[idx_magnitude])\n",
    "            print(\"Corresponding component: \", pc_j[idx_magnitude])\n",
    "            print(\"Explained variance: \", pca.explained_variance_ratio_[j])\n",
    "    \n",
    "    summary_variable = mapper.project(np.array(X), projection=projected_var_indices, scaler=None)\n",
    "    # similar to fit transform\n",
    "    \n",
    "    # Generate the simplicial complex\n",
    "    scomplex = mapper.map(lens, X, \n",
    "                          cover=km.Cover(n_cubes = N_CUBES, perc_overlap = PERC_OVERLAP), \n",
    "                          clusterer = cluster_alg)  \n",
    "    \n",
    "    if return_with_df:\n",
    "        return(scomplex, X)\n",
    "    \n",
    "    return(scomplex)"
   ]
  },
  {
   "cell_type": "markdown",
   "id": "83132fd9",
   "metadata": {},
   "source": [
    "# Clustering in TDA"
   ]
  },
  {
   "cell_type": "markdown",
   "id": "73083d17",
   "metadata": {},
   "source": [
    "### Running DBScan and TDA"
   ]
  },
  {
   "cell_type": "markdown",
   "id": "028e194b",
   "metadata": {},
   "source": [
    "**TDA parameters**"
   ]
  },
  {
   "cell_type": "code",
   "execution_count": 10,
   "id": "c4609c75",
   "metadata": {
    "scrolled": true
   },
   "outputs": [
    {
     "name": "stdout",
     "output_type": "stream",
     "text": [
      "[[100, 100], [125, 125], [150, 150]]\n",
      "[[0.4, 0.4], [0.5, 0.5]]\n"
     ]
    }
   ],
   "source": [
    "n_cubes_lst = []\n",
    "\n",
    "for n in [100, 125, 150]:\n",
    "    n_cubes_lst.append([n, n]) \n",
    "\n",
    "perc_overlap_lst = []\n",
    "\n",
    "for perc in [0.4, 0.5]:\n",
    "    perc = round(perc, 2)\n",
    "    perc_overlap_lst.append([perc, perc])\n",
    "\n",
    "# tda params\n",
    "print(n_cubes_lst) # need higher cubes after standardizing\n",
    "print(perc_overlap_lst) # redundancy is okay"
   ]
  },
  {
   "cell_type": "markdown",
   "id": "239ae820",
   "metadata": {},
   "source": [
    "**DBScan parameters**"
   ]
  },
  {
   "cell_type": "code",
   "execution_count": 14,
   "id": "67015e49",
   "metadata": {},
   "outputs": [
    {
     "name": "stdout",
     "output_type": "stream",
     "text": [
      "[0.9, 1, 1.1, 1.2]\n",
      "[10, 20]\n"
     ]
    }
   ],
   "source": [
    "# dbscan parameters\n",
    "\n",
    "eps_lst = [0.9, 1, 1.1, 1.2] # variables are standardized\n",
    "min_samples_lst = [10, 20]\n",
    "print(eps_lst)\n",
    "print(min_samples_lst)"
   ]
  },
  {
   "cell_type": "code",
   "execution_count": 15,
   "id": "19745706",
   "metadata": {},
   "outputs": [
    {
     "name": "stdout",
     "output_type": "stream",
     "text": [
      "***  0  ***\n",
      "epsilon = 0.9, min_samples = 10, n_cubes = [100, 100], and perc_overlap = [0.4, 0.4]\n",
      "The maximum data points in a node is  10813\n",
      "The minimum data points in a node is  7\n",
      "The number of unique samples is  71149\n",
      "***  1  ***\n",
      "epsilon = 0.9, min_samples = 10, n_cubes = [100, 100], and perc_overlap = [0.5, 0.5]\n",
      "The maximum data points in a node is  14757\n",
      "The minimum data points in a node is  4\n",
      "The number of unique samples is  71721\n",
      "***  2  ***\n",
      "epsilon = 0.9, min_samples = 10, n_cubes = [125, 125], and perc_overlap = [0.4, 0.4]\n",
      "The maximum data points in a node is  7105\n",
      "The minimum data points in a node is  1\n",
      "The number of unique samples is  70477\n",
      "***  3  ***\n",
      "epsilon = 0.9, min_samples = 10, n_cubes = [125, 125], and perc_overlap = [0.5, 0.5]\n",
      "The maximum data points in a node is  9934\n",
      "The minimum data points in a node is  6\n",
      "The number of unique samples is  71267\n",
      "***  4  ***\n",
      "epsilon = 0.9, min_samples = 10, n_cubes = [150, 150], and perc_overlap = [0.4, 0.4]\n",
      "The maximum data points in a node is  5112\n",
      "The minimum data points in a node is  5\n",
      "The number of unique samples is  69565\n",
      "***  5  ***\n",
      "epsilon = 0.9, min_samples = 10, n_cubes = [150, 150], and perc_overlap = [0.5, 0.5]\n",
      "The maximum data points in a node is  7060\n",
      "The minimum data points in a node is  4\n",
      "The number of unique samples is  70743\n",
      "***  6  ***\n",
      "epsilon = 0.9, min_samples = 20, n_cubes = [100, 100], and perc_overlap = [0.4, 0.4]\n",
      "The maximum data points in a node is  10788\n",
      "The minimum data points in a node is  14\n",
      "The number of unique samples is  68595\n",
      "***  7  ***\n",
      "epsilon = 0.9, min_samples = 20, n_cubes = [100, 100], and perc_overlap = [0.5, 0.5]\n",
      "The maximum data points in a node is  14723\n",
      "The minimum data points in a node is  11\n",
      "The number of unique samples is  69483\n",
      "***  8  ***\n",
      "epsilon = 0.9, min_samples = 20, n_cubes = [125, 125], and perc_overlap = [0.4, 0.4]\n",
      "The maximum data points in a node is  7086\n",
      "The minimum data points in a node is  13\n",
      "The number of unique samples is  67356\n",
      "***  9  ***\n",
      "epsilon = 0.9, min_samples = 20, n_cubes = [125, 125], and perc_overlap = [0.5, 0.5]\n",
      "The maximum data points in a node is  9907\n",
      "The minimum data points in a node is  13\n",
      "The number of unique samples is  68642\n",
      "***  10  ***\n",
      "epsilon = 0.9, min_samples = 20, n_cubes = [150, 150], and perc_overlap = [0.4, 0.4]\n",
      "The maximum data points in a node is  5087\n",
      "The minimum data points in a node is  17\n",
      "The number of unique samples is  65996\n",
      "***  11  ***\n",
      "epsilon = 0.9, min_samples = 20, n_cubes = [150, 150], and perc_overlap = [0.5, 0.5]\n",
      "The maximum data points in a node is  7025\n",
      "The minimum data points in a node is  14\n",
      "The number of unique samples is  67667\n",
      "***  12  ***\n",
      "epsilon = 1, min_samples = 10, n_cubes = [100, 100], and perc_overlap = [0.4, 0.4]\n",
      "The maximum data points in a node is  10833\n",
      "The minimum data points in a node is  8\n",
      "The number of unique samples is  72428\n",
      "***  13  ***\n",
      "epsilon = 1, min_samples = 10, n_cubes = [100, 100], and perc_overlap = [0.5, 0.5]\n",
      "The maximum data points in a node is  14788\n",
      "The minimum data points in a node is  3\n",
      "The number of unique samples is  72981\n",
      "***  14  ***\n",
      "epsilon = 1, min_samples = 10, n_cubes = [125, 125], and perc_overlap = [0.4, 0.4]\n",
      "The maximum data points in a node is  7116\n",
      "The minimum data points in a node is  7\n",
      "The number of unique samples is  71822\n",
      "***  15  ***\n",
      "epsilon = 1, min_samples = 10, n_cubes = [125, 125], and perc_overlap = [0.5, 0.5]\n",
      "The maximum data points in a node is  9949\n",
      "The minimum data points in a node is  2\n",
      "The number of unique samples is  72494\n",
      "***  16  ***\n",
      "epsilon = 1, min_samples = 10, n_cubes = [150, 150], and perc_overlap = [0.4, 0.4]\n",
      "The maximum data points in a node is  5137\n",
      "The minimum data points in a node is  7\n",
      "The number of unique samples is  71106\n",
      "***  17  ***\n",
      "epsilon = 1, min_samples = 10, n_cubes = [150, 150], and perc_overlap = [0.5, 0.5]\n",
      "The maximum data points in a node is  7075\n",
      "The minimum data points in a node is  6\n",
      "The number of unique samples is  71999\n",
      "***  18  ***\n",
      "epsilon = 1, min_samples = 20, n_cubes = [100, 100], and perc_overlap = [0.4, 0.4]\n",
      "The maximum data points in a node is  10823\n",
      "The minimum data points in a node is  18\n",
      "The number of unique samples is  70460\n",
      "***  19  ***\n",
      "epsilon = 1, min_samples = 20, n_cubes = [100, 100], and perc_overlap = [0.5, 0.5]\n",
      "The maximum data points in a node is  14770\n",
      "The minimum data points in a node is  10\n",
      "The number of unique samples is  71237\n",
      "***  20  ***\n",
      "epsilon = 1, min_samples = 20, n_cubes = [125, 125], and perc_overlap = [0.4, 0.4]\n",
      "The maximum data points in a node is  7101\n",
      "The minimum data points in a node is  18\n",
      "The number of unique samples is  69307\n",
      "***  21  ***\n",
      "epsilon = 1, min_samples = 20, n_cubes = [125, 125], and perc_overlap = [0.5, 0.5]\n",
      "The maximum data points in a node is  9935\n",
      "The minimum data points in a node is  10\n",
      "The number of unique samples is  70578\n",
      "***  22  ***\n",
      "epsilon = 1, min_samples = 20, n_cubes = [150, 150], and perc_overlap = [0.4, 0.4]\n",
      "The maximum data points in a node is  5121\n",
      "The minimum data points in a node is  18\n",
      "The number of unique samples is  68094\n",
      "***  23  ***\n",
      "epsilon = 1, min_samples = 20, n_cubes = [150, 150], and perc_overlap = [0.5, 0.5]\n",
      "The maximum data points in a node is  7063\n",
      "The minimum data points in a node is  11\n",
      "The number of unique samples is  69669\n",
      "***  24  ***\n",
      "epsilon = 1.1, min_samples = 10, n_cubes = [100, 100], and perc_overlap = [0.4, 0.4]\n",
      "The maximum data points in a node is  10849\n",
      "The minimum data points in a node is  3\n",
      "The number of unique samples is  73321\n",
      "***  25  ***\n",
      "epsilon = 1.1, min_samples = 10, n_cubes = [100, 100], and perc_overlap = [0.5, 0.5]\n",
      "The maximum data points in a node is  14798\n",
      "The minimum data points in a node is  4\n",
      "The number of unique samples is  73830\n",
      "***  26  ***\n",
      "epsilon = 1.1, min_samples = 10, n_cubes = [125, 125], and perc_overlap = [0.4, 0.4]\n",
      "The maximum data points in a node is  7124\n",
      "The minimum data points in a node is  9\n",
      "The number of unique samples is  72678\n",
      "***  27  ***\n",
      "epsilon = 1.1, min_samples = 10, n_cubes = [125, 125], and perc_overlap = [0.5, 0.5]\n",
      "The maximum data points in a node is  9964\n",
      "The minimum data points in a node is  7\n",
      "The number of unique samples is  73338\n",
      "***  28  ***\n",
      "epsilon = 1.1, min_samples = 10, n_cubes = [150, 150], and perc_overlap = [0.4, 0.4]\n",
      "The maximum data points in a node is  5144\n",
      "The minimum data points in a node is  9\n",
      "The number of unique samples is  72102\n",
      "***  29  ***\n",
      "epsilon = 1.1, min_samples = 10, n_cubes = [150, 150], and perc_overlap = [0.5, 0.5]\n",
      "The maximum data points in a node is  7089\n",
      "The minimum data points in a node is  5\n",
      "The number of unique samples is  72907\n",
      "***  30  ***\n",
      "epsilon = 1.1, min_samples = 20, n_cubes = [100, 100], and perc_overlap = [0.4, 0.4]\n",
      "The maximum data points in a node is  10843\n",
      "The minimum data points in a node is  16\n",
      "The number of unique samples is  71717\n",
      "***  31  ***\n",
      "epsilon = 1.1, min_samples = 20, n_cubes = [100, 100], and perc_overlap = [0.5, 0.5]\n",
      "The maximum data points in a node is  14792\n",
      "The minimum data points in a node is  12\n",
      "The number of unique samples is  72413\n",
      "***  32  ***\n",
      "epsilon = 1.1, min_samples = 20, n_cubes = [125, 125], and perc_overlap = [0.4, 0.4]\n",
      "The maximum data points in a node is  7117\n",
      "The minimum data points in a node is  14\n",
      "The number of unique samples is  70707\n",
      "***  33  ***\n",
      "epsilon = 1.1, min_samples = 20, n_cubes = [125, 125], and perc_overlap = [0.5, 0.5]\n",
      "The maximum data points in a node is  9956\n",
      "The minimum data points in a node is  15\n",
      "The number of unique samples is  71771\n",
      "***  34  ***\n",
      "epsilon = 1.1, min_samples = 20, n_cubes = [150, 150], and perc_overlap = [0.4, 0.4]\n",
      "The maximum data points in a node is  5137\n",
      "The minimum data points in a node is  15\n",
      "The number of unique samples is  69814\n",
      "***  35  ***\n",
      "epsilon = 1.1, min_samples = 20, n_cubes = [150, 150], and perc_overlap = [0.5, 0.5]\n",
      "The maximum data points in a node is  7080\n",
      "The minimum data points in a node is  15\n",
      "The number of unique samples is  71054\n",
      "***  36  ***\n",
      "epsilon = 1.2, min_samples = 10, n_cubes = [100, 100], and perc_overlap = [0.4, 0.4]\n",
      "The maximum data points in a node is  10855\n",
      "The minimum data points in a node is  4\n",
      "The number of unique samples is  73983\n",
      "***  37  ***\n",
      "epsilon = 1.2, min_samples = 10, n_cubes = [100, 100], and perc_overlap = [0.5, 0.5]\n",
      "The maximum data points in a node is  14808\n",
      "The minimum data points in a node is  6\n"
     ]
    },
    {
     "name": "stdout",
     "output_type": "stream",
     "text": [
      "The number of unique samples is  74400\n",
      "***  38  ***\n",
      "epsilon = 1.2, min_samples = 10, n_cubes = [125, 125], and perc_overlap = [0.4, 0.4]\n",
      "The maximum data points in a node is  7127\n",
      "The minimum data points in a node is  7\n",
      "The number of unique samples is  73417\n",
      "***  39  ***\n",
      "epsilon = 1.2, min_samples = 10, n_cubes = [125, 125], and perc_overlap = [0.5, 0.5]\n",
      "The maximum data points in a node is  9968\n",
      "The minimum data points in a node is  6\n",
      "The number of unique samples is  73977\n",
      "***  40  ***\n",
      "epsilon = 1.2, min_samples = 10, n_cubes = [150, 150], and perc_overlap = [0.4, 0.4]\n",
      "The maximum data points in a node is  5150\n",
      "The minimum data points in a node is  7\n",
      "The number of unique samples is  72812\n",
      "***  41  ***\n",
      "epsilon = 1.2, min_samples = 10, n_cubes = [150, 150], and perc_overlap = [0.5, 0.5]\n",
      "The maximum data points in a node is  7096\n",
      "The minimum data points in a node is  7\n",
      "The number of unique samples is  73593\n",
      "***  42  ***\n",
      "epsilon = 1.2, min_samples = 20, n_cubes = [100, 100], and perc_overlap = [0.4, 0.4]\n",
      "The maximum data points in a node is  10850\n",
      "The minimum data points in a node is  14\n",
      "The number of unique samples is  72654\n",
      "***  43  ***\n",
      "epsilon = 1.2, min_samples = 20, n_cubes = [100, 100], and perc_overlap = [0.5, 0.5]\n",
      "The maximum data points in a node is  14806\n",
      "The minimum data points in a node is  15\n",
      "The number of unique samples is  73229\n",
      "***  44  ***\n",
      "epsilon = 1.2, min_samples = 20, n_cubes = [125, 125], and perc_overlap = [0.4, 0.4]\n",
      "The maximum data points in a node is  7126\n",
      "The minimum data points in a node is  11\n",
      "The number of unique samples is  71845\n",
      "***  45  ***\n",
      "epsilon = 1.2, min_samples = 20, n_cubes = [125, 125], and perc_overlap = [0.5, 0.5]\n",
      "The maximum data points in a node is  9964\n",
      "The minimum data points in a node is  10\n",
      "The number of unique samples is  72684\n",
      "***  46  ***\n",
      "epsilon = 1.2, min_samples = 20, n_cubes = [150, 150], and perc_overlap = [0.4, 0.4]\n",
      "The maximum data points in a node is  5148\n",
      "The minimum data points in a node is  15\n",
      "The number of unique samples is  71053\n",
      "***  47  ***\n",
      "epsilon = 1.2, min_samples = 20, n_cubes = [150, 150], and perc_overlap = [0.5, 0.5]\n",
      "The maximum data points in a node is  7092\n",
      "The minimum data points in a node is  18\n",
      "The number of unique samples is  72064\n"
     ]
    }
   ],
   "source": [
    "db_params = []\n",
    "db_scomplex = []\n",
    "\n",
    "for epsilon in eps_lst: \n",
    "    \n",
    "    for min_samples in min_samples_lst: # min_samples = 10\n",
    "\n",
    "        for n_cubes in n_cubes_lst: \n",
    "            \n",
    "            for perc in perc_overlap_lst: # perc_overlap = [0.5, 0.5]\n",
    "        \n",
    "                db_params.append('epsilon = ' + str(epsilon) + ', min_samples = ' + str(min_samples) + \n",
    "                                 ', n_cubes = ' + str(n_cubes) + \", and perc_overlap = \" + str(perc))\n",
    "            \n",
    "                scomplex, df = mapper_pca2_db(X, DBSCAN_EPSILON = epsilon, DBSCAN_MIN_SAMPLES = min_samples,\n",
    "                                              N_CUBES = n_cubes, PERC_OVERLAP = perc, return_with_df = True)\n",
    "                \n",
    "                db_scomplex.append(scomplex)\n",
    "                \n",
    "                idx = len(db_params)-1\n",
    "                \n",
    "                print(\"*** \", idx, \" ***\")\n",
    "                print(db_params[idx])\n",
    "    \n",
    "                all_nodes = db_scomplex[idx].get('nodes')\n",
    "            \n",
    "                obsv_per_node = []\n",
    "\n",
    "                for node in all_nodes:\n",
    "                    obsv_per_node.append(len(all_nodes.get(node)))\n",
    "                    \n",
    "                print(\"The maximum data points in a node is \", max(obsv_per_node))\n",
    "                print(\"The minimum data points in a node is \", min(obsv_per_node))\n",
    "                print(\"The number of unique samples is \", get_mapper_graph(db_scomplex[idx])[1][\"n_unique\"])\n",
    "\n",
    "        "
   ]
  },
  {
   "cell_type": "markdown",
   "id": "3586841e",
   "metadata": {},
   "source": [
    "## Parameters for DBscan, TDA mapper\n",
    "\n",
    "We choose the following parameters:\n",
    "\n",
    "* Epsilon = 1.2 -- this follows from calculating the nearest distances of our data described [here.](https://towardsdatascience.com/machine-learning-clustering-dbscan-determine-the-optimal-value-for-epsilon-eps-python-example-3100091cfbc)\n",
    "* min_samples = 20 -- the dimension of our data is 10, so we choose $2 \\times 10$\n",
    "* n_cubes = [125, 125]\n",
    "* perc_overlap = [0.4, 0.4],\n",
    "\n",
    "The reasos for the last two parameter section are (1) each node represents at most 10% of the data, and (2) less than 10% of the data is lost as noise. The graph layout is one large connected component. \n",
    "\n"
   ]
  },
  {
   "cell_type": "code",
   "execution_count": 16,
   "id": "14aef0cb",
   "metadata": {},
   "outputs": [
    {
     "data": {
      "application/vnd.jupyter.widget-view+json": {
       "model_id": "e62040054083498990c88f73c9f1f9d0",
       "version_major": 2,
       "version_minor": 0
      },
      "text/plain": [
       "VBox(children=(HBox(children=(FigureWidget({\n",
       "    'data': [{'hoverinfo': 'none',\n",
       "              'line': {'color'…"
      ]
     },
     "metadata": {},
     "output_type": "display_data"
    }
   ],
   "source": [
    "plotlyviz(db_scomplex[44], title = db_params[44], \n",
    "          graph_layout='fr', dashboard = True)\n",
    "# CHOSEN ONE"
   ]
  },
  {
   "cell_type": "code",
   "execution_count": 17,
   "id": "2e6510cc",
   "metadata": {},
   "outputs": [
    {
     "data": {
      "application/vnd.jupyter.widget-view+json": {
       "model_id": "efa051d6391b4f48afd5eaf7f509e615",
       "version_major": 2,
       "version_minor": 0
      },
      "text/plain": [
       "VBox(children=(HBox(children=(FigureWidget({\n",
       "    'data': [{'hoverinfo': 'none',\n",
       "              'line': {'color'…"
      ]
     },
     "metadata": {},
     "output_type": "display_data"
    }
   ],
   "source": [
    "plotlyviz(db_scomplex[44], title = db_params[44], \n",
    "          graph_layout='kk', dashboard = True)"
   ]
  },
  {
   "cell_type": "markdown",
   "id": "7d0ee089",
   "metadata": {},
   "source": [
    "### Running HDBScan and TDA\n",
    "\n",
    "Use the cluster selection epsilon method so that it is a hybrid of DBscan and HDBscan. We will see that HDBscan graph outputs are not as desirable because xx. \n",
    "\n",
    "**HDBScan parameters** "
   ]
  },
  {
   "cell_type": "code",
   "execution_count": 25,
   "id": "d0a461cc",
   "metadata": {},
   "outputs": [
    {
     "name": "stdout",
     "output_type": "stream",
     "text": [
      "[10]\n",
      "[10]\n"
     ]
    }
   ],
   "source": [
    "\n",
    "min_cluster_lst = [10]\n",
    "print(min_cluster_lst)\n",
    "print(min_samples_lst)"
   ]
  },
  {
   "cell_type": "code",
   "execution_count": 63,
   "id": "c0520e5b",
   "metadata": {},
   "outputs": [
    {
     "name": "stdout",
     "output_type": "stream",
     "text": [
      "***  0  ***\n",
      "min_clust = 10, min_samples = 10, n_cubes = [100, 100], and perc_overlap = [0.5, 0.5]\n",
      "The maximum data points in a node is  12639\n",
      "The minimum data points in a node is  10\n",
      "The number of unique samples is  67094\n",
      "***  1  ***\n",
      "min_clust = 10, min_samples = 10, n_cubes = [125, 125], and perc_overlap = [0.5, 0.5]\n",
      "The maximum data points in a node is  8491\n",
      "The minimum data points in a node is  10\n",
      "The number of unique samples is  63616\n",
      "***  2  ***\n",
      "min_clust = 10, min_samples = 10, n_cubes = [150, 150], and perc_overlap = [0.5, 0.5]\n",
      "The maximum data points in a node is  6458\n",
      "The minimum data points in a node is  10\n",
      "The number of unique samples is  63490\n"
     ]
    }
   ],
   "source": [
    "# hdbscan\n",
    "\n",
    "hdb_params = []\n",
    "hdb_scomplex = []\n",
    "\n",
    "for min_clust in min_cluster_lst: # min_clust = 10\n",
    "    \n",
    "    min_clust = int(min_clust)\n",
    "    \n",
    "    for min_samples in min_samples_lst: # min_samples = 10\n",
    "\n",
    "        min_samples = int(min_samples)\n",
    "        \n",
    "        for n_cubes in n_cubes_lst: \n",
    "            \n",
    "            for perc in perc_overlap_lst: # perc_overlap = [0.5, 0.5]\n",
    "        \n",
    "                hdb_params.append('min_clust = ' + str(min_clust) + ', min_samples = ' + str(min_samples) + \n",
    "                                 ', n_cubes = ' + str(n_cubes) + \", and perc_overlap = \" + str(perc))\n",
    "            \n",
    "                hdb_scomplex.append(mapper_pca2_hdb(X, HDB_MIN_CLUSTER = min_clust, HDB_MIN_SAMPLES = min_samples,\n",
    "                                                    HDB_EPSILON = 1,N_CUBES = n_cubes, PERC_OVERLAP = perc,\n",
    "                                                    return_with_df = False))\n",
    "                \n",
    "                idx = len(hdb_params)-1\n",
    "                \n",
    "                print(\"*** \", idx, \" ***\")\n",
    "                print(hdb_params[idx])\n",
    "    \n",
    "                all_nodes = hdb_scomplex[idx].get('nodes')\n",
    "            \n",
    "                obsv_per_node = []\n",
    "\n",
    "                for node in all_nodes:\n",
    "                    obsv_per_node.append(len(all_nodes.get(node)))\n",
    "                    \n",
    "                print(\"The maximum data points in a node is \", max(obsv_per_node))\n",
    "                print(\"The minimum data points in a node is \", min(obsv_per_node))\n",
    "                print(\"The number of unique samples is \", get_mapper_graph(hdb_scomplex[idx])[1][\"n_unique\"])"
   ]
  },
  {
   "cell_type": "markdown",
   "id": "fb665281",
   "metadata": {},
   "source": [
    "### Deciding not to use HDBscan\n",
    "\n",
    "xx."
   ]
  },
  {
   "cell_type": "code",
   "execution_count": 64,
   "id": "a12a3f5f",
   "metadata": {},
   "outputs": [
    {
     "data": {
      "application/vnd.jupyter.widget-view+json": {
       "model_id": "7c0a97ab5e844278b9b07876a77d8709",
       "version_major": 2,
       "version_minor": 0
      },
      "text/plain": [
       "VBox(children=(HBox(children=(FigureWidget({\n",
       "    'data': [{'hoverinfo': 'none',\n",
       "              'line': {'color'…"
      ]
     },
     "metadata": {},
     "output_type": "display_data"
    }
   ],
   "source": [
    "plotlyviz(hdb_scomplex[0], title = hdb_params[0], \n",
    "          graph_layout='fr', dashboard = True)\n",
    "# chosen one"
   ]
  },
  {
   "cell_type": "code",
   "execution_count": 65,
   "id": "65bc3c39",
   "metadata": {},
   "outputs": [
    {
     "data": {
      "application/vnd.jupyter.widget-view+json": {
       "model_id": "e6a2f0e8fbee4ff9bd5502aeae69783c",
       "version_major": 2,
       "version_minor": 0
      },
      "text/plain": [
       "VBox(children=(HBox(children=(FigureWidget({\n",
       "    'data': [{'hoverinfo': 'none',\n",
       "              'line': {'color'…"
      ]
     },
     "metadata": {},
     "output_type": "display_data"
    }
   ],
   "source": [
    "plotlyviz(hdb_scomplex[1], title = hdb_params[1], \n",
    "          graph_layout='fr', dashboard = True) #alternative "
   ]
  },
  {
   "cell_type": "markdown",
   "id": "5ecbd62f",
   "metadata": {},
   "source": [
    "## Save selected parameters into .html and .json"
   ]
  },
  {
   "cell_type": "code",
   "execution_count": 68,
   "id": "6a8c467a",
   "metadata": {},
   "outputs": [],
   "source": [
    "mapper = km.KeplerMapper(verbose=0)\n",
    "\n",
    "db_mapper = mapper.visualize(db_scomplex[44], path_html=db_params[44] + '.html')"
   ]
  },
  {
   "cell_type": "code",
   "execution_count": null,
   "id": "d765a2f1",
   "metadata": {},
   "outputs": [
    {
     "name": "stdout",
     "output_type": "stream",
     "text": [
      "*** PCA 1  ***\n",
      "Primary variable:  SS\n",
      "Corresponding component:  0.6636335560275306\n",
      "Explained variance:  0.5253705542119076\n",
      "*** PCA 2  ***\n",
      "Primary variable:  CHLcal\n",
      "Corresponding component:  -0.7604895384683673\n",
      "Explained variance:  0.14469860960939693\n"
     ]
    }
   ],
   "source": [
    "db_scomplex_final, dbscan_df = mapper_pca2_db(X, DBSCAN_EPSILON = 1.2, DBSCAN_MIN_SAMPLES = 20,\n",
    "                                        N_CUBES = [125, 125], PERC_OVERLAP = [0.4, 0.4],\n",
    "                                        return_with_df = True, print_pca_info = True)"
   ]
  },
  {
   "cell_type": "code",
   "execution_count": null,
   "id": "68bcf770",
   "metadata": {},
   "outputs": [],
   "source": [
    "json = js.dumps(db_scomplex_final)\n",
    "f = open(\"water_dbscan.json\",\"w\")\n",
    "f.write(json)\n",
    "f.close()\n"
   ]
  },
  {
   "cell_type": "code",
   "execution_count": null,
   "id": "7686d318",
   "metadata": {},
   "outputs": [],
   "source": [
    "pk.dump(dbscan_df, open(\"water_dbscan_df.p\",\"wb\"))"
   ]
  },
  {
   "cell_type": "markdown",
   "id": "5b966eff",
   "metadata": {},
   "source": [
    "## Old"
   ]
  },
  {
   "cell_type": "code",
   "execution_count": null,
   "id": "69073116",
   "metadata": {},
   "outputs": [],
   "source": [
    "\n",
    "#     # the rest of this is for coloring \n",
    "    \n",
    "#     pl_brewer = [[0.0, '#006837'],\n",
    "#              [0.1, '#1a9850'],\n",
    "#              [0.2, '#66bd63'],\n",
    "#              [0.3, '#a6d96a'],\n",
    "#              [0.4, '#d9ef8b'],\n",
    "#              [0.5, '#ffffbf'],\n",
    "#              [0.6, '#fee08b'],\n",
    "#              [0.7, '#fdae61'],\n",
    "#              [0.8, '#f46d43'],\n",
    "#              [0.9, '#d73027'],\n",
    "#              [1.0, '#a50026']]\n",
    "\n",
    "#     color_values = lens[:,0] - lens[:,0].min() # changes if PCA1 or PCA1 and PCA2\n",
    "#     # can change to other variables\n",
    "#     color_function_name = ['Distance to x-min'] # set name of color function\n",
    "#     my_colorscale = pl_brewer\n",
    "#     kmgraph, mapper_summary, colorf_distribution = get_mapper_graph(scomplex,\n",
    "#                                                                     color_values,\n",
    "#                                                                     color_function_name=color_function_name, \n",
    "#                                                                     colorscale=my_colorscale)\n",
    "    \n",
    "#     plotly_graph_data = plotly_graph(kmgraph, graph_layout='fr', colorscale=my_colorscale, \n",
    "#                                      factor_size=2.5, edge_linewidth=0.5)\n",
    "    \n",
    "#     plot_title = str(DBSCAN_EPSILON) + str(DBSCAN_EPSILON) + ', MIN_SAMPLES ' + str(DBSCAN_MIN_SAMPLES) \n",
    "\n",
    "#     layout = plot_layout(title=plot_title,  \n",
    "#                          width=620, height=570,\n",
    "#                          annotation_text=get_kmgraph_meta(mapper_summary))\n",
    "\n",
    "#     # FigureWidget is responsible for event listeners\n",
    "\n",
    "#     fw_graph = go.FigureWidget(data=plotly_graph_data, layout=layout)\n",
    "#     fw_summary = summary_fig(mapper_summary, height=300)\n",
    "\n",
    "#     dashboard = hovering_widgets(kmgraph, fw_graph, member_textbox_width=600)\n",
    "\n",
    "#     # DESIRED FILE PATH, CHANGE TO FIT YOUR LOCAL MACHINE\n",
    "#     directory_path = \"mapper outputs\"\n",
    "    \n",
    "#     #Update the fw_graph colorbar, setting its title:\n",
    "#     fw_graph.data[1].marker.colorbar.title = 'dist to<br>x-min'\n",
    "#     html_output_path = directory_path + 'Eps_' + str(DBSCAN_EPSILON) +'_MinS_' + str(DBSCAN_MIN_SAMPLES) + '_NCubes_' + str(N_CUBES) + '_PercOvlp_' + str(PERC_OVERLAP) + '.html'\n",
    "#     mapper.visualize(scomplex, color_values=color_values, color_function_name=color_function_name,\n",
    "#                      path_html=html_output_path, lens = summary_variable, lens_names = projected_vars)\n",
    "    \n",
    "#     return scomplex, X"
   ]
  }
 ],
 "metadata": {
  "kernelspec": {
   "display_name": "Python 3",
   "language": "python",
   "name": "python3"
  },
  "language_info": {
   "codemirror_mode": {
    "name": "ipython",
    "version": 3
   },
   "file_extension": ".py",
   "mimetype": "text/x-python",
   "name": "python",
   "nbconvert_exporter": "python",
   "pygments_lexer": "ipython3",
   "version": "3.9.5"
  }
 },
 "nbformat": 4,
 "nbformat_minor": 5
}
