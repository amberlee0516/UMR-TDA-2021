{
 "cells": [
  {
   "cell_type": "markdown",
   "id": "altered-catch",
   "metadata": {},
   "source": [
    "# Estimating Good Values for Epsilon in DBSCAN\n",
    "The y-axis coordinate for the point of greatest curvature is your estimated epsilon.<br>\n",
    "Source: https://medium.com/@tarammullin/dbscan-parameter-estimation-ff8330e3a3bd"
   ]
  },
  {
   "cell_type": "code",
   "execution_count": 66,
   "id": "broadband-enzyme",
   "metadata": {},
   "outputs": [],
   "source": [
    "from sklearn.neighbors import NearestNeighbors\n",
    "from sklearn.preprocessing import RobustScaler\n",
    "from matplotlib import pyplot as plt\n",
    "import numpy as np\n",
    "import pandas as pd\n",
    "%matplotlib notebook\n",
    "%matplotlib inline"
   ]
  },
  {
   "cell_type": "code",
   "execution_count": 67,
   "id": "solar-beverage",
   "metadata": {},
   "outputs": [],
   "source": [
    "df = pd.read_csv(r\"..\\..\\LTRM data\\RF interpolation\\water_full.csv\")\n",
    "# Filter by pool\n",
    "df = df[df[\"FLDNUM\"]==\"Onalaska, WI\"].reset_index(drop=True)\n",
    "continuous_variables = [\"WDP\", \"SECCHI\", \"TEMP\", \"DO\", \"TURB\", \"VEL\", \"TP\", \"TN\", \"SS\", \"CHLcal\"]\n",
    "df = df[continuous_variables]\n",
    "df.reset_index(drop = True, inplace = True)\n",
    "X = pd.DataFrame(RobustScaler().fit_transform(df))\n",
    "k = 20 #Make this min samples (2 * num of dimensions in this case)"
   ]
  },
  {
   "cell_type": "code",
   "execution_count": 68,
   "id": "known-module",
   "metadata": {},
   "outputs": [
    {
     "data": {
      "text/plain": [
       "[<matplotlib.lines.Line2D at 0x27ae7f71bb0>]"
      ]
     },
     "execution_count": 68,
     "metadata": {},
     "output_type": "execute_result"
    },
    {
     "data": {
      "image/png": "[encoded data removed]",
      "text/plain": [
       "<Figure size 432x288 with 1 Axes>"
      ]
     },
     "metadata": {
      "needs_background": "light"
     },
     "output_type": "display_data"
    }
   ],
   "source": [
    "neighbors = NearestNeighbors(n_neighbors=20)\n",
    "neighbors_fit = neighbors.fit(X)\n",
    "distances, indices = neighbors_fit.kneighbors(X)\n",
    "distances = np.sort(distances, axis=0)\n",
    "distances = distances[:,1]\n",
    "plt.xlim([13000, 14300])\n",
    "plt.ylim([0.5,6])\n",
    "plt.plot(distances)"
   ]
  },
  {
   "cell_type": "code",
   "execution_count": null,
   "id": "solid-novel",
   "metadata": {},
   "outputs": [],
   "source": []
  }
 ],
 "metadata": {
  "kernelspec": {
   "display_name": "Python 3",
   "language": "python",
   "name": "python3"
  },
  "language_info": {
   "codemirror_mode": {
    "name": "ipython",
    "version": 3
   },
   "file_extension": ".py",
   "mimetype": "text/x-python",
   "name": "python",
   "nbconvert_exporter": "python",
   "pygments_lexer": "ipython3",
   "version": "3.8.5"
  }
 },
 "nbformat": 4,
 "nbformat_minor": 5
}
