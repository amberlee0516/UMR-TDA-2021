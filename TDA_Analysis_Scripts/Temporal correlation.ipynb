{
 "cells": [
  {
   "cell_type": "markdown",
   "id": "biological-johnston",
   "metadata": {},
   "source": [
    "# Temporal Correlation Function"
   ]
  },
  {
   "cell_type": "markdown",
   "id": "popular-spoke",
   "metadata": {},
   "source": [
    "To understand how sections of the river change states and how stable each state is, we calculate a correlation function between each pool-state pair"
   ]
  },
  {
   "cell_type": "markdown",
   "id": "tough-journey",
   "metadata": {},
   "source": [
    "### Imports"
   ]
  },
  {
   "cell_type": "code",
   "execution_count": 8,
   "id": "pharmaceutical-correspondence",
   "metadata": {},
   "outputs": [],
   "source": [
    "import pandas as pd\n",
    "import pickle as pk\n",
    "import matplotlib.pyplot as plt\n",
    "import math\n",
    "from bisect import bisect\n",
    "import numpy as np"
   ]
  },
  {
   "cell_type": "markdown",
   "id": "instructional-placement",
   "metadata": {},
   "source": [
    "### Functions"
   ]
  },
  {
   "cell_type": "code",
   "execution_count": 7,
   "id": "false-repair",
   "metadata": {},
   "outputs": [
    {
     "name": "stdout",
     "output_type": "stream",
     "text": [
      "5\n",
      "[0, 10, 30, 60, 100, 150, 210, 280, 340, 480, 530]\n"
     ]
    }
   ],
   "source": [
    "\n",
    "a = 132\n",
    "b = [0, 10, 30, 60, 100, 150, 210, 280, 340, 480, 530]\n",
    "print(bisect(b, a))\n"
   ]
  },
  {
   "cell_type": "code",
   "execution_count": 82,
   "id": "similar-picking",
   "metadata": {},
   "outputs": [],
   "source": [
    "'''\n",
    "When given a series of points, this function will return\n",
    "the smoothed continuous version by applying a weighted average to \n",
    "'window' number of points around it. The average will be computed by \n",
    "using inverse distance from the neighbor points. Arrays x and y must\n",
    "be the same length.\n",
    "\n",
    "X: is the sorted list of times\n",
    "Y: is the discrete value\n",
    "\n",
    "'''\n",
    "def smoothing(t,X,Y,window = 4):\n",
    "    # Get indices and values of average\n",
    "    # upper is the index of the nearest greater value\n",
    "    upper = bisect(X,t)\n",
    "    \n",
    "    # Weights to apply to average values\n",
    "    weights = np.zeros(window)\n",
    "    # Recorded values of the window points\n",
    "    values = np.zeros(window)\n",
    "    # Distances of window points from t\n",
    "    distances = np.zeros(window)\n",
    "    \n",
    "    # Handle beginning and end cases\n",
    "    if t==0:\n",
    "        return Y[0]\n",
    "    if upper == len(X):\n",
    "        return Y[-1]\n",
    "    \n",
    "    # At the beginning or end cases, just smooth based on 2 points\n",
    "    if upper-(window//2)<0 or upper-1+(window//2)>len(X)-1:\n",
    "        #print(len(X)-1,upper,X[upper-1],t)\n",
    "        dist1 = abs(X[upper-1]-t)\n",
    "        dist2 = abs(X[upper]-t)\n",
    "        if dist1==0:\n",
    "            return Y[upper-1]\n",
    "        elif dist2==0:\n",
    "            return Y[upper]\n",
    "        else:\n",
    "            denominator = 1/dist1+1/dist2\n",
    "            \n",
    "            return (Y[upper-1]*(1/dist1)/denominator)+(Y[upper]*(1/dist2)/denominator)\n",
    "\n",
    "    \n",
    "    if window%2==0:\n",
    "        for i in range(window):\n",
    "            dist = abs(X[i+upper-(window//2)]-t)\n",
    "            val = Y[i+upper-(window//2)]\n",
    "            if dist == 0:\n",
    "                return val\n",
    "    \n",
    "            distances[i] = dist\n",
    "            values[i] = val\n",
    "        \n",
    "        denominator = 0\n",
    "        for dist in distances:\n",
    "            denominator += 1/dist\n",
    "        \n",
    "        for i,dist in enumerate(distances):\n",
    "            weights[i] = (1/dist)/denominator\n",
    "                        \n",
    "        return (sum([weights[i]*values[i] for i in range(window)]))\n",
    "    \n",
    "    else:\n",
    "        raise Exception(\"Not implemented for odd number window yet\")\n",
    "    "
   ]
  },
  {
   "cell_type": "code",
   "execution_count": 31,
   "id": "unavailable-basin",
   "metadata": {},
   "outputs": [],
   "source": [
    "X = np.array([1,2,3,4])\n",
    "Y = np.random.rand(4)"
   ]
  },
  {
   "cell_type": "code",
   "execution_count": 44,
   "id": "revolutionary-flexibility",
   "metadata": {},
   "outputs": [
    {
     "name": "stdout",
     "output_type": "stream",
     "text": [
      "0\n",
      "1\n",
      "2\n",
      "3\n",
      "[0.10909091 0.65454545 0.16363636 0.07272727]\n"
     ]
    },
    {
     "data": {
      "text/plain": [
       "0.37387627813309604"
      ]
     },
     "execution_count": 44,
     "metadata": {},
     "output_type": "execute_result"
    }
   ],
   "source": [
    "smoothing(2.2,X,Y)"
   ]
  },
  {
   "cell_type": "code",
   "execution_count": 45,
   "id": "stainless-appendix",
   "metadata": {},
   "outputs": [
    {
     "data": {
      "text/plain": [
       "array([0.72558448, 0.35276415, 0.03850469, 0.79090923])"
      ]
     },
     "execution_count": 45,
     "metadata": {},
     "output_type": "execute_result"
    }
   ],
   "source": [
    "Y"
   ]
  },
  {
   "cell_type": "markdown",
   "id": "deluxe-champagne",
   "metadata": {},
   "source": [
    "### Get Scomplex and associated Dataframe for all data output"
   ]
  },
  {
   "cell_type": "code",
   "execution_count": 47,
   "id": "fundamental-florida",
   "metadata": {},
   "outputs": [],
   "source": [
    "df = pk.load(open(\"LTRM_df.p\",'rb'))\n",
    "scomplex = pk.load(open(\"LTRM_scomplex.p\",'rb'))"
   ]
  },
  {
   "cell_type": "code",
   "execution_count": 325,
   "id": "informative-rabbit",
   "metadata": {},
   "outputs": [
    {
     "data": {
      "text/plain": [
       "Index(['WDP', 'SECCHI', 'TEMP', 'DO', 'TURB', 'VEL', 'TP', 'TN', 'SS',\n",
       "       'CHLcal', 'SHEETBAR', 'DATE', 'LATTITUDE', 'LONGITUDE', 'FLDNUM',\n",
       "       'STRATUM', 'LOCATCD', 'YEAR', 'SEASON', '1993-2000', '1898-2004',\n",
       "       '2001-2013', '2010-2016', '2014-2020',\n",
       "       'Backwater area contiguous to the main channel', 'Impounded',\n",
       "       'Isolated', 'Lake Pepin or Swan Lake', 'Main channel', 'Side channel',\n",
       "       'Unexploded Ordinance Area - Pool 13', 'Bellevue, IA', 'Brighton, IL',\n",
       "       'Havana, IL', 'Jackson, MO', 'Lake City, MN', 'Onalaska, WI',\n",
       "       'WDP_unscaled', 'SECCHI_unscaled', 'TEMP_unscaled', 'DO_unscaled',\n",
       "       'TURB_unscaled', 'VEL_unscaled', 'TP_unscaled', 'TN_unscaled',\n",
       "       'SS_unscaled', 'CHLcal_unscaled', 'WDP_color', 'SECCHI_color',\n",
       "       'TEMP_color', 'DO_color', 'TURB_color', 'VEL_color', 'TP_color',\n",
       "       'TN_color', 'SS_color', 'CHLcal_color', 'State 3', 'State 2', 'State 1',\n",
       "       'STATE', 'STATE_color'],\n",
       "      dtype='object')"
      ]
     },
     "execution_count": 325,
     "metadata": {},
     "output_type": "execute_result"
    }
   ],
   "source": [
    "df.columns"
   ]
  },
  {
   "cell_type": "code",
   "execution_count": 48,
   "id": "deadly-supervision",
   "metadata": {},
   "outputs": [
    {
     "data": {
      "text/html": [
       "<div>\n",
       "<style scoped>\n",
       "    .dataframe tbody tr th:only-of-type {\n",
       "        vertical-align: middle;\n",
       "    }\n",
       "\n",
       "    .dataframe tbody tr th {\n",
       "        vertical-align: top;\n",
       "    }\n",
       "\n",
       "    .dataframe thead th {\n",
       "        text-align: right;\n",
       "    }\n",
       "</style>\n",
       "<table border=\"1\" class=\"dataframe\">\n",
       "  <thead>\n",
       "    <tr style=\"text-align: right;\">\n",
       "      <th></th>\n",
       "      <th>DATE</th>\n",
       "      <th>SEASON</th>\n",
       "    </tr>\n",
       "  </thead>\n",
       "  <tbody>\n",
       "    <tr>\n",
       "      <th>64787</th>\n",
       "      <td>1993-07-12</td>\n",
       "      <td>2</td>\n",
       "    </tr>\n",
       "    <tr>\n",
       "      <th>64788</th>\n",
       "      <td>1993-07-12</td>\n",
       "      <td>2</td>\n",
       "    </tr>\n",
       "    <tr>\n",
       "      <th>64800</th>\n",
       "      <td>1993-07-12</td>\n",
       "      <td>2</td>\n",
       "    </tr>\n",
       "    <tr>\n",
       "      <th>64799</th>\n",
       "      <td>1993-07-12</td>\n",
       "      <td>2</td>\n",
       "    </tr>\n",
       "    <tr>\n",
       "      <th>64798</th>\n",
       "      <td>1993-07-12</td>\n",
       "      <td>2</td>\n",
       "    </tr>\n",
       "    <tr>\n",
       "      <th>...</th>\n",
       "      <td>...</td>\n",
       "      <td>...</td>\n",
       "    </tr>\n",
       "    <tr>\n",
       "      <th>52341</th>\n",
       "      <td>2020-10-27</td>\n",
       "      <td>3</td>\n",
       "    </tr>\n",
       "    <tr>\n",
       "      <th>52340</th>\n",
       "      <td>2020-10-27</td>\n",
       "      <td>3</td>\n",
       "    </tr>\n",
       "    <tr>\n",
       "      <th>52339</th>\n",
       "      <td>2020-10-27</td>\n",
       "      <td>3</td>\n",
       "    </tr>\n",
       "    <tr>\n",
       "      <th>52342</th>\n",
       "      <td>2020-10-27</td>\n",
       "      <td>3</td>\n",
       "    </tr>\n",
       "    <tr>\n",
       "      <th>52346</th>\n",
       "      <td>2020-10-27</td>\n",
       "      <td>3</td>\n",
       "    </tr>\n",
       "  </tbody>\n",
       "</table>\n",
       "<p>71747 rows × 2 columns</p>\n",
       "</div>"
      ],
      "text/plain": [
       "            DATE SEASON\n",
       "64787 1993-07-12      2\n",
       "64788 1993-07-12      2\n",
       "64800 1993-07-12      2\n",
       "64799 1993-07-12      2\n",
       "64798 1993-07-12      2\n",
       "...          ...    ...\n",
       "52341 2020-10-27      3\n",
       "52340 2020-10-27      3\n",
       "52339 2020-10-27      3\n",
       "52342 2020-10-27      3\n",
       "52346 2020-10-27      3\n",
       "\n",
       "[71747 rows x 2 columns]"
      ]
     },
     "execution_count": 48,
     "metadata": {},
     "output_type": "execute_result"
    }
   ],
   "source": [
    "# Change date format so it can be sorted\n",
    "df[\"DATE\"] = pd.to_datetime(df.DATE)\n",
    "# Sort by date\n",
    "df.sort_values(by=\"DATE\",inplace = True)\n",
    "\n",
    "# Remove data that is not part of the main simplicial complex\n",
    "df = df[(df[\"State 1\"]==1)|(df[\"State 2\"]==1)|(df[\"State 3\"]==1)]\n",
    "df[[\"DATE\",\"SEASON\"]]"
   ]
  },
  {
   "cell_type": "code",
   "execution_count": 336,
   "id": "charitable-title",
   "metadata": {},
   "outputs": [
    {
     "data": {
      "text/html": [
       "<div>\n",
       "<style scoped>\n",
       "    .dataframe tbody tr th:only-of-type {\n",
       "        vertical-align: middle;\n",
       "    }\n",
       "\n",
       "    .dataframe tbody tr th {\n",
       "        vertical-align: top;\n",
       "    }\n",
       "\n",
       "    .dataframe thead th {\n",
       "        text-align: right;\n",
       "    }\n",
       "</style>\n",
       "<table border=\"1\" class=\"dataframe\">\n",
       "  <thead>\n",
       "    <tr style=\"text-align: right;\">\n",
       "      <th></th>\n",
       "      <th>WDP</th>\n",
       "      <th>SECCHI</th>\n",
       "      <th>TEMP</th>\n",
       "      <th>DO</th>\n",
       "      <th>TURB</th>\n",
       "      <th>VEL</th>\n",
       "      <th>TP</th>\n",
       "      <th>TN</th>\n",
       "      <th>SS</th>\n",
       "      <th>CHLcal</th>\n",
       "      <th>...</th>\n",
       "      <th>VEL_color</th>\n",
       "      <th>TP_color</th>\n",
       "      <th>TN_color</th>\n",
       "      <th>SS_color</th>\n",
       "      <th>CHLcal_color</th>\n",
       "      <th>State 3</th>\n",
       "      <th>State 2</th>\n",
       "      <th>State 1</th>\n",
       "      <th>STATE</th>\n",
       "      <th>STATE_color</th>\n",
       "    </tr>\n",
       "  </thead>\n",
       "  <tbody>\n",
       "    <tr>\n",
       "      <th>52545</th>\n",
       "      <td>2.565891</td>\n",
       "      <td>-0.767442</td>\n",
       "      <td>-0.027586</td>\n",
       "      <td>-0.55814</td>\n",
       "      <td>4.210526</td>\n",
       "      <td>1.538462</td>\n",
       "      <td>1.874074</td>\n",
       "      <td>-0.130464</td>\n",
       "      <td>6.651153</td>\n",
       "      <td>-0.091448</td>\n",
       "      <td>...</td>\n",
       "      <td>1.538462</td>\n",
       "      <td>1.874074</td>\n",
       "      <td>-0.130464</td>\n",
       "      <td>3.679078</td>\n",
       "      <td>-0.091448</td>\n",
       "      <td>1</td>\n",
       "      <td>1</td>\n",
       "      <td>0</td>\n",
       "      <td>0.0</td>\n",
       "      <td>0.0</td>\n",
       "    </tr>\n",
       "    <tr>\n",
       "      <th>52560</th>\n",
       "      <td>2.669251</td>\n",
       "      <td>-0.767442</td>\n",
       "      <td>-0.048276</td>\n",
       "      <td>-0.418605</td>\n",
       "      <td>4.736842</td>\n",
       "      <td>1.653846</td>\n",
       "      <td>1.207407</td>\n",
       "      <td>0.077186</td>\n",
       "      <td>6.687117</td>\n",
       "      <td>-0.129775</td>\n",
       "      <td>...</td>\n",
       "      <td>1.653846</td>\n",
       "      <td>1.207407</td>\n",
       "      <td>0.077186</td>\n",
       "      <td>3.679078</td>\n",
       "      <td>-0.129775</td>\n",
       "      <td>1</td>\n",
       "      <td>1</td>\n",
       "      <td>0</td>\n",
       "      <td>0.0</td>\n",
       "      <td>0.0</td>\n",
       "    </tr>\n",
       "    <tr>\n",
       "      <th>53039</th>\n",
       "      <td>0.421189</td>\n",
       "      <td>-0.744186</td>\n",
       "      <td>0.751724</td>\n",
       "      <td>-0.790698</td>\n",
       "      <td>5.263158</td>\n",
       "      <td>1.557692</td>\n",
       "      <td>1.296296</td>\n",
       "      <td>0.556011</td>\n",
       "      <td>6.316903</td>\n",
       "      <td>-0.289913</td>\n",
       "      <td>...</td>\n",
       "      <td>1.557692</td>\n",
       "      <td>1.296296</td>\n",
       "      <td>0.556011</td>\n",
       "      <td>3.679078</td>\n",
       "      <td>-0.289913</td>\n",
       "      <td>1</td>\n",
       "      <td>1</td>\n",
       "      <td>0</td>\n",
       "      <td>0.0</td>\n",
       "      <td>0.0</td>\n",
       "    </tr>\n",
       "    <tr>\n",
       "      <th>53045</th>\n",
       "      <td>1.816537</td>\n",
       "      <td>-0.767442</td>\n",
       "      <td>0.744828</td>\n",
       "      <td>-0.813953</td>\n",
       "      <td>5.263158</td>\n",
       "      <td>1.673077</td>\n",
       "      <td>1.222222</td>\n",
       "      <td>0.55806</td>\n",
       "      <td>6.01227</td>\n",
       "      <td>-0.270545</td>\n",
       "      <td>...</td>\n",
       "      <td>1.673077</td>\n",
       "      <td>1.222222</td>\n",
       "      <td>0.55806</td>\n",
       "      <td>3.679078</td>\n",
       "      <td>-0.270545</td>\n",
       "      <td>1</td>\n",
       "      <td>1</td>\n",
       "      <td>0</td>\n",
       "      <td>0.0</td>\n",
       "      <td>0.0</td>\n",
       "    </tr>\n",
       "    <tr>\n",
       "      <th>53036</th>\n",
       "      <td>-0.173127</td>\n",
       "      <td>-0.790698</td>\n",
       "      <td>0.758621</td>\n",
       "      <td>-0.790698</td>\n",
       "      <td>5.263158</td>\n",
       "      <td>0.673077</td>\n",
       "      <td>1.503704</td>\n",
       "      <td>0.822404</td>\n",
       "      <td>6.027078</td>\n",
       "      <td>-0.265011</td>\n",
       "      <td>...</td>\n",
       "      <td>0.673077</td>\n",
       "      <td>1.503704</td>\n",
       "      <td>0.822404</td>\n",
       "      <td>3.679078</td>\n",
       "      <td>-0.265011</td>\n",
       "      <td>1</td>\n",
       "      <td>1</td>\n",
       "      <td>0</td>\n",
       "      <td>0.0</td>\n",
       "      <td>0.0</td>\n",
       "    </tr>\n",
       "    <tr>\n",
       "      <th>...</th>\n",
       "      <td>...</td>\n",
       "      <td>...</td>\n",
       "      <td>...</td>\n",
       "      <td>...</td>\n",
       "      <td>...</td>\n",
       "      <td>...</td>\n",
       "      <td>...</td>\n",
       "      <td>...</td>\n",
       "      <td>...</td>\n",
       "      <td>...</td>\n",
       "      <td>...</td>\n",
       "      <td>...</td>\n",
       "      <td>...</td>\n",
       "      <td>...</td>\n",
       "      <td>...</td>\n",
       "      <td>...</td>\n",
       "      <td>...</td>\n",
       "      <td>...</td>\n",
       "      <td>...</td>\n",
       "      <td>...</td>\n",
       "      <td>...</td>\n",
       "    </tr>\n",
       "    <tr>\n",
       "      <th>63523</th>\n",
       "      <td>1.48062</td>\n",
       "      <td>-0.627907</td>\n",
       "      <td>0.282759</td>\n",
       "      <td>-0.465116</td>\n",
       "      <td>4.473684</td>\n",
       "      <td>2.923077</td>\n",
       "      <td>1.718519</td>\n",
       "      <td>0.267077</td>\n",
       "      <td>6.321134</td>\n",
       "      <td>-0.365397</td>\n",
       "      <td>...</td>\n",
       "      <td>2.923077</td>\n",
       "      <td>1.718519</td>\n",
       "      <td>0.267077</td>\n",
       "      <td>3.679078</td>\n",
       "      <td>-0.365397</td>\n",
       "      <td>1</td>\n",
       "      <td>1</td>\n",
       "      <td>0</td>\n",
       "      <td>0.0</td>\n",
       "      <td>0.0</td>\n",
       "    </tr>\n",
       "    <tr>\n",
       "      <th>63537</th>\n",
       "      <td>2.436693</td>\n",
       "      <td>-0.697674</td>\n",
       "      <td>0.255172</td>\n",
       "      <td>-0.465116</td>\n",
       "      <td>4.868421</td>\n",
       "      <td>2.538462</td>\n",
       "      <td>1.755556</td>\n",
       "      <td>0.244536</td>\n",
       "      <td>5.849376</td>\n",
       "      <td>-0.317308</td>\n",
       "      <td>...</td>\n",
       "      <td>2.538462</td>\n",
       "      <td>1.755556</td>\n",
       "      <td>0.244536</td>\n",
       "      <td>3.679078</td>\n",
       "      <td>-0.317308</td>\n",
       "      <td>1</td>\n",
       "      <td>1</td>\n",
       "      <td>0</td>\n",
       "      <td>0.0</td>\n",
       "      <td>0.0</td>\n",
       "    </tr>\n",
       "    <tr>\n",
       "      <th>63532</th>\n",
       "      <td>1.816537</td>\n",
       "      <td>-0.674419</td>\n",
       "      <td>0.255172</td>\n",
       "      <td>-0.465116</td>\n",
       "      <td>4.605263</td>\n",
       "      <td>1.826923</td>\n",
       "      <td>2.066667</td>\n",
       "      <td>0.428962</td>\n",
       "      <td>6.159932</td>\n",
       "      <td>-0.281241</td>\n",
       "      <td>...</td>\n",
       "      <td>1.826923</td>\n",
       "      <td>2.066667</td>\n",
       "      <td>0.428962</td>\n",
       "      <td>3.679078</td>\n",
       "      <td>-0.281241</td>\n",
       "      <td>1</td>\n",
       "      <td>1</td>\n",
       "      <td>0</td>\n",
       "      <td>0.0</td>\n",
       "      <td>0.0</td>\n",
       "    </tr>\n",
       "    <tr>\n",
       "      <th>63544</th>\n",
       "      <td>1.816537</td>\n",
       "      <td>-0.674419</td>\n",
       "      <td>0.255172</td>\n",
       "      <td>-0.488372</td>\n",
       "      <td>4.473684</td>\n",
       "      <td>2.288462</td>\n",
       "      <td>1.822222</td>\n",
       "      <td>0.224044</td>\n",
       "      <td>6.442776</td>\n",
       "      <td>-0.305286</td>\n",
       "      <td>...</td>\n",
       "      <td>2.288462</td>\n",
       "      <td>1.822222</td>\n",
       "      <td>0.224044</td>\n",
       "      <td>3.679078</td>\n",
       "      <td>-0.305286</td>\n",
       "      <td>1</td>\n",
       "      <td>1</td>\n",
       "      <td>0</td>\n",
       "      <td>0.0</td>\n",
       "      <td>0.0</td>\n",
       "    </tr>\n",
       "    <tr>\n",
       "      <th>64575</th>\n",
       "      <td>0.808786</td>\n",
       "      <td>-0.837209</td>\n",
       "      <td>0.841379</td>\n",
       "      <td>-0.930233</td>\n",
       "      <td>5.131579</td>\n",
       "      <td>1.480769</td>\n",
       "      <td>1.622222</td>\n",
       "      <td>-0.111339</td>\n",
       "      <td>6.144912</td>\n",
       "      <td>0.425672</td>\n",
       "      <td>...</td>\n",
       "      <td>1.480769</td>\n",
       "      <td>1.622222</td>\n",
       "      <td>-0.111339</td>\n",
       "      <td>3.679078</td>\n",
       "      <td>0.425672</td>\n",
       "      <td>1</td>\n",
       "      <td>1</td>\n",
       "      <td>0</td>\n",
       "      <td>0.0</td>\n",
       "      <td>0.0</td>\n",
       "    </tr>\n",
       "  </tbody>\n",
       "</table>\n",
       "<p>61 rows × 62 columns</p>\n",
       "</div>"
      ],
      "text/plain": [
       "            WDP    SECCHI      TEMP        DO      TURB       VEL        TP  \\\n",
       "52545  2.565891 -0.767442 -0.027586  -0.55814  4.210526  1.538462  1.874074   \n",
       "52560  2.669251 -0.767442 -0.048276 -0.418605  4.736842  1.653846  1.207407   \n",
       "53039  0.421189 -0.744186  0.751724 -0.790698  5.263158  1.557692  1.296296   \n",
       "53045  1.816537 -0.767442  0.744828 -0.813953  5.263158  1.673077  1.222222   \n",
       "53036 -0.173127 -0.790698  0.758621 -0.790698  5.263158  0.673077  1.503704   \n",
       "...         ...       ...       ...       ...       ...       ...       ...   \n",
       "63523   1.48062 -0.627907  0.282759 -0.465116  4.473684  2.923077  1.718519   \n",
       "63537  2.436693 -0.697674  0.255172 -0.465116  4.868421  2.538462  1.755556   \n",
       "63532  1.816537 -0.674419  0.255172 -0.465116  4.605263  1.826923  2.066667   \n",
       "63544  1.816537 -0.674419  0.255172 -0.488372  4.473684  2.288462  1.822222   \n",
       "64575  0.808786 -0.837209  0.841379 -0.930233  5.131579  1.480769  1.622222   \n",
       "\n",
       "             TN        SS    CHLcal  ... VEL_color  TP_color  TN_color  \\\n",
       "52545 -0.130464  6.651153 -0.091448  ...  1.538462  1.874074 -0.130464   \n",
       "52560  0.077186  6.687117 -0.129775  ...  1.653846  1.207407  0.077186   \n",
       "53039  0.556011  6.316903 -0.289913  ...  1.557692  1.296296  0.556011   \n",
       "53045   0.55806   6.01227 -0.270545  ...  1.673077  1.222222   0.55806   \n",
       "53036  0.822404  6.027078 -0.265011  ...  0.673077  1.503704  0.822404   \n",
       "...         ...       ...       ...  ...       ...       ...       ...   \n",
       "63523  0.267077  6.321134 -0.365397  ...  2.923077  1.718519  0.267077   \n",
       "63537  0.244536  5.849376 -0.317308  ...  2.538462  1.755556  0.244536   \n",
       "63532  0.428962  6.159932 -0.281241  ...  1.826923  2.066667  0.428962   \n",
       "63544  0.224044  6.442776 -0.305286  ...  2.288462  1.822222  0.224044   \n",
       "64575 -0.111339  6.144912  0.425672  ...  1.480769  1.622222 -0.111339   \n",
       "\n",
       "       SS_color CHLcal_color State 3 State 2 State 1 STATE  STATE_color  \n",
       "52545  3.679078    -0.091448       1       1       0   0.0          0.0  \n",
       "52560  3.679078    -0.129775       1       1       0   0.0          0.0  \n",
       "53039  3.679078    -0.289913       1       1       0   0.0          0.0  \n",
       "53045  3.679078    -0.270545       1       1       0   0.0          0.0  \n",
       "53036  3.679078    -0.265011       1       1       0   0.0          0.0  \n",
       "...         ...          ...     ...     ...     ...   ...          ...  \n",
       "63523  3.679078    -0.365397       1       1       0   0.0          0.0  \n",
       "63537  3.679078    -0.317308       1       1       0   0.0          0.0  \n",
       "63532  3.679078    -0.281241       1       1       0   0.0          0.0  \n",
       "63544  3.679078    -0.305286       1       1       0   0.0          0.0  \n",
       "64575  3.679078     0.425672       1       1       0   0.0          0.0  \n",
       "\n",
       "[61 rows x 62 columns]"
      ]
     },
     "execution_count": 336,
     "metadata": {},
     "output_type": "execute_result"
    }
   ],
   "source": [
    "df[(df[\"State 2\"]==1)&(df[\"State 3\"]==1)]"
   ]
  },
  {
   "cell_type": "code",
   "execution_count": 49,
   "id": "unnecessary-recorder",
   "metadata": {},
   "outputs": [],
   "source": [
    "# Just for reference of which months are which seasons\n",
    "month_toseason = {3:1,4:1,5:1,6:2,7:2,8:2,9:3,10:3,11:3,12:4,1:4,2:4}"
   ]
  },
  {
   "cell_type": "markdown",
   "id": "stuffed-figure",
   "metadata": {},
   "source": [
    "## Jackson, MO"
   ]
  },
  {
   "cell_type": "markdown",
   "id": "athletic-demand",
   "metadata": {},
   "source": [
    "Make a copy of sorted by date, Open River data"
   ]
  },
  {
   "cell_type": "code",
   "execution_count": 50,
   "id": "crazy-laundry",
   "metadata": {},
   "outputs": [
    {
     "data": {
      "text/html": [
       "<div>\n",
       "<style scoped>\n",
       "    .dataframe tbody tr th:only-of-type {\n",
       "        vertical-align: middle;\n",
       "    }\n",
       "\n",
       "    .dataframe tbody tr th {\n",
       "        vertical-align: top;\n",
       "    }\n",
       "\n",
       "    .dataframe thead th {\n",
       "        text-align: right;\n",
       "    }\n",
       "</style>\n",
       "<table border=\"1\" class=\"dataframe\">\n",
       "  <thead>\n",
       "    <tr style=\"text-align: right;\">\n",
       "      <th></th>\n",
       "      <th>DATE</th>\n",
       "      <th>SEASON</th>\n",
       "    </tr>\n",
       "  </thead>\n",
       "  <tbody>\n",
       "    <tr>\n",
       "      <th>52361</th>\n",
       "      <td>1993-09-15</td>\n",
       "      <td>3</td>\n",
       "    </tr>\n",
       "    <tr>\n",
       "      <th>52360</th>\n",
       "      <td>1993-09-15</td>\n",
       "      <td>3</td>\n",
       "    </tr>\n",
       "    <tr>\n",
       "      <th>52359</th>\n",
       "      <td>1993-09-15</td>\n",
       "      <td>3</td>\n",
       "    </tr>\n",
       "    <tr>\n",
       "      <th>52358</th>\n",
       "      <td>1993-09-15</td>\n",
       "      <td>3</td>\n",
       "    </tr>\n",
       "    <tr>\n",
       "      <th>52357</th>\n",
       "      <td>1993-09-15</td>\n",
       "      <td>3</td>\n",
       "    </tr>\n",
       "    <tr>\n",
       "      <th>...</th>\n",
       "      <td>...</td>\n",
       "      <td>...</td>\n",
       "    </tr>\n",
       "    <tr>\n",
       "      <th>64785</th>\n",
       "      <td>2020-10-22</td>\n",
       "      <td>3</td>\n",
       "    </tr>\n",
       "    <tr>\n",
       "      <th>64786</th>\n",
       "      <td>2020-10-22</td>\n",
       "      <td>3</td>\n",
       "    </tr>\n",
       "    <tr>\n",
       "      <th>64772</th>\n",
       "      <td>2020-10-22</td>\n",
       "      <td>3</td>\n",
       "    </tr>\n",
       "    <tr>\n",
       "      <th>64775</th>\n",
       "      <td>2020-10-22</td>\n",
       "      <td>3</td>\n",
       "    </tr>\n",
       "    <tr>\n",
       "      <th>64774</th>\n",
       "      <td>2020-10-22</td>\n",
       "      <td>3</td>\n",
       "    </tr>\n",
       "  </tbody>\n",
       "</table>\n",
       "<p>11017 rows × 2 columns</p>\n",
       "</div>"
      ],
      "text/plain": [
       "            DATE SEASON\n",
       "52361 1993-09-15      3\n",
       "52360 1993-09-15      3\n",
       "52359 1993-09-15      3\n",
       "52358 1993-09-15      3\n",
       "52357 1993-09-15      3\n",
       "...          ...    ...\n",
       "64785 2020-10-22      3\n",
       "64786 2020-10-22      3\n",
       "64772 2020-10-22      3\n",
       "64775 2020-10-22      3\n",
       "64774 2020-10-22      3\n",
       "\n",
       "[11017 rows x 2 columns]"
      ]
     },
     "execution_count": 50,
     "metadata": {},
     "output_type": "execute_result"
    }
   ],
   "source": [
    "pool_sorted = df[df.FLDNUM==\"Jackson, MO\"].copy()\n",
    "pool_sorted[[\"DATE\",\"SEASON\"]]"
   ]
  },
  {
   "cell_type": "code",
   "execution_count": 51,
   "id": "bizarre-medium",
   "metadata": {},
   "outputs": [
    {
     "data": {
      "text/plain": [
       "array([1993, 1994, 1995, 1996, 1997, 1998, 1999, 2000, 2001, 2002, 2004,\n",
       "       2005, 2006, 2007, 2008, 2009, 2010, 2011, 2012, 2013, 2014, 2015,\n",
       "       2016, 2017, 2018, 2019, 2020], dtype=object)"
      ]
     },
     "execution_count": 51,
     "metadata": {},
     "output_type": "execute_result"
    }
   ],
   "source": [
    "pool_sorted[\"YEAR\"].unique()"
   ]
  },
  {
   "cell_type": "code",
   "execution_count": 83,
   "id": "designed-access",
   "metadata": {},
   "outputs": [
    {
     "name": "stdout",
     "output_type": "stream",
     "text": [
      "No data for  1993   4\n",
      "No data for  1993   1\n",
      "No data for  1993   2\n",
      "No data for  1994   3\n",
      "No data for  1995   4\n",
      "Month of transition:  30\n",
      "No data for  1996   4\n",
      "Month of transition:  78\n",
      "Month of transition:  102\n",
      "No data for  2002   3\n",
      "Month of transition:  198\n",
      "Month of transition:  201\n",
      "Month of transition:  240\n",
      "Month of transition:  261\n"
     ]
    }
   ],
   "source": [
    "start_month = pool_sorted[\"DATE\"].iloc[0].month\n",
    "\n",
    "start_szn = month_toseason[start_month]\n",
    "\n",
    "# The list of seasons in order to loop through\n",
    "seasons = [0,0,0,0]\n",
    "\n",
    "for i in range(4):\n",
    "    s = ((start_szn-1+i)%4)+1\n",
    "    seasons[i] = s\n",
    "\n",
    "# Used on X axis for plot\n",
    "time_months = []\n",
    "\n",
    "# Lists for proportions of points in each state\n",
    "State1 = []\n",
    "State2 = []\n",
    "State3 = []\n",
    "\n",
    "time = 0\n",
    "\n",
    "for year in pool_sorted[\"YEAR\"].unique():\n",
    "    for season in seasons:\n",
    "        snap_df = pool_sorted[(pool_sorted[\"YEAR\"]==year) & (pool_sorted[\"SEASON\"]==season)]\n",
    "        \n",
    "        # If there is no data in this year and season, skip it\n",
    "        if snap_df.shape[0] == 0:\n",
    "            time += 3\n",
    "            print(\"No data for \",year,\" \",season)\n",
    "            continue\n",
    "\n",
    "        # Check which states these points are in\n",
    "        S1 = snap_df[\"State 1\"].sum()\n",
    "        S2 = snap_df[\"State 2\"].sum()\n",
    "        S3 = snap_df[\"State 3\"].sum()\n",
    "        \n",
    "        if S2>S1 or S3>S1:\n",
    "            print(\"Month of transition: \",time)\n",
    "                \n",
    "        #print(\"S3 \",S3,\" S2\",S2,\" S1 \",S1)\n",
    "        \n",
    "        # Find the ratio of the points in this \"snapshot\" that are in each state\n",
    "        State1.append(float(S1/snap_df.shape[0]))\n",
    "        State2.append(float(S2/snap_df.shape[0]))\n",
    "        State3.append(float(S3/snap_df.shape[0]))\n",
    "        \n",
    "            \n",
    "        time_months.append(time)\n",
    "    \n",
    "        #curtime = curtime+pd.DateOffset(months=3)\n",
    "        time+=3"
   ]
  },
  {
   "cell_type": "markdown",
   "id": "animated-performer",
   "metadata": {},
   "source": [
    "### Look at correlation function plot"
   ]
  },
  {
   "cell_type": "markdown",
   "id": "personalized-paper",
   "metadata": {},
   "source": [
    "$$f(x) = x/n$$ where n is the number of points collected in that season"
   ]
  },
  {
   "cell_type": "code",
   "execution_count": 74,
   "id": "generic-explorer",
   "metadata": {},
   "outputs": [
    {
     "data": {
      "text/plain": [
       "321"
      ]
     },
     "execution_count": 74,
     "metadata": {},
     "output_type": "execute_result"
    }
   ],
   "source": [
    "time_months[-1]"
   ]
  },
  {
   "cell_type": "code",
   "execution_count": 84,
   "id": "adapted-milton",
   "metadata": {},
   "outputs": [
    {
     "data": {
      "image/png": "[encoded data removed]",
      "text/plain": [
       "<Figure size 504x360 with 1 Axes>"
      ]
     },
     "metadata": {
      "needs_background": "light"
     },
     "output_type": "display_data"
    }
   ],
   "source": [
    "# Calculate smoothing\n",
    "time_smoothed = np.linspace(0,max(time_months),max(time_months)+50)\n",
    "S1_smoothed = np.zeros(len(time_smoothed))\n",
    "S2_smoothed = np.zeros(len(time_smoothed))\n",
    "S3_smoothed = np.zeros(len(time_smoothed))\n",
    "\n",
    "for i,t in enumerate(time_smoothed):\n",
    "    S1_smoothed[i] = smoothing(t,time_months,State1)\n",
    "    S2_smoothed[i] = smoothing(t,time_months,State2)\n",
    "    S3_smoothed[i] = smoothing(t,time_months,State3)\n",
    "\n",
    "\n",
    "# Plot all together\n",
    "plt.figure(figsize=(7,5))\n",
    "plt.scatter(time_months,State1,color=\"blue\",s=10)\n",
    "plt.plot(time_smoothed,S1_smoothed,color=\"blue\")\n",
    "\n",
    "plt.scatter(time_months,State2,color=\"red\",s=10)\n",
    "plt.plot(time_smoothed,S2_smoothed,color=\"red\")\n",
    "\n",
    "plt.scatter(time_months,State3,color=\"green\",s=10)\n",
    "plt.plot(time_smoothed,S3_smoothed,color=\"green\")\n",
    "#plt.plot(time_months,State1,color=\"blue\")\n",
    "#plt.plot(time_months,State2,color=\"red\")\n",
    "#plt.plot(time_months,State3,color=\"green\")\n",
    "plt.xlabel(\"Months\")\n",
    "plt.ylabel(\"Correlation\")\n",
    "plt.show()"
   ]
  },
  {
   "cell_type": "code",
   "execution_count": 283,
   "id": "facial-smooth",
   "metadata": {},
   "outputs": [
    {
     "data": {
      "image/png": "[encoded data removed]",
      "text/plain": [
       "<Figure size 504x360 with 1 Axes>"
      ]
     },
     "metadata": {
      "needs_background": "light"
     },
     "output_type": "display_data"
    }
   ],
   "source": [
    "# Look at the most recent 6 years to see short term trends (last 24 data points)\n",
    "plt.figure(figsize=(7,5))\n",
    "# plt.scatter(time_months,State1,color=\"blue\",s=10)\n",
    "# plt.scatter(time_months,State2,color=\"red\",s=10)\n",
    "# plt.scatter(time_months,State3,color=\"green\",s=10)\n",
    "plt.plot(time_months[0:24],State1[-25:-1],color=\"blue\")\n",
    "plt.plot(time_months[0:24],State2[-25:-1],color=\"red\")\n",
    "plt.plot(time_months[0:24],State3[-25:-1],color=\"green\")\n",
    "plt.xlabel(\"Months\")\n",
    "plt.ylabel(\"Correlation\")\n",
    "plt.title(\"Last 6 years\")\n",
    "plt.show()"
   ]
  },
  {
   "cell_type": "code",
   "execution_count": 284,
   "id": "indie-ordinary",
   "metadata": {},
   "outputs": [
    {
     "data": {
      "image/png": "[encoded data removed]",
      "text/plain": [
       "<Figure size 504x360 with 1 Axes>"
      ]
     },
     "metadata": {
      "needs_background": "light"
     },
     "output_type": "display_data"
    }
   ],
   "source": [
    "# Plot State 1\n",
    "plt.figure(figsize=(7,5))\n",
    "plt.plot(time_months,State1,color=\"blue\")\n",
    "plt.xlabel(\"Months\")\n",
    "plt.ylabel(\"Correlation\")\n",
    "plt.show()"
   ]
  },
  {
   "cell_type": "code",
   "execution_count": 285,
   "id": "tender-therapy",
   "metadata": {},
   "outputs": [
    {
     "data": {
      "image/png": "[encoded data removed]",
      "text/plain": [
       "<Figure size 504x360 with 1 Axes>"
      ]
     },
     "metadata": {
      "needs_background": "light"
     },
     "output_type": "display_data"
    }
   ],
   "source": [
    "# Plot state 2\n",
    "plt.figure(figsize=(7,5))\n",
    "plt.plot(time_months,State2,color=\"red\")\n",
    "plt.xlabel(\"Months\")\n",
    "plt.ylim(0,1)\n",
    "plt.ylabel(\"Correlation\")\n",
    "plt.show()"
   ]
  },
  {
   "cell_type": "code",
   "execution_count": 286,
   "id": "heard-funds",
   "metadata": {},
   "outputs": [
    {
     "data": {
      "image/png": "[encoded data removed]",
      "text/plain": [
       "<Figure size 504x360 with 1 Axes>"
      ]
     },
     "metadata": {
      "needs_background": "light"
     },
     "output_type": "display_data"
    }
   ],
   "source": [
    "# Plot State 3\n",
    "plt.figure(figsize=(7,5))\n",
    "plt.plot(time_months,State3,color=\"green\")\n",
    "plt.xlabel(\"Months\")\n",
    "plt.ylim(0,1)\n",
    "plt.ylabel(\"Correlation\")\n",
    "plt.show()"
   ]
  },
  {
   "cell_type": "code",
   "execution_count": 287,
   "id": "bacterial-trial",
   "metadata": {},
   "outputs": [
    {
     "data": {
      "text/plain": [
       "array(['Havana, IL', 'Onalaska, WI', 'Lake City, MN', 'Bellevue, IA',\n",
       "       'Jackson, MO', 'Brighton, IL'], dtype=object)"
      ]
     },
     "execution_count": 287,
     "metadata": {},
     "output_type": "execute_result"
    }
   ],
   "source": [
    "df.FLDNUM.unique()"
   ]
  },
  {
   "cell_type": "markdown",
   "id": "written-harassment",
   "metadata": {},
   "source": [
    "## Havana, IL"
   ]
  },
  {
   "cell_type": "code",
   "execution_count": 332,
   "id": "balanced-championship",
   "metadata": {},
   "outputs": [
    {
     "data": {
      "text/html": [
       "<div>\n",
       "<style scoped>\n",
       "    .dataframe tbody tr th:only-of-type {\n",
       "        vertical-align: middle;\n",
       "    }\n",
       "\n",
       "    .dataframe tbody tr th {\n",
       "        vertical-align: top;\n",
       "    }\n",
       "\n",
       "    .dataframe thead th {\n",
       "        text-align: right;\n",
       "    }\n",
       "</style>\n",
       "<table border=\"1\" class=\"dataframe\">\n",
       "  <thead>\n",
       "    <tr style=\"text-align: right;\">\n",
       "      <th></th>\n",
       "      <th>DATE</th>\n",
       "      <th>SEASON</th>\n",
       "    </tr>\n",
       "  </thead>\n",
       "  <tbody>\n",
       "    <tr>\n",
       "      <th>64787</th>\n",
       "      <td>1993-07-12</td>\n",
       "      <td>2</td>\n",
       "    </tr>\n",
       "    <tr>\n",
       "      <th>64794</th>\n",
       "      <td>1993-07-12</td>\n",
       "      <td>2</td>\n",
       "    </tr>\n",
       "    <tr>\n",
       "      <th>64789</th>\n",
       "      <td>1993-07-12</td>\n",
       "      <td>2</td>\n",
       "    </tr>\n",
       "    <tr>\n",
       "      <th>64790</th>\n",
       "      <td>1993-07-12</td>\n",
       "      <td>2</td>\n",
       "    </tr>\n",
       "    <tr>\n",
       "      <th>64791</th>\n",
       "      <td>1993-07-12</td>\n",
       "      <td>2</td>\n",
       "    </tr>\n",
       "    <tr>\n",
       "      <th>...</th>\n",
       "      <td>...</td>\n",
       "      <td>...</td>\n",
       "    </tr>\n",
       "    <tr>\n",
       "      <th>76650</th>\n",
       "      <td>2020-10-22</td>\n",
       "      <td>3</td>\n",
       "    </tr>\n",
       "    <tr>\n",
       "      <th>76652</th>\n",
       "      <td>2020-10-22</td>\n",
       "      <td>3</td>\n",
       "    </tr>\n",
       "    <tr>\n",
       "      <th>76654</th>\n",
       "      <td>2020-10-22</td>\n",
       "      <td>3</td>\n",
       "    </tr>\n",
       "    <tr>\n",
       "      <th>76653</th>\n",
       "      <td>2020-10-22</td>\n",
       "      <td>3</td>\n",
       "    </tr>\n",
       "    <tr>\n",
       "      <th>76651</th>\n",
       "      <td>2020-10-22</td>\n",
       "      <td>3</td>\n",
       "    </tr>\n",
       "  </tbody>\n",
       "</table>\n",
       "<p>10045 rows × 2 columns</p>\n",
       "</div>"
      ],
      "text/plain": [
       "            DATE SEASON\n",
       "64787 1993-07-12      2\n",
       "64794 1993-07-12      2\n",
       "64789 1993-07-12      2\n",
       "64790 1993-07-12      2\n",
       "64791 1993-07-12      2\n",
       "...          ...    ...\n",
       "76650 2020-10-22      3\n",
       "76652 2020-10-22      3\n",
       "76654 2020-10-22      3\n",
       "76653 2020-10-22      3\n",
       "76651 2020-10-22      3\n",
       "\n",
       "[10045 rows x 2 columns]"
      ]
     },
     "execution_count": 332,
     "metadata": {},
     "output_type": "execute_result"
    }
   ],
   "source": [
    "pool_sorted = df[df.FLDNUM==\"Havana, IL\"].copy()\n",
    "pool_sorted[[\"DATE\",\"SEASON\"]]"
   ]
  },
  {
   "cell_type": "code",
   "execution_count": 289,
   "id": "material-dover",
   "metadata": {},
   "outputs": [
    {
     "data": {
      "text/plain": [
       "array([1993, 1994, 1995, 1996, 1997, 1998, 1999, 2000, 2001, 2002, 2004,\n",
       "       2005, 2006, 2007, 2008, 2009, 2010, 2011, 2012, 2013, 2014, 2015,\n",
       "       2016, 2017, 2018, 2019, 2020], dtype=object)"
      ]
     },
     "execution_count": 289,
     "metadata": {},
     "output_type": "execute_result"
    }
   ],
   "source": [
    "pool_sorted[\"YEAR\"].unique()"
   ]
  },
  {
   "cell_type": "code",
   "execution_count": 333,
   "id": "collective-emergency",
   "metadata": {},
   "outputs": [
    {
     "name": "stdout",
     "output_type": "stream",
     "text": [
      "No data for  1993   4\n",
      "No data for  1993   1\n",
      "No data for  1994   3\n",
      "No data for  1996   4\n",
      "No data for  2002   3\n",
      "No data for  2012   1\n",
      "No data for  2020   1\n"
     ]
    }
   ],
   "source": [
    "start_month = pool_sorted[\"DATE\"].iloc[0].month\n",
    "\n",
    "start_szn = month_toseason[start_month]\n",
    "\n",
    "# The list of seasons in order to loop through\n",
    "seasons = [0,0,0,0]\n",
    "\n",
    "for i in range(4):\n",
    "    s = ((start_szn-1+i)%4)+1\n",
    "    seasons[i] = s\n",
    "\n",
    "# Used on X axis for plot\n",
    "time_months = []\n",
    "\n",
    "# Lists for proportions of points in each state\n",
    "State1 = []\n",
    "State2 = []\n",
    "State3 = []\n",
    "\n",
    "time = 0\n",
    "\n",
    "for year in pool_sorted[\"YEAR\"].unique():\n",
    "    for season in seasons:\n",
    "        snap_df = pool_sorted[(pool_sorted[\"YEAR\"]==year) & (pool_sorted[\"SEASON\"]==season)]\n",
    "        \n",
    "        # If there is no data in this year and season, skip it\n",
    "        if snap_df.shape[0] == 0:\n",
    "            time += 3\n",
    "            print(\"No data for \",year,\" \",season)\n",
    "            continue\n",
    "\n",
    "        # Check which states these points are in\n",
    "        S1 = snap_df[\"State 1\"].sum()\n",
    "        S2 = snap_df[\"State 2\"].sum()\n",
    "        S3 = snap_df[\"State 3\"].sum()\n",
    "                \n",
    "        #print(\"S3 \",S3,\" S2\",S2,\" S1 \",S1,\" snap size \",snap_df.shape[0])\n",
    "        \n",
    "        # Find the ratio of the points in this \"snapshot\" that are in each state\n",
    "        State1.append(float(S1/snap_df.shape[0]))\n",
    "        State2.append(float(S2/snap_df.shape[0]))\n",
    "        State3.append(float(S3/snap_df.shape[0]))\n",
    "        \n",
    "            \n",
    "        time_months.append(time)\n",
    "    \n",
    "        #curtime = curtime+pd.DateOffset(months=3)\n",
    "        time+=3"
   ]
  },
  {
   "cell_type": "markdown",
   "id": "tutorial-elephant",
   "metadata": {},
   "source": [
    "### Look at correlation function plot"
   ]
  },
  {
   "cell_type": "code",
   "execution_count": 334,
   "id": "hollow-bobby",
   "metadata": {},
   "outputs": [
    {
     "data": {
      "image/png": "[encoded data removed]",
      "text/plain": [
       "<Figure size 504x360 with 1 Axes>"
      ]
     },
     "metadata": {
      "needs_background": "light"
     },
     "output_type": "display_data"
    }
   ],
   "source": [
    "# Plot all together\n",
    "plt.figure(figsize=(7,5))\n",
    "# plt.scatter(time_months,State1,color=\"blue\",s=10)\n",
    "# plt.scatter(time_months,State2,color=\"red\",s=10)\n",
    "# plt.scatter(time_months,State3,color=\"green\",s=10)\n",
    "plt.plot(time_months,State1,color=\"blue\")\n",
    "plt.plot(time_months,State2,color=\"red\")\n",
    "plt.plot(time_months,State3,color=\"green\")\n",
    "plt.xlabel(\"Months\")\n",
    "plt.ylabel(\"Correlation\")\n",
    "plt.show()"
   ]
  },
  {
   "cell_type": "code",
   "execution_count": 292,
   "id": "beneficial-amber",
   "metadata": {},
   "outputs": [
    {
     "data": {
      "image/png": "[encoded data removed]",
      "text/plain": [
       "<Figure size 504x360 with 1 Axes>"
      ]
     },
     "metadata": {
      "needs_background": "light"
     },
     "output_type": "display_data"
    }
   ],
   "source": [
    "# Look at the most recent 5 years to see short term trends (last 24 data points)\n",
    "plt.figure(figsize=(7,5))\n",
    "# plt.scatter(time_months,State1,color=\"blue\",s=10)\n",
    "# plt.scatter(time_months,State2,color=\"red\",s=10)\n",
    "# plt.scatter(time_months,State3,color=\"green\",s=10)\n",
    "plt.plot(time_months[0:24],State1[-25:-1],color=\"blue\")\n",
    "plt.plot(time_months[0:24],State2[-25:-1],color=\"red\")\n",
    "plt.plot(time_months[0:24],State3[-25:-1],color=\"green\")\n",
    "plt.xlabel(\"Months\")\n",
    "plt.ylabel(\"Correlation\")\n",
    "plt.title(\"Last 6 years\")\n",
    "plt.show()"
   ]
  },
  {
   "cell_type": "code",
   "execution_count": 293,
   "id": "stainless-window",
   "metadata": {},
   "outputs": [
    {
     "data": {
      "text/plain": [
       "array(['Havana, IL', 'Onalaska, WI', 'Lake City, MN', 'Bellevue, IA',\n",
       "       'Jackson, MO', 'Brighton, IL'], dtype=object)"
      ]
     },
     "execution_count": 293,
     "metadata": {},
     "output_type": "execute_result"
    }
   ],
   "source": [
    "df.FLDNUM.unique()"
   ]
  },
  {
   "cell_type": "markdown",
   "id": "searching-holder",
   "metadata": {},
   "source": [
    "## Onalaska, WI"
   ]
  },
  {
   "cell_type": "code",
   "execution_count": 294,
   "id": "satisfied-contrary",
   "metadata": {},
   "outputs": [
    {
     "data": {
      "text/html": [
       "<div>\n",
       "<style scoped>\n",
       "    .dataframe tbody tr th:only-of-type {\n",
       "        vertical-align: middle;\n",
       "    }\n",
       "\n",
       "    .dataframe tbody tr th {\n",
       "        vertical-align: top;\n",
       "    }\n",
       "\n",
       "    .dataframe thead th {\n",
       "        text-align: right;\n",
       "    }\n",
       "</style>\n",
       "<table border=\"1\" class=\"dataframe\">\n",
       "  <thead>\n",
       "    <tr style=\"text-align: right;\">\n",
       "      <th></th>\n",
       "      <th>DATE</th>\n",
       "      <th>SEASON</th>\n",
       "    </tr>\n",
       "  </thead>\n",
       "  <tbody>\n",
       "    <tr>\n",
       "      <th>12794</th>\n",
       "      <td>1993-07-19</td>\n",
       "      <td>2</td>\n",
       "    </tr>\n",
       "    <tr>\n",
       "      <th>12793</th>\n",
       "      <td>1993-07-19</td>\n",
       "      <td>2</td>\n",
       "    </tr>\n",
       "    <tr>\n",
       "      <th>12802</th>\n",
       "      <td>1993-07-19</td>\n",
       "      <td>2</td>\n",
       "    </tr>\n",
       "    <tr>\n",
       "      <th>12795</th>\n",
       "      <td>1993-07-19</td>\n",
       "      <td>2</td>\n",
       "    </tr>\n",
       "    <tr>\n",
       "      <th>12796</th>\n",
       "      <td>1993-07-19</td>\n",
       "      <td>2</td>\n",
       "    </tr>\n",
       "    <tr>\n",
       "      <th>...</th>\n",
       "      <td>...</td>\n",
       "      <td>...</td>\n",
       "    </tr>\n",
       "    <tr>\n",
       "      <th>26728</th>\n",
       "      <td>2020-10-23</td>\n",
       "      <td>3</td>\n",
       "    </tr>\n",
       "    <tr>\n",
       "      <th>26727</th>\n",
       "      <td>2020-10-23</td>\n",
       "      <td>3</td>\n",
       "    </tr>\n",
       "    <tr>\n",
       "      <th>26722</th>\n",
       "      <td>2020-10-23</td>\n",
       "      <td>3</td>\n",
       "    </tr>\n",
       "    <tr>\n",
       "      <th>26725</th>\n",
       "      <td>2020-10-23</td>\n",
       "      <td>3</td>\n",
       "    </tr>\n",
       "    <tr>\n",
       "      <th>26724</th>\n",
       "      <td>2020-10-23</td>\n",
       "      <td>3</td>\n",
       "    </tr>\n",
       "  </tbody>\n",
       "</table>\n",
       "<p>13567 rows × 2 columns</p>\n",
       "</div>"
      ],
      "text/plain": [
       "            DATE SEASON\n",
       "12794 1993-07-19      2\n",
       "12793 1993-07-19      2\n",
       "12802 1993-07-19      2\n",
       "12795 1993-07-19      2\n",
       "12796 1993-07-19      2\n",
       "...          ...    ...\n",
       "26728 2020-10-23      3\n",
       "26727 2020-10-23      3\n",
       "26722 2020-10-23      3\n",
       "26725 2020-10-23      3\n",
       "26724 2020-10-23      3\n",
       "\n",
       "[13567 rows x 2 columns]"
      ]
     },
     "execution_count": 294,
     "metadata": {},
     "output_type": "execute_result"
    }
   ],
   "source": [
    "pool_sorted = df[df.FLDNUM==\"Onalaska, WI\"].copy()\n",
    "pool_sorted[[\"DATE\",\"SEASON\"]]"
   ]
  },
  {
   "cell_type": "code",
   "execution_count": 295,
   "id": "apparent-czech",
   "metadata": {},
   "outputs": [
    {
     "data": {
      "text/plain": [
       "array([1993, 1994, 1995, 1996, 1997, 1998, 1999, 2000, 2001, 2002, 2004,\n",
       "       2005, 2006, 2007, 2008, 2009, 2010, 2011, 2012, 2013, 2014, 2015,\n",
       "       2016, 2017, 2018, 2019, 2020], dtype=object)"
      ]
     },
     "execution_count": 295,
     "metadata": {},
     "output_type": "execute_result"
    }
   ],
   "source": [
    "pool_sorted[\"YEAR\"].unique()"
   ]
  },
  {
   "cell_type": "code",
   "execution_count": 296,
   "id": "noticed-alexandria",
   "metadata": {},
   "outputs": [
    {
     "name": "stdout",
     "output_type": "stream",
     "text": [
      "No data for  1993   4\n",
      "No data for  1993   1\n",
      "No data for  1994   3\n",
      "No data for  1996   4\n",
      "No data for  2002   3\n",
      "No data for  2020   1\n"
     ]
    }
   ],
   "source": [
    "start_month = pool_sorted[\"DATE\"].iloc[0].month\n",
    "\n",
    "start_szn = month_toseason[start_month]\n",
    "\n",
    "# The list of seasons in order to loop through\n",
    "seasons = [0,0,0,0]\n",
    "\n",
    "for i in range(4):\n",
    "    s = ((start_szn-1+i)%4)+1\n",
    "    seasons[i] = s\n",
    "\n",
    "# Used on X axis for plot\n",
    "time_months = []\n",
    "\n",
    "# Lists for proportions of points in each state\n",
    "State1 = []\n",
    "State2 = []\n",
    "State3 = []\n",
    "\n",
    "time = 0\n",
    "\n",
    "for year in pool_sorted[\"YEAR\"].unique():\n",
    "    for season in seasons:\n",
    "        snap_df = pool_sorted[(pool_sorted[\"YEAR\"]==year) & (pool_sorted[\"SEASON\"]==season)]\n",
    "        \n",
    "        # If there is no data in this year and season, skip it\n",
    "        if snap_df.shape[0] == 0:\n",
    "            time += 3\n",
    "            print(\"No data for \",year,\" \",season)\n",
    "            continue\n",
    "\n",
    "        # Check which states these points are in\n",
    "        S1 = snap_df[\"State 1\"].sum()\n",
    "        S2 = snap_df[\"State 2\"].sum()\n",
    "        S3 = snap_df[\"State 3\"].sum()\n",
    "                \n",
    "        #print(\"S3 \",S3,\" S2\",S2,\" S1 \",S1,\" snap size \",snap_df.shape[0])\n",
    "        \n",
    "        # Find the ratio of the points in this \"snapshot\" that are in each state\n",
    "        State1.append(float(S1/snap_df.shape[0]))\n",
    "        State2.append(float(S2/snap_df.shape[0]))\n",
    "        State3.append(float(S3/snap_df.shape[0]))\n",
    "        \n",
    "            \n",
    "        time_months.append(time)\n",
    "    \n",
    "        #curtime = curtime+pd.DateOffset(months=3)\n",
    "        time+=3"
   ]
  },
  {
   "cell_type": "markdown",
   "id": "attached-station",
   "metadata": {},
   "source": [
    "### Look at correlation function plot"
   ]
  },
  {
   "cell_type": "code",
   "execution_count": 297,
   "id": "hidden-brain",
   "metadata": {},
   "outputs": [
    {
     "data": {
      "image/png": "[encoded data removed]",
      "text/plain": [
       "<Figure size 504x360 with 1 Axes>"
      ]
     },
     "metadata": {
      "needs_background": "light"
     },
     "output_type": "display_data"
    }
   ],
   "source": [
    "# Plot all together\n",
    "plt.figure(figsize=(7,5))\n",
    "# plt.scatter(time_months,State1,color=\"blue\",s=10)\n",
    "# plt.scatter(time_months,State2,color=\"red\",s=10)\n",
    "# plt.scatter(time_months,State3,color=\"green\",s=10)\n",
    "plt.plot(time_months,State1,color=\"blue\")\n",
    "plt.plot(time_months,State2,color=\"red\")\n",
    "plt.plot(time_months,State3,color=\"green\")\n",
    "plt.xlabel(\"Months\")\n",
    "plt.ylabel(\"Correlation\")\n",
    "plt.show()"
   ]
  },
  {
   "cell_type": "code",
   "execution_count": 298,
   "id": "velvet-failure",
   "metadata": {},
   "outputs": [
    {
     "data": {
      "image/png": "[encoded data removed]",
      "text/plain": [
       "<Figure size 504x360 with 1 Axes>"
      ]
     },
     "metadata": {
      "needs_background": "light"
     },
     "output_type": "display_data"
    }
   ],
   "source": [
    "# Look at the most recent 6 years to see short term trends (last 24 data points)\n",
    "plt.figure(figsize=(7,5))\n",
    "# plt.scatter(time_months,State1,color=\"blue\",s=10)\n",
    "# plt.scatter(time_months,State2,color=\"red\",s=10)\n",
    "# plt.scatter(time_months,State3,color=\"green\",s=10)\n",
    "plt.plot(time_months[0:24],State1[-25:-1],color=\"blue\")\n",
    "plt.plot(time_months[0:24],State2[-25:-1],color=\"red\")\n",
    "plt.plot(time_months[0:24],State3[-25:-1],color=\"green\")\n",
    "plt.xlabel(\"Months\")\n",
    "plt.ylabel(\"Correlation\")\n",
    "plt.title(\"Last 6 years\")\n",
    "plt.show()"
   ]
  },
  {
   "cell_type": "markdown",
   "id": "spoken-seafood",
   "metadata": {},
   "source": [
    "## Lake City, MN"
   ]
  },
  {
   "cell_type": "code",
   "execution_count": 299,
   "id": "moved-accommodation",
   "metadata": {},
   "outputs": [
    {
     "data": {
      "text/plain": [
       "array(['Havana, IL', 'Onalaska, WI', 'Lake City, MN', 'Bellevue, IA',\n",
       "       'Jackson, MO', 'Brighton, IL'], dtype=object)"
      ]
     },
     "execution_count": 299,
     "metadata": {},
     "output_type": "execute_result"
    }
   ],
   "source": [
    "df.FLDNUM.unique()"
   ]
  },
  {
   "cell_type": "code",
   "execution_count": 300,
   "id": "respiratory-married",
   "metadata": {},
   "outputs": [
    {
     "data": {
      "text/html": [
       "<div>\n",
       "<style scoped>\n",
       "    .dataframe tbody tr th:only-of-type {\n",
       "        vertical-align: middle;\n",
       "    }\n",
       "\n",
       "    .dataframe tbody tr th {\n",
       "        vertical-align: top;\n",
       "    }\n",
       "\n",
       "    .dataframe thead th {\n",
       "        text-align: right;\n",
       "    }\n",
       "</style>\n",
       "<table border=\"1\" class=\"dataframe\">\n",
       "  <thead>\n",
       "    <tr style=\"text-align: right;\">\n",
       "      <th></th>\n",
       "      <th>DATE</th>\n",
       "      <th>SEASON</th>\n",
       "    </tr>\n",
       "  </thead>\n",
       "  <tbody>\n",
       "    <tr>\n",
       "      <th>0</th>\n",
       "      <td>1993-07-26</td>\n",
       "      <td>2</td>\n",
       "    </tr>\n",
       "    <tr>\n",
       "      <th>18</th>\n",
       "      <td>1993-07-26</td>\n",
       "      <td>2</td>\n",
       "    </tr>\n",
       "    <tr>\n",
       "      <th>22</th>\n",
       "      <td>1993-07-26</td>\n",
       "      <td>2</td>\n",
       "    </tr>\n",
       "    <tr>\n",
       "      <th>21</th>\n",
       "      <td>1993-07-26</td>\n",
       "      <td>2</td>\n",
       "    </tr>\n",
       "    <tr>\n",
       "      <th>20</th>\n",
       "      <td>1993-07-26</td>\n",
       "      <td>2</td>\n",
       "    </tr>\n",
       "    <tr>\n",
       "      <th>...</th>\n",
       "      <td>...</td>\n",
       "      <td>...</td>\n",
       "    </tr>\n",
       "    <tr>\n",
       "      <th>12788</th>\n",
       "      <td>2020-10-16</td>\n",
       "      <td>3</td>\n",
       "    </tr>\n",
       "    <tr>\n",
       "      <th>12789</th>\n",
       "      <td>2020-10-16</td>\n",
       "      <td>3</td>\n",
       "    </tr>\n",
       "    <tr>\n",
       "      <th>12790</th>\n",
       "      <td>2020-10-16</td>\n",
       "      <td>3</td>\n",
       "    </tr>\n",
       "    <tr>\n",
       "      <th>12791</th>\n",
       "      <td>2020-10-16</td>\n",
       "      <td>3</td>\n",
       "    </tr>\n",
       "    <tr>\n",
       "      <th>12792</th>\n",
       "      <td>2020-10-16</td>\n",
       "      <td>3</td>\n",
       "    </tr>\n",
       "  </tbody>\n",
       "</table>\n",
       "<p>12640 rows × 2 columns</p>\n",
       "</div>"
      ],
      "text/plain": [
       "            DATE SEASON\n",
       "0     1993-07-26      2\n",
       "18    1993-07-26      2\n",
       "22    1993-07-26      2\n",
       "21    1993-07-26      2\n",
       "20    1993-07-26      2\n",
       "...          ...    ...\n",
       "12788 2020-10-16      3\n",
       "12789 2020-10-16      3\n",
       "12790 2020-10-16      3\n",
       "12791 2020-10-16      3\n",
       "12792 2020-10-16      3\n",
       "\n",
       "[12640 rows x 2 columns]"
      ]
     },
     "execution_count": 300,
     "metadata": {},
     "output_type": "execute_result"
    }
   ],
   "source": [
    "pool_sorted = df[df.FLDNUM==\"Lake City, MN\"].copy()\n",
    "pool_sorted[[\"DATE\",\"SEASON\"]]"
   ]
  },
  {
   "cell_type": "code",
   "execution_count": 301,
   "id": "induced-fifth",
   "metadata": {},
   "outputs": [
    {
     "data": {
      "text/plain": [
       "array([1993, 1994, 1995, 1996, 1997, 1998, 1999, 2000, 2001, 2002, 2004,\n",
       "       2005, 2006, 2007, 2008, 2009, 2010, 2011, 2012, 2013, 2014, 2015,\n",
       "       2016, 2017, 2018, 2019, 2020], dtype=object)"
      ]
     },
     "execution_count": 301,
     "metadata": {},
     "output_type": "execute_result"
    }
   ],
   "source": [
    "pool_sorted[\"YEAR\"].unique()"
   ]
  },
  {
   "cell_type": "code",
   "execution_count": 302,
   "id": "monetary-receptor",
   "metadata": {},
   "outputs": [
    {
     "name": "stdout",
     "output_type": "stream",
     "text": [
      "No data for  1993   4\n",
      "No data for  1993   1\n",
      "No data for  1994   3\n",
      "No data for  1996   4\n",
      "No data for  2002   3\n",
      "No data for  2020   1\n"
     ]
    }
   ],
   "source": [
    "start_month = pool_sorted[\"DATE\"].iloc[0].month\n",
    "\n",
    "start_szn = month_toseason[start_month]\n",
    "\n",
    "# The list of seasons in order to loop through\n",
    "seasons = [0,0,0,0]\n",
    "\n",
    "for i in range(4):\n",
    "    s = ((start_szn-1+i)%4)+1\n",
    "    seasons[i] = s\n",
    "\n",
    "# Used on X axis for plot\n",
    "time_months = []\n",
    "\n",
    "# Lists for proportions of points in each state\n",
    "State1 = []\n",
    "State2 = []\n",
    "State3 = []\n",
    "\n",
    "time = 0\n",
    "\n",
    "for year in pool_sorted[\"YEAR\"].unique():\n",
    "    for season in seasons:\n",
    "        snap_df = pool_sorted[(pool_sorted[\"YEAR\"]==year) & (pool_sorted[\"SEASON\"]==season)]\n",
    "        \n",
    "        # If there is no data in this year and season, skip it\n",
    "        if snap_df.shape[0] == 0:\n",
    "            time += 3\n",
    "            print(\"No data for \",year,\" \",season)\n",
    "            continue\n",
    "\n",
    "        # Check which states these points are in\n",
    "        S1 = snap_df[\"State 1\"].sum()\n",
    "        S2 = snap_df[\"State 2\"].sum()\n",
    "        S3 = snap_df[\"State 3\"].sum()\n",
    "                \n",
    "        #print(\"S3 \",S3,\" S2\",S2,\" S1 \",S1)\n",
    "        \n",
    "        # Find the ratio of the points in this \"snapshot\" that are in each state\n",
    "        State1.append(float(S1/snap_df.shape[0]))\n",
    "        State2.append(float(S2/snap_df.shape[0]))\n",
    "        State3.append(float(S3/snap_df.shape[0]))\n",
    "        \n",
    "            \n",
    "        time_months.append(time)\n",
    "    \n",
    "        #curtime = curtime+pd.DateOffset(months=3)\n",
    "        time+=3"
   ]
  },
  {
   "cell_type": "markdown",
   "id": "realistic-recovery",
   "metadata": {},
   "source": [
    "### Look at correlation function plot"
   ]
  },
  {
   "cell_type": "code",
   "execution_count": 303,
   "id": "catholic-merit",
   "metadata": {},
   "outputs": [
    {
     "data": {
      "image/png": "[encoded data removed]",
      "text/plain": [
       "<Figure size 504x360 with 1 Axes>"
      ]
     },
     "metadata": {
      "needs_background": "light"
     },
     "output_type": "display_data"
    }
   ],
   "source": [
    "# Plot all together\n",
    "plt.figure(figsize=(7,5))\n",
    "# plt.scatter(time_months,State1,color=\"blue\",s=10)\n",
    "# plt.scatter(time_months,State2,color=\"red\",s=10)\n",
    "# plt.scatter(time_months,State3,color=\"green\",s=10)\n",
    "plt.plot(time_months,State1,color=\"blue\")\n",
    "plt.plot(time_months,State2,color=\"red\")\n",
    "plt.plot(time_months,State3,color=\"green\")\n",
    "plt.xlabel(\"Months\")\n",
    "plt.ylabel(\"Correlation\")\n",
    "plt.show()"
   ]
  },
  {
   "cell_type": "code",
   "execution_count": 304,
   "id": "configured-cuisine",
   "metadata": {},
   "outputs": [
    {
     "data": {
      "image/png": "[encoded data removed]",
      "text/plain": [
       "<Figure size 504x360 with 1 Axes>"
      ]
     },
     "metadata": {
      "needs_background": "light"
     },
     "output_type": "display_data"
    }
   ],
   "source": [
    "# Look at the most recent 6 years to see short term trends (last 24 data points)\n",
    "plt.figure(figsize=(7,5))\n",
    "# plt.scatter(time_months,State1,color=\"blue\",s=10)\n",
    "# plt.scatter(time_months,State2,color=\"red\",s=10)\n",
    "# plt.scatter(time_months,State3,color=\"green\",s=10)\n",
    "plt.plot(time_months[0:24],State1[-25:-1],color=\"blue\")\n",
    "plt.plot(time_months[0:24],State2[-25:-1],color=\"red\")\n",
    "plt.plot(time_months[0:24],State3[-25:-1],color=\"green\")\n",
    "plt.xlabel(\"Months\")\n",
    "plt.ylabel(\"Correlation\")\n",
    "plt.title(\"Last 6 years\")\n",
    "plt.show()"
   ]
  },
  {
   "cell_type": "markdown",
   "id": "qualified-peter",
   "metadata": {},
   "source": [
    "## Bellevue, IA"
   ]
  },
  {
   "cell_type": "code",
   "execution_count": 305,
   "id": "extra-workplace",
   "metadata": {},
   "outputs": [
    {
     "data": {
      "text/plain": [
       "array(['Havana, IL', 'Onalaska, WI', 'Lake City, MN', 'Bellevue, IA',\n",
       "       'Jackson, MO', 'Brighton, IL'], dtype=object)"
      ]
     },
     "execution_count": 305,
     "metadata": {},
     "output_type": "execute_result"
    }
   ],
   "source": [
    "df.FLDNUM.unique()"
   ]
  },
  {
   "cell_type": "code",
   "execution_count": 306,
   "id": "aboriginal-particular",
   "metadata": {},
   "outputs": [
    {
     "data": {
      "text/html": [
       "<div>\n",
       "<style scoped>\n",
       "    .dataframe tbody tr th:only-of-type {\n",
       "        vertical-align: middle;\n",
       "    }\n",
       "\n",
       "    .dataframe tbody tr th {\n",
       "        vertical-align: top;\n",
       "    }\n",
       "\n",
       "    .dataframe thead th {\n",
       "        text-align: right;\n",
       "    }\n",
       "</style>\n",
       "<table border=\"1\" class=\"dataframe\">\n",
       "  <thead>\n",
       "    <tr style=\"text-align: right;\">\n",
       "      <th></th>\n",
       "      <th>DATE</th>\n",
       "      <th>SEASON</th>\n",
       "    </tr>\n",
       "  </thead>\n",
       "  <tbody>\n",
       "    <tr>\n",
       "      <th>26745</th>\n",
       "      <td>1993-08-02</td>\n",
       "      <td>2</td>\n",
       "    </tr>\n",
       "    <tr>\n",
       "      <th>26743</th>\n",
       "      <td>1993-08-02</td>\n",
       "      <td>2</td>\n",
       "    </tr>\n",
       "    <tr>\n",
       "      <th>26742</th>\n",
       "      <td>1993-08-02</td>\n",
       "      <td>2</td>\n",
       "    </tr>\n",
       "    <tr>\n",
       "      <th>26741</th>\n",
       "      <td>1993-08-02</td>\n",
       "      <td>2</td>\n",
       "    </tr>\n",
       "    <tr>\n",
       "      <th>26740</th>\n",
       "      <td>1993-08-02</td>\n",
       "      <td>2</td>\n",
       "    </tr>\n",
       "    <tr>\n",
       "      <th>...</th>\n",
       "      <td>...</td>\n",
       "      <td>...</td>\n",
       "    </tr>\n",
       "    <tr>\n",
       "      <th>41447</th>\n",
       "      <td>2020-10-20</td>\n",
       "      <td>3</td>\n",
       "    </tr>\n",
       "    <tr>\n",
       "      <th>41448</th>\n",
       "      <td>2020-10-20</td>\n",
       "      <td>3</td>\n",
       "    </tr>\n",
       "    <tr>\n",
       "      <th>41449</th>\n",
       "      <td>2020-10-20</td>\n",
       "      <td>3</td>\n",
       "    </tr>\n",
       "    <tr>\n",
       "      <th>41450</th>\n",
       "      <td>2020-10-20</td>\n",
       "      <td>3</td>\n",
       "    </tr>\n",
       "    <tr>\n",
       "      <th>41451</th>\n",
       "      <td>2020-10-20</td>\n",
       "      <td>3</td>\n",
       "    </tr>\n",
       "  </tbody>\n",
       "</table>\n",
       "<p>14469 rows × 2 columns</p>\n",
       "</div>"
      ],
      "text/plain": [
       "            DATE SEASON\n",
       "26745 1993-08-02      2\n",
       "26743 1993-08-02      2\n",
       "26742 1993-08-02      2\n",
       "26741 1993-08-02      2\n",
       "26740 1993-08-02      2\n",
       "...          ...    ...\n",
       "41447 2020-10-20      3\n",
       "41448 2020-10-20      3\n",
       "41449 2020-10-20      3\n",
       "41450 2020-10-20      3\n",
       "41451 2020-10-20      3\n",
       "\n",
       "[14469 rows x 2 columns]"
      ]
     },
     "execution_count": 306,
     "metadata": {},
     "output_type": "execute_result"
    }
   ],
   "source": [
    "pool_sorted = df[df.FLDNUM==\"Bellevue, IA\"].copy()\n",
    "pool_sorted[[\"DATE\",\"SEASON\"]]"
   ]
  },
  {
   "cell_type": "code",
   "execution_count": 307,
   "id": "marked-transition",
   "metadata": {},
   "outputs": [
    {
     "data": {
      "text/plain": [
       "array([1993, 1994, 1995, 1996, 1997, 1998, 1999, 2000, 2001, 2002, 2004,\n",
       "       2005, 2006, 2007, 2008, 2009, 2010, 2011, 2012, 2013, 2014, 2015,\n",
       "       2016, 2017, 2018, 2019, 2020], dtype=object)"
      ]
     },
     "execution_count": 307,
     "metadata": {},
     "output_type": "execute_result"
    }
   ],
   "source": [
    "pool_sorted[\"YEAR\"].unique()"
   ]
  },
  {
   "cell_type": "code",
   "execution_count": 308,
   "id": "threaded-fishing",
   "metadata": {},
   "outputs": [
    {
     "name": "stdout",
     "output_type": "stream",
     "text": [
      "No data for  1993   4\n",
      "No data for  1993   1\n",
      "No data for  1994   3\n",
      "No data for  1996   4\n",
      "No data for  2002   3\n"
     ]
    }
   ],
   "source": [
    "start_month = pool_sorted[\"DATE\"].iloc[0].month\n",
    "\n",
    "start_szn = month_toseason[start_month]\n",
    "\n",
    "# The list of seasons in order to loop through\n",
    "seasons = [0,0,0,0]\n",
    "\n",
    "for i in range(4):\n",
    "    s = ((start_szn-1+i)%4)+1\n",
    "    seasons[i] = s\n",
    "\n",
    "# Used on X axis for plot\n",
    "time_months = []\n",
    "\n",
    "# Lists for proportions of points in each state\n",
    "State1 = []\n",
    "State2 = []\n",
    "State3 = []\n",
    "\n",
    "time = 0\n",
    "\n",
    "for year in pool_sorted[\"YEAR\"].unique():\n",
    "    for season in seasons:\n",
    "        snap_df = pool_sorted[(pool_sorted[\"YEAR\"]==year) & (pool_sorted[\"SEASON\"]==season)]\n",
    "        \n",
    "        # If there is no data in this year and season, skip it\n",
    "        if snap_df.shape[0] == 0:\n",
    "            time += 3\n",
    "            print(\"No data for \",year,\" \",season)\n",
    "            continue\n",
    "\n",
    "        # Check which states these points are in\n",
    "        S1 = snap_df[\"State 1\"].sum()\n",
    "        S2 = snap_df[\"State 2\"].sum()\n",
    "        S3 = snap_df[\"State 3\"].sum()\n",
    "                \n",
    "        #print(\"S3 \",S3,\" S2\",S2,\" S1 \",S1)\n",
    "        \n",
    "        # Find the ratio of the points in this \"snapshot\" that are in each state\n",
    "        State1.append(float(S1/snap_df.shape[0]))\n",
    "        State2.append(float(S2/snap_df.shape[0]))\n",
    "        State3.append(float(S3/snap_df.shape[0]))\n",
    "        \n",
    "            \n",
    "        time_months.append(time)\n",
    "    \n",
    "        #curtime = curtime+pd.DateOffset(months=3)\n",
    "        time+=3"
   ]
  },
  {
   "cell_type": "markdown",
   "id": "august-divorce",
   "metadata": {},
   "source": [
    "### Look at correlation function plot"
   ]
  },
  {
   "cell_type": "code",
   "execution_count": 309,
   "id": "certain-africa",
   "metadata": {},
   "outputs": [
    {
     "data": {
      "image/png": "[encoded data removed]",
      "text/plain": [
       "<Figure size 504x360 with 1 Axes>"
      ]
     },
     "metadata": {
      "needs_background": "light"
     },
     "output_type": "display_data"
    }
   ],
   "source": [
    "# Plot all together\n",
    "plt.figure(figsize=(7,5))\n",
    "# plt.scatter(time_months,State1,color=\"blue\",s=10)\n",
    "# plt.scatter(time_months,State2,color=\"red\",s=10)\n",
    "# plt.scatter(time_months,State3,color=\"green\",s=10)\n",
    "plt.plot(time_months,State1,color=\"blue\")\n",
    "plt.plot(time_months,State2,color=\"red\")\n",
    "plt.plot(time_months,State3,color=\"green\")\n",
    "plt.xlabel(\"Months\")\n",
    "plt.ylabel(\"Correlation\")\n",
    "plt.show()"
   ]
  },
  {
   "cell_type": "code",
   "execution_count": 310,
   "id": "willing-modem",
   "metadata": {},
   "outputs": [
    {
     "data": {
      "image/png": "[encoded data removed]",
      "text/plain": [
       "<Figure size 504x360 with 1 Axes>"
      ]
     },
     "metadata": {
      "needs_background": "light"
     },
     "output_type": "display_data"
    }
   ],
   "source": [
    "# Look at the most recent 6 years to see short term trends (last 24 data points)\n",
    "plt.figure(figsize=(7,5))\n",
    "# plt.scatter(time_months,State1,color=\"blue\",s=10)\n",
    "# plt.scatter(time_months,State2,color=\"red\",s=10)\n",
    "# plt.scatter(time_months,State3,color=\"green\",s=10)\n",
    "plt.plot(time_months[0:24],State1[-25:-1],color=\"blue\")\n",
    "plt.plot(time_months[0:24],State2[-25:-1],color=\"red\")\n",
    "plt.plot(time_months[0:24],State3[-25:-1],color=\"green\")\n",
    "plt.xlabel(\"Months\")\n",
    "plt.ylabel(\"Correlation\")\n",
    "plt.title(\"Last 6 years\")\n",
    "plt.show()"
   ]
  },
  {
   "cell_type": "markdown",
   "id": "general-elder",
   "metadata": {},
   "source": [
    "## Brighton, IL"
   ]
  },
  {
   "cell_type": "code",
   "execution_count": 311,
   "id": "logical-freeze",
   "metadata": {},
   "outputs": [
    {
     "data": {
      "text/plain": [
       "array(['Havana, IL', 'Onalaska, WI', 'Lake City, MN', 'Bellevue, IA',\n",
       "       'Jackson, MO', 'Brighton, IL'], dtype=object)"
      ]
     },
     "execution_count": 311,
     "metadata": {},
     "output_type": "execute_result"
    }
   ],
   "source": [
    "df.FLDNUM.unique()"
   ]
  },
  {
   "cell_type": "code",
   "execution_count": 312,
   "id": "logical-wrapping",
   "metadata": {},
   "outputs": [
    {
     "data": {
      "text/html": [
       "<div>\n",
       "<style scoped>\n",
       "    .dataframe tbody tr th:only-of-type {\n",
       "        vertical-align: middle;\n",
       "    }\n",
       "\n",
       "    .dataframe tbody tr th {\n",
       "        vertical-align: top;\n",
       "    }\n",
       "\n",
       "    .dataframe thead th {\n",
       "        text-align: right;\n",
       "    }\n",
       "</style>\n",
       "<table border=\"1\" class=\"dataframe\">\n",
       "  <thead>\n",
       "    <tr style=\"text-align: right;\">\n",
       "      <th></th>\n",
       "      <th>DATE</th>\n",
       "      <th>SEASON</th>\n",
       "    </tr>\n",
       "  </thead>\n",
       "  <tbody>\n",
       "    <tr>\n",
       "      <th>41473</th>\n",
       "      <td>1993-10-19</td>\n",
       "      <td>3</td>\n",
       "    </tr>\n",
       "    <tr>\n",
       "      <th>41472</th>\n",
       "      <td>1993-10-19</td>\n",
       "      <td>3</td>\n",
       "    </tr>\n",
       "    <tr>\n",
       "      <th>41471</th>\n",
       "      <td>1993-10-19</td>\n",
       "      <td>3</td>\n",
       "    </tr>\n",
       "    <tr>\n",
       "      <th>41470</th>\n",
       "      <td>1993-10-19</td>\n",
       "      <td>3</td>\n",
       "    </tr>\n",
       "    <tr>\n",
       "      <th>41474</th>\n",
       "      <td>1993-10-19</td>\n",
       "      <td>3</td>\n",
       "    </tr>\n",
       "    <tr>\n",
       "      <th>...</th>\n",
       "      <td>...</td>\n",
       "      <td>...</td>\n",
       "    </tr>\n",
       "    <tr>\n",
       "      <th>52341</th>\n",
       "      <td>2020-10-27</td>\n",
       "      <td>3</td>\n",
       "    </tr>\n",
       "    <tr>\n",
       "      <th>52340</th>\n",
       "      <td>2020-10-27</td>\n",
       "      <td>3</td>\n",
       "    </tr>\n",
       "    <tr>\n",
       "      <th>52339</th>\n",
       "      <td>2020-10-27</td>\n",
       "      <td>3</td>\n",
       "    </tr>\n",
       "    <tr>\n",
       "      <th>52342</th>\n",
       "      <td>2020-10-27</td>\n",
       "      <td>3</td>\n",
       "    </tr>\n",
       "    <tr>\n",
       "      <th>52346</th>\n",
       "      <td>2020-10-27</td>\n",
       "      <td>3</td>\n",
       "    </tr>\n",
       "  </tbody>\n",
       "</table>\n",
       "<p>10009 rows × 2 columns</p>\n",
       "</div>"
      ],
      "text/plain": [
       "            DATE SEASON\n",
       "41473 1993-10-19      3\n",
       "41472 1993-10-19      3\n",
       "41471 1993-10-19      3\n",
       "41470 1993-10-19      3\n",
       "41474 1993-10-19      3\n",
       "...          ...    ...\n",
       "52341 2020-10-27      3\n",
       "52340 2020-10-27      3\n",
       "52339 2020-10-27      3\n",
       "52342 2020-10-27      3\n",
       "52346 2020-10-27      3\n",
       "\n",
       "[10009 rows x 2 columns]"
      ]
     },
     "execution_count": 312,
     "metadata": {},
     "output_type": "execute_result"
    }
   ],
   "source": [
    "pool_sorted = df[df.FLDNUM==\"Brighton, IL\"].copy()\n",
    "pool_sorted[[\"DATE\",\"SEASON\"]]"
   ]
  },
  {
   "cell_type": "code",
   "execution_count": 313,
   "id": "freelance-worst",
   "metadata": {},
   "outputs": [
    {
     "data": {
      "text/plain": [
       "array([1993, 1994, 1995, 1996, 1997, 1998, 1999, 2000, 2001, 2002, 2004,\n",
       "       2005, 2006, 2007, 2008, 2009, 2010, 2011, 2012, 2013, 2014, 2015,\n",
       "       2016, 2017, 2018, 2019, 2020], dtype=object)"
      ]
     },
     "execution_count": 313,
     "metadata": {},
     "output_type": "execute_result"
    }
   ],
   "source": [
    "pool_sorted[\"YEAR\"].unique()"
   ]
  },
  {
   "cell_type": "code",
   "execution_count": 314,
   "id": "tender-exhibit",
   "metadata": {},
   "outputs": [
    {
     "name": "stdout",
     "output_type": "stream",
     "text": [
      "No data for  1993   4\n",
      "No data for  1993   1\n",
      "No data for  1993   2\n",
      "No data for  1996   4\n",
      "No data for  2002   3\n",
      "No data for  2020   1\n"
     ]
    }
   ],
   "source": [
    "start_month = pool_sorted[\"DATE\"].iloc[0].month\n",
    "\n",
    "start_szn = month_toseason[start_month]\n",
    "\n",
    "# The list of seasons in order to loop through\n",
    "seasons = [0,0,0,0]\n",
    "\n",
    "for i in range(4):\n",
    "    s = ((start_szn-1+i)%4)+1\n",
    "    seasons[i] = s\n",
    "\n",
    "# Used on X axis for plot\n",
    "time_months = []\n",
    "\n",
    "# Lists for proportions of points in each state\n",
    "State1 = []\n",
    "State2 = []\n",
    "State3 = []\n",
    "\n",
    "time = 0\n",
    "\n",
    "for year in pool_sorted[\"YEAR\"].unique():\n",
    "    for season in seasons:\n",
    "        snap_df = pool_sorted[(pool_sorted[\"YEAR\"]==year) & (pool_sorted[\"SEASON\"]==season)]\n",
    "        \n",
    "        # If there is no data in this year and season, skip it\n",
    "        if snap_df.shape[0] == 0:\n",
    "            time += 3\n",
    "            print(\"No data for \",year,\" \",season)\n",
    "            continue\n",
    "\n",
    "        # Check which states these points are in\n",
    "        S1 = snap_df[\"State 1\"].sum()\n",
    "        S2 = snap_df[\"State 2\"].sum()\n",
    "        S3 = snap_df[\"State 3\"].sum()\n",
    "                \n",
    "        #print(\"S3 \",S3,\" S2\",S2,\" S1 \",S1)\n",
    "        \n",
    "        # Find the ratio of the points in this \"snapshot\" that are in each state\n",
    "        State1.append(float(S1/snap_df.shape[0]))\n",
    "        State2.append(float(S2/snap_df.shape[0]))\n",
    "        State3.append(float(S3/snap_df.shape[0]))\n",
    "        \n",
    "            \n",
    "        time_months.append(time)\n",
    "    \n",
    "        #curtime = curtime+pd.DateOffset(months=3)\n",
    "        time+=3"
   ]
  },
  {
   "cell_type": "markdown",
   "id": "acceptable-electronics",
   "metadata": {},
   "source": [
    "### Look at correlation function plot"
   ]
  },
  {
   "cell_type": "code",
   "execution_count": 315,
   "id": "brown-banana",
   "metadata": {},
   "outputs": [
    {
     "data": {
      "image/png": "[encoded data removed]",
      "text/plain": [
       "<Figure size 504x360 with 1 Axes>"
      ]
     },
     "metadata": {
      "needs_background": "light"
     },
     "output_type": "display_data"
    }
   ],
   "source": [
    "# Plot all together\n",
    "plt.figure(figsize=(7,5))\n",
    "# plt.scatter(time_months,State1,color=\"blue\",s=10)\n",
    "# plt.scatter(time_months,State2,color=\"red\",s=10)\n",
    "# plt.scatter(time_months,State3,color=\"green\",s=10)\n",
    "plt.plot(time_months,State1,color=\"blue\")\n",
    "plt.plot(time_months,State2,color=\"red\")\n",
    "plt.plot(time_months,State3,color=\"green\")\n",
    "plt.xlabel(\"Months\")\n",
    "plt.ylabel(\"Correlation\")\n",
    "plt.show()"
   ]
  },
  {
   "cell_type": "code",
   "execution_count": 316,
   "id": "premium-university",
   "metadata": {},
   "outputs": [
    {
     "data": {
      "image/png": "[encoded data removed]",
      "text/plain": [
       "<Figure size 504x360 with 1 Axes>"
      ]
     },
     "metadata": {
      "needs_background": "light"
     },
     "output_type": "display_data"
    }
   ],
   "source": [
    "# Look at the most recent 6 years to see short term trends (last 24 data points)\n",
    "plt.figure(figsize=(7,5))\n",
    "# plt.scatter(time_months,State1,color=\"blue\",s=10)\n",
    "# plt.scatter(time_months,State2,color=\"red\",s=10)\n",
    "# plt.scatter(time_months,State3,color=\"green\",s=10)\n",
    "plt.plot(time_months[0:24],State1[-25:-1],color=\"blue\")\n",
    "plt.plot(time_months[0:24],State2[-25:-1],color=\"red\")\n",
    "plt.plot(time_months[0:24],State3[-25:-1],color=\"green\")\n",
    "plt.xlabel(\"Months\")\n",
    "plt.ylabel(\"Correlation\")\n",
    "plt.title(\"Last 6 years\")\n",
    "plt.show()"
   ]
  },
  {
   "cell_type": "code",
   "execution_count": 317,
   "id": "numerical-original",
   "metadata": {},
   "outputs": [
    {
     "data": {
      "image/png": "[encoded data removed]",
      "text/plain": [
       "<Figure size 504x360 with 1 Axes>"
      ]
     },
     "metadata": {
      "needs_background": "light"
     },
     "output_type": "display_data"
    }
   ],
   "source": [
    "# Plot state 2\n",
    "plt.figure(figsize=(7,5))\n",
    "plt.plot(time_months,State2,color=\"red\")\n",
    "plt.xlabel(\"Months\")\n",
    "plt.ylim(0,1)\n",
    "plt.ylabel(\"Correlation\")\n",
    "plt.show()"
   ]
  },
  {
   "cell_type": "code",
   "execution_count": 318,
   "id": "pressed-trauma",
   "metadata": {},
   "outputs": [
    {
     "data": {
      "image/png": "[encoded data removed]",
      "text/plain": [
       "<Figure size 504x360 with 1 Axes>"
      ]
     },
     "metadata": {
      "needs_background": "light"
     },
     "output_type": "display_data"
    }
   ],
   "source": [
    "# Plot State 3\n",
    "plt.figure(figsize=(7,5))\n",
    "plt.plot(time_months,State3,color=\"green\")\n",
    "plt.xlabel(\"Months\")\n",
    "plt.ylim(0,1)\n",
    "plt.ylabel(\"Correlation\")\n",
    "plt.show()"
   ]
  },
  {
   "cell_type": "markdown",
   "id": "russian-bonus",
   "metadata": {},
   "source": [
    "#### Possible error in appending states to dataframe?\n",
    "There are datapoints that are not assigned to any state, possibly these points were lost to noise"
   ]
  },
  {
   "cell_type": "code",
   "execution_count": 171,
   "id": "korean-swift",
   "metadata": {},
   "outputs": [
    {
     "data": {
      "text/plain": [
       "4824"
      ]
     },
     "execution_count": 171,
     "metadata": {},
     "output_type": "execute_result"
    }
   ],
   "source": [
    "unique = set()\n",
    "for node in scomplex['nodes']:\n",
    "    unique.update(scomplex['nodes'][node])\n",
    "num_unique = len(unique)\n",
    "df.shape[0]-num_unique"
   ]
  },
  {
   "cell_type": "code",
   "execution_count": 272,
   "id": "swiss-daisy",
   "metadata": {},
   "outputs": [
    {
     "data": {
      "text/html": [
       "<div>\n",
       "<style scoped>\n",
       "    .dataframe tbody tr th:only-of-type {\n",
       "        vertical-align: middle;\n",
       "    }\n",
       "\n",
       "    .dataframe tbody tr th {\n",
       "        vertical-align: top;\n",
       "    }\n",
       "\n",
       "    .dataframe thead th {\n",
       "        text-align: right;\n",
       "    }\n",
       "</style>\n",
       "<table border=\"1\" class=\"dataframe\">\n",
       "  <thead>\n",
       "    <tr style=\"text-align: right;\">\n",
       "      <th></th>\n",
       "      <th>WDP</th>\n",
       "      <th>SECCHI</th>\n",
       "      <th>TEMP</th>\n",
       "      <th>DO</th>\n",
       "      <th>TURB</th>\n",
       "      <th>VEL</th>\n",
       "      <th>TP</th>\n",
       "      <th>TN</th>\n",
       "      <th>SS</th>\n",
       "      <th>CHLcal</th>\n",
       "      <th>...</th>\n",
       "      <th>VEL_color</th>\n",
       "      <th>TP_color</th>\n",
       "      <th>TN_color</th>\n",
       "      <th>SS_color</th>\n",
       "      <th>CHLcal_color</th>\n",
       "      <th>State 3</th>\n",
       "      <th>State 2</th>\n",
       "      <th>State 1</th>\n",
       "      <th>STATE</th>\n",
       "      <th>STATE_color</th>\n",
       "    </tr>\n",
       "  </thead>\n",
       "  <tbody>\n",
       "    <tr>\n",
       "      <th>0</th>\n",
       "      <td>-0.018088</td>\n",
       "      <td>-0.046512</td>\n",
       "      <td>0.572414</td>\n",
       "      <td>-0.72093</td>\n",
       "      <td>0.210526</td>\n",
       "      <td>0.576923</td>\n",
       "      <td>0.481481</td>\n",
       "      <td>0.918033</td>\n",
       "      <td>0.361752</td>\n",
       "      <td>-0.294693</td>\n",
       "      <td>...</td>\n",
       "      <td>0.576923</td>\n",
       "      <td>0.481481</td>\n",
       "      <td>0.918033</td>\n",
       "      <td>0.361752</td>\n",
       "      <td>-0.294693</td>\n",
       "      <td>0</td>\n",
       "      <td>0</td>\n",
       "      <td>1</td>\n",
       "      <td>0.333333</td>\n",
       "      <td>0.333333</td>\n",
       "    </tr>\n",
       "    <tr>\n",
       "      <th>1</th>\n",
       "      <td>1.5323</td>\n",
       "      <td>0.0</td>\n",
       "      <td>0.572414</td>\n",
       "      <td>-0.72093</td>\n",
       "      <td>0.210526</td>\n",
       "      <td>1.0</td>\n",
       "      <td>0.488889</td>\n",
       "      <td>1.547131</td>\n",
       "      <td>0.262323</td>\n",
       "      <td>-0.342123</td>\n",
       "      <td>...</td>\n",
       "      <td>1.0</td>\n",
       "      <td>0.488889</td>\n",
       "      <td>1.547131</td>\n",
       "      <td>0.262323</td>\n",
       "      <td>-0.342123</td>\n",
       "      <td>0</td>\n",
       "      <td>0</td>\n",
       "      <td>1</td>\n",
       "      <td>0.333333</td>\n",
       "      <td>0.333333</td>\n",
       "    </tr>\n",
       "    <tr>\n",
       "      <th>2</th>\n",
       "      <td>0.524548</td>\n",
       "      <td>0.023256</td>\n",
       "      <td>0.565517</td>\n",
       "      <td>-0.790698</td>\n",
       "      <td>0.105263</td>\n",
       "      <td>0.884615</td>\n",
       "      <td>0.422222</td>\n",
       "      <td>0.918033</td>\n",
       "      <td>0.18828</td>\n",
       "      <td>-0.323151</td>\n",
       "      <td>...</td>\n",
       "      <td>0.884615</td>\n",
       "      <td>0.422222</td>\n",
       "      <td>0.918033</td>\n",
       "      <td>0.18828</td>\n",
       "      <td>-0.323151</td>\n",
       "      <td>0</td>\n",
       "      <td>0</td>\n",
       "      <td>1</td>\n",
       "      <td>0.333333</td>\n",
       "      <td>0.333333</td>\n",
       "    </tr>\n",
       "    <tr>\n",
       "      <th>3</th>\n",
       "      <td>1.764858</td>\n",
       "      <td>-0.093023</td>\n",
       "      <td>0.565517</td>\n",
       "      <td>-0.767442</td>\n",
       "      <td>0.210526</td>\n",
       "      <td>0.942308</td>\n",
       "      <td>0.362963</td>\n",
       "      <td>1.124317</td>\n",
       "      <td>0.173472</td>\n",
       "      <td>-0.332637</td>\n",
       "      <td>...</td>\n",
       "      <td>0.942308</td>\n",
       "      <td>0.362963</td>\n",
       "      <td>1.124317</td>\n",
       "      <td>0.173472</td>\n",
       "      <td>-0.332637</td>\n",
       "      <td>0</td>\n",
       "      <td>0</td>\n",
       "      <td>1</td>\n",
       "      <td>0.333333</td>\n",
       "      <td>0.333333</td>\n",
       "    </tr>\n",
       "    <tr>\n",
       "      <th>4</th>\n",
       "      <td>1.144703</td>\n",
       "      <td>0.069767</td>\n",
       "      <td>0.572414</td>\n",
       "      <td>-0.72093</td>\n",
       "      <td>0.342105</td>\n",
       "      <td>0.923077</td>\n",
       "      <td>0.548148</td>\n",
       "      <td>0.969262</td>\n",
       "      <td>0.482336</td>\n",
       "      <td>-0.291531</td>\n",
       "      <td>...</td>\n",
       "      <td>0.923077</td>\n",
       "      <td>0.548148</td>\n",
       "      <td>0.969262</td>\n",
       "      <td>0.482336</td>\n",
       "      <td>-0.291531</td>\n",
       "      <td>0</td>\n",
       "      <td>0</td>\n",
       "      <td>1</td>\n",
       "      <td>0.333333</td>\n",
       "      <td>0.333333</td>\n",
       "    </tr>\n",
       "    <tr>\n",
       "      <th>...</th>\n",
       "      <td>...</td>\n",
       "      <td>...</td>\n",
       "      <td>...</td>\n",
       "      <td>...</td>\n",
       "      <td>...</td>\n",
       "      <td>...</td>\n",
       "      <td>...</td>\n",
       "      <td>...</td>\n",
       "      <td>...</td>\n",
       "      <td>...</td>\n",
       "      <td>...</td>\n",
       "      <td>...</td>\n",
       "      <td>...</td>\n",
       "      <td>...</td>\n",
       "      <td>...</td>\n",
       "      <td>...</td>\n",
       "      <td>...</td>\n",
       "      <td>...</td>\n",
       "      <td>...</td>\n",
       "      <td>...</td>\n",
       "      <td>...</td>\n",
       "    </tr>\n",
       "    <tr>\n",
       "      <th>76663</th>\n",
       "      <td>-0.328165</td>\n",
       "      <td>-0.627907</td>\n",
       "      <td>0.124138</td>\n",
       "      <td>-0.627907</td>\n",
       "      <td>1.657895</td>\n",
       "      <td>-0.307692</td>\n",
       "      <td>1.525926</td>\n",
       "      <td>-0.58265</td>\n",
       "      <td>1.16776</td>\n",
       "      <td>2.368874</td>\n",
       "      <td>...</td>\n",
       "      <td>-0.307692</td>\n",
       "      <td>1.525926</td>\n",
       "      <td>-0.58265</td>\n",
       "      <td>1.16776</td>\n",
       "      <td>2.368874</td>\n",
       "      <td>0</td>\n",
       "      <td>0</td>\n",
       "      <td>1</td>\n",
       "      <td>0.333333</td>\n",
       "      <td>0.333333</td>\n",
       "    </tr>\n",
       "    <tr>\n",
       "      <th>76665</th>\n",
       "      <td>-0.44186</td>\n",
       "      <td>-0.325581</td>\n",
       "      <td>-0.431034</td>\n",
       "      <td>0.186047</td>\n",
       "      <td>0.605263</td>\n",
       "      <td>-0.384615</td>\n",
       "      <td>1.525926</td>\n",
       "      <td>-0.596311</td>\n",
       "      <td>0.186165</td>\n",
       "      <td>0.620584</td>\n",
       "      <td>...</td>\n",
       "      <td>-0.384615</td>\n",
       "      <td>1.525926</td>\n",
       "      <td>-0.596311</td>\n",
       "      <td>0.186165</td>\n",
       "      <td>0.620584</td>\n",
       "      <td>0</td>\n",
       "      <td>0</td>\n",
       "      <td>1</td>\n",
       "      <td>0.333333</td>\n",
       "      <td>0.333333</td>\n",
       "    </tr>\n",
       "    <tr>\n",
       "      <th>76666</th>\n",
       "      <td>-0.447028</td>\n",
       "      <td>-0.372093</td>\n",
       "      <td>-0.365517</td>\n",
       "      <td>0.22093</td>\n",
       "      <td>0.605263</td>\n",
       "      <td>-0.384615</td>\n",
       "      <td>1.474074</td>\n",
       "      <td>-0.711066</td>\n",
       "      <td>0.105775</td>\n",
       "      <td>0.89303</td>\n",
       "      <td>...</td>\n",
       "      <td>-0.384615</td>\n",
       "      <td>1.474074</td>\n",
       "      <td>-0.711066</td>\n",
       "      <td>0.105775</td>\n",
       "      <td>0.89303</td>\n",
       "      <td>0</td>\n",
       "      <td>0</td>\n",
       "      <td>1</td>\n",
       "      <td>0.333333</td>\n",
       "      <td>0.333333</td>\n",
       "    </tr>\n",
       "    <tr>\n",
       "      <th>76667</th>\n",
       "      <td>-0.421189</td>\n",
       "      <td>-0.372093</td>\n",
       "      <td>-0.441379</td>\n",
       "      <td>0.127907</td>\n",
       "      <td>0.684211</td>\n",
       "      <td>-0.384615</td>\n",
       "      <td>1.474074</td>\n",
       "      <td>-0.61612</td>\n",
       "      <td>0.228475</td>\n",
       "      <td>0.644173</td>\n",
       "      <td>...</td>\n",
       "      <td>-0.384615</td>\n",
       "      <td>1.474074</td>\n",
       "      <td>-0.61612</td>\n",
       "      <td>0.228475</td>\n",
       "      <td>0.644173</td>\n",
       "      <td>0</td>\n",
       "      <td>0</td>\n",
       "      <td>1</td>\n",
       "      <td>0.333333</td>\n",
       "      <td>0.333333</td>\n",
       "    </tr>\n",
       "    <tr>\n",
       "      <th>76668</th>\n",
       "      <td>-0.452196</td>\n",
       "      <td>-0.418605</td>\n",
       "      <td>-0.382759</td>\n",
       "      <td>0.255814</td>\n",
       "      <td>0.552632</td>\n",
       "      <td>-0.384615</td>\n",
       "      <td>1.407407</td>\n",
       "      <td>-0.672131</td>\n",
       "      <td>0.14597</td>\n",
       "      <td>1.010578</td>\n",
       "      <td>...</td>\n",
       "      <td>-0.384615</td>\n",
       "      <td>1.407407</td>\n",
       "      <td>-0.672131</td>\n",
       "      <td>0.14597</td>\n",
       "      <td>1.010578</td>\n",
       "      <td>0</td>\n",
       "      <td>0</td>\n",
       "      <td>1</td>\n",
       "      <td>0.333333</td>\n",
       "      <td>0.333333</td>\n",
       "    </tr>\n",
       "  </tbody>\n",
       "</table>\n",
       "<p>71845 rows × 62 columns</p>\n",
       "</div>"
      ],
      "text/plain": [
       "            WDP    SECCHI      TEMP        DO      TURB       VEL        TP  \\\n",
       "0     -0.018088 -0.046512  0.572414  -0.72093  0.210526  0.576923  0.481481   \n",
       "1        1.5323       0.0  0.572414  -0.72093  0.210526       1.0  0.488889   \n",
       "2      0.524548  0.023256  0.565517 -0.790698  0.105263  0.884615  0.422222   \n",
       "3      1.764858 -0.093023  0.565517 -0.767442  0.210526  0.942308  0.362963   \n",
       "4      1.144703  0.069767  0.572414  -0.72093  0.342105  0.923077  0.548148   \n",
       "...         ...       ...       ...       ...       ...       ...       ...   \n",
       "76663 -0.328165 -0.627907  0.124138 -0.627907  1.657895 -0.307692  1.525926   \n",
       "76665  -0.44186 -0.325581 -0.431034  0.186047  0.605263 -0.384615  1.525926   \n",
       "76666 -0.447028 -0.372093 -0.365517   0.22093  0.605263 -0.384615  1.474074   \n",
       "76667 -0.421189 -0.372093 -0.441379  0.127907  0.684211 -0.384615  1.474074   \n",
       "76668 -0.452196 -0.418605 -0.382759  0.255814  0.552632 -0.384615  1.407407   \n",
       "\n",
       "             TN        SS    CHLcal  ... VEL_color  TP_color  TN_color  \\\n",
       "0      0.918033  0.361752 -0.294693  ...  0.576923  0.481481  0.918033   \n",
       "1      1.547131  0.262323 -0.342123  ...       1.0  0.488889  1.547131   \n",
       "2      0.918033   0.18828 -0.323151  ...  0.884615  0.422222  0.918033   \n",
       "3      1.124317  0.173472 -0.332637  ...  0.942308  0.362963  1.124317   \n",
       "4      0.969262  0.482336 -0.291531  ...  0.923077  0.548148  0.969262   \n",
       "...         ...       ...       ...  ...       ...       ...       ...   \n",
       "76663  -0.58265   1.16776  2.368874  ... -0.307692  1.525926  -0.58265   \n",
       "76665 -0.596311  0.186165  0.620584  ... -0.384615  1.525926 -0.596311   \n",
       "76666 -0.711066  0.105775   0.89303  ... -0.384615  1.474074 -0.711066   \n",
       "76667  -0.61612  0.228475  0.644173  ... -0.384615  1.474074  -0.61612   \n",
       "76668 -0.672131   0.14597  1.010578  ... -0.384615  1.407407 -0.672131   \n",
       "\n",
       "       SS_color CHLcal_color State 3 State 2 State 1     STATE  STATE_color  \n",
       "0      0.361752    -0.294693       0       0       1  0.333333     0.333333  \n",
       "1      0.262323    -0.342123       0       0       1  0.333333     0.333333  \n",
       "2       0.18828    -0.323151       0       0       1  0.333333     0.333333  \n",
       "3      0.173472    -0.332637       0       0       1  0.333333     0.333333  \n",
       "4      0.482336    -0.291531       0       0       1  0.333333     0.333333  \n",
       "...         ...          ...     ...     ...     ...       ...          ...  \n",
       "76663   1.16776     2.368874       0       0       1  0.333333     0.333333  \n",
       "76665  0.186165     0.620584       0       0       1  0.333333     0.333333  \n",
       "76666  0.105775      0.89303       0       0       1  0.333333     0.333333  \n",
       "76667  0.228475     0.644173       0       0       1  0.333333     0.333333  \n",
       "76668   0.14597     1.010578       0       0       1  0.333333     0.333333  \n",
       "\n",
       "[71845 rows x 62 columns]"
      ]
     },
     "execution_count": 272,
     "metadata": {},
     "output_type": "execute_result"
    }
   ],
   "source": [
    "df.loc[unique]"
   ]
  },
  {
   "cell_type": "code",
   "execution_count": 159,
   "id": "english-monitoring",
   "metadata": {},
   "outputs": [
    {
     "data": {
      "text/html": [
       "<div>\n",
       "<style scoped>\n",
       "    .dataframe tbody tr th:only-of-type {\n",
       "        vertical-align: middle;\n",
       "    }\n",
       "\n",
       "    .dataframe tbody tr th {\n",
       "        vertical-align: top;\n",
       "    }\n",
       "\n",
       "    .dataframe thead th {\n",
       "        text-align: right;\n",
       "    }\n",
       "</style>\n",
       "<table border=\"1\" class=\"dataframe\">\n",
       "  <thead>\n",
       "    <tr style=\"text-align: right;\">\n",
       "      <th></th>\n",
       "      <th>WDP</th>\n",
       "      <th>SECCHI</th>\n",
       "      <th>TEMP</th>\n",
       "      <th>DO</th>\n",
       "      <th>TURB</th>\n",
       "      <th>VEL</th>\n",
       "      <th>TP</th>\n",
       "      <th>TN</th>\n",
       "      <th>SS</th>\n",
       "      <th>CHLcal</th>\n",
       "      <th>...</th>\n",
       "      <th>VEL_color</th>\n",
       "      <th>TP_color</th>\n",
       "      <th>TN_color</th>\n",
       "      <th>SS_color</th>\n",
       "      <th>CHLcal_color</th>\n",
       "      <th>State 3</th>\n",
       "      <th>State 2</th>\n",
       "      <th>State 1</th>\n",
       "      <th>STATE</th>\n",
       "      <th>STATE_color</th>\n",
       "    </tr>\n",
       "  </thead>\n",
       "  <tbody>\n",
       "    <tr>\n",
       "      <th>65028</th>\n",
       "      <td>0.21447</td>\n",
       "      <td>-0.372093</td>\n",
       "      <td>0.303448</td>\n",
       "      <td>0.302326</td>\n",
       "      <td>0.947368</td>\n",
       "      <td>-0.307692</td>\n",
       "      <td>0.577778</td>\n",
       "      <td>2.24112</td>\n",
       "      <td>0.640999</td>\n",
       "      <td>3.737433</td>\n",
       "      <td>...</td>\n",
       "      <td>-0.307692</td>\n",
       "      <td>0.577778</td>\n",
       "      <td>2.24112</td>\n",
       "      <td>0.640999</td>\n",
       "      <td>3.649614</td>\n",
       "      <td>0</td>\n",
       "      <td>0</td>\n",
       "      <td>0</td>\n",
       "      <td>0.0</td>\n",
       "      <td>0.0</td>\n",
       "    </tr>\n",
       "    <tr>\n",
       "      <th>65044</th>\n",
       "      <td>1.299742</td>\n",
       "      <td>-0.511628</td>\n",
       "      <td>0.262069</td>\n",
       "      <td>0.023256</td>\n",
       "      <td>1.605263</td>\n",
       "      <td>1.076923</td>\n",
       "      <td>0.296296</td>\n",
       "      <td>1.862705</td>\n",
       "      <td>1.341231</td>\n",
       "      <td>1.537455</td>\n",
       "      <td>...</td>\n",
       "      <td>1.076923</td>\n",
       "      <td>0.296296</td>\n",
       "      <td>1.862705</td>\n",
       "      <td>1.341231</td>\n",
       "      <td>1.537455</td>\n",
       "      <td>0</td>\n",
       "      <td>0</td>\n",
       "      <td>0</td>\n",
       "      <td>0.0</td>\n",
       "      <td>0.0</td>\n",
       "    </tr>\n",
       "    <tr>\n",
       "      <th>65136</th>\n",
       "      <td>0.834625</td>\n",
       "      <td>-0.372093</td>\n",
       "      <td>0.855172</td>\n",
       "      <td>-0.651163</td>\n",
       "      <td>1.131579</td>\n",
       "      <td>1.346154</td>\n",
       "      <td>0.711111</td>\n",
       "      <td>5.854508</td>\n",
       "      <td>1.214301</td>\n",
       "      <td>0.705855</td>\n",
       "      <td>...</td>\n",
       "      <td>1.346154</td>\n",
       "      <td>0.711111</td>\n",
       "      <td>3.521175</td>\n",
       "      <td>1.214301</td>\n",
       "      <td>0.705855</td>\n",
       "      <td>0</td>\n",
       "      <td>0</td>\n",
       "      <td>0</td>\n",
       "      <td>0.0</td>\n",
       "      <td>0.0</td>\n",
       "    </tr>\n",
       "    <tr>\n",
       "      <th>65198</th>\n",
       "      <td>-0.496124</td>\n",
       "      <td>-0.511628</td>\n",
       "      <td>0.855172</td>\n",
       "      <td>-0.953488</td>\n",
       "      <td>1.921053</td>\n",
       "      <td>-0.096154</td>\n",
       "      <td>0.925926</td>\n",
       "      <td>0.446038</td>\n",
       "      <td>2.593611</td>\n",
       "      <td>0.684424</td>\n",
       "      <td>...</td>\n",
       "      <td>-0.096154</td>\n",
       "      <td>0.925926</td>\n",
       "      <td>0.446038</td>\n",
       "      <td>2.593611</td>\n",
       "      <td>0.684424</td>\n",
       "      <td>0</td>\n",
       "      <td>0</td>\n",
       "      <td>0</td>\n",
       "      <td>0.0</td>\n",
       "      <td>0.0</td>\n",
       "    </tr>\n",
       "    <tr>\n",
       "      <th>65197</th>\n",
       "      <td>-0.483204</td>\n",
       "      <td>-0.55814</td>\n",
       "      <td>0.848276</td>\n",
       "      <td>-0.767442</td>\n",
       "      <td>3.157895</td>\n",
       "      <td>-0.153846</td>\n",
       "      <td>1.4</td>\n",
       "      <td>0.246585</td>\n",
       "      <td>2.563994</td>\n",
       "      <td>1.008565</td>\n",
       "      <td>...</td>\n",
       "      <td>-0.153846</td>\n",
       "      <td>1.4</td>\n",
       "      <td>0.246585</td>\n",
       "      <td>2.563994</td>\n",
       "      <td>1.008565</td>\n",
       "      <td>0</td>\n",
       "      <td>0</td>\n",
       "      <td>0</td>\n",
       "      <td>0.0</td>\n",
       "      <td>0.0</td>\n",
       "    </tr>\n",
       "    <tr>\n",
       "      <th>...</th>\n",
       "      <td>...</td>\n",
       "      <td>...</td>\n",
       "      <td>...</td>\n",
       "      <td>...</td>\n",
       "      <td>...</td>\n",
       "      <td>...</td>\n",
       "      <td>...</td>\n",
       "      <td>...</td>\n",
       "      <td>...</td>\n",
       "      <td>...</td>\n",
       "      <td>...</td>\n",
       "      <td>...</td>\n",
       "      <td>...</td>\n",
       "      <td>...</td>\n",
       "      <td>...</td>\n",
       "      <td>...</td>\n",
       "      <td>...</td>\n",
       "      <td>...</td>\n",
       "      <td>...</td>\n",
       "      <td>...</td>\n",
       "      <td>...</td>\n",
       "    </tr>\n",
       "    <tr>\n",
       "      <th>76619</th>\n",
       "      <td>2.540052</td>\n",
       "      <td>-0.348837</td>\n",
       "      <td>-0.282759</td>\n",
       "      <td>0.023256</td>\n",
       "      <td>1.157895</td>\n",
       "      <td>-0.384615</td>\n",
       "      <td>2.185185</td>\n",
       "      <td>0.174863</td>\n",
       "      <td>0.509202</td>\n",
       "      <td>0.74462</td>\n",
       "      <td>...</td>\n",
       "      <td>-0.384615</td>\n",
       "      <td>2.185185</td>\n",
       "      <td>0.174863</td>\n",
       "      <td>0.509202</td>\n",
       "      <td>0.74462</td>\n",
       "      <td>0</td>\n",
       "      <td>0</td>\n",
       "      <td>0</td>\n",
       "      <td>0.0</td>\n",
       "      <td>0.0</td>\n",
       "    </tr>\n",
       "    <tr>\n",
       "      <th>76617</th>\n",
       "      <td>-0.488372</td>\n",
       "      <td>-0.511628</td>\n",
       "      <td>-0.351724</td>\n",
       "      <td>0.302326</td>\n",
       "      <td>1.710526</td>\n",
       "      <td>-0.384615</td>\n",
       "      <td>4.362963</td>\n",
       "      <td>-1.05123</td>\n",
       "      <td>0.775756</td>\n",
       "      <td>-0.170522</td>\n",
       "      <td>...</td>\n",
       "      <td>-0.384615</td>\n",
       "      <td>3.62963</td>\n",
       "      <td>-1.05123</td>\n",
       "      <td>0.775756</td>\n",
       "      <td>-0.170522</td>\n",
       "      <td>0</td>\n",
       "      <td>0</td>\n",
       "      <td>0</td>\n",
       "      <td>0.0</td>\n",
       "      <td>0.0</td>\n",
       "    </tr>\n",
       "    <tr>\n",
       "      <th>76623</th>\n",
       "      <td>-0.444444</td>\n",
       "      <td>-0.627907</td>\n",
       "      <td>-0.268966</td>\n",
       "      <td>0.255814</td>\n",
       "      <td>2.236842</td>\n",
       "      <td>-0.384615</td>\n",
       "      <td>2.637037</td>\n",
       "      <td>-1.093579</td>\n",
       "      <td>2.618997</td>\n",
       "      <td>0.088242</td>\n",
       "      <td>...</td>\n",
       "      <td>-0.384615</td>\n",
       "      <td>2.637037</td>\n",
       "      <td>-1.093579</td>\n",
       "      <td>2.618997</td>\n",
       "      <td>0.088242</td>\n",
       "      <td>0</td>\n",
       "      <td>0</td>\n",
       "      <td>0</td>\n",
       "      <td>0.0</td>\n",
       "      <td>0.0</td>\n",
       "    </tr>\n",
       "    <tr>\n",
       "      <th>76613</th>\n",
       "      <td>-0.550388</td>\n",
       "      <td>-0.651163</td>\n",
       "      <td>-0.358621</td>\n",
       "      <td>0.139535</td>\n",
       "      <td>3.026316</td>\n",
       "      <td>-0.384615</td>\n",
       "      <td>2.511111</td>\n",
       "      <td>-1.098361</td>\n",
       "      <td>2.136662</td>\n",
       "      <td>0.574214</td>\n",
       "      <td>...</td>\n",
       "      <td>-0.384615</td>\n",
       "      <td>2.511111</td>\n",
       "      <td>-1.098361</td>\n",
       "      <td>2.136662</td>\n",
       "      <td>0.574214</td>\n",
       "      <td>0</td>\n",
       "      <td>0</td>\n",
       "      <td>0</td>\n",
       "      <td>0.0</td>\n",
       "      <td>0.0</td>\n",
       "    </tr>\n",
       "    <tr>\n",
       "      <th>76633</th>\n",
       "      <td>-0.322997</td>\n",
       "      <td>-0.348837</td>\n",
       "      <td>-0.337931</td>\n",
       "      <td>0.348837</td>\n",
       "      <td>0.578947</td>\n",
       "      <td>-0.384615</td>\n",
       "      <td>1.281481</td>\n",
       "      <td>-0.715847</td>\n",
       "      <td>0.145335</td>\n",
       "      <td>6.197601</td>\n",
       "      <td>...</td>\n",
       "      <td>-0.384615</td>\n",
       "      <td>1.281481</td>\n",
       "      <td>-0.715847</td>\n",
       "      <td>0.145335</td>\n",
       "      <td>3.649614</td>\n",
       "      <td>0</td>\n",
       "      <td>0</td>\n",
       "      <td>0</td>\n",
       "      <td>0.0</td>\n",
       "      <td>0.0</td>\n",
       "    </tr>\n",
       "  </tbody>\n",
       "</table>\n",
       "<p>1829 rows × 62 columns</p>\n",
       "</div>"
      ],
      "text/plain": [
       "            WDP    SECCHI      TEMP        DO      TURB       VEL        TP  \\\n",
       "65028   0.21447 -0.372093  0.303448  0.302326  0.947368 -0.307692  0.577778   \n",
       "65044  1.299742 -0.511628  0.262069  0.023256  1.605263  1.076923  0.296296   \n",
       "65136  0.834625 -0.372093  0.855172 -0.651163  1.131579  1.346154  0.711111   \n",
       "65198 -0.496124 -0.511628  0.855172 -0.953488  1.921053 -0.096154  0.925926   \n",
       "65197 -0.483204  -0.55814  0.848276 -0.767442  3.157895 -0.153846       1.4   \n",
       "...         ...       ...       ...       ...       ...       ...       ...   \n",
       "76619  2.540052 -0.348837 -0.282759  0.023256  1.157895 -0.384615  2.185185   \n",
       "76617 -0.488372 -0.511628 -0.351724  0.302326  1.710526 -0.384615  4.362963   \n",
       "76623 -0.444444 -0.627907 -0.268966  0.255814  2.236842 -0.384615  2.637037   \n",
       "76613 -0.550388 -0.651163 -0.358621  0.139535  3.026316 -0.384615  2.511111   \n",
       "76633 -0.322997 -0.348837 -0.337931  0.348837  0.578947 -0.384615  1.281481   \n",
       "\n",
       "             TN        SS    CHLcal  ... VEL_color  TP_color  TN_color  \\\n",
       "65028   2.24112  0.640999  3.737433  ... -0.307692  0.577778   2.24112   \n",
       "65044  1.862705  1.341231  1.537455  ...  1.076923  0.296296  1.862705   \n",
       "65136  5.854508  1.214301  0.705855  ...  1.346154  0.711111  3.521175   \n",
       "65198  0.446038  2.593611  0.684424  ... -0.096154  0.925926  0.446038   \n",
       "65197  0.246585  2.563994  1.008565  ... -0.153846       1.4  0.246585   \n",
       "...         ...       ...       ...  ...       ...       ...       ...   \n",
       "76619  0.174863  0.509202   0.74462  ... -0.384615  2.185185  0.174863   \n",
       "76617  -1.05123  0.775756 -0.170522  ... -0.384615   3.62963  -1.05123   \n",
       "76623 -1.093579  2.618997  0.088242  ... -0.384615  2.637037 -1.093579   \n",
       "76613 -1.098361  2.136662  0.574214  ... -0.384615  2.511111 -1.098361   \n",
       "76633 -0.715847  0.145335  6.197601  ... -0.384615  1.281481 -0.715847   \n",
       "\n",
       "       SS_color CHLcal_color State 3 State 2 State 1 STATE  STATE_color  \n",
       "65028  0.640999     3.649614       0       0       0   0.0          0.0  \n",
       "65044  1.341231     1.537455       0       0       0   0.0          0.0  \n",
       "65136  1.214301     0.705855       0       0       0   0.0          0.0  \n",
       "65198  2.593611     0.684424       0       0       0   0.0          0.0  \n",
       "65197  2.563994     1.008565       0       0       0   0.0          0.0  \n",
       "...         ...          ...     ...     ...     ...   ...          ...  \n",
       "76619  0.509202      0.74462       0       0       0   0.0          0.0  \n",
       "76617  0.775756    -0.170522       0       0       0   0.0          0.0  \n",
       "76623  2.618997     0.088242       0       0       0   0.0          0.0  \n",
       "76613  2.136662     0.574214       0       0       0   0.0          0.0  \n",
       "76633  0.145335     3.649614       0       0       0   0.0          0.0  \n",
       "\n",
       "[1829 rows x 62 columns]"
      ]
     },
     "execution_count": 159,
     "metadata": {},
     "output_type": "execute_result"
    }
   ],
   "source": [
    "odd = pool_sorted\n",
    "no_state = odd[(odd[\"State 1\"]==0)&(odd[\"State 2\"]==0)&(odd[\"State 3\"]==0)]\n",
    "no_state"
   ]
  },
  {
   "cell_type": "code",
   "execution_count": 186,
   "id": "returning-pocket",
   "metadata": {},
   "outputs": [
    {
     "name": "stdout",
     "output_type": "stream",
     "text": [
      "found node:  cube413_cluster0\n",
      "found node:  cube413_cluster0\n",
      "found node:  cube203_cluster0\n",
      "found node:  cube236_cluster0\n",
      "found node:  cube269_cluster0\n",
      "found node:  cube203_cluster0\n",
      "found node:  cube203_cluster0\n",
      "found node:  cube413_cluster0\n",
      "found node:  cube413_cluster0\n",
      "found node:  cube203_cluster0\n",
      "found node:  cube413_cluster0\n",
      "found node:  cube413_cluster0\n",
      "found node:  cube413_cluster0\n",
      "found node:  cube203_cluster0\n",
      "found node:  cube413_cluster0\n",
      "found node:  cube413_cluster0\n",
      "found node:  cube413_cluster0\n",
      "found node:  cube236_cluster0\n",
      "found node:  cube203_cluster0\n",
      "found node:  cube269_cluster0\n",
      "found node:  cube203_cluster0\n",
      "found node:  cube236_cluster0\n",
      "found node:  cube203_cluster0\n",
      "found node:  cube236_cluster0\n",
      "found node:  cube413_cluster0\n",
      "found node:  cube269_cluster0\n",
      "found node:  cube269_cluster0\n",
      "found node:  cube236_cluster0\n",
      "found node:  cube269_cluster0\n",
      "found node:  cube269_cluster0\n",
      "found node:  cube269_cluster0\n",
      "found node:  cube269_cluster0\n",
      "found node:  cube269_cluster0\n",
      "found node:  cube236_cluster0\n",
      "found node:  cube236_cluster0\n",
      "found node:  cube203_cluster0\n",
      "found node:  cube203_cluster0\n",
      "found node:  cube203_cluster0\n",
      "found node:  cube203_cluster0\n",
      "found node:  cube203_cluster0\n",
      "found node:  cube203_cluster0\n",
      "found node:  cube203_cluster0\n",
      "found node:  cube236_cluster0\n"
     ]
    }
   ],
   "source": [
    "# This is checking to see if the points not assigned to a state exist within the scomplex\n",
    "mystery_nodes = set()\n",
    "for i in no_state.index:\n",
    "    for node in scomplex[\"nodes\"]:\n",
    "        if i in scomplex['nodes'][node]:\n",
    "            foundnode = node\n",
    "            mystery_nodes.add(foundnode)\n",
    "            print(\"found node: \",foundnode)\n",
    "            break\n",
    "        \n",
    "    for state in scomplex['states']:\n",
    "        if foundnode in scomplex['states'][state]:\n",
    "            print(i,\" in state \",state)\n",
    "            break"
   ]
  },
  {
   "cell_type": "code",
   "execution_count": 187,
   "id": "expensive-teddy",
   "metadata": {},
   "outputs": [
    {
     "data": {
      "text/plain": [
       "{'cube203_cluster0',\n",
       " 'cube236_cluster0',\n",
       " 'cube269_cluster0',\n",
       " 'cube413_cluster0'}"
      ]
     },
     "execution_count": 187,
     "metadata": {},
     "output_type": "execute_result"
    }
   ],
   "source": [
    "mystery_nodes"
   ]
  },
  {
   "cell_type": "markdown",
   "id": "minus-campus",
   "metadata": {},
   "source": [
    "So these nodes are not in any state? How could this be?\n",
    "\n",
    "I realized these nodes are not part of the main simplicial complex. I should remove these datapoints at the beginning."
   ]
  }
 ],
 "metadata": {
  "kernelspec": {
   "display_name": "Python 3",
   "language": "python",
   "name": "python3"
  },
  "language_info": {
   "codemirror_mode": {
    "name": "ipython",
    "version": 3
   },
   "file_extension": ".py",
   "mimetype": "text/x-python",
   "name": "python",
   "nbconvert_exporter": "python",
   "pygments_lexer": "ipython3",
   "version": "3.8.5"
  }
 },
 "nbformat": 4,
 "nbformat_minor": 5
}
