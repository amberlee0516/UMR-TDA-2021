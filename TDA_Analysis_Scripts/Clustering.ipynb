{
 "cells": [
  {
   "cell_type": "markdown",
   "id": "recent-underground",
   "metadata": {},
   "source": [
    "# K-Means and DBSCAN clustering on LTRM Random Forest Interpolated Data"
   ]
  },
  {
   "cell_type": "markdown",
   "id": "flexible-smart",
   "metadata": {},
   "source": [
    "### Imports"
   ]
  },
  {
   "cell_type": "code",
   "execution_count": 1,
   "id": "stuffed-albany",
   "metadata": {},
   "outputs": [],
   "source": [
    "import pandas as pd\n",
    "import numpy as np\n",
    "from sklearn import metrics\n",
    "from sklearn.cluster import KMeans,DBSCAN\n",
    "import matplotlib.pyplot as plt\n",
    "from sklearn.preprocessing import RobustScaler\n",
    "from sklearn.neighbors import NearestNeighbors"
   ]
  },
  {
   "cell_type": "markdown",
   "id": "exposed-circus",
   "metadata": {},
   "source": [
    "### Load and filter data"
   ]
  },
  {
   "cell_type": "code",
   "execution_count": 2,
   "id": "manual-castle",
   "metadata": {},
   "outputs": [
    {
     "name": "stdout",
     "output_type": "stream",
     "text": [
      "(76669, 9)\n"
     ]
    },
    {
     "data": {
      "text/html": [
       "<div>\n",
       "<style scoped>\n",
       "    .dataframe tbody tr th:only-of-type {\n",
       "        vertical-align: middle;\n",
       "    }\n",
       "\n",
       "    .dataframe tbody tr th {\n",
       "        vertical-align: top;\n",
       "    }\n",
       "\n",
       "    .dataframe thead th {\n",
       "        text-align: right;\n",
       "    }\n",
       "</style>\n",
       "<table border=\"1\" class=\"dataframe\">\n",
       "  <thead>\n",
       "    <tr style=\"text-align: right;\">\n",
       "      <th></th>\n",
       "      <th>TN</th>\n",
       "      <th>TP</th>\n",
       "      <th>TEMP</th>\n",
       "      <th>DO</th>\n",
       "      <th>COND</th>\n",
       "      <th>VEL</th>\n",
       "      <th>SS</th>\n",
       "      <th>WDP</th>\n",
       "      <th>CHLcal</th>\n",
       "    </tr>\n",
       "  </thead>\n",
       "  <tbody>\n",
       "    <tr>\n",
       "      <th>count</th>\n",
       "      <td>76669.000000</td>\n",
       "      <td>76669.000000</td>\n",
       "      <td>76669.000000</td>\n",
       "      <td>76669.000000</td>\n",
       "      <td>76669.000000</td>\n",
       "      <td>76669.000000</td>\n",
       "      <td>76669.000000</td>\n",
       "      <td>76669.000000</td>\n",
       "      <td>76669.000000</td>\n",
       "    </tr>\n",
       "    <tr>\n",
       "      <th>mean</th>\n",
       "      <td>2.790170</td>\n",
       "      <td>0.200746</td>\n",
       "      <td>14.876312</td>\n",
       "      <td>10.030313</td>\n",
       "      <td>488.608297</td>\n",
       "      <td>0.344754</td>\n",
       "      <td>51.612127</td>\n",
       "      <td>3.356567</td>\n",
       "      <td>26.360633</td>\n",
       "    </tr>\n",
       "    <tr>\n",
       "      <th>std</th>\n",
       "      <td>1.597177</td>\n",
       "      <td>0.152338</td>\n",
       "      <td>9.430287</td>\n",
       "      <td>3.204959</td>\n",
       "      <td>146.626410</td>\n",
       "      <td>0.406437</td>\n",
       "      <td>84.641490</td>\n",
       "      <td>3.191891</td>\n",
       "      <td>30.122340</td>\n",
       "    </tr>\n",
       "    <tr>\n",
       "      <th>min</th>\n",
       "      <td>0.024000</td>\n",
       "      <td>0.002000</td>\n",
       "      <td>0.000000</td>\n",
       "      <td>0.000000</td>\n",
       "      <td>0.000000</td>\n",
       "      <td>0.000000</td>\n",
       "      <td>0.020000</td>\n",
       "      <td>0.010000</td>\n",
       "      <td>0.018300</td>\n",
       "    </tr>\n",
       "    <tr>\n",
       "      <th>25%</th>\n",
       "      <td>1.910000</td>\n",
       "      <td>0.113000</td>\n",
       "      <td>9.300000</td>\n",
       "      <td>7.900000</td>\n",
       "      <td>398.000000</td>\n",
       "      <td>0.030000</td>\n",
       "      <td>10.030000</td>\n",
       "      <td>0.960000</td>\n",
       "      <td>8.032110</td>\n",
       "    </tr>\n",
       "    <tr>\n",
       "      <th>50%</th>\n",
       "      <td>2.611000</td>\n",
       "      <td>0.163000</td>\n",
       "      <td>14.700000</td>\n",
       "      <td>9.700000</td>\n",
       "      <td>460.000000</td>\n",
       "      <td>0.200000</td>\n",
       "      <td>25.200000</td>\n",
       "      <td>2.270000</td>\n",
       "      <td>16.944640</td>\n",
       "    </tr>\n",
       "    <tr>\n",
       "      <th>75%</th>\n",
       "      <td>3.374000</td>\n",
       "      <td>0.248000</td>\n",
       "      <td>23.800000</td>\n",
       "      <td>12.200000</td>\n",
       "      <td>559.000000</td>\n",
       "      <td>0.550000</td>\n",
       "      <td>57.300000</td>\n",
       "      <td>4.830000</td>\n",
       "      <td>33.468400</td>\n",
       "    </tr>\n",
       "    <tr>\n",
       "      <th>max</th>\n",
       "      <td>187.429000</td>\n",
       "      <td>6.443000</td>\n",
       "      <td>40.300000</td>\n",
       "      <td>29.900000</td>\n",
       "      <td>2149.000000</td>\n",
       "      <td>6.000000</td>\n",
       "      <td>2485.000000</td>\n",
       "      <td>40.200000</td>\n",
       "      <td>745.741850</td>\n",
       "    </tr>\n",
       "  </tbody>\n",
       "</table>\n",
       "</div>"
      ],
      "text/plain": [
       "                 TN            TP          TEMP            DO          COND  \\\n",
       "count  76669.000000  76669.000000  76669.000000  76669.000000  76669.000000   \n",
       "mean       2.790170      0.200746     14.876312     10.030313    488.608297   \n",
       "std        1.597177      0.152338      9.430287      3.204959    146.626410   \n",
       "min        0.024000      0.002000      0.000000      0.000000      0.000000   \n",
       "25%        1.910000      0.113000      9.300000      7.900000    398.000000   \n",
       "50%        2.611000      0.163000     14.700000      9.700000    460.000000   \n",
       "75%        3.374000      0.248000     23.800000     12.200000    559.000000   \n",
       "max      187.429000      6.443000     40.300000     29.900000   2149.000000   \n",
       "\n",
       "                VEL            SS           WDP        CHLcal  \n",
       "count  76669.000000  76669.000000  76669.000000  76669.000000  \n",
       "mean       0.344754     51.612127      3.356567     26.360633  \n",
       "std        0.406437     84.641490      3.191891     30.122340  \n",
       "min        0.000000      0.020000      0.010000      0.018300  \n",
       "25%        0.030000     10.030000      0.960000      8.032110  \n",
       "50%        0.200000     25.200000      2.270000     16.944640  \n",
       "75%        0.550000     57.300000      4.830000     33.468400  \n",
       "max        6.000000   2485.000000     40.200000    745.741850  "
      ]
     },
     "execution_count": 2,
     "metadata": {},
     "output_type": "execute_result"
    }
   ],
   "source": [
    "df = pd.read_csv('..\\LTRM data\\RF interpolation\\water_full.csv')\n",
    "df.drop([\"SHEETBAR\",\"DATE\",\"LATITUDE\",\"LONGITUDE\",\"FLDNUM\",\"STRATUM\",\"LOCATCD\",\n",
    "         \"SECCHI\",\"TURB\",\"YEAR\",\"SEASON\"],axis=1,inplace=True)\n",
    "print(df.shape)\n",
    "df.describe()"
   ]
  },
  {
   "cell_type": "markdown",
   "id": "pregnant-fairy",
   "metadata": {},
   "source": [
    "### Scale data using robust scaler"
   ]
  },
  {
   "cell_type": "markdown",
   "id": "incredible-stopping",
   "metadata": {},
   "source": [
    "This step makes it so units of each variable are irrelevant when clustering. We use robust scaling because it is more robust agaisnt outliers, which we have."
   ]
  },
  {
   "cell_type": "code",
   "execution_count": 3,
   "id": "familiar-minimum",
   "metadata": {},
   "outputs": [
    {
     "data": {
      "text/html": [
       "<div>\n",
       "<style scoped>\n",
       "    .dataframe tbody tr th:only-of-type {\n",
       "        vertical-align: middle;\n",
       "    }\n",
       "\n",
       "    .dataframe tbody tr th {\n",
       "        vertical-align: top;\n",
       "    }\n",
       "\n",
       "    .dataframe thead th {\n",
       "        text-align: right;\n",
       "    }\n",
       "</style>\n",
       "<table border=\"1\" class=\"dataframe\">\n",
       "  <thead>\n",
       "    <tr style=\"text-align: right;\">\n",
       "      <th></th>\n",
       "      <th>TN</th>\n",
       "      <th>TP</th>\n",
       "      <th>TEMP</th>\n",
       "      <th>DO</th>\n",
       "      <th>COND</th>\n",
       "      <th>VEL</th>\n",
       "      <th>SS</th>\n",
       "      <th>WDP</th>\n",
       "      <th>CHLcal</th>\n",
       "    </tr>\n",
       "  </thead>\n",
       "  <tbody>\n",
       "    <tr>\n",
       "      <th>count</th>\n",
       "      <td>76669.000000</td>\n",
       "      <td>76669.000000</td>\n",
       "      <td>76669.000000</td>\n",
       "      <td>76669.000000</td>\n",
       "      <td>76669.000000</td>\n",
       "      <td>76669.000000</td>\n",
       "      <td>76669.000000</td>\n",
       "      <td>76669.000000</td>\n",
       "      <td>76669.000000</td>\n",
       "    </tr>\n",
       "    <tr>\n",
       "      <th>mean</th>\n",
       "      <td>0.122384</td>\n",
       "      <td>0.279600</td>\n",
       "      <td>0.012159</td>\n",
       "      <td>0.076817</td>\n",
       "      <td>0.177691</td>\n",
       "      <td>0.278374</td>\n",
       "      <td>0.558750</td>\n",
       "      <td>0.280767</td>\n",
       "      <td>0.370180</td>\n",
       "    </tr>\n",
       "    <tr>\n",
       "      <th>std</th>\n",
       "      <td>1.090968</td>\n",
       "      <td>1.128430</td>\n",
       "      <td>0.650365</td>\n",
       "      <td>0.745339</td>\n",
       "      <td>0.910723</td>\n",
       "      <td>0.781609</td>\n",
       "      <td>1.790596</td>\n",
       "      <td>0.824778</td>\n",
       "      <td>1.184227</td>\n",
       "    </tr>\n",
       "    <tr>\n",
       "      <th>min</th>\n",
       "      <td>-1.767077</td>\n",
       "      <td>-1.192593</td>\n",
       "      <td>-1.013793</td>\n",
       "      <td>-2.255814</td>\n",
       "      <td>-2.857143</td>\n",
       "      <td>-0.384615</td>\n",
       "      <td>-0.532685</td>\n",
       "      <td>-0.583979</td>\n",
       "      <td>-0.665441</td>\n",
       "    </tr>\n",
       "    <tr>\n",
       "      <th>25%</th>\n",
       "      <td>-0.478825</td>\n",
       "      <td>-0.370370</td>\n",
       "      <td>-0.372414</td>\n",
       "      <td>-0.418605</td>\n",
       "      <td>-0.385093</td>\n",
       "      <td>-0.326923</td>\n",
       "      <td>-0.320922</td>\n",
       "      <td>-0.338501</td>\n",
       "      <td>-0.350386</td>\n",
       "    </tr>\n",
       "    <tr>\n",
       "      <th>50%</th>\n",
       "      <td>0.000000</td>\n",
       "      <td>0.000000</td>\n",
       "      <td>0.000000</td>\n",
       "      <td>0.000000</td>\n",
       "      <td>0.000000</td>\n",
       "      <td>0.000000</td>\n",
       "      <td>0.000000</td>\n",
       "      <td>0.000000</td>\n",
       "      <td>0.000000</td>\n",
       "    </tr>\n",
       "    <tr>\n",
       "      <th>75%</th>\n",
       "      <td>0.521175</td>\n",
       "      <td>0.629630</td>\n",
       "      <td>0.627586</td>\n",
       "      <td>0.581395</td>\n",
       "      <td>0.614907</td>\n",
       "      <td>0.673077</td>\n",
       "      <td>0.679078</td>\n",
       "      <td>0.661499</td>\n",
       "      <td>0.649614</td>\n",
       "    </tr>\n",
       "    <tr>\n",
       "      <th>max</th>\n",
       "      <td>126.241803</td>\n",
       "      <td>46.518519</td>\n",
       "      <td>1.765517</td>\n",
       "      <td>4.697674</td>\n",
       "      <td>10.490683</td>\n",
       "      <td>11.153846</td>\n",
       "      <td>52.037233</td>\n",
       "      <td>9.801034</td>\n",
       "      <td>28.651867</td>\n",
       "    </tr>\n",
       "  </tbody>\n",
       "</table>\n",
       "</div>"
      ],
      "text/plain": [
       "                 TN            TP          TEMP            DO          COND  \\\n",
       "count  76669.000000  76669.000000  76669.000000  76669.000000  76669.000000   \n",
       "mean       0.122384      0.279600      0.012159      0.076817      0.177691   \n",
       "std        1.090968      1.128430      0.650365      0.745339      0.910723   \n",
       "min       -1.767077     -1.192593     -1.013793     -2.255814     -2.857143   \n",
       "25%       -0.478825     -0.370370     -0.372414     -0.418605     -0.385093   \n",
       "50%        0.000000      0.000000      0.000000      0.000000      0.000000   \n",
       "75%        0.521175      0.629630      0.627586      0.581395      0.614907   \n",
       "max      126.241803     46.518519      1.765517      4.697674     10.490683   \n",
       "\n",
       "                VEL            SS           WDP        CHLcal  \n",
       "count  76669.000000  76669.000000  76669.000000  76669.000000  \n",
       "mean       0.278374      0.558750      0.280767      0.370180  \n",
       "std        0.781609      1.790596      0.824778      1.184227  \n",
       "min       -0.384615     -0.532685     -0.583979     -0.665441  \n",
       "25%       -0.326923     -0.320922     -0.338501     -0.350386  \n",
       "50%        0.000000      0.000000      0.000000      0.000000  \n",
       "75%        0.673077      0.679078      0.661499      0.649614  \n",
       "max       11.153846     52.037233      9.801034     28.651867  "
      ]
     },
     "execution_count": 3,
     "metadata": {},
     "output_type": "execute_result"
    }
   ],
   "source": [
    "cols = df.columns\n",
    "df_scaled = RobustScaler().fit_transform(df)\n",
    "df_scaled = pd.DataFrame(df_scaled,columns=cols)\n",
    "df_scaled.describe()"
   ]
  },
  {
   "cell_type": "markdown",
   "id": "manual-assessment",
   "metadata": {},
   "source": [
    "### K-means"
   ]
  },
  {
   "cell_type": "markdown",
   "id": "valued-mediterranean",
   "metadata": {},
   "source": [
    "First we need to find the optimal value of k."
   ]
  },
  {
   "cell_type": "code",
   "execution_count": 4,
   "id": "objective-arkansas",
   "metadata": {},
   "outputs": [
    {
     "data": {
      "image/png": "[encoded data removed]",
      "text/plain": [
       "<Figure size 432x288 with 1 Axes>"
      ]
     },
     "metadata": {
      "needs_background": "light"
     },
     "output_type": "display_data"
    }
   ],
   "source": [
    "# Arbitrarily selecting a range of values for K\n",
    "K = range(1,10)\n",
    "sum_of_squared_distances = []\n",
    "# Using Scikit Learn’s KMeans Algorithm to find sum of squared distances\n",
    "for k in K:\n",
    "    model = KMeans(n_clusters=k).fit(df_scaled)\n",
    "    sum_of_squared_distances.append(model.inertia_)\n",
    "plt.plot(K, sum_of_squared_distances, \"bx-\")\n",
    "plt.xlabel(\"K values\")\n",
    "plt.ylabel(\"Sum of squared distances\")\n",
    "plt.title(\"Elbow Method\")\n",
    "plt.show()"
   ]
  },
  {
   "cell_type": "markdown",
   "id": "historical-brick",
   "metadata": {},
   "source": [
    "It seems like the optimal value of K is between 2 and 5. We will use the Silhouette coefficient to tell, and the K with the highest silhouette coefficient is the optimal k."
   ]
  },
  {
   "cell_type": "code",
   "execution_count": 5,
   "id": "pressed-habitat",
   "metadata": {},
   "outputs": [
    {
     "name": "stdout",
     "output_type": "stream",
     "text": [
      "k=2, s = 0.46\n",
      "k=3, s = 0.28\n",
      "k=4, s = 0.27\n",
      "k=5, s = 0.29\n"
     ]
    }
   ],
   "source": [
    "for k in [2,3,4,5]:\n",
    "    kmeans = KMeans(n_clusters=k)\n",
    "    kmeans.fit(df_scaled)\n",
    "    labels = kmeans.predict(df_scaled)\n",
    "    centroids = kmeans.cluster_centers_\n",
    "    s = metrics.silhouette_score(df_scaled, labels, metric='euclidean')\n",
    "    print(f\"k={k}, s = {s:.2f}\")"
   ]
  },
  {
   "cell_type": "markdown",
   "id": "prostate-timeline",
   "metadata": {},
   "source": [
    "The optimal value of k is 2, so this analysis reveals 2 global states!"
   ]
  },
  {
   "cell_type": "code",
   "execution_count": 11,
   "id": "f055c7a3-2fdf-4ed0-9b6d-58f56fc63247",
   "metadata": {},
   "outputs": [],
   "source": [
    "kmeans = KMeans(n_clusters=2)\n",
    "kmeans.fit(df_scaled)\n",
    "labels = kmeans.predict(df_scaled)\n",
    "centroids = kmeans.cluster_centers_"
   ]
  },
  {
   "cell_type": "code",
   "execution_count": 14,
   "id": "0372457e-eeb5-4a92-8bb4-0ab0c97feb24",
   "metadata": {},
   "outputs": [
    {
     "data": {
      "text/html": [
       "<div>\n",
       "<style scoped>\n",
       "    .dataframe tbody tr th:only-of-type {\n",
       "        vertical-align: middle;\n",
       "    }\n",
       "\n",
       "    .dataframe tbody tr th {\n",
       "        vertical-align: top;\n",
       "    }\n",
       "\n",
       "    .dataframe thead th {\n",
       "        text-align: right;\n",
       "    }\n",
       "</style>\n",
       "<table border=\"1\" class=\"dataframe\">\n",
       "  <thead>\n",
       "    <tr style=\"text-align: right;\">\n",
       "      <th></th>\n",
       "      <th>TN</th>\n",
       "      <th>TP</th>\n",
       "      <th>TEMP</th>\n",
       "      <th>DO</th>\n",
       "      <th>COND</th>\n",
       "      <th>VEL</th>\n",
       "      <th>SS</th>\n",
       "      <th>WDP</th>\n",
       "      <th>CHLcal</th>\n",
       "    </tr>\n",
       "  </thead>\n",
       "  <tbody>\n",
       "    <tr>\n",
       "      <th>0</th>\n",
       "      <td>0.071918</td>\n",
       "      <td>0.115245</td>\n",
       "      <td>-0.014912</td>\n",
       "      <td>0.131685</td>\n",
       "      <td>0.164938</td>\n",
       "      <td>0.146180</td>\n",
       "      <td>0.103755</td>\n",
       "      <td>0.159047</td>\n",
       "      <td>0.383770</td>\n",
       "    </tr>\n",
       "    <tr>\n",
       "      <th>1</th>\n",
       "      <td>0.542964</td>\n",
       "      <td>1.649320</td>\n",
       "      <td>0.237772</td>\n",
       "      <td>-0.380451</td>\n",
       "      <td>0.283979</td>\n",
       "      <td>1.380071</td>\n",
       "      <td>4.350651</td>\n",
       "      <td>1.295170</td>\n",
       "      <td>0.256918</td>\n",
       "    </tr>\n",
       "  </tbody>\n",
       "</table>\n",
       "</div>"
      ],
      "text/plain": [
       "         TN        TP      TEMP        DO      COND       VEL        SS  \\\n",
       "0  0.071918  0.115245 -0.014912  0.131685  0.164938  0.146180  0.103755   \n",
       "1  0.542964  1.649320  0.237772 -0.380451  0.283979  1.380071  4.350651   \n",
       "\n",
       "        WDP    CHLcal  \n",
       "0  0.159047  0.383770  \n",
       "1  1.295170  0.256918  "
      ]
     },
     "execution_count": 14,
     "metadata": {},
     "output_type": "execute_result"
    }
   ],
   "source": [
    "pd.DataFrame(centroids,columns=cols)"
   ]
  },
  {
   "cell_type": "code",
   "execution_count": 16,
   "id": "37b18f84-233c-4336-ab13-ad346f7e19c6",
   "metadata": {},
   "outputs": [
    {
     "data": {
      "text/plain": [
       "(array([0, 1]), array([68426,  8243], dtype=int64))"
      ]
     },
     "execution_count": 16,
     "metadata": {},
     "output_type": "execute_result"
    }
   ],
   "source": [
    "np.unique(labels,return_counts=True)"
   ]
  },
  {
   "cell_type": "code",
   "execution_count": 18,
   "id": "35a732f1-8239-490c-b573-b24c6385ea09",
   "metadata": {},
   "outputs": [
    {
     "name": "stdout",
     "output_type": "stream",
     "text": [
      "Percentage of points in 1st cluster: 0.8925\n",
      "Percentage of points in 2nd cluster: 0.1075\n"
     ]
    }
   ],
   "source": [
    "print(f\"Percentage of points in 1st cluster: {68426/len(labels):.4f}\")\n",
    "print(f\"Percentage of points in 2nd cluster: {8243/len(labels):.4f}\")"
   ]
  },
  {
   "cell_type": "markdown",
   "id": "noticed-respondent",
   "metadata": {},
   "source": [
    "### DB Scan"
   ]
  },
  {
   "cell_type": "markdown",
   "id": "abroad-subscription",
   "metadata": {},
   "source": [
    "This clustering requires 2 parameters, min_samples and epsilon. To determine epsilon, we will use the previously discussed knee method."
   ]
  },
  {
   "cell_type": "code",
   "execution_count": 19,
   "id": "compact-angel",
   "metadata": {},
   "outputs": [
    {
     "data": {
      "image/png": "[encoded data removed]",
      "text/plain": [
       "<Figure size 432x288 with 1 Axes>"
      ]
     },
     "metadata": {
      "needs_background": "light"
     },
     "output_type": "display_data"
    }
   ],
   "source": [
    "nearest_neighbors = NearestNeighbors(n_neighbors=5)\n",
    "nearest_neighbors.fit(df_scaled)\n",
    "distances, indices = nearest_neighbors.kneighbors(df_scaled)\n",
    "distances = np.sort(distances, axis=0)[:, 1]\n",
    "plt.plot(distances)\n",
    "plt.xlim(76600,76700)\n",
    "plt.show()"
   ]
  },
  {
   "cell_type": "markdown",
   "id": "obvious-scheme",
   "metadata": {},
   "source": [
    "This analysis reveals that epsilon should be 5"
   ]
  },
  {
   "cell_type": "code",
   "execution_count": 20,
   "id": "covered-convergence",
   "metadata": {},
   "outputs": [
    {
     "data": {
      "image/png": "[encoded data removed]",
      "text/plain": [
       "<Figure size 432x288 with 1 Axes>"
      ]
     },
     "metadata": {
      "needs_background": "light"
     },
     "output_type": "display_data"
    }
   ],
   "source": [
    "nearest_neighbors = NearestNeighbors(n_neighbors=2)\n",
    "nearest_neighbors.fit(df_scaled)\n",
    "distances, indices = nearest_neighbors.kneighbors(df_scaled)\n",
    "distances = np.sort(distances, axis=0)[:, 1]\n",
    "plt.plot(distances)\n",
    "plt.xlim(76600,77000)\n",
    "plt.show()"
   ]
  },
  {
   "cell_type": "markdown",
   "id": "peripheral-promise",
   "metadata": {},
   "source": [
    "This analysis also reveals that epsilon should be 5. So epsilon will be 5. It's also a general rule that min_samples should be greater than or equal to the dimentionality of the dataset, so 10 seems like a good value for this parameter."
   ]
  },
  {
   "cell_type": "code",
   "execution_count": 21,
   "id": "subsequent-setup",
   "metadata": {},
   "outputs": [
    {
     "ename": "MemoryError",
     "evalue": "",
     "output_type": "error",
     "traceback": [
      "\u001b[1;31m---------------------------------------------------------------------------\u001b[0m",
      "\u001b[1;31mMemoryError\u001b[0m                               Traceback (most recent call last)",
      "\u001b[1;32m~\\AppData\\Local\\Temp/ipykernel_17884/3564389009.py\u001b[0m in \u001b[0;36m<module>\u001b[1;34m\u001b[0m\n\u001b[0;32m      1\u001b[0m \u001b[0mdbscan\u001b[0m \u001b[1;33m=\u001b[0m \u001b[0mDBSCAN\u001b[0m\u001b[1;33m(\u001b[0m\u001b[0meps\u001b[0m\u001b[1;33m=\u001b[0m\u001b[1;36m5\u001b[0m\u001b[1;33m,\u001b[0m \u001b[0mmin_samples\u001b[0m\u001b[1;33m=\u001b[0m\u001b[1;36m10\u001b[0m\u001b[1;33m)\u001b[0m\u001b[1;33m\u001b[0m\u001b[1;33m\u001b[0m\u001b[0m\n\u001b[1;32m----> 2\u001b[1;33m \u001b[0mdbscan\u001b[0m\u001b[1;33m.\u001b[0m\u001b[0mfit\u001b[0m\u001b[1;33m(\u001b[0m\u001b[0mdf_scaled\u001b[0m\u001b[1;33m)\u001b[0m\u001b[1;33m\u001b[0m\u001b[1;33m\u001b[0m\u001b[0m\n\u001b[0m\u001b[0;32m      3\u001b[0m \u001b[1;33m\u001b[0m\u001b[0m\n\u001b[0;32m      4\u001b[0m \u001b[0mlabels\u001b[0m \u001b[1;33m=\u001b[0m \u001b[0mdbscan\u001b[0m\u001b[1;33m.\u001b[0m\u001b[0mlabels_\u001b[0m\u001b[1;33m\u001b[0m\u001b[1;33m\u001b[0m\u001b[0m\n\u001b[0;32m      5\u001b[0m \u001b[1;33m\u001b[0m\u001b[0m\n",
      "\u001b[1;32m~\\anaconda3\\lib\\site-packages\\sklearn\\cluster\\_dbscan.py\u001b[0m in \u001b[0;36mfit\u001b[1;34m(self, X, y, sample_weight)\u001b[0m\n\u001b[0;32m    334\u001b[0m         \u001b[0mneighbors_model\u001b[0m\u001b[1;33m.\u001b[0m\u001b[0mfit\u001b[0m\u001b[1;33m(\u001b[0m\u001b[0mX\u001b[0m\u001b[1;33m)\u001b[0m\u001b[1;33m\u001b[0m\u001b[1;33m\u001b[0m\u001b[0m\n\u001b[0;32m    335\u001b[0m         \u001b[1;31m# This has worst case O(n^2) memory complexity\u001b[0m\u001b[1;33m\u001b[0m\u001b[1;33m\u001b[0m\u001b[1;33m\u001b[0m\u001b[0m\n\u001b[1;32m--> 336\u001b[1;33m         neighborhoods = neighbors_model.radius_neighbors(X,\n\u001b[0m\u001b[0;32m    337\u001b[0m                                                          return_distance=False)\n\u001b[0;32m    338\u001b[0m \u001b[1;33m\u001b[0m\u001b[0m\n",
      "\u001b[1;32m~\\anaconda3\\lib\\site-packages\\sklearn\\neighbors\\_base.py\u001b[0m in \u001b[0;36mradius_neighbors\u001b[1;34m(self, X, radius, return_distance, sort_results)\u001b[0m\n\u001b[0;32m    966\u001b[0m                 \u001b[0mparallel_kwargs\u001b[0m \u001b[1;33m=\u001b[0m \u001b[1;33m{\u001b[0m\u001b[1;34m\"prefer\"\u001b[0m\u001b[1;33m:\u001b[0m \u001b[1;34m\"threads\"\u001b[0m\u001b[1;33m}\u001b[0m\u001b[1;33m\u001b[0m\u001b[1;33m\u001b[0m\u001b[0m\n\u001b[0;32m    967\u001b[0m \u001b[1;33m\u001b[0m\u001b[0m\n\u001b[1;32m--> 968\u001b[1;33m             chunked_results = Parallel(n_jobs, **parallel_kwargs)(\n\u001b[0m\u001b[0;32m    969\u001b[0m                 delayed_query(self._tree, X[s], radius, return_distance,\n\u001b[0;32m    970\u001b[0m                               sort_results=sort_results)\n",
      "\u001b[1;32m~\\anaconda3\\lib\\site-packages\\joblib\\parallel.py\u001b[0m in \u001b[0;36m__call__\u001b[1;34m(self, iterable)\u001b[0m\n\u001b[0;32m   1041\u001b[0m             \u001b[1;31m# remaining jobs.\u001b[0m\u001b[1;33m\u001b[0m\u001b[1;33m\u001b[0m\u001b[1;33m\u001b[0m\u001b[0m\n\u001b[0;32m   1042\u001b[0m             \u001b[0mself\u001b[0m\u001b[1;33m.\u001b[0m\u001b[0m_iterating\u001b[0m \u001b[1;33m=\u001b[0m \u001b[1;32mFalse\u001b[0m\u001b[1;33m\u001b[0m\u001b[1;33m\u001b[0m\u001b[0m\n\u001b[1;32m-> 1043\u001b[1;33m             \u001b[1;32mif\u001b[0m \u001b[0mself\u001b[0m\u001b[1;33m.\u001b[0m\u001b[0mdispatch_one_batch\u001b[0m\u001b[1;33m(\u001b[0m\u001b[0miterator\u001b[0m\u001b[1;33m)\u001b[0m\u001b[1;33m:\u001b[0m\u001b[1;33m\u001b[0m\u001b[1;33m\u001b[0m\u001b[0m\n\u001b[0m\u001b[0;32m   1044\u001b[0m                 \u001b[0mself\u001b[0m\u001b[1;33m.\u001b[0m\u001b[0m_iterating\u001b[0m \u001b[1;33m=\u001b[0m \u001b[0mself\u001b[0m\u001b[1;33m.\u001b[0m\u001b[0m_original_iterator\u001b[0m \u001b[1;32mis\u001b[0m \u001b[1;32mnot\u001b[0m \u001b[1;32mNone\u001b[0m\u001b[1;33m\u001b[0m\u001b[1;33m\u001b[0m\u001b[0m\n\u001b[0;32m   1045\u001b[0m \u001b[1;33m\u001b[0m\u001b[0m\n",
      "\u001b[1;32m~\\anaconda3\\lib\\site-packages\\joblib\\parallel.py\u001b[0m in \u001b[0;36mdispatch_one_batch\u001b[1;34m(self, iterator)\u001b[0m\n\u001b[0;32m    859\u001b[0m                 \u001b[1;32mreturn\u001b[0m \u001b[1;32mFalse\u001b[0m\u001b[1;33m\u001b[0m\u001b[1;33m\u001b[0m\u001b[0m\n\u001b[0;32m    860\u001b[0m             \u001b[1;32melse\u001b[0m\u001b[1;33m:\u001b[0m\u001b[1;33m\u001b[0m\u001b[1;33m\u001b[0m\u001b[0m\n\u001b[1;32m--> 861\u001b[1;33m                 \u001b[0mself\u001b[0m\u001b[1;33m.\u001b[0m\u001b[0m_dispatch\u001b[0m\u001b[1;33m(\u001b[0m\u001b[0mtasks\u001b[0m\u001b[1;33m)\u001b[0m\u001b[1;33m\u001b[0m\u001b[1;33m\u001b[0m\u001b[0m\n\u001b[0m\u001b[0;32m    862\u001b[0m                 \u001b[1;32mreturn\u001b[0m \u001b[1;32mTrue\u001b[0m\u001b[1;33m\u001b[0m\u001b[1;33m\u001b[0m\u001b[0m\n\u001b[0;32m    863\u001b[0m \u001b[1;33m\u001b[0m\u001b[0m\n",
      "\u001b[1;32m~\\anaconda3\\lib\\site-packages\\joblib\\parallel.py\u001b[0m in \u001b[0;36m_dispatch\u001b[1;34m(self, batch)\u001b[0m\n\u001b[0;32m    777\u001b[0m         \u001b[1;32mwith\u001b[0m \u001b[0mself\u001b[0m\u001b[1;33m.\u001b[0m\u001b[0m_lock\u001b[0m\u001b[1;33m:\u001b[0m\u001b[1;33m\u001b[0m\u001b[1;33m\u001b[0m\u001b[0m\n\u001b[0;32m    778\u001b[0m             \u001b[0mjob_idx\u001b[0m \u001b[1;33m=\u001b[0m \u001b[0mlen\u001b[0m\u001b[1;33m(\u001b[0m\u001b[0mself\u001b[0m\u001b[1;33m.\u001b[0m\u001b[0m_jobs\u001b[0m\u001b[1;33m)\u001b[0m\u001b[1;33m\u001b[0m\u001b[1;33m\u001b[0m\u001b[0m\n\u001b[1;32m--> 779\u001b[1;33m             \u001b[0mjob\u001b[0m \u001b[1;33m=\u001b[0m \u001b[0mself\u001b[0m\u001b[1;33m.\u001b[0m\u001b[0m_backend\u001b[0m\u001b[1;33m.\u001b[0m\u001b[0mapply_async\u001b[0m\u001b[1;33m(\u001b[0m\u001b[0mbatch\u001b[0m\u001b[1;33m,\u001b[0m \u001b[0mcallback\u001b[0m\u001b[1;33m=\u001b[0m\u001b[0mcb\u001b[0m\u001b[1;33m)\u001b[0m\u001b[1;33m\u001b[0m\u001b[1;33m\u001b[0m\u001b[0m\n\u001b[0m\u001b[0;32m    780\u001b[0m             \u001b[1;31m# A job can complete so quickly than its callback is\u001b[0m\u001b[1;33m\u001b[0m\u001b[1;33m\u001b[0m\u001b[1;33m\u001b[0m\u001b[0m\n\u001b[0;32m    781\u001b[0m             \u001b[1;31m# called before we get here, causing self._jobs to\u001b[0m\u001b[1;33m\u001b[0m\u001b[1;33m\u001b[0m\u001b[1;33m\u001b[0m\u001b[0m\n",
      "\u001b[1;32m~\\anaconda3\\lib\\site-packages\\joblib\\_parallel_backends.py\u001b[0m in \u001b[0;36mapply_async\u001b[1;34m(self, func, callback)\u001b[0m\n\u001b[0;32m    206\u001b[0m     \u001b[1;32mdef\u001b[0m \u001b[0mapply_async\u001b[0m\u001b[1;33m(\u001b[0m\u001b[0mself\u001b[0m\u001b[1;33m,\u001b[0m \u001b[0mfunc\u001b[0m\u001b[1;33m,\u001b[0m \u001b[0mcallback\u001b[0m\u001b[1;33m=\u001b[0m\u001b[1;32mNone\u001b[0m\u001b[1;33m)\u001b[0m\u001b[1;33m:\u001b[0m\u001b[1;33m\u001b[0m\u001b[1;33m\u001b[0m\u001b[0m\n\u001b[0;32m    207\u001b[0m         \u001b[1;34m\"\"\"Schedule a func to be run\"\"\"\u001b[0m\u001b[1;33m\u001b[0m\u001b[1;33m\u001b[0m\u001b[0m\n\u001b[1;32m--> 208\u001b[1;33m         \u001b[0mresult\u001b[0m \u001b[1;33m=\u001b[0m \u001b[0mImmediateResult\u001b[0m\u001b[1;33m(\u001b[0m\u001b[0mfunc\u001b[0m\u001b[1;33m)\u001b[0m\u001b[1;33m\u001b[0m\u001b[1;33m\u001b[0m\u001b[0m\n\u001b[0m\u001b[0;32m    209\u001b[0m         \u001b[1;32mif\u001b[0m \u001b[0mcallback\u001b[0m\u001b[1;33m:\u001b[0m\u001b[1;33m\u001b[0m\u001b[1;33m\u001b[0m\u001b[0m\n\u001b[0;32m    210\u001b[0m             \u001b[0mcallback\u001b[0m\u001b[1;33m(\u001b[0m\u001b[0mresult\u001b[0m\u001b[1;33m)\u001b[0m\u001b[1;33m\u001b[0m\u001b[1;33m\u001b[0m\u001b[0m\n",
      "\u001b[1;32m~\\anaconda3\\lib\\site-packages\\joblib\\_parallel_backends.py\u001b[0m in \u001b[0;36m__init__\u001b[1;34m(self, batch)\u001b[0m\n\u001b[0;32m    570\u001b[0m         \u001b[1;31m# Don't delay the application, to avoid keeping the input\u001b[0m\u001b[1;33m\u001b[0m\u001b[1;33m\u001b[0m\u001b[1;33m\u001b[0m\u001b[0m\n\u001b[0;32m    571\u001b[0m         \u001b[1;31m# arguments in memory\u001b[0m\u001b[1;33m\u001b[0m\u001b[1;33m\u001b[0m\u001b[1;33m\u001b[0m\u001b[0m\n\u001b[1;32m--> 572\u001b[1;33m         \u001b[0mself\u001b[0m\u001b[1;33m.\u001b[0m\u001b[0mresults\u001b[0m \u001b[1;33m=\u001b[0m \u001b[0mbatch\u001b[0m\u001b[1;33m(\u001b[0m\u001b[1;33m)\u001b[0m\u001b[1;33m\u001b[0m\u001b[1;33m\u001b[0m\u001b[0m\n\u001b[0m\u001b[0;32m    573\u001b[0m \u001b[1;33m\u001b[0m\u001b[0m\n\u001b[0;32m    574\u001b[0m     \u001b[1;32mdef\u001b[0m \u001b[0mget\u001b[0m\u001b[1;33m(\u001b[0m\u001b[0mself\u001b[0m\u001b[1;33m)\u001b[0m\u001b[1;33m:\u001b[0m\u001b[1;33m\u001b[0m\u001b[1;33m\u001b[0m\u001b[0m\n",
      "\u001b[1;32m~\\anaconda3\\lib\\site-packages\\joblib\\parallel.py\u001b[0m in \u001b[0;36m__call__\u001b[1;34m(self)\u001b[0m\n\u001b[0;32m    260\u001b[0m         \u001b[1;31m# change the default number of processes to -1\u001b[0m\u001b[1;33m\u001b[0m\u001b[1;33m\u001b[0m\u001b[1;33m\u001b[0m\u001b[0m\n\u001b[0;32m    261\u001b[0m         \u001b[1;32mwith\u001b[0m \u001b[0mparallel_backend\u001b[0m\u001b[1;33m(\u001b[0m\u001b[0mself\u001b[0m\u001b[1;33m.\u001b[0m\u001b[0m_backend\u001b[0m\u001b[1;33m,\u001b[0m \u001b[0mn_jobs\u001b[0m\u001b[1;33m=\u001b[0m\u001b[0mself\u001b[0m\u001b[1;33m.\u001b[0m\u001b[0m_n_jobs\u001b[0m\u001b[1;33m)\u001b[0m\u001b[1;33m:\u001b[0m\u001b[1;33m\u001b[0m\u001b[1;33m\u001b[0m\u001b[0m\n\u001b[1;32m--> 262\u001b[1;33m             return [func(*args, **kwargs)\n\u001b[0m\u001b[0;32m    263\u001b[0m                     for func, args, kwargs in self.items]\n\u001b[0;32m    264\u001b[0m \u001b[1;33m\u001b[0m\u001b[0m\n",
      "\u001b[1;32m~\\anaconda3\\lib\\site-packages\\joblib\\parallel.py\u001b[0m in \u001b[0;36m<listcomp>\u001b[1;34m(.0)\u001b[0m\n\u001b[0;32m    260\u001b[0m         \u001b[1;31m# change the default number of processes to -1\u001b[0m\u001b[1;33m\u001b[0m\u001b[1;33m\u001b[0m\u001b[1;33m\u001b[0m\u001b[0m\n\u001b[0;32m    261\u001b[0m         \u001b[1;32mwith\u001b[0m \u001b[0mparallel_backend\u001b[0m\u001b[1;33m(\u001b[0m\u001b[0mself\u001b[0m\u001b[1;33m.\u001b[0m\u001b[0m_backend\u001b[0m\u001b[1;33m,\u001b[0m \u001b[0mn_jobs\u001b[0m\u001b[1;33m=\u001b[0m\u001b[0mself\u001b[0m\u001b[1;33m.\u001b[0m\u001b[0m_n_jobs\u001b[0m\u001b[1;33m)\u001b[0m\u001b[1;33m:\u001b[0m\u001b[1;33m\u001b[0m\u001b[1;33m\u001b[0m\u001b[0m\n\u001b[1;32m--> 262\u001b[1;33m             return [func(*args, **kwargs)\n\u001b[0m\u001b[0;32m    263\u001b[0m                     for func, args, kwargs in self.items]\n\u001b[0;32m    264\u001b[0m \u001b[1;33m\u001b[0m\u001b[0m\n",
      "\u001b[1;32m~\\anaconda3\\lib\\site-packages\\sklearn\\neighbors\\_base.py\u001b[0m in \u001b[0;36m_tree_query_radius_parallel_helper\u001b[1;34m(tree, *args, **kwargs)\u001b[0m\n\u001b[0;32m    788\u001b[0m     \u001b[0mcloudpickle\u001b[0m \u001b[0munder\u001b[0m \u001b[0mPyPy\u001b[0m\u001b[1;33m.\u001b[0m\u001b[1;33m\u001b[0m\u001b[1;33m\u001b[0m\u001b[0m\n\u001b[0;32m    789\u001b[0m     \"\"\"\n\u001b[1;32m--> 790\u001b[1;33m     \u001b[1;32mreturn\u001b[0m \u001b[0mtree\u001b[0m\u001b[1;33m.\u001b[0m\u001b[0mquery_radius\u001b[0m\u001b[1;33m(\u001b[0m\u001b[1;33m*\u001b[0m\u001b[0margs\u001b[0m\u001b[1;33m,\u001b[0m \u001b[1;33m**\u001b[0m\u001b[0mkwargs\u001b[0m\u001b[1;33m)\u001b[0m\u001b[1;33m\u001b[0m\u001b[1;33m\u001b[0m\u001b[0m\n\u001b[0m\u001b[0;32m    791\u001b[0m \u001b[1;33m\u001b[0m\u001b[0m\n\u001b[0;32m    792\u001b[0m \u001b[1;33m\u001b[0m\u001b[0m\n",
      "\u001b[1;32msklearn\\neighbors\\_binary_tree.pxi\u001b[0m in \u001b[0;36msklearn.neighbors._kd_tree.BinaryTree.query_radius\u001b[1;34m()\u001b[0m\n",
      "\u001b[1;32msklearn\\neighbors\\_binary_tree.pxi\u001b[0m in \u001b[0;36msklearn.neighbors._kd_tree.BinaryTree.query_radius\u001b[1;34m()\u001b[0m\n",
      "\u001b[1;31mMemoryError\u001b[0m: "
     ]
    }
   ],
   "source": [
    "dbscan = DBSCAN(eps=5, min_samples=10)\n",
    "dbscan.fit(df_scaled)\n",
    "\n",
    "labels = dbscan.labels_\n",
    "\n",
    "# Creating a numpy array with all values set to false by default\n",
    "core_samples_mask = np.zeros_like(labels, dtype=bool)\n",
    "# Setting core and border points (all points that are not -1) to True\n",
    "core_samples_mask[dbscan.core_sample_indices_] = True\n",
    "# Finding the number of clusters in labels (ignoring noise if present)\n",
    "n_clusters_ = len(set(labels)) - (1 if -1 in labels else 0)\n",
    "n_noise_ = list(labels).count(-1)\n",
    "# Printing the number of clusters and number of noise points (outliers)\n",
    "print(\"Estimated number of clusters: %d\" % n_clusters_)\n",
    "print(\"Estimated number of noise points: %d\" % n_noise_)\n",
    "# Evaluating the quality of clusters\n",
    "s = metrics.silhouette_score(X, dbscan.labels_)\n",
    "print(f\"Silhouette Coefficient: {s:.2f}\")"
   ]
  }
 ],
 "metadata": {
  "kernelspec": {
   "display_name": "Python 3 (ipykernel)",
   "language": "python",
   "name": "python3"
  },
  "language_info": {
   "codemirror_mode": {
    "name": "ipython",
    "version": 3
   },
   "file_extension": ".py",
   "mimetype": "text/x-python",
   "name": "python",
   "nbconvert_exporter": "python",
   "pygments_lexer": "ipython3",
   "version": "3.8.5"
  }
 },
 "nbformat": 4,
 "nbformat_minor": 5
}
