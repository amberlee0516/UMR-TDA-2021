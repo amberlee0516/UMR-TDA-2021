{
 "cells": [
  {
   "cell_type": "markdown",
   "id": "intelligent-kenya",
   "metadata": {},
   "source": [
    "# Temporal Correlation Function"
   ]
  },
  {
   "cell_type": "markdown",
   "id": "drawn-airplane",
   "metadata": {},
   "source": [
    "To understand how sections of the river change states and how stable each state is, we calculate a correlation function between each pool-state pair"
   ]
  },
  {
   "cell_type": "markdown",
   "id": "transparent-trance",
   "metadata": {},
   "source": [
    "### Imports"
   ]
  },
  {
   "cell_type": "code",
   "execution_count": 60,
   "id": "fallen-ocean",
   "metadata": {},
   "outputs": [],
   "source": [
    "import pandas as pd\n",
    "import pickle as pk\n",
    "import matplotlib.pyplot as plt\n",
    "import math\n",
    "from bisect import bisect\n",
    "import numpy as np\n",
    "from datetime import datetime"
   ]
  },
  {
   "cell_type": "markdown",
   "id": "developmental-mount",
   "metadata": {},
   "source": [
    "### Get Scomplex and associated Dataframe for all data output"
   ]
  },
  {
   "cell_type": "code",
   "execution_count": 61,
   "id": "about-anthropology",
   "metadata": {},
   "outputs": [],
   "source": [
    "# This Data Frame should include boolean columns for each state\n",
    "#df = pk.load(open(\"LTRM_df.p\",'rb'))\n",
    "df = pd.read_csv(r\"..\\LTRM data\\LTRM_states.csv\")\n",
    "scomplex = pk.load(open(\"LTRM_scomplex.p\",'rb'))"
   ]
  },
  {
   "cell_type": "code",
   "execution_count": 62,
   "id": "removed-webster",
   "metadata": {
    "scrolled": false
   },
   "outputs": [
    {
     "data": {
      "text/plain": [
       "Index(['WDP', 'TEMP', 'DO', 'VEL', 'TP', 'TN', 'SS', 'CHLcal', 'SHEETBAR',\n",
       "       'DATE', 'LATTITUDE', 'LONGITUDE', 'FLDNUM', 'STRATUM', 'LOCATCD',\n",
       "       'YEAR', 'SEASON', '1993-2000', '1898-2004', '2001-2013', '2010-2016',\n",
       "       '2014-2020', 'Backwater area contiguous to the main channel',\n",
       "       'Impounded', 'Isolated', 'Lake Pepin or Swan Lake', 'Main channel',\n",
       "       'Side channel', 'Unexploded Ordinance Area - Pool 13', 'Bellevue, IA',\n",
       "       'Brighton, IL', 'Havana, IL', 'Jackson, MO', 'Lake City, MN',\n",
       "       'Onalaska, WI', 'WDP_unscaled', 'TEMP_unscaled', 'DO_unscaled',\n",
       "       'VEL_unscaled', 'TP_unscaled', 'TN_unscaled', 'SS_unscaled',\n",
       "       'CHLcal_unscaled', 'WDP_color', 'TEMP_color', 'DO_color', 'VEL_color',\n",
       "       'TP_color', 'TN_color', 'SS_color', 'CHLcal_color', 'State 1',\n",
       "       'State 3', 'State 2', 'State 4', 'State 5', 'Transition', 'State'],\n",
       "      dtype='object')"
      ]
     },
     "execution_count": 62,
     "metadata": {},
     "output_type": "execute_result"
    }
   ],
   "source": [
    "df.columns"
   ]
  },
  {
   "cell_type": "markdown",
   "id": "982d08c4",
   "metadata": {},
   "source": [
    "Checking how many points are in each state"
   ]
  },
  {
   "cell_type": "code",
   "execution_count": 63,
   "id": "0f39e935",
   "metadata": {
    "scrolled": true
   },
   "outputs": [
    {
     "name": "stdout",
     "output_type": "stream",
     "text": [
      "Num points in  State 1   143\n",
      "Num points in  State 2   15420\n",
      "Num points in  State 3   1150\n",
      "Num points in  State 4   216\n",
      "Num points in  State 5   65468\n",
      "Num points in  Transition   2056\n"
     ]
    }
   ],
   "source": [
    "states = [\"State 1\",\"State 2\",\"State 3\",\"State 4\",\"State 5\",\"Transition\"]\n",
    "for state in states:\n",
    "    print(\"Num points in \",state,\" \",df[state].sum())"
   ]
  },
  {
   "cell_type": "code",
   "execution_count": 64,
   "id": "4fb93f39",
   "metadata": {
    "scrolled": true
   },
   "outputs": [
    {
     "data": {
      "text/html": [
       "<div>\n",
       "<style scoped>\n",
       "    .dataframe tbody tr th:only-of-type {\n",
       "        vertical-align: middle;\n",
       "    }\n",
       "\n",
       "    .dataframe tbody tr th {\n",
       "        vertical-align: top;\n",
       "    }\n",
       "\n",
       "    .dataframe thead th {\n",
       "        text-align: right;\n",
       "    }\n",
       "</style>\n",
       "<table border=\"1\" class=\"dataframe\">\n",
       "  <thead>\n",
       "    <tr style=\"text-align: right;\">\n",
       "      <th></th>\n",
       "      <th>WDP</th>\n",
       "      <th>TEMP</th>\n",
       "      <th>DO</th>\n",
       "      <th>VEL</th>\n",
       "      <th>TP</th>\n",
       "      <th>TN</th>\n",
       "      <th>SS</th>\n",
       "      <th>CHLcal</th>\n",
       "      <th>SHEETBAR</th>\n",
       "      <th>DATE</th>\n",
       "      <th>...</th>\n",
       "      <th>TN_color</th>\n",
       "      <th>SS_color</th>\n",
       "      <th>CHLcal_color</th>\n",
       "      <th>State 1</th>\n",
       "      <th>State 3</th>\n",
       "      <th>State 2</th>\n",
       "      <th>State 4</th>\n",
       "      <th>State 5</th>\n",
       "      <th>Transition</th>\n",
       "      <th>State</th>\n",
       "    </tr>\n",
       "  </thead>\n",
       "  <tbody>\n",
       "  </tbody>\n",
       "</table>\n",
       "<p>0 rows × 58 columns</p>\n",
       "</div>"
      ],
      "text/plain": [
       "Empty DataFrame\n",
       "Columns: [WDP, TEMP, DO, VEL, TP, TN, SS, CHLcal, SHEETBAR, DATE, LATTITUDE, LONGITUDE, FLDNUM, STRATUM, LOCATCD, YEAR, SEASON, 1993-2000, 1898-2004, 2001-2013, 2010-2016, 2014-2020, Backwater area contiguous to the main channel, Impounded, Isolated, Lake Pepin or Swan Lake, Main channel, Side channel, Unexploded Ordinance Area - Pool 13, Bellevue, IA, Brighton, IL, Havana, IL, Jackson, MO, Lake City, MN, Onalaska, WI, WDP_unscaled, TEMP_unscaled, DO_unscaled, VEL_unscaled, TP_unscaled, TN_unscaled, SS_unscaled, CHLcal_unscaled, WDP_color, TEMP_color, DO_color, VEL_color, TP_color, TN_color, SS_color, CHLcal_color, State 1, State 3, State 2, State 4, State 5, Transition, State]\n",
       "Index: []\n",
       "\n",
       "[0 rows x 58 columns]"
      ]
     },
     "execution_count": 64,
     "metadata": {},
     "output_type": "execute_result"
    }
   ],
   "source": [
    "df[(df[\"State 5\"]==1) &(df[\"Transition\"]==1)]"
   ]
  },
  {
   "cell_type": "code",
   "execution_count": 65,
   "id": "danish-writing",
   "metadata": {
    "scrolled": false
   },
   "outputs": [
    {
     "name": "stdout",
     "output_type": "stream",
     "text": [
      "Before removing transition nodes and nodes not in main complex (76669, 58)\n",
      "After removing transition nodes and nodes not in main complex (74613, 58)\n"
     ]
    },
    {
     "data": {
      "text/html": [
       "<div>\n",
       "<style scoped>\n",
       "    .dataframe tbody tr th:only-of-type {\n",
       "        vertical-align: middle;\n",
       "    }\n",
       "\n",
       "    .dataframe tbody tr th {\n",
       "        vertical-align: top;\n",
       "    }\n",
       "\n",
       "    .dataframe thead th {\n",
       "        text-align: right;\n",
       "    }\n",
       "</style>\n",
       "<table border=\"1\" class=\"dataframe\">\n",
       "  <thead>\n",
       "    <tr style=\"text-align: right;\">\n",
       "      <th></th>\n",
       "      <th>DATE</th>\n",
       "      <th>SEASON</th>\n",
       "    </tr>\n",
       "  </thead>\n",
       "  <tbody>\n",
       "    <tr>\n",
       "      <th>64789</th>\n",
       "      <td>1993-07-12</td>\n",
       "      <td>2</td>\n",
       "    </tr>\n",
       "    <tr>\n",
       "      <th>64790</th>\n",
       "      <td>1993-07-12</td>\n",
       "      <td>2</td>\n",
       "    </tr>\n",
       "    <tr>\n",
       "      <th>64791</th>\n",
       "      <td>1993-07-12</td>\n",
       "      <td>2</td>\n",
       "    </tr>\n",
       "    <tr>\n",
       "      <th>64792</th>\n",
       "      <td>1993-07-12</td>\n",
       "      <td>2</td>\n",
       "    </tr>\n",
       "    <tr>\n",
       "      <th>64793</th>\n",
       "      <td>1993-07-12</td>\n",
       "      <td>2</td>\n",
       "    </tr>\n",
       "    <tr>\n",
       "      <th>...</th>\n",
       "      <td>...</td>\n",
       "      <td>...</td>\n",
       "    </tr>\n",
       "    <tr>\n",
       "      <th>52342</th>\n",
       "      <td>2020-10-27</td>\n",
       "      <td>3</td>\n",
       "    </tr>\n",
       "    <tr>\n",
       "      <th>52343</th>\n",
       "      <td>2020-10-27</td>\n",
       "      <td>3</td>\n",
       "    </tr>\n",
       "    <tr>\n",
       "      <th>52344</th>\n",
       "      <td>2020-10-27</td>\n",
       "      <td>3</td>\n",
       "    </tr>\n",
       "    <tr>\n",
       "      <th>52345</th>\n",
       "      <td>2020-10-27</td>\n",
       "      <td>3</td>\n",
       "    </tr>\n",
       "    <tr>\n",
       "      <th>52346</th>\n",
       "      <td>2020-10-27</td>\n",
       "      <td>3</td>\n",
       "    </tr>\n",
       "  </tbody>\n",
       "</table>\n",
       "<p>74613 rows × 2 columns</p>\n",
       "</div>"
      ],
      "text/plain": [
       "            DATE  SEASON\n",
       "64789 1993-07-12       2\n",
       "64790 1993-07-12       2\n",
       "64791 1993-07-12       2\n",
       "64792 1993-07-12       2\n",
       "64793 1993-07-12       2\n",
       "...          ...     ...\n",
       "52342 2020-10-27       3\n",
       "52343 2020-10-27       3\n",
       "52344 2020-10-27       3\n",
       "52345 2020-10-27       3\n",
       "52346 2020-10-27       3\n",
       "\n",
       "[74613 rows x 2 columns]"
      ]
     },
     "execution_count": 65,
     "metadata": {},
     "output_type": "execute_result"
    }
   ],
   "source": [
    "# Change date format so it can be sorted\n",
    "df[\"DATE\"] = pd.to_datetime(df.DATE)\n",
    "\n",
    "print(\"Before removing transition nodes and nodes not in main complex\",df.shape)\n",
    "# Remove data that is not part of the main simplicial complex\n",
    "df = df[(df[\"State 1\"]==1)|(df[\"State 2\"]==1)|(df[\"State 3\"]==1)|(df[\"State 4\"]==1)|(df[\"State 5\"]==1)]\n",
    "# Sort by date\n",
    "df.sort_values(by=\"DATE\",inplace = True)\n",
    "print(\"After removing transition nodes and nodes not in main complex\",df.shape)\n",
    "df[[\"DATE\",\"SEASON\"]]"
   ]
  },
  {
   "cell_type": "code",
   "execution_count": 34,
   "id": "94445bb4",
   "metadata": {},
   "outputs": [
    {
     "data": {
      "text/plain": [
       "Timestamp('2020-10-27 00:00:00')"
      ]
     },
     "execution_count": 34,
     "metadata": {},
     "output_type": "execute_result"
    }
   ],
   "source": [
    "max([date for date in df[\"DATE\"]])"
   ]
  },
  {
   "cell_type": "code",
   "execution_count": 66,
   "id": "eastern-provider",
   "metadata": {},
   "outputs": [
    {
     "data": {
      "text/plain": [
       "array([1993, 1994, 1995, 1996, 1997, 1998, 1999, 2000, 2001, 2002, 2004,\n",
       "       2005, 2006, 2007, 2008, 2009, 2010, 2011, 2012, 2013, 2014, 2015,\n",
       "       2016, 2017, 2018, 2019, 2020], dtype=int64)"
      ]
     },
     "execution_count": 66,
     "metadata": {},
     "output_type": "execute_result"
    }
   ],
   "source": [
    "# Just for reference of which months are which seasons ---- WINTER SPLITS THE YEAR\n",
    "month_toseason = {3:1,4:1,5:1,6:2,7:2,8:2,9:3,10:3,11:3,12:4,1:4,2:4}\n",
    "df[\"YEAR\"].unique()"
   ]
  },
  {
   "cell_type": "markdown",
   "id": "sonic-litigation",
   "metadata": {},
   "source": [
    "### Functions"
   ]
  },
  {
   "cell_type": "code",
   "execution_count": 67,
   "id": "accepting-liver",
   "metadata": {},
   "outputs": [
    {
     "name": "stdout",
     "output_type": "stream",
     "text": [
      "Functions Loaded\n"
     ]
    }
   ],
   "source": [
    "'''\n",
    "When given a series of points, this function will return\n",
    "the smoothed continuous version by applying a weighted average to \n",
    "'window' number of points around it. The average will be computed by \n",
    "using inverse distance from the neighbor points. Arrays x and y must\n",
    "be the same length.\n",
    "\n",
    "X: is the sorted list of times\n",
    "Y: is the discrete value\n",
    "\n",
    "'''\n",
    "def IDW_smoothing(t,X,Y,window = 4):\n",
    "    # Get indices and values of average\n",
    "    # upper is the index of the nearest greater value\n",
    "    upper = bisect(X,t)\n",
    "    \n",
    "    # Weights to apply to average values\n",
    "    weights = np.zeros(window)\n",
    "    # Recorded values of the window points\n",
    "    values = np.zeros(window)\n",
    "    # Distances of window points from t\n",
    "    distances = np.zeros(window)\n",
    "    \n",
    "    # Handle beginning and end cases\n",
    "    if t==0:\n",
    "        return Y[0]\n",
    "    if upper == len(X):\n",
    "        return Y[-1]\n",
    "    \n",
    "    # At the beginning or end cases, just smooth based on 2 points\n",
    "    if upper-(window//2)<0 or upper-1+(window//2)>len(X)-1:\n",
    "        #print(len(X)-1,upper,X[upper-1],t)\n",
    "        dist1 = abs(X[upper-1]-t)\n",
    "        dist2 = abs(X[upper]-t)\n",
    "        if dist1==0:\n",
    "            return Y[upper-1]\n",
    "        elif dist2==0:\n",
    "            return Y[upper]\n",
    "        else:\n",
    "            denominator = 1/dist1+1/dist2\n",
    "            \n",
    "            return (Y[upper-1]*(1/dist1)/denominator)+(Y[upper]*(1/dist2)/denominator)\n",
    "\n",
    "    \n",
    "    if window%2==0:\n",
    "        for i in range(window):\n",
    "            dist = abs(X[i+upper-(window//2)]-t)\n",
    "            val = Y[i+upper-(window//2)]\n",
    "            if dist == 0:\n",
    "                return val\n",
    "    \n",
    "            distances[i] = dist\n",
    "            values[i] = val\n",
    "        \n",
    "        denominator = 0\n",
    "        for dist in distances:\n",
    "            denominator += 1/dist\n",
    "        \n",
    "        for i,dist in enumerate(distances):\n",
    "            weights[i] = (1/dist)/denominator\n",
    "                        \n",
    "        return (sum([weights[i]*values[i] for i in range(window)]))\n",
    "    \n",
    "    else:\n",
    "        raise Exception(\"Not implemented for odd number window yet\")\n",
    "        \n",
    "def pandas_smoothing(X,Y,window=4):\n",
    "    # Make a dataframe\n",
    "    df = pd.DataFrame({\"Time\":X,\"Value\":Y})\n",
    "    df.sort_values(by=\"Time\",inplace=True)\n",
    "    \n",
    "    # Calculate moving average\n",
    "    df[\"Moving Avg\"] = df.rolling(window,center=True,win_type='gaussian').mean(std=30)\n",
    "    \n",
    "    return df\n",
    "\n",
    "'''\n",
    "This function applies gaussian smoothing interpolation between points to\n",
    "smooth out the time series\n",
    "\n",
    "dates: The times of points recorded (list)\n",
    "values: The correlation values\n",
    "window: the number of days to smooth by (how many days forward and backward should affect the smoothed value)?\n",
    "        default = 60\n",
    "num_smoothed: Number of points to plot total (recorded points + interpolated points)\n",
    "        default = 300\n",
    "\n",
    "'''\n",
    "def manual_gauss(dates,values,window=60,num_smoothed=300):\n",
    "    # Make a dataframe\n",
    "    df = pd.DataFrame({\"Time\":dates,\"Value\":values})\n",
    "    df.sort_values(by=\"Time\",inplace=True)\n",
    "    \n",
    "    # Creating new data for smoothing\n",
    "    begin = df[\"Time\"].iloc[0]\n",
    "    end = df[\"Time\"].iloc[-1]\n",
    "    delta = (end-begin)/num_smoothed\n",
    "    \n",
    "    # Generate new interpolated dates\n",
    "    new_X = []\n",
    "    for i in range(0,num_smoothed+1):\n",
    "        new_X.append(begin+i*delta)\n",
    "        \n",
    "    # Calculate smoothed values for interpolated dates\n",
    "    new_Y = []\n",
    "    for date in new_X:\n",
    "        # Calculate kernel values for this window\n",
    "        df['gkv'] = np.exp(-(((df['Time'] - date).apply(lambda x: x.days)) ** 2) / (2 * (window ** 2)))\n",
    "        \n",
    "        # Scale??\n",
    "        df['gkv'] /= df['gkv'].sum()\n",
    "        new_Y.append(sum(df['Value']*df['gkv']))\n",
    "    \n",
    "    return pd.DataFrame({\"New_X\":new_X,\"New_Y\":new_Y})\n",
    "\n",
    "'''\n",
    "This function takes a pool, startyear, then outputs the correlation function for state changes\n",
    "since this starting year\n",
    "\n",
    "FLDNUM: The pool we want the correlation function for (string)\n",
    "startyear: The starting year to plot the function from, always starting in spring of that year\n",
    "            because winter includes december from last year (int)\n",
    "            default = 1993\n",
    "smooth_window: The number of days to smooth the interpolated value by. (how many days forward and backward should affect the smoothed value) (float)\n",
    "            default = None (no smoothing, points connected by straight lines)\n",
    "\n",
    "return: The matplotlib axes of the correlation plot\n",
    "'''\n",
    "def get_correlation_plot(FLDNUM,startyear=1993,endyear=2021,smooth_window=None):\n",
    "    # Get the data from this pool and sort by date\n",
    "    pool_sorted = df[(df.FLDNUM==FLDNUM)&(df.YEAR>=startyear)&(df.YEAR<=endyear)].copy()\n",
    "    \n",
    "    # Get the starting season for this dataframe\n",
    "    start_month = pool_sorted[\"DATE\"].iloc[0].month\n",
    "    start_szn = month_toseason[start_month]\n",
    "    \n",
    "    # Dates for plotting on x axis (pd.Timestamps)\n",
    "    dates = []\n",
    "\n",
    "    # Lists for proportions of points in each state\n",
    "    State1 = []\n",
    "    State2 = []\n",
    "    State3 = []\n",
    "    State4 = []\n",
    "    State5 = []\n",
    "    \n",
    "    year = startyear\n",
    "    season = start_szn\n",
    "    # Get state proportions for each \"snapshot\" in time\n",
    "    while year >= min(pool_sorted[\"YEAR\"]) and year <= max(pool_sorted[\"YEAR\"]):\n",
    "        # Get snapshot\n",
    "        if season!=4:\n",
    "            snap_df = pool_sorted[(pool_sorted[\"YEAR\"]==year)&(pool_sorted[\"SEASON\"]==season)]\n",
    "        else:\n",
    "            # Handle winter splitting up the years\n",
    "            begin_szn = pd.Timestamp(year=year,month=12,day=1)\n",
    "            end_szn = pd.Timestamp(year=year+1,month=3,day=1)\n",
    "            snap_df = pool_sorted[(pool_sorted[\"DATE\"]>begin_szn)&(pool_sorted[\"DATE\"]<end_szn)]\n",
    "\n",
    "        # Average dates in this period\n",
    "        date = snap_df[\"DATE\"].mean()\n",
    "        \n",
    "        # If there is no data in this year and season, skip it\n",
    "        if snap_df.shape[0]==0:\n",
    "            print(\"No data for \",year,\" \",season)\n",
    "            season+=1\n",
    "            # Reset szn to spring if it was winter\n",
    "            if season==5:\n",
    "                season = 1\n",
    "                year += 1\n",
    "            continue\n",
    "\n",
    "        # Check which states these points are in\n",
    "        S1 = snap_df[\"State 1\"].sum()\n",
    "        S2 = snap_df[\"State 2\"].sum()\n",
    "        S3 = snap_df[\"State 3\"].sum()\n",
    "        S4 = snap_df[\"State 4\"].sum()\n",
    "        S5 = snap_df[\"State 5\"].sum()\n",
    "        \n",
    "        # Possibly checking state transitions?\n",
    "        #if S2>S1 or S3>S1:\n",
    "        #    print(\"Date of transition: \",date)\n",
    "            \n",
    "        # Find the ratio of the points in this \"snapshot\" that are in each state\n",
    "        State1.append(float(S1/snap_df.shape[0]))\n",
    "        State2.append(float(S2/snap_df.shape[0]))\n",
    "        State3.append(float(S3/snap_df.shape[0]))\n",
    "        State4.append(float(S4/snap_df.shape[0]))\n",
    "        State5.append(float(S5/snap_df.shape[0]))\n",
    "\n",
    "\n",
    "        \n",
    "        # Add this date to the list for plotting\n",
    "        dates.append(date)\n",
    "            \n",
    "        # Check to increment year\n",
    "        if season==4:\n",
    "            year+=1\n",
    "            season=1\n",
    "        else:\n",
    "            season+=1\n",
    "    \n",
    "    # Initialize figure for plotting\n",
    "    fig = plt.figure(figsize=(7,5))\n",
    "    ax = plt.subplot()\n",
    "    \n",
    "    # Plot recorded values of correlation function\n",
    "    ax.scatter(dates,State1,color=\"blue\",s=10)\n",
    "    ax.scatter(dates,State2,color=\"red\",s=10)\n",
    "    ax.scatter(dates,State3,color=\"green\",s=10)\n",
    "    ax.scatter(dates,State4,color=\"orange\",s=10)\n",
    "    ax.scatter(dates,State5,color=\"purple\",s=10)\n",
    "    \n",
    "    \n",
    "    plt.xlabel(\"Date\")\n",
    "    plt.ylabel(\"Correlation\")\n",
    "    \n",
    "    if smooth_window:\n",
    "        # Calculate gaussian smoothing\n",
    "        df1 = manual_gauss(dates,State1,smooth_window)\n",
    "        df2 = manual_gauss(dates,State2,smooth_window)\n",
    "        df3 = manual_gauss(dates,State3,smooth_window)\n",
    "        df4 = manual_gauss(dates,State4,smooth_window)\n",
    "        df5 = manual_gauss(dates,State5,smooth_window)\n",
    "        line1, = ax.plot(df1.iloc[:,0],df1.iloc[:,1],color=\"blue\")\n",
    "        line2, = ax.plot(df2.iloc[:,0],df2.iloc[:,1],color=\"red\")\n",
    "        line3, = ax.plot(df3.iloc[:,0],df3.iloc[:,1],color=\"green\")\n",
    "        line4, = ax.plot(df4.iloc[:,0],df4.iloc[:,1],color=\"orange\")\n",
    "        line5, = ax.plot(df5.iloc[:,0],df5.iloc[:,1],color=\"purple\")\n",
    "        \n",
    "    else:\n",
    "        # Connect recorded points with straight line\n",
    "        line1, = ax.plot(dates,State1,color=\"blue\")\n",
    "        line2, = ax.plot(dates,State2,color=\"red\")\n",
    "        line3, = ax.plot(dates,State3,color=\"green\")\n",
    "        line4, = ax.plot(dates,State4,color=\"orange\")\n",
    "        line5, = ax.plot(dates,State5,color=\"purple\")\n",
    "        \n",
    "    # Shrink current axis by 20%\n",
    "    #box = ax.get_position()\n",
    "    #ax.set_position([box.x0, box.y0, box.width * , box.height])\n",
    "    \n",
    "    # Changed in correspondance to Alaina's state definitions\n",
    "    plt.legend(handles=[line1,line2,line3,line4,line5],labels=[\"State 5\",\"State 1\",\"State 3\",\"State 4\",\"State 2\"]\n",
    "              ,bbox_to_anchor=(1.23, 1))\n",
    "              \n",
    "    plt.show()\n",
    "    return fig\n",
    "\n",
    "print(\"Functions Loaded\")"
   ]
  },
  {
   "cell_type": "markdown",
   "id": "3c716469",
   "metadata": {},
   "source": [
    "Testing the average length of time that is condensed into 1 time t"
   ]
  },
  {
   "cell_type": "code",
   "execution_count": 48,
   "id": "bab0931d",
   "metadata": {
    "scrolled": true
   },
   "outputs": [
    {
     "name": "stdout",
     "output_type": "stream",
     "text": [
      "No data for  1995   4\n",
      "No data for  2002   3\n",
      "No data for  2002   4\n",
      "No data for  2003   1\n",
      "No data for  2003   2\n",
      "No data for  2003   3\n",
      "No data for  2020   4\n"
     ]
    }
   ],
   "source": [
    "num_snaps = 0\n",
    "total_ranges = pd.Timedelta(\"0 days\")\n",
    "year = 1993\n",
    "season = 2\n",
    "while year >= min(df[\"YEAR\"]) and year <= max(df[\"YEAR\"]):\n",
    "    # Get snapshot\n",
    "    if season!=4:\n",
    "        snap_df = df[(df[\"YEAR\"]==year)&(df[\"SEASON\"]==season)]\n",
    "    else:\n",
    "        # Handle winter splitting up the years\n",
    "        begin_szn = pd.Timestamp(year=year,month=12,day=1)\n",
    "        end_szn = pd.Timestamp(year=year+1,month=3,day=1)\n",
    "        snap_df = df[(df[\"DATE\"]>begin_szn)&(df[\"DATE\"]<end_szn)]\n",
    "                \n",
    "    # If there is no data in this year and season, skip it\n",
    "    if snap_df.shape[0]==0:\n",
    "        print(\"No data for \",year,\" \",season)\n",
    "        season+=1\n",
    "        # Reset szn to spring if it was winter\n",
    "        if season==5:\n",
    "            season = 1\n",
    "            year += 1\n",
    "        continue\n",
    "    \n",
    "    time_range = max(snap_df[\"DATE\"])-min(snap_df[\"DATE\"])\n",
    "        \n",
    "    # Check to increment year\n",
    "    if season==4:\n",
    "        year+=1\n",
    "        season=1\n",
    "    else:\n",
    "        season+=1\n",
    "        \n",
    "    num_snaps += 1\n",
    "    total_ranges += time_range"
   ]
  },
  {
   "cell_type": "code",
   "execution_count": 51,
   "id": "aceeb118",
   "metadata": {
    "scrolled": true
   },
   "outputs": [
    {
     "data": {
      "text/plain": [
       "Timedelta('15 days 12:13:50.769230769')"
      ]
     },
     "execution_count": 51,
     "metadata": {},
     "output_type": "execute_result"
    }
   ],
   "source": [
    "total_ranges/num_snaps"
   ]
  },
  {
   "cell_type": "markdown",
   "id": "adc49356",
   "metadata": {},
   "source": [
    "Each time t on average represents 15 days. We also want to know how many datapoints on average is collected to represent this \"snapshot\""
   ]
  },
  {
   "cell_type": "code",
   "execution_count": 56,
   "id": "67179ec5",
   "metadata": {},
   "outputs": [
    {
     "name": "stdout",
     "output_type": "stream",
     "text": [
      "No data for  1994   3\n",
      "No data for  1995   4\n",
      "No data for  2002   3\n",
      "No data for  2002   4\n",
      "No data for  2003   1\n",
      "No data for  2003   2\n",
      "No data for  2003   3\n",
      "No data for  2012   1\n",
      "No data for  2020   1\n",
      "No data for  2020   4\n",
      "No data for  1994   3\n",
      "No data for  1995   4\n",
      "No data for  2002   3\n",
      "No data for  2002   4\n",
      "No data for  2003   1\n",
      "No data for  2003   2\n",
      "No data for  2003   3\n",
      "No data for  2020   1\n",
      "No data for  2020   4\n",
      "No data for  1994   3\n",
      "No data for  1995   4\n",
      "No data for  2002   3\n",
      "No data for  2002   4\n",
      "No data for  2003   1\n",
      "No data for  2003   2\n",
      "No data for  2003   3\n",
      "No data for  2020   1\n",
      "No data for  2020   4\n",
      "No data for  1994   3\n",
      "No data for  1995   4\n",
      "No data for  2002   3\n",
      "No data for  2002   4\n",
      "No data for  2003   1\n",
      "No data for  2003   2\n",
      "No data for  2003   3\n",
      "No data for  2020   4\n",
      "No data for  1993   2\n",
      "No data for  1994   3\n",
      "No data for  1994   4\n",
      "No data for  1995   4\n",
      "No data for  2002   3\n",
      "No data for  2002   4\n",
      "No data for  2003   1\n",
      "No data for  2003   2\n",
      "No data for  2003   3\n",
      "No data for  2020   4\n",
      "No data for  1993   2\n",
      "No data for  1995   4\n",
      "No data for  2002   3\n",
      "No data for  2002   4\n",
      "No data for  2003   1\n",
      "No data for  2003   2\n",
      "No data for  2003   3\n",
      "No data for  2020   1\n",
      "No data for  2020   4\n"
     ]
    }
   ],
   "source": [
    "num_snaps = 0\n",
    "num_points = 0\n",
    "\n",
    "for fldnum in df[\"FLDNUM\"].unique():\n",
    "    year = 1993\n",
    "    season = 2\n",
    "    pool_df = df[df[\"FLDNUM\"]==fldnum]\n",
    "    while year >= min(df[\"YEAR\"]) and year <= max(df[\"YEAR\"]):\n",
    "        # Get snapshot\n",
    "        if season!=4:\n",
    "            snap_df = pool_df[(pool_df[\"YEAR\"]==year)&(pool_df[\"SEASON\"]==season)]\n",
    "        else:\n",
    "            # Handle winter splitting up the years\n",
    "            begin_szn = pd.Timestamp(year=year,month=12,day=1)\n",
    "            end_szn = pd.Timestamp(year=year+1,month=3,day=1)\n",
    "            snap_df = pool_df[(pool_df[\"DATE\"]>begin_szn)&(pool_df[\"DATE\"]<end_szn)]\n",
    "\n",
    "        # If there is no data in this year and season, skip it\n",
    "        if snap_df.shape[0]==0:\n",
    "            print(\"No data for \",year,\" \",season)\n",
    "            season+=1\n",
    "            # Reset szn to spring if it was winter\n",
    "            if season==5:\n",
    "                season = 1\n",
    "                year += 1\n",
    "            continue\n",
    "\n",
    "\n",
    "        # Check to increment year\n",
    "        if season==4:\n",
    "            year+=1\n",
    "            season=1\n",
    "        else:\n",
    "            season+=1\n",
    "\n",
    "        num_snaps += 1\n",
    "        num_points += int(snap_df.shape[0])"
   ]
  },
  {
   "cell_type": "code",
   "execution_count": 57,
   "id": "897172a3",
   "metadata": {
    "scrolled": true
   },
   "outputs": [
    {
     "data": {
      "text/plain": [
       "122.11620294599018"
      ]
     },
     "execution_count": 57,
     "metadata": {},
     "output_type": "execute_result"
    }
   ],
   "source": [
    "num_points/num_snaps"
   ]
  },
  {
   "cell_type": "markdown",
   "id": "197f4839",
   "metadata": {},
   "source": [
    "Each snapshot at time t condenses on average 122 datapoints into account to determine the states of the pool."
   ]
  },
  {
   "cell_type": "markdown",
   "id": "aboriginal-share",
   "metadata": {},
   "source": [
    "## Jackson, MO"
   ]
  },
  {
   "cell_type": "markdown",
   "id": "f160bc52",
   "metadata": {},
   "source": [
    "get_correlation_plot(FLDNUM,startyear=1993,endyear=2021,smooth_window=None)"
   ]
  },
  {
   "cell_type": "code",
   "execution_count": 74,
   "id": "complete-bikini",
   "metadata": {
    "scrolled": true
   },
   "outputs": [
    {
     "name": "stdout",
     "output_type": "stream",
     "text": [
      "No data for  1994   3\n",
      "No data for  1994   4\n",
      "No data for  1995   4\n",
      "No data for  2002   3\n",
      "No data for  2002   4\n",
      "No data for  2003   1\n",
      "No data for  2003   2\n",
      "No data for  2003   3\n",
      "No data for  2020   4\n"
     ]
    },
    {
     "data": {
      "image/png": "[encoded data removed]",
      "text/plain": [
       "<Figure size 504x360 with 1 Axes>"
      ]
     },
     "metadata": {
      "needs_background": "light"
     },
     "output_type": "display_data"
    }
   ],
   "source": [
    "fig = get_correlation_plot(\"Jackson, MO\",smooth_window=30)"
   ]
  },
  {
   "cell_type": "markdown",
   "id": "still-medicare",
   "metadata": {},
   "source": [
    "## Havana, IL"
   ]
  },
  {
   "cell_type": "code",
   "execution_count": 73,
   "id": "sufficient-thailand",
   "metadata": {},
   "outputs": [
    {
     "name": "stdout",
     "output_type": "stream",
     "text": [
      "No data for  1994   3\n",
      "No data for  1995   4\n",
      "No data for  2002   3\n",
      "No data for  2002   4\n",
      "No data for  2003   1\n",
      "No data for  2003   2\n",
      "No data for  2003   3\n",
      "No data for  2012   1\n",
      "No data for  2020   1\n",
      "No data for  2020   4\n"
     ]
    },
    {
     "data": {
      "image/png": "[encoded data removed]",
      "text/plain": [
       "<Figure size 504x360 with 1 Axes>"
      ]
     },
     "metadata": {
      "needs_background": "light"
     },
     "output_type": "display_data"
    }
   ],
   "source": [
    "fig = get_correlation_plot(\"Havana, IL\",smooth_window=30)"
   ]
  },
  {
   "cell_type": "markdown",
   "id": "interim-venture",
   "metadata": {},
   "source": [
    "## Onalaska, WI"
   ]
  },
  {
   "cell_type": "code",
   "execution_count": 71,
   "id": "academic-hudson",
   "metadata": {
    "scrolled": true
   },
   "outputs": [
    {
     "name": "stdout",
     "output_type": "stream",
     "text": [
      "No data for  2002   3\n",
      "No data for  2002   4\n",
      "No data for  2003   1\n",
      "No data for  2003   2\n",
      "No data for  2003   3\n",
      "No data for  2020   1\n",
      "No data for  2020   4\n"
     ]
    },
    {
     "data": {
      "image/png": "[encoded data removed]",
      "text/plain": [
       "<Figure size 504x360 with 1 Axes>"
      ]
     },
     "metadata": {
      "needs_background": "light"
     },
     "output_type": "display_data"
    }
   ],
   "source": [
    "fig = get_correlation_plot(\"Onalaska, WI\",smooth_window=30,startyear=2000)"
   ]
  },
  {
   "cell_type": "code",
   "execution_count": 76,
   "id": "eb12b24e",
   "metadata": {},
   "outputs": [
    {
     "data": {
      "text/plain": [
       "(15563, 58)"
      ]
     },
     "execution_count": 76,
     "metadata": {},
     "output_type": "execute_result"
    }
   ],
   "source": [
    "sub = df[(df[\"State 2\"]==1)|(df[\"State 1\"]==1)]\n",
    "sub.shape"
   ]
  },
  {
   "cell_type": "code",
   "execution_count": null,
   "id": "54d6e258",
   "metadata": {},
   "outputs": [],
   "source": []
  },
  {
   "cell_type": "markdown",
   "id": "german-newspaper",
   "metadata": {},
   "source": [
    "## Lake City, MN"
   ]
  },
  {
   "cell_type": "code",
   "execution_count": 136,
   "id": "favorite-master",
   "metadata": {},
   "outputs": [
    {
     "name": "stdout",
     "output_type": "stream",
     "text": [
      "No data for  1994   3\n",
      "No data for  1995   4\n",
      "No data for  2002   3\n",
      "No data for  2002   4\n",
      "No data for  2003   1\n",
      "No data for  2003   2\n",
      "No data for  2003   3\n",
      "No data for  2020   1\n",
      "No data for  2020   4\n"
     ]
    },
    {
     "data": {
      "image/png": "[encoded data removed]",
      "text/plain": [
       "<Figure size 504x360 with 1 Axes>"
      ]
     },
     "metadata": {
      "needs_background": "light"
     },
     "output_type": "display_data"
    }
   ],
   "source": [
    "fig = get_correlation_plot(\"Lake City, MN\",smooth_window=30)"
   ]
  },
  {
   "cell_type": "markdown",
   "id": "technological-peace",
   "metadata": {},
   "source": [
    "## Bellevue, IA"
   ]
  },
  {
   "cell_type": "code",
   "execution_count": 72,
   "id": "surprised-style",
   "metadata": {},
   "outputs": [
    {
     "name": "stdout",
     "output_type": "stream",
     "text": [
      "No data for  2020   4\n"
     ]
    },
    {
     "data": {
      "image/png": "[encoded data removed]",
      "text/plain": [
       "<Figure size 504x360 with 1 Axes>"
      ]
     },
     "metadata": {
      "needs_background": "light"
     },
     "output_type": "display_data"
    }
   ],
   "source": [
    "fig = get_correlation_plot(\"Bellevue, IA\",smooth_window=30,startyear=2016)"
   ]
  },
  {
   "cell_type": "markdown",
   "id": "authentic-allocation",
   "metadata": {},
   "source": [
    "## Brighton, IL"
   ]
  },
  {
   "cell_type": "code",
   "execution_count": 138,
   "id": "intensive-mirror",
   "metadata": {},
   "outputs": [
    {
     "name": "stdout",
     "output_type": "stream",
     "text": [
      "No data for  1995   4\n",
      "No data for  2002   3\n",
      "No data for  2002   4\n",
      "No data for  2003   1\n",
      "No data for  2003   2\n",
      "No data for  2003   3\n",
      "No data for  2020   1\n",
      "No data for  2020   4\n"
     ]
    },
    {
     "data": {
      "image/png": "[encoded data removed]",
      "text/plain": [
       "<Figure size 504x360 with 1 Axes>"
      ]
     },
     "metadata": {
      "needs_background": "light"
     },
     "output_type": "display_data"
    }
   ],
   "source": [
    "fig = get_correlation_plot(\"Brighton, IL\",smooth_window=30)"
   ]
  },
  {
   "cell_type": "markdown",
   "id": "listed-sudan",
   "metadata": {},
   "source": [
    "#### Possible error in appending states to dataframe?\n",
    "There are datapoints that are not assigned to any state, possibly these points were lost to noise"
   ]
  },
  {
   "cell_type": "code",
   "execution_count": 171,
   "id": "intense-might",
   "metadata": {},
   "outputs": [
    {
     "data": {
      "text/plain": [
       "4824"
      ]
     },
     "execution_count": 171,
     "metadata": {},
     "output_type": "execute_result"
    }
   ],
   "source": [
    "unique = set()\n",
    "for node in scomplex['nodes']:\n",
    "    unique.update(scomplex['nodes'][node])\n",
    "num_unique = len(unique)\n",
    "df.shape[0]-num_unique"
   ]
  },
  {
   "cell_type": "code",
   "execution_count": 272,
   "id": "cross-struggle",
   "metadata": {},
   "outputs": [
    {
     "data": {
      "text/html": [
       "<div>\n",
       "<style scoped>\n",
       "    .dataframe tbody tr th:only-of-type {\n",
       "        vertical-align: middle;\n",
       "    }\n",
       "\n",
       "    .dataframe tbody tr th {\n",
       "        vertical-align: top;\n",
       "    }\n",
       "\n",
       "    .dataframe thead th {\n",
       "        text-align: right;\n",
       "    }\n",
       "</style>\n",
       "<table border=\"1\" class=\"dataframe\">\n",
       "  <thead>\n",
       "    <tr style=\"text-align: right;\">\n",
       "      <th></th>\n",
       "      <th>WDP</th>\n",
       "      <th>SECCHI</th>\n",
       "      <th>TEMP</th>\n",
       "      <th>DO</th>\n",
       "      <th>TURB</th>\n",
       "      <th>VEL</th>\n",
       "      <th>TP</th>\n",
       "      <th>TN</th>\n",
       "      <th>SS</th>\n",
       "      <th>CHLcal</th>\n",
       "      <th>...</th>\n",
       "      <th>VEL_color</th>\n",
       "      <th>TP_color</th>\n",
       "      <th>TN_color</th>\n",
       "      <th>SS_color</th>\n",
       "      <th>CHLcal_color</th>\n",
       "      <th>State 3</th>\n",
       "      <th>State 2</th>\n",
       "      <th>State 1</th>\n",
       "      <th>STATE</th>\n",
       "      <th>STATE_color</th>\n",
       "    </tr>\n",
       "  </thead>\n",
       "  <tbody>\n",
       "    <tr>\n",
       "      <th>0</th>\n",
       "      <td>-0.018088</td>\n",
       "      <td>-0.046512</td>\n",
       "      <td>0.572414</td>\n",
       "      <td>-0.72093</td>\n",
       "      <td>0.210526</td>\n",
       "      <td>0.576923</td>\n",
       "      <td>0.481481</td>\n",
       "      <td>0.918033</td>\n",
       "      <td>0.361752</td>\n",
       "      <td>-0.294693</td>\n",
       "      <td>...</td>\n",
       "      <td>0.576923</td>\n",
       "      <td>0.481481</td>\n",
       "      <td>0.918033</td>\n",
       "      <td>0.361752</td>\n",
       "      <td>-0.294693</td>\n",
       "      <td>0</td>\n",
       "      <td>0</td>\n",
       "      <td>1</td>\n",
       "      <td>0.333333</td>\n",
       "      <td>0.333333</td>\n",
       "    </tr>\n",
       "    <tr>\n",
       "      <th>1</th>\n",
       "      <td>1.5323</td>\n",
       "      <td>0.0</td>\n",
       "      <td>0.572414</td>\n",
       "      <td>-0.72093</td>\n",
       "      <td>0.210526</td>\n",
       "      <td>1.0</td>\n",
       "      <td>0.488889</td>\n",
       "      <td>1.547131</td>\n",
       "      <td>0.262323</td>\n",
       "      <td>-0.342123</td>\n",
       "      <td>...</td>\n",
       "      <td>1.0</td>\n",
       "      <td>0.488889</td>\n",
       "      <td>1.547131</td>\n",
       "      <td>0.262323</td>\n",
       "      <td>-0.342123</td>\n",
       "      <td>0</td>\n",
       "      <td>0</td>\n",
       "      <td>1</td>\n",
       "      <td>0.333333</td>\n",
       "      <td>0.333333</td>\n",
       "    </tr>\n",
       "    <tr>\n",
       "      <th>2</th>\n",
       "      <td>0.524548</td>\n",
       "      <td>0.023256</td>\n",
       "      <td>0.565517</td>\n",
       "      <td>-0.790698</td>\n",
       "      <td>0.105263</td>\n",
       "      <td>0.884615</td>\n",
       "      <td>0.422222</td>\n",
       "      <td>0.918033</td>\n",
       "      <td>0.18828</td>\n",
       "      <td>-0.323151</td>\n",
       "      <td>...</td>\n",
       "      <td>0.884615</td>\n",
       "      <td>0.422222</td>\n",
       "      <td>0.918033</td>\n",
       "      <td>0.18828</td>\n",
       "      <td>-0.323151</td>\n",
       "      <td>0</td>\n",
       "      <td>0</td>\n",
       "      <td>1</td>\n",
       "      <td>0.333333</td>\n",
       "      <td>0.333333</td>\n",
       "    </tr>\n",
       "    <tr>\n",
       "      <th>3</th>\n",
       "      <td>1.764858</td>\n",
       "      <td>-0.093023</td>\n",
       "      <td>0.565517</td>\n",
       "      <td>-0.767442</td>\n",
       "      <td>0.210526</td>\n",
       "      <td>0.942308</td>\n",
       "      <td>0.362963</td>\n",
       "      <td>1.124317</td>\n",
       "      <td>0.173472</td>\n",
       "      <td>-0.332637</td>\n",
       "      <td>...</td>\n",
       "      <td>0.942308</td>\n",
       "      <td>0.362963</td>\n",
       "      <td>1.124317</td>\n",
       "      <td>0.173472</td>\n",
       "      <td>-0.332637</td>\n",
       "      <td>0</td>\n",
       "      <td>0</td>\n",
       "      <td>1</td>\n",
       "      <td>0.333333</td>\n",
       "      <td>0.333333</td>\n",
       "    </tr>\n",
       "    <tr>\n",
       "      <th>4</th>\n",
       "      <td>1.144703</td>\n",
       "      <td>0.069767</td>\n",
       "      <td>0.572414</td>\n",
       "      <td>-0.72093</td>\n",
       "      <td>0.342105</td>\n",
       "      <td>0.923077</td>\n",
       "      <td>0.548148</td>\n",
       "      <td>0.969262</td>\n",
       "      <td>0.482336</td>\n",
       "      <td>-0.291531</td>\n",
       "      <td>...</td>\n",
       "      <td>0.923077</td>\n",
       "      <td>0.548148</td>\n",
       "      <td>0.969262</td>\n",
       "      <td>0.482336</td>\n",
       "      <td>-0.291531</td>\n",
       "      <td>0</td>\n",
       "      <td>0</td>\n",
       "      <td>1</td>\n",
       "      <td>0.333333</td>\n",
       "      <td>0.333333</td>\n",
       "    </tr>\n",
       "    <tr>\n",
       "      <th>...</th>\n",
       "      <td>...</td>\n",
       "      <td>...</td>\n",
       "      <td>...</td>\n",
       "      <td>...</td>\n",
       "      <td>...</td>\n",
       "      <td>...</td>\n",
       "      <td>...</td>\n",
       "      <td>...</td>\n",
       "      <td>...</td>\n",
       "      <td>...</td>\n",
       "      <td>...</td>\n",
       "      <td>...</td>\n",
       "      <td>...</td>\n",
       "      <td>...</td>\n",
       "      <td>...</td>\n",
       "      <td>...</td>\n",
       "      <td>...</td>\n",
       "      <td>...</td>\n",
       "      <td>...</td>\n",
       "      <td>...</td>\n",
       "      <td>...</td>\n",
       "    </tr>\n",
       "    <tr>\n",
       "      <th>76663</th>\n",
       "      <td>-0.328165</td>\n",
       "      <td>-0.627907</td>\n",
       "      <td>0.124138</td>\n",
       "      <td>-0.627907</td>\n",
       "      <td>1.657895</td>\n",
       "      <td>-0.307692</td>\n",
       "      <td>1.525926</td>\n",
       "      <td>-0.58265</td>\n",
       "      <td>1.16776</td>\n",
       "      <td>2.368874</td>\n",
       "      <td>...</td>\n",
       "      <td>-0.307692</td>\n",
       "      <td>1.525926</td>\n",
       "      <td>-0.58265</td>\n",
       "      <td>1.16776</td>\n",
       "      <td>2.368874</td>\n",
       "      <td>0</td>\n",
       "      <td>0</td>\n",
       "      <td>1</td>\n",
       "      <td>0.333333</td>\n",
       "      <td>0.333333</td>\n",
       "    </tr>\n",
       "    <tr>\n",
       "      <th>76665</th>\n",
       "      <td>-0.44186</td>\n",
       "      <td>-0.325581</td>\n",
       "      <td>-0.431034</td>\n",
       "      <td>0.186047</td>\n",
       "      <td>0.605263</td>\n",
       "      <td>-0.384615</td>\n",
       "      <td>1.525926</td>\n",
       "      <td>-0.596311</td>\n",
       "      <td>0.186165</td>\n",
       "      <td>0.620584</td>\n",
       "      <td>...</td>\n",
       "      <td>-0.384615</td>\n",
       "      <td>1.525926</td>\n",
       "      <td>-0.596311</td>\n",
       "      <td>0.186165</td>\n",
       "      <td>0.620584</td>\n",
       "      <td>0</td>\n",
       "      <td>0</td>\n",
       "      <td>1</td>\n",
       "      <td>0.333333</td>\n",
       "      <td>0.333333</td>\n",
       "    </tr>\n",
       "    <tr>\n",
       "      <th>76666</th>\n",
       "      <td>-0.447028</td>\n",
       "      <td>-0.372093</td>\n",
       "      <td>-0.365517</td>\n",
       "      <td>0.22093</td>\n",
       "      <td>0.605263</td>\n",
       "      <td>-0.384615</td>\n",
       "      <td>1.474074</td>\n",
       "      <td>-0.711066</td>\n",
       "      <td>0.105775</td>\n",
       "      <td>0.89303</td>\n",
       "      <td>...</td>\n",
       "      <td>-0.384615</td>\n",
       "      <td>1.474074</td>\n",
       "      <td>-0.711066</td>\n",
       "      <td>0.105775</td>\n",
       "      <td>0.89303</td>\n",
       "      <td>0</td>\n",
       "      <td>0</td>\n",
       "      <td>1</td>\n",
       "      <td>0.333333</td>\n",
       "      <td>0.333333</td>\n",
       "    </tr>\n",
       "    <tr>\n",
       "      <th>76667</th>\n",
       "      <td>-0.421189</td>\n",
       "      <td>-0.372093</td>\n",
       "      <td>-0.441379</td>\n",
       "      <td>0.127907</td>\n",
       "      <td>0.684211</td>\n",
       "      <td>-0.384615</td>\n",
       "      <td>1.474074</td>\n",
       "      <td>-0.61612</td>\n",
       "      <td>0.228475</td>\n",
       "      <td>0.644173</td>\n",
       "      <td>...</td>\n",
       "      <td>-0.384615</td>\n",
       "      <td>1.474074</td>\n",
       "      <td>-0.61612</td>\n",
       "      <td>0.228475</td>\n",
       "      <td>0.644173</td>\n",
       "      <td>0</td>\n",
       "      <td>0</td>\n",
       "      <td>1</td>\n",
       "      <td>0.333333</td>\n",
       "      <td>0.333333</td>\n",
       "    </tr>\n",
       "    <tr>\n",
       "      <th>76668</th>\n",
       "      <td>-0.452196</td>\n",
       "      <td>-0.418605</td>\n",
       "      <td>-0.382759</td>\n",
       "      <td>0.255814</td>\n",
       "      <td>0.552632</td>\n",
       "      <td>-0.384615</td>\n",
       "      <td>1.407407</td>\n",
       "      <td>-0.672131</td>\n",
       "      <td>0.14597</td>\n",
       "      <td>1.010578</td>\n",
       "      <td>...</td>\n",
       "      <td>-0.384615</td>\n",
       "      <td>1.407407</td>\n",
       "      <td>-0.672131</td>\n",
       "      <td>0.14597</td>\n",
       "      <td>1.010578</td>\n",
       "      <td>0</td>\n",
       "      <td>0</td>\n",
       "      <td>1</td>\n",
       "      <td>0.333333</td>\n",
       "      <td>0.333333</td>\n",
       "    </tr>\n",
       "  </tbody>\n",
       "</table>\n",
       "<p>71845 rows × 62 columns</p>\n",
       "</div>"
      ],
      "text/plain": [
       "            WDP    SECCHI      TEMP        DO      TURB       VEL        TP  \\\n",
       "0     -0.018088 -0.046512  0.572414  -0.72093  0.210526  0.576923  0.481481   \n",
       "1        1.5323       0.0  0.572414  -0.72093  0.210526       1.0  0.488889   \n",
       "2      0.524548  0.023256  0.565517 -0.790698  0.105263  0.884615  0.422222   \n",
       "3      1.764858 -0.093023  0.565517 -0.767442  0.210526  0.942308  0.362963   \n",
       "4      1.144703  0.069767  0.572414  -0.72093  0.342105  0.923077  0.548148   \n",
       "...         ...       ...       ...       ...       ...       ...       ...   \n",
       "76663 -0.328165 -0.627907  0.124138 -0.627907  1.657895 -0.307692  1.525926   \n",
       "76665  -0.44186 -0.325581 -0.431034  0.186047  0.605263 -0.384615  1.525926   \n",
       "76666 -0.447028 -0.372093 -0.365517   0.22093  0.605263 -0.384615  1.474074   \n",
       "76667 -0.421189 -0.372093 -0.441379  0.127907  0.684211 -0.384615  1.474074   \n",
       "76668 -0.452196 -0.418605 -0.382759  0.255814  0.552632 -0.384615  1.407407   \n",
       "\n",
       "             TN        SS    CHLcal  ... VEL_color  TP_color  TN_color  \\\n",
       "0      0.918033  0.361752 -0.294693  ...  0.576923  0.481481  0.918033   \n",
       "1      1.547131  0.262323 -0.342123  ...       1.0  0.488889  1.547131   \n",
       "2      0.918033   0.18828 -0.323151  ...  0.884615  0.422222  0.918033   \n",
       "3      1.124317  0.173472 -0.332637  ...  0.942308  0.362963  1.124317   \n",
       "4      0.969262  0.482336 -0.291531  ...  0.923077  0.548148  0.969262   \n",
       "...         ...       ...       ...  ...       ...       ...       ...   \n",
       "76663  -0.58265   1.16776  2.368874  ... -0.307692  1.525926  -0.58265   \n",
       "76665 -0.596311  0.186165  0.620584  ... -0.384615  1.525926 -0.596311   \n",
       "76666 -0.711066  0.105775   0.89303  ... -0.384615  1.474074 -0.711066   \n",
       "76667  -0.61612  0.228475  0.644173  ... -0.384615  1.474074  -0.61612   \n",
       "76668 -0.672131   0.14597  1.010578  ... -0.384615  1.407407 -0.672131   \n",
       "\n",
       "       SS_color CHLcal_color State 3 State 2 State 1     STATE  STATE_color  \n",
       "0      0.361752    -0.294693       0       0       1  0.333333     0.333333  \n",
       "1      0.262323    -0.342123       0       0       1  0.333333     0.333333  \n",
       "2       0.18828    -0.323151       0       0       1  0.333333     0.333333  \n",
       "3      0.173472    -0.332637       0       0       1  0.333333     0.333333  \n",
       "4      0.482336    -0.291531       0       0       1  0.333333     0.333333  \n",
       "...         ...          ...     ...     ...     ...       ...          ...  \n",
       "76663   1.16776     2.368874       0       0       1  0.333333     0.333333  \n",
       "76665  0.186165     0.620584       0       0       1  0.333333     0.333333  \n",
       "76666  0.105775      0.89303       0       0       1  0.333333     0.333333  \n",
       "76667  0.228475     0.644173       0       0       1  0.333333     0.333333  \n",
       "76668   0.14597     1.010578       0       0       1  0.333333     0.333333  \n",
       "\n",
       "[71845 rows x 62 columns]"
      ]
     },
     "execution_count": 272,
     "metadata": {},
     "output_type": "execute_result"
    }
   ],
   "source": [
    "df.loc[unique]"
   ]
  },
  {
   "cell_type": "code",
   "execution_count": 159,
   "id": "square-airport",
   "metadata": {},
   "outputs": [
    {
     "data": {
      "text/html": [
       "<div>\n",
       "<style scoped>\n",
       "    .dataframe tbody tr th:only-of-type {\n",
       "        vertical-align: middle;\n",
       "    }\n",
       "\n",
       "    .dataframe tbody tr th {\n",
       "        vertical-align: top;\n",
       "    }\n",
       "\n",
       "    .dataframe thead th {\n",
       "        text-align: right;\n",
       "    }\n",
       "</style>\n",
       "<table border=\"1\" class=\"dataframe\">\n",
       "  <thead>\n",
       "    <tr style=\"text-align: right;\">\n",
       "      <th></th>\n",
       "      <th>WDP</th>\n",
       "      <th>SECCHI</th>\n",
       "      <th>TEMP</th>\n",
       "      <th>DO</th>\n",
       "      <th>TURB</th>\n",
       "      <th>VEL</th>\n",
       "      <th>TP</th>\n",
       "      <th>TN</th>\n",
       "      <th>SS</th>\n",
       "      <th>CHLcal</th>\n",
       "      <th>...</th>\n",
       "      <th>VEL_color</th>\n",
       "      <th>TP_color</th>\n",
       "      <th>TN_color</th>\n",
       "      <th>SS_color</th>\n",
       "      <th>CHLcal_color</th>\n",
       "      <th>State 3</th>\n",
       "      <th>State 2</th>\n",
       "      <th>State 1</th>\n",
       "      <th>STATE</th>\n",
       "      <th>STATE_color</th>\n",
       "    </tr>\n",
       "  </thead>\n",
       "  <tbody>\n",
       "    <tr>\n",
       "      <th>65028</th>\n",
       "      <td>0.21447</td>\n",
       "      <td>-0.372093</td>\n",
       "      <td>0.303448</td>\n",
       "      <td>0.302326</td>\n",
       "      <td>0.947368</td>\n",
       "      <td>-0.307692</td>\n",
       "      <td>0.577778</td>\n",
       "      <td>2.24112</td>\n",
       "      <td>0.640999</td>\n",
       "      <td>3.737433</td>\n",
       "      <td>...</td>\n",
       "      <td>-0.307692</td>\n",
       "      <td>0.577778</td>\n",
       "      <td>2.24112</td>\n",
       "      <td>0.640999</td>\n",
       "      <td>3.649614</td>\n",
       "      <td>0</td>\n",
       "      <td>0</td>\n",
       "      <td>0</td>\n",
       "      <td>0.0</td>\n",
       "      <td>0.0</td>\n",
       "    </tr>\n",
       "    <tr>\n",
       "      <th>65044</th>\n",
       "      <td>1.299742</td>\n",
       "      <td>-0.511628</td>\n",
       "      <td>0.262069</td>\n",
       "      <td>0.023256</td>\n",
       "      <td>1.605263</td>\n",
       "      <td>1.076923</td>\n",
       "      <td>0.296296</td>\n",
       "      <td>1.862705</td>\n",
       "      <td>1.341231</td>\n",
       "      <td>1.537455</td>\n",
       "      <td>...</td>\n",
       "      <td>1.076923</td>\n",
       "      <td>0.296296</td>\n",
       "      <td>1.862705</td>\n",
       "      <td>1.341231</td>\n",
       "      <td>1.537455</td>\n",
       "      <td>0</td>\n",
       "      <td>0</td>\n",
       "      <td>0</td>\n",
       "      <td>0.0</td>\n",
       "      <td>0.0</td>\n",
       "    </tr>\n",
       "    <tr>\n",
       "      <th>65136</th>\n",
       "      <td>0.834625</td>\n",
       "      <td>-0.372093</td>\n",
       "      <td>0.855172</td>\n",
       "      <td>-0.651163</td>\n",
       "      <td>1.131579</td>\n",
       "      <td>1.346154</td>\n",
       "      <td>0.711111</td>\n",
       "      <td>5.854508</td>\n",
       "      <td>1.214301</td>\n",
       "      <td>0.705855</td>\n",
       "      <td>...</td>\n",
       "      <td>1.346154</td>\n",
       "      <td>0.711111</td>\n",
       "      <td>3.521175</td>\n",
       "      <td>1.214301</td>\n",
       "      <td>0.705855</td>\n",
       "      <td>0</td>\n",
       "      <td>0</td>\n",
       "      <td>0</td>\n",
       "      <td>0.0</td>\n",
       "      <td>0.0</td>\n",
       "    </tr>\n",
       "    <tr>\n",
       "      <th>65198</th>\n",
       "      <td>-0.496124</td>\n",
       "      <td>-0.511628</td>\n",
       "      <td>0.855172</td>\n",
       "      <td>-0.953488</td>\n",
       "      <td>1.921053</td>\n",
       "      <td>-0.096154</td>\n",
       "      <td>0.925926</td>\n",
       "      <td>0.446038</td>\n",
       "      <td>2.593611</td>\n",
       "      <td>0.684424</td>\n",
       "      <td>...</td>\n",
       "      <td>-0.096154</td>\n",
       "      <td>0.925926</td>\n",
       "      <td>0.446038</td>\n",
       "      <td>2.593611</td>\n",
       "      <td>0.684424</td>\n",
       "      <td>0</td>\n",
       "      <td>0</td>\n",
       "      <td>0</td>\n",
       "      <td>0.0</td>\n",
       "      <td>0.0</td>\n",
       "    </tr>\n",
       "    <tr>\n",
       "      <th>65197</th>\n",
       "      <td>-0.483204</td>\n",
       "      <td>-0.55814</td>\n",
       "      <td>0.848276</td>\n",
       "      <td>-0.767442</td>\n",
       "      <td>3.157895</td>\n",
       "      <td>-0.153846</td>\n",
       "      <td>1.4</td>\n",
       "      <td>0.246585</td>\n",
       "      <td>2.563994</td>\n",
       "      <td>1.008565</td>\n",
       "      <td>...</td>\n",
       "      <td>-0.153846</td>\n",
       "      <td>1.4</td>\n",
       "      <td>0.246585</td>\n",
       "      <td>2.563994</td>\n",
       "      <td>1.008565</td>\n",
       "      <td>0</td>\n",
       "      <td>0</td>\n",
       "      <td>0</td>\n",
       "      <td>0.0</td>\n",
       "      <td>0.0</td>\n",
       "    </tr>\n",
       "    <tr>\n",
       "      <th>...</th>\n",
       "      <td>...</td>\n",
       "      <td>...</td>\n",
       "      <td>...</td>\n",
       "      <td>...</td>\n",
       "      <td>...</td>\n",
       "      <td>...</td>\n",
       "      <td>...</td>\n",
       "      <td>...</td>\n",
       "      <td>...</td>\n",
       "      <td>...</td>\n",
       "      <td>...</td>\n",
       "      <td>...</td>\n",
       "      <td>...</td>\n",
       "      <td>...</td>\n",
       "      <td>...</td>\n",
       "      <td>...</td>\n",
       "      <td>...</td>\n",
       "      <td>...</td>\n",
       "      <td>...</td>\n",
       "      <td>...</td>\n",
       "      <td>...</td>\n",
       "    </tr>\n",
       "    <tr>\n",
       "      <th>76619</th>\n",
       "      <td>2.540052</td>\n",
       "      <td>-0.348837</td>\n",
       "      <td>-0.282759</td>\n",
       "      <td>0.023256</td>\n",
       "      <td>1.157895</td>\n",
       "      <td>-0.384615</td>\n",
       "      <td>2.185185</td>\n",
       "      <td>0.174863</td>\n",
       "      <td>0.509202</td>\n",
       "      <td>0.74462</td>\n",
       "      <td>...</td>\n",
       "      <td>-0.384615</td>\n",
       "      <td>2.185185</td>\n",
       "      <td>0.174863</td>\n",
       "      <td>0.509202</td>\n",
       "      <td>0.74462</td>\n",
       "      <td>0</td>\n",
       "      <td>0</td>\n",
       "      <td>0</td>\n",
       "      <td>0.0</td>\n",
       "      <td>0.0</td>\n",
       "    </tr>\n",
       "    <tr>\n",
       "      <th>76617</th>\n",
       "      <td>-0.488372</td>\n",
       "      <td>-0.511628</td>\n",
       "      <td>-0.351724</td>\n",
       "      <td>0.302326</td>\n",
       "      <td>1.710526</td>\n",
       "      <td>-0.384615</td>\n",
       "      <td>4.362963</td>\n",
       "      <td>-1.05123</td>\n",
       "      <td>0.775756</td>\n",
       "      <td>-0.170522</td>\n",
       "      <td>...</td>\n",
       "      <td>-0.384615</td>\n",
       "      <td>3.62963</td>\n",
       "      <td>-1.05123</td>\n",
       "      <td>0.775756</td>\n",
       "      <td>-0.170522</td>\n",
       "      <td>0</td>\n",
       "      <td>0</td>\n",
       "      <td>0</td>\n",
       "      <td>0.0</td>\n",
       "      <td>0.0</td>\n",
       "    </tr>\n",
       "    <tr>\n",
       "      <th>76623</th>\n",
       "      <td>-0.444444</td>\n",
       "      <td>-0.627907</td>\n",
       "      <td>-0.268966</td>\n",
       "      <td>0.255814</td>\n",
       "      <td>2.236842</td>\n",
       "      <td>-0.384615</td>\n",
       "      <td>2.637037</td>\n",
       "      <td>-1.093579</td>\n",
       "      <td>2.618997</td>\n",
       "      <td>0.088242</td>\n",
       "      <td>...</td>\n",
       "      <td>-0.384615</td>\n",
       "      <td>2.637037</td>\n",
       "      <td>-1.093579</td>\n",
       "      <td>2.618997</td>\n",
       "      <td>0.088242</td>\n",
       "      <td>0</td>\n",
       "      <td>0</td>\n",
       "      <td>0</td>\n",
       "      <td>0.0</td>\n",
       "      <td>0.0</td>\n",
       "    </tr>\n",
       "    <tr>\n",
       "      <th>76613</th>\n",
       "      <td>-0.550388</td>\n",
       "      <td>-0.651163</td>\n",
       "      <td>-0.358621</td>\n",
       "      <td>0.139535</td>\n",
       "      <td>3.026316</td>\n",
       "      <td>-0.384615</td>\n",
       "      <td>2.511111</td>\n",
       "      <td>-1.098361</td>\n",
       "      <td>2.136662</td>\n",
       "      <td>0.574214</td>\n",
       "      <td>...</td>\n",
       "      <td>-0.384615</td>\n",
       "      <td>2.511111</td>\n",
       "      <td>-1.098361</td>\n",
       "      <td>2.136662</td>\n",
       "      <td>0.574214</td>\n",
       "      <td>0</td>\n",
       "      <td>0</td>\n",
       "      <td>0</td>\n",
       "      <td>0.0</td>\n",
       "      <td>0.0</td>\n",
       "    </tr>\n",
       "    <tr>\n",
       "      <th>76633</th>\n",
       "      <td>-0.322997</td>\n",
       "      <td>-0.348837</td>\n",
       "      <td>-0.337931</td>\n",
       "      <td>0.348837</td>\n",
       "      <td>0.578947</td>\n",
       "      <td>-0.384615</td>\n",
       "      <td>1.281481</td>\n",
       "      <td>-0.715847</td>\n",
       "      <td>0.145335</td>\n",
       "      <td>6.197601</td>\n",
       "      <td>...</td>\n",
       "      <td>-0.384615</td>\n",
       "      <td>1.281481</td>\n",
       "      <td>-0.715847</td>\n",
       "      <td>0.145335</td>\n",
       "      <td>3.649614</td>\n",
       "      <td>0</td>\n",
       "      <td>0</td>\n",
       "      <td>0</td>\n",
       "      <td>0.0</td>\n",
       "      <td>0.0</td>\n",
       "    </tr>\n",
       "  </tbody>\n",
       "</table>\n",
       "<p>1829 rows × 62 columns</p>\n",
       "</div>"
      ],
      "text/plain": [
       "            WDP    SECCHI      TEMP        DO      TURB       VEL        TP  \\\n",
       "65028   0.21447 -0.372093  0.303448  0.302326  0.947368 -0.307692  0.577778   \n",
       "65044  1.299742 -0.511628  0.262069  0.023256  1.605263  1.076923  0.296296   \n",
       "65136  0.834625 -0.372093  0.855172 -0.651163  1.131579  1.346154  0.711111   \n",
       "65198 -0.496124 -0.511628  0.855172 -0.953488  1.921053 -0.096154  0.925926   \n",
       "65197 -0.483204  -0.55814  0.848276 -0.767442  3.157895 -0.153846       1.4   \n",
       "...         ...       ...       ...       ...       ...       ...       ...   \n",
       "76619  2.540052 -0.348837 -0.282759  0.023256  1.157895 -0.384615  2.185185   \n",
       "76617 -0.488372 -0.511628 -0.351724  0.302326  1.710526 -0.384615  4.362963   \n",
       "76623 -0.444444 -0.627907 -0.268966  0.255814  2.236842 -0.384615  2.637037   \n",
       "76613 -0.550388 -0.651163 -0.358621  0.139535  3.026316 -0.384615  2.511111   \n",
       "76633 -0.322997 -0.348837 -0.337931  0.348837  0.578947 -0.384615  1.281481   \n",
       "\n",
       "             TN        SS    CHLcal  ... VEL_color  TP_color  TN_color  \\\n",
       "65028   2.24112  0.640999  3.737433  ... -0.307692  0.577778   2.24112   \n",
       "65044  1.862705  1.341231  1.537455  ...  1.076923  0.296296  1.862705   \n",
       "65136  5.854508  1.214301  0.705855  ...  1.346154  0.711111  3.521175   \n",
       "65198  0.446038  2.593611  0.684424  ... -0.096154  0.925926  0.446038   \n",
       "65197  0.246585  2.563994  1.008565  ... -0.153846       1.4  0.246585   \n",
       "...         ...       ...       ...  ...       ...       ...       ...   \n",
       "76619  0.174863  0.509202   0.74462  ... -0.384615  2.185185  0.174863   \n",
       "76617  -1.05123  0.775756 -0.170522  ... -0.384615   3.62963  -1.05123   \n",
       "76623 -1.093579  2.618997  0.088242  ... -0.384615  2.637037 -1.093579   \n",
       "76613 -1.098361  2.136662  0.574214  ... -0.384615  2.511111 -1.098361   \n",
       "76633 -0.715847  0.145335  6.197601  ... -0.384615  1.281481 -0.715847   \n",
       "\n",
       "       SS_color CHLcal_color State 3 State 2 State 1 STATE  STATE_color  \n",
       "65028  0.640999     3.649614       0       0       0   0.0          0.0  \n",
       "65044  1.341231     1.537455       0       0       0   0.0          0.0  \n",
       "65136  1.214301     0.705855       0       0       0   0.0          0.0  \n",
       "65198  2.593611     0.684424       0       0       0   0.0          0.0  \n",
       "65197  2.563994     1.008565       0       0       0   0.0          0.0  \n",
       "...         ...          ...     ...     ...     ...   ...          ...  \n",
       "76619  0.509202      0.74462       0       0       0   0.0          0.0  \n",
       "76617  0.775756    -0.170522       0       0       0   0.0          0.0  \n",
       "76623  2.618997     0.088242       0       0       0   0.0          0.0  \n",
       "76613  2.136662     0.574214       0       0       0   0.0          0.0  \n",
       "76633  0.145335     3.649614       0       0       0   0.0          0.0  \n",
       "\n",
       "[1829 rows x 62 columns]"
      ]
     },
     "execution_count": 159,
     "metadata": {},
     "output_type": "execute_result"
    }
   ],
   "source": [
    "odd = pool_sorted\n",
    "no_state = odd[(odd[\"State 1\"]==0)&(odd[\"State 2\"]==0)&(odd[\"State 3\"]==0)]\n",
    "no_state"
   ]
  },
  {
   "cell_type": "code",
   "execution_count": 186,
   "id": "valued-attachment",
   "metadata": {},
   "outputs": [
    {
     "name": "stdout",
     "output_type": "stream",
     "text": [
      "found node:  cube413_cluster0\n",
      "found node:  cube413_cluster0\n",
      "found node:  cube203_cluster0\n",
      "found node:  cube236_cluster0\n",
      "found node:  cube269_cluster0\n",
      "found node:  cube203_cluster0\n",
      "found node:  cube203_cluster0\n",
      "found node:  cube413_cluster0\n",
      "found node:  cube413_cluster0\n",
      "found node:  cube203_cluster0\n",
      "found node:  cube413_cluster0\n",
      "found node:  cube413_cluster0\n",
      "found node:  cube413_cluster0\n",
      "found node:  cube203_cluster0\n",
      "found node:  cube413_cluster0\n",
      "found node:  cube413_cluster0\n",
      "found node:  cube413_cluster0\n",
      "found node:  cube236_cluster0\n",
      "found node:  cube203_cluster0\n",
      "found node:  cube269_cluster0\n",
      "found node:  cube203_cluster0\n",
      "found node:  cube236_cluster0\n",
      "found node:  cube203_cluster0\n",
      "found node:  cube236_cluster0\n",
      "found node:  cube413_cluster0\n",
      "found node:  cube269_cluster0\n",
      "found node:  cube269_cluster0\n",
      "found node:  cube236_cluster0\n",
      "found node:  cube269_cluster0\n",
      "found node:  cube269_cluster0\n",
      "found node:  cube269_cluster0\n",
      "found node:  cube269_cluster0\n",
      "found node:  cube269_cluster0\n",
      "found node:  cube236_cluster0\n",
      "found node:  cube236_cluster0\n",
      "found node:  cube203_cluster0\n",
      "found node:  cube203_cluster0\n",
      "found node:  cube203_cluster0\n",
      "found node:  cube203_cluster0\n",
      "found node:  cube203_cluster0\n",
      "found node:  cube203_cluster0\n",
      "found node:  cube203_cluster0\n",
      "found node:  cube236_cluster0\n"
     ]
    }
   ],
   "source": [
    "# This is checking to see if the points not assigned to a state exist within the scomplex\n",
    "mystery_nodes = set()\n",
    "for i in no_state.index:\n",
    "    for node in scomplex[\"nodes\"]:\n",
    "        if i in scomplex['nodes'][node]:\n",
    "            foundnode = node\n",
    "            mystery_nodes.add(foundnode)\n",
    "            print(\"found node: \",foundnode)\n",
    "            break\n",
    "        \n",
    "    for state in scomplex['states']:\n",
    "        if foundnode in scomplex['states'][state]:\n",
    "            print(i,\" in state \",state)\n",
    "            break"
   ]
  },
  {
   "cell_type": "code",
   "execution_count": 187,
   "id": "concerned-frank",
   "metadata": {},
   "outputs": [
    {
     "data": {
      "text/plain": [
       "{'cube203_cluster0',\n",
       " 'cube236_cluster0',\n",
       " 'cube269_cluster0',\n",
       " 'cube413_cluster0'}"
      ]
     },
     "execution_count": 187,
     "metadata": {},
     "output_type": "execute_result"
    }
   ],
   "source": [
    "mystery_nodes"
   ]
  },
  {
   "cell_type": "markdown",
   "id": "quick-favor",
   "metadata": {},
   "source": [
    "So these nodes are not in any state? How could this be?\n",
    "\n",
    "I realized these nodes are not part of the main simplicial complex. I should remove these datapoints at the beginning."
   ]
  }
 ],
 "metadata": {
  "kernelspec": {
   "display_name": "Python 3 (ipykernel)",
   "language": "python",
   "name": "python3"
  },
  "language_info": {
   "codemirror_mode": {
    "name": "ipython",
    "version": 3
   },
   "file_extension": ".py",
   "mimetype": "text/x-python",
   "name": "python",
   "nbconvert_exporter": "python",
   "pygments_lexer": "ipython3",
   "version": "3.8.5"
  }
 },
 "nbformat": 4,
 "nbformat_minor": 5
}
