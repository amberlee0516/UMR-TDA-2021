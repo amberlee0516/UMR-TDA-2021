{
 "cells": [
  {
   "cell_type": "code",
   "execution_count": 2,
   "metadata": {},
   "outputs": [],
   "source": [
    "import pandas as pd\n",
    "pd.set_option('display.float_format', lambda x: '%.8f' % x)\n",
    "import numpy as np"
   ]
  },
  {
   "cell_type": "code",
   "execution_count": 3,
   "metadata": {},
   "outputs": [],
   "source": [
    "Error_MAE = {'TP': pd.DataFrame({'Regression Trees': [0.06105524, 6290],\n",
    "                                'inverse distance weighted 3-Year-Season': [0.064056, 31450],\n",
    "                                'inverse distance weighted by Year-Season': [0.047077,31450],\n",
    "                                'MultiVar Regression deg=2': [0.05892, 4020],\n",
    "                                'MultiVar Regression deg=1': [0.06618, 4020],\n",
    "                                'Index': ['MAE_TP', 'n']\n",
    "                                }),\n",
    "             'TN': pd.DataFrame({'Regression Trees': [0.8677829, 6438],\n",
    "                                'inverse distance weighted 3-Year-Season': [0.735005, 32188],\n",
    "                                'inverse distance weighted by Year-Season': [0.426358,32188],\n",
    "                                'MultiVar Regression deg=2': [0.78370, 4020],\n",
    "                                'MultiVar Regression deg=1': [0.88887, 4020],\n",
    "                                'Index': ['MAE_TN', 'n']\n",
    "                                }),\n",
    "             'VEL': pd.DataFrame({'Regression Trees': [0.1625684, 11236],\n",
    "                                'inverse distance weighted 3-Year-Season': [0.139335, 56180],\n",
    "                                'inverse distance weighted by Year-Season': [0.126955,56180],\n",
    "                                'MultiVar Regression deg=2': [0.16283, 4020],\n",
    "                                'MultiVar Regression deg=1': [0.17519, 4020],\n",
    "                                'Index': ['MAE_VEL', 'n']\n",
    "                                }) }\n",
    "\n",
    "Error_RMSE = {'TP': pd.DataFrame({'Regression Trees': [0.13186641, 6290],\n",
    "                                'inverse distance weighted 3-Year-Season': [0.145291, 31450],\n",
    "                                'inverse distance weighted by Year-Season': [0.147211,31450],\n",
    "                                'MultiVar Regression deg=2': [0.25162, 4020],\n",
    "                                'MultiVar Regression deg=1': [0.14207, 4020],\n",
    "                                'Index': ['RMSE_TP', 'n']\n",
    "                                }),\n",
    "             'TN': pd.DataFrame({'Regression Trees': [1.3789698, 6438],\n",
    "                                'inverse distance weighted 3-Year-Season': [2.281283, 32188],\n",
    "                                'inverse distance weighted by Year-Season': [1.935663,32188],\n",
    "                                'MultiVar Regression deg=2': [1.08040, 4020],\n",
    "                                'MultiVar Regression deg=1': [2.68365, 4020],\n",
    "                                'Index': ['RMSE_TN', 'n']\n",
    "                                }),\n",
    "             'VEL': pd.DataFrame({'Regression Trees': [0.3095340, 11236],\n",
    "                                'inverse distance weighted 3-Year-Season': [0.270691, 56180],\n",
    "                                'inverse distance weighted by Year-Season': [0.233981,56180],\n",
    "                                'MultiVar Regression deg=2': [0.32102, 4020],\n",
    "                                'MultiVar Regression deg=1': [0.32181, 4020],\n",
    "                                'Index': ['RMSE_VEL', 'n']\n",
    "                                })}"
   ]
  },
  {
   "cell_type": "code",
   "execution_count": 4,
   "metadata": {},
   "outputs": [],
   "source": [
    "Error_MAE['TP'].set_index('Index', inplace=True)\n",
    "Error_MAE['TN'].set_index('Index', inplace=True)\n",
    "Error_MAE['VEL'].set_index('Index', inplace=True)\n",
    "\n",
    "Error_RMSE['TP'].set_index('Index', inplace=True)\n",
    "Error_RMSE['TN'].set_index('Index', inplace=True)\n",
    "Error_RMSE['VEL'].set_index('Index', inplace=True)"
   ]
  },
  {
   "cell_type": "code",
   "execution_count": 5,
   "metadata": {},
   "outputs": [
    {
     "data": {
      "text/html": [
       "<div>\n",
       "<style scoped>\n",
       "    .dataframe tbody tr th:only-of-type {\n",
       "        vertical-align: middle;\n",
       "    }\n",
       "\n",
       "    .dataframe tbody tr th {\n",
       "        vertical-align: top;\n",
       "    }\n",
       "\n",
       "    .dataframe thead th {\n",
       "        text-align: right;\n",
       "    }\n",
       "</style>\n",
       "<table border=\"1\" class=\"dataframe\">\n",
       "  <thead>\n",
       "    <tr style=\"text-align: right;\">\n",
       "      <th></th>\n",
       "      <th>Regression Trees</th>\n",
       "      <th>inverse distance weighted 3-Year-Season</th>\n",
       "      <th>inverse distance weighted by Year-Season</th>\n",
       "      <th>MultiVar Regression deg=2</th>\n",
       "      <th>MultiVar Regression deg=1</th>\n",
       "    </tr>\n",
       "    <tr>\n",
       "      <th>Index</th>\n",
       "      <th></th>\n",
       "      <th></th>\n",
       "      <th></th>\n",
       "      <th></th>\n",
       "      <th></th>\n",
       "    </tr>\n",
       "  </thead>\n",
       "  <tbody>\n",
       "    <tr>\n",
       "      <th>RMSE_TP</th>\n",
       "      <td>0.13186641</td>\n",
       "      <td>0.14529100</td>\n",
       "      <td>0.14721100</td>\n",
       "      <td>0.25162000</td>\n",
       "      <td>0.14207000</td>\n",
       "    </tr>\n",
       "    <tr>\n",
       "      <th>n</th>\n",
       "      <td>6290.00000000</td>\n",
       "      <td>31450.00000000</td>\n",
       "      <td>31450.00000000</td>\n",
       "      <td>4020.00000000</td>\n",
       "      <td>4020.00000000</td>\n",
       "    </tr>\n",
       "  </tbody>\n",
       "</table>\n",
       "</div>"
      ],
      "text/plain": [
       "         Regression Trees  inverse distance weighted 3-Year-Season  \\\n",
       "Index                                                                \n",
       "RMSE_TP        0.13186641                               0.14529100   \n",
       "n           6290.00000000                           31450.00000000   \n",
       "\n",
       "         inverse distance weighted by Year-Season  MultiVar Regression deg=2  \\\n",
       "Index                                                                          \n",
       "RMSE_TP                                0.14721100                 0.25162000   \n",
       "n                                  31450.00000000              4020.00000000   \n",
       "\n",
       "         MultiVar Regression deg=1  \n",
       "Index                               \n",
       "RMSE_TP                 0.14207000  \n",
       "n                    4020.00000000  "
      ]
     },
     "execution_count": 5,
     "metadata": {},
     "output_type": "execute_result"
    }
   ],
   "source": [
    "Error_RMSE['TP']"
   ]
  },
  {
   "cell_type": "code",
   "execution_count": 6,
   "metadata": {},
   "outputs": [
    {
     "name": "stdout",
     "output_type": "stream",
     "text": [
      "Index(['inverse distance weighted by Year-Season'], dtype='object') 0.047077\n",
      "Index(['Regression Trees'], dtype='object') 0.13186641\n"
     ]
    }
   ],
   "source": [
    "print(Error_MAE['TP'].columns[(Error_MAE['TP']== Error_MAE['TP'].loc['MAE_TP'].min()).loc['MAE_TP']], \n",
    "      Error_MAE['TP'].loc['MAE_TP'].min())\n",
    "print(Error_RMSE['TP'].columns[(Error_RMSE['TP']== Error_RMSE['TP'].loc['RMSE_TP'].min()).loc['RMSE_TP']], \n",
    "      Error_RMSE['TP'].loc['RMSE_TP'].min())"
   ]
  },
  {
   "cell_type": "code",
   "execution_count": 7,
   "metadata": {},
   "outputs": [
    {
     "name": "stdout",
     "output_type": "stream",
     "text": [
      "Index(['inverse distance weighted by Year-Season'], dtype='object') 0.426358\n",
      "Index(['MultiVar Regression deg=2'], dtype='object') 1.0804\n"
     ]
    }
   ],
   "source": [
    "print(Error_MAE['TN'].columns[(Error_MAE['TN']== Error_MAE['TN'].loc['MAE_TN'].min()).loc['MAE_TN']], \n",
    "      Error_MAE['TN'].loc['MAE_TN'].min())\n",
    "print(Error_RMSE['TN'].columns[(Error_RMSE['TN']== Error_RMSE['TN'].loc['RMSE_TN'].min()).loc['RMSE_TN']], \n",
    "      Error_RMSE['TN'].loc['RMSE_TN'].min())"
   ]
  },
  {
   "cell_type": "code",
   "execution_count": 8,
   "metadata": {},
   "outputs": [
    {
     "name": "stdout",
     "output_type": "stream",
     "text": [
      "Index(['inverse distance weighted by Year-Season'], dtype='object') 0.126955\n",
      "Index(['inverse distance weighted by Year-Season'], dtype='object') 0.233981\n"
     ]
    }
   ],
   "source": [
    "print(Error_MAE['VEL'].columns[(Error_MAE['VEL']== Error_MAE['VEL'].loc['MAE_VEL'].min()).loc['MAE_VEL']], \n",
    "      Error_MAE['VEL'].loc['MAE_VEL'].min())\n",
    "print(Error_RMSE['VEL'].columns[(Error_RMSE['VEL']== Error_RMSE['VEL'].loc['RMSE_VEL'].min()).loc['RMSE_VEL']], \n",
    "      Error_RMSE['VEL'].loc['RMSE_VEL'].min())  \n"
   ]
  },
  {
   "cell_type": "code",
   "execution_count": null,
   "metadata": {},
   "outputs": [],
   "source": []
  }
 ],
 "metadata": {
  "kernelspec": {
   "display_name": "Python 3",
   "language": "python",
   "name": "python3"
  },
  "language_info": {
   "codemirror_mode": {
    "name": "ipython",
    "version": 3
   },
   "file_extension": ".py",
   "mimetype": "text/x-python",
   "name": "python",
   "nbconvert_exporter": "python",
   "pygments_lexer": "ipython3",
   "version": "3.7.3"
  }
 },
 "nbformat": 4,
 "nbformat_minor": 2
}
