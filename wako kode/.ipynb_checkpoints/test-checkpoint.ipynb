{
 "cells": [
  {
   "cell_type": "code",
   "execution_count": 1,
   "metadata": {},
   "outputs": [],
   "source": [
    "import pandas as pd\n",
    "pd.set_option('display.float_format', lambda x: '%.2f' % x)\n",
    "import numpy as np"
   ]
  },
  {
   "cell_type": "code",
   "execution_count": 2,
   "metadata": {},
   "outputs": [
    {
     "name": "stderr",
     "output_type": "stream",
     "text": [
      "/Users/wbungula/anaconda3/lib/python3.7/site-packages/IPython/core/interactiveshell.py:3057: DtypeWarning: Columns (7,12,14,17,19,21,23,25,32,48,51,52,55,57,59,61,63,65,67,70,71,72,73,74,75,76,77,126,129) have mixed types.Specify dtype option on import or set low_memory=False.\n",
      "  interactivity=interactivity, compiler=compiler, result=result)\n"
     ]
    },
    {
     "data": {
      "text/plain": [
       "(204305, 133)"
      ]
     },
     "execution_count": 2,
     "metadata": {},
     "output_type": "execute_result"
    }
   ],
   "source": [
    "# Reading the data\n",
    "df = pd.read_csv(\"ltrm_water_data_lat_long.csv\")\n",
    "df.shape"
   ]
  },
  {
   "cell_type": "code",
   "execution_count": 3,
   "metadata": {},
   "outputs": [
    {
     "name": "stdout",
     "output_type": "stream",
     "text": [
      "(36385, 133)\n"
     ]
    }
   ],
   "source": [
    "#filtering by pool 13\n",
    "df = df[df['FLDNUM'] == 3]\n",
    "print(df.shape)"
   ]
  },
  {
   "cell_type": "code",
   "execution_count": 5,
   "metadata": {},
   "outputs": [
    {
     "data": {
      "text/plain": [
       "(27915, 133)"
      ]
     },
     "execution_count": 5,
     "metadata": {},
     "output_type": "execute_result"
    }
   ],
   "source": [
    "# filtering the data by surface measurment\n",
    "df = df[df[\"CALCZCD\"]=='SF']\n",
    "df.shape"
   ]
  },
  {
   "cell_type": "code",
   "execution_count": 6,
   "metadata": {},
   "outputs": [
    {
     "name": "stdout",
     "output_type": "stream",
     "text": [
      "(1, 133)\n",
      "(0, 133)\n",
      "(8, 133)\n",
      "(17, 133)\n",
      "(24, 133)\n",
      "(13, 133)\n",
      "(135, 133)\n",
      "(27, 133)\n",
      "(33, 133)\n",
      "(15, 133)\n"
     ]
    }
   ],
   "source": [
    "# number of rows to be removed by QF code\n",
    "print(df[df[\"ZMAXQF\"].isin(['A', 0, '0'])].shape)\n",
    "print(df[df[\"SECCHIQF\"].isin(['A', 0, '0'])].shape)\n",
    "print(df[df[\"TEMPQF\"].isin(['A', 0, '0'])].shape)\n",
    "print(df[df[\"DOQF\"].isin(['A', 0, '0'])].shape)\n",
    "print(df[df[\"TURBQF\"].isin(['A', 0, '0'])].shape)\n",
    "print(df[df[\"CONDQF\"].isin(['A', 0, '0'])].shape)\n",
    "print(df[df[\"VELQF\"].isin(['A', 0, '0'])].shape)\n",
    "print(df[df[\"TPQF\"].isin([8, 64])].shape)\n",
    "print(df[df[\"TNQF\"].isin([8, 64])].shape)\n",
    "print(df[df[\"SSQF\"].isin([8, 64])].shape)\n"
   ]
  },
  {
   "cell_type": "code",
   "execution_count": 7,
   "metadata": {},
   "outputs": [
    {
     "name": "stdout",
     "output_type": "stream",
     "text": [
      "(27673, 133)\n"
     ]
    }
   ],
   "source": [
    "# filtering by QF codes\n",
    "\n",
    "df = df[~df[\"ZMAXQF\"].isin(['A', 0, '0'])]\n",
    "df = df[~df[\"SECCHIQF\"].isin(['A', 0, '0'])]\n",
    "df = df[~df[\"TEMPQF\"].isin(['A', 0, '0'])]\n",
    "df = df[~df[\"DOQF\"].isin(['A', 0, '0'])]\n",
    "df = df[~df[\"TURBQF\"].isin(['A', 0, '0'])]\n",
    "df = df[~df[\"CONDQF\"].isin(['A', 0, '0'])]\n",
    "df = df[~df[\"VELQF\"].isin(['A', 0, '0'])]\n",
    "df = df[~df[\"TPQF\"].isin([8, 64])]\n",
    "df = df[~df[\"TNQF\"].isin([8, 64])]\n",
    "df = df[~df[\"SSQF\"].isin([8, 64])]\n",
    "print(df.shape)"
   ]
  },
  {
   "cell_type": "code",
   "execution_count": 8,
   "metadata": {},
   "outputs": [
    {
     "data": {
      "text/plain": [
       "18809"
      ]
     },
     "execution_count": 8,
     "metadata": {},
     "output_type": "execute_result"
    }
   ],
   "source": [
    "# the number of distict sheetbars\n",
    "sum(df.groupby(\"STRATUM\").count()[\"SHEETBAR\"])"
   ]
  },
  {
   "cell_type": "code",
   "execution_count": null,
   "metadata": {},
   "outputs": [],
   "source": []
  }
 ],
 "metadata": {
  "kernelspec": {
   "display_name": "Python 3",
   "language": "python",
   "name": "python3"
  },
  "language_info": {
   "codemirror_mode": {
    "name": "ipython",
    "version": 3
   },
   "file_extension": ".py",
   "mimetype": "text/x-python",
   "name": "python",
   "nbconvert_exporter": "python",
   "pygments_lexer": "ipython3",
   "version": "3.7.3"
  }
 },
 "nbformat": 4,
 "nbformat_minor": 2
}
