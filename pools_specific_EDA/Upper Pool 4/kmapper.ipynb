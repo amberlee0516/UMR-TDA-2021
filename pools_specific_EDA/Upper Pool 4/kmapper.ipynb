{
 "cells": [
  {
   "cell_type": "markdown",
   "source": [
    "# Kmapper script for all pools"
   ],
   "metadata": {}
  },
  {
   "cell_type": "markdown",
   "source": [
    "## Import libraries"
   ],
   "metadata": {}
  },
  {
   "cell_type": "code",
   "execution_count": 24,
   "source": [
    "import kmapper as km\n",
    "from kmapper.plotlyviz import *\n",
    "\n",
    "import sklearn\n",
    "#from sklearn import ensemble\n",
    "# DBSCAN from sklearn for clustering algorithms\n",
    "from sklearn.cluster import DBSCAN\n",
    "# PCA from sklearn for projection/lens creation\n",
    "from sklearn.decomposition import PCA\n",
    "# from sklearn.manifold import MDS\n",
    "import seaborn as sns\n",
    "\n",
    "# scipy for interpolation\n",
    "# import scipy \n",
    "# from scipy.interpolate import *\n",
    "\n",
    "# Plotly and Dash\n",
    "import plotly.graph_objs as go\n",
    "from kmapper.plotlyviz import plotlyviz\n",
    "from kmapper.plotlyviz import *\n",
    "from ipywidgets import (HBox, VBox)\n",
    "import dash_html_components as html\n",
    "import dash_core_components as dcc\n",
    "import dash\n",
    "from ipywidgets import interactive, HBox, VBox, widgets, interact\n",
    "import warnings\n",
    "warnings.filterwarnings(\"ignore\")"
   ],
   "outputs": [
    {
     "output_type": "error",
     "ename": "ModuleNotFoundError",
     "evalue": "No module named 'hdbscan'",
     "traceback": [
      "\u001b[0;31m---------------------------------------------------------------------------\u001b[0m",
      "\u001b[0;31mModuleNotFoundError\u001b[0m                       Traceback (most recent call last)",
      "\u001b[0;32m<ipython-input-24-4b18c5a0edee>\u001b[0m in \u001b[0;36m<module>\u001b[0;34m\u001b[0m\n\u001b[1;32m     10\u001b[0m \u001b[0;31m# from sklearn.manifold import MDS\u001b[0m\u001b[0;34m\u001b[0m\u001b[0;34m\u001b[0m\u001b[0;34m\u001b[0m\u001b[0m\n\u001b[1;32m     11\u001b[0m \u001b[0;32mimport\u001b[0m \u001b[0mseaborn\u001b[0m \u001b[0;32mas\u001b[0m \u001b[0msns\u001b[0m\u001b[0;34m\u001b[0m\u001b[0;34m\u001b[0m\u001b[0m\n\u001b[0;32m---> 12\u001b[0;31m \u001b[0;32mimport\u001b[0m \u001b[0mhdbscan\u001b[0m\u001b[0;34m\u001b[0m\u001b[0;34m\u001b[0m\u001b[0m\n\u001b[0m\u001b[1;32m     13\u001b[0m \u001b[0;34m\u001b[0m\u001b[0m\n\u001b[1;32m     14\u001b[0m \u001b[0;31m# scipy for interpolation\u001b[0m\u001b[0;34m\u001b[0m\u001b[0;34m\u001b[0m\u001b[0;34m\u001b[0m\u001b[0m\n",
      "\u001b[0;31mModuleNotFoundError\u001b[0m: No module named 'hdbscan'"
     ]
    }
   ],
   "metadata": {}
  },
  {
   "cell_type": "markdown",
   "source": [
    "## Upload data"
   ],
   "metadata": {}
  },
  {
   "cell_type": "code",
   "execution_count": 2,
   "source": [
    "import pandas as pd\n",
    "predicted_df = pd.read_csv(\"../../LTRM data/RF interpolation/water_full.csv\")"
   ],
   "outputs": [],
   "metadata": {}
  },
  {
   "cell_type": "markdown",
   "source": [
    "## Kmapper function"
   ],
   "metadata": {}
  },
  {
   "cell_type": "code",
   "execution_count": 13,
   "source": [
    "def mapper_func(df, DBSCAN_EPSILON = 20, DBSCAN_MIN_SAMPLES = 20, N_CUBES = [10, 10], PERC_OVERLAP = [.45, .45]):\n",
    "    \n",
    "    X = df[[\"WDP\", \"SECCHI\", \"TEMP\", \"DO\", \"TURB\", \"VEL\", \"TP\", \"TN\", \"SS\", \"CHLcal\"]]\n",
    "    continuous_variables =  [\"WDP\", \"SECCHI\", \"TEMP\", \"DO\", \"TURB\", \"VEL\", \"TP\", \"TN\", \"SS\", \"CHLcal\"]\n",
    "\n",
    "    var_to_index = {continuous_variables[i] : i for i in range(len(continuous_variables))}\n",
    "    #projected_vars = continuous_variables\n",
    "    projected_var_indices = [var_to_index[var] for var in continuous_variables]\n",
    "\n",
    "    # defining clustering and kmapper parameters\n",
    "    # create instance of clustering alg\n",
    "    cluster_alg = sklearn.cluster.DBSCAN(eps = DBSCAN_EPSILON, min_samples = DBSCAN_MIN_SAMPLES, metric = 'euclidean')\n",
    "\n",
    "    # Instantiate kepler mapper object\n",
    "    mapper = km.KeplerMapper(verbose = 0)\n",
    "    \n",
    "    # defining filter function as projection on to the first 2 component axis\n",
    "    pca = PCA(n_components = 2)\n",
    "    lens = pca.fit_transform(X)\n",
    "\n",
    "    #pca.fit_transform(X)\n",
    "    principle_component = max(abs(pca.components_[0].min()), abs(pca.components_[0].max()))\n",
    "    max_index = 0\n",
    "\n",
    "    for i in range(len(pca.components_[0])):\n",
    "        if abs(pca.components_[0][i]) == principle_component:\n",
    "            max_index = i\n",
    "\n",
    "    print(\"Primary variable: \", continuous_variables[max_index])\n",
    "    print(\"Corresponding component: \", pca.components_[0][max_index])\n",
    "    print('Explained Variance: ', pca.explained_variance_ratio_)\n",
    "    \n",
    "    #lens = np.array(X[continuous_variables[max_index]])\n",
    "    #lens = np.array(X[['PredictedTN', 'PredictedSS']])\n",
    "    \n",
    "    # Generate the simplicial complex\n",
    "    scomplex = mapper.map(lens, X, cover = km.Cover(n_cubes = N_CUBES, perc_overlap = PERC_OVERLAP), \n",
    "                                                    clusterer = cluster_alg, remove_duplicate_nodes = True)  \n",
    "\n",
    "    summary_variable = mapper.project(np.array(X), projection = projected_var_indices, scaler = None)\n",
    "\n",
    "    pl_brewer = [[0.0, '#006837'],\n",
    "             [0.1, '#1a9850'],\n",
    "             [0.2, '#66bd63'],\n",
    "             [0.3, '#a6d96a'],\n",
    "             [0.4, '#d9ef8b'],\n",
    "             [0.5, '#ffffbf'],\n",
    "             [0.6, '#fee08b'],\n",
    "             [0.7, '#fdae61'],\n",
    "             [0.8, '#f46d43'],\n",
    "             [0.9, '#d73027'],\n",
    "             [1.0, '#a50026']]\n",
    "\n",
    "    color_function_name = [\"Distance to x-min\"]\n",
    "    color_values = lens [:,0] - lens[:,0].min() # X['PREDICTED_TP]\n",
    "    #color_values = X['TURB']\n",
    "    my_colorscale = pl_brewer\n",
    "    kmgraph,  mapper_summary, colorf_distribution = get_mapper_graph(scomplex, \n",
    "                                                                     color_values,  \n",
    "                                                                     color_function_name = color_function_name, \n",
    "                                                                     colorscale = my_colorscale)\n",
    "\n",
    "    bgcolor = 'rgba(10,10,10, 0.9)'\n",
    "    # y_gridcolor = 'rgb(150,150,150)'# on a black background the gridlines are set on  grey\n",
    "\n",
    "    plotly_graph_data = plotly_graph(kmgraph, graph_layout ='fr', colorscale = my_colorscale, \n",
    "                                     factor_size = 2.5, edge_linewidth = 0.5)\n",
    "\n",
    "    plot_title =  'LTRM: Epsilon '+ str(DBSCAN_EPSILON) + str(DBSCAN_EPSILON) + ', MIN_SAMPLES ' + str(DBSCAN_MIN_SAMPLES) \n",
    "    # plot_title = 'Pool 13, Summer 1993-1999; Epsilon ' + str(DBSCAN_EPSILON) + ', MIN_SAMPLES ' + str(DBSCAN_MIN_SAMPLES) \n",
    "    \n",
    "    layout = plot_layout(title = plot_title,  \n",
    "                         width = 620, height = 570,\n",
    "                         annotation_text = get_kmgraph_meta(mapper_summary),  \n",
    "                         bgcolor = bgcolor)\n",
    "\n",
    "    # FigureWidget is responsible for event listeners\n",
    "    fw_graph = go.FigureWidget(data = plotly_graph_data, layout = layout)\n",
    "    fw_hist = node_hist_fig(colorf_distribution, bgcolor = bgcolor)\n",
    "    fw_summary = summary_fig(mapper_summary, height = 300)\n",
    "\n",
    "    dashboard = hovering_widgets(kmgraph, \n",
    "                                 fw_graph, \n",
    "                                 bgcolor = bgcolor, \n",
    "                                 member_textbox_width = 600)\n",
    "\n",
    "    # DESIRED FILE PATH, CHANGE TO FIT YOUR LOCAL MACHINE\n",
    "    #directory_path = \"../kmapper\"\n",
    "    \n",
    "    #Update the fw_graph colorbar, setting its title:\n",
    "    fw_graph.data[1].marker.colorbar.title = 'dist to<br>x-min'\n",
    "    html_output_path = 'PCA_2' + 'Eps_' + str(DBSCAN_EPSILON) +'MinS_' + str(DBSCAN_MIN_SAMPLES) + 'NCUBES_' + str(N_CUBES) + 'PEROvLp_' + str(PERC_OVERLAP) + '.html'\n",
    "    \n",
    "    mapper.visualize(scomplex, color_values = color_values, color_function_name = color_function_name, \n",
    "                     path_html = html_output_path, lens = summary_variable, lens_names = continuous_variables)\n",
    "    \n",
    "    return scomplex, X"
   ],
   "outputs": [],
   "metadata": {}
  },
  {
   "cell_type": "code",
   "execution_count": 26,
   "source": [
    "mapper_output_dict = {}\n",
    "mapper_output_df = {}\n",
    "\n",
    "scomplex, X = mapper_func(predicted_df, 10, 20, [100, 100], [.3, .3])\n",
    "mapper_output_dict[\"10-20-[100,100], [.3,.3]\"] = scomplex\n",
    "mapper_output_df[\"10-20-[100,100], [.3,.3]\"] = X\n"
   ],
   "outputs": [
    {
     "output_type": "stream",
     "name": "stdout",
     "text": [
      "Primary variable:  SS\n",
      "Corresponding component:  0.7851775312926295\n",
      "Explained Variance:  [0.81970454 0.09756913]\n"
     ]
    }
   ],
   "metadata": {}
  },
  {
   "cell_type": "code",
   "execution_count": null,
   "source": [
    "import json as js\n",
    "json = js.dumps(mapper_output_dict)\n",
    "f = open(\"PCA2_10_20_[100,100]_[30,30].json\",\"w\")\n",
    "f.write(json)\n",
    "f.close()"
   ],
   "outputs": [],
   "metadata": {}
  },
  {
   "cell_type": "code",
   "execution_count": null,
   "source": [
    "import pickle as pk\n",
    "pickle = pk.dump(mapper_output_df, open(\"PCA2_10_20_[100,100]_[30,30]dfs.p\",\"wb\"))"
   ],
   "outputs": [],
   "metadata": {}
  }
 ],
 "metadata": {
  "orig_nbformat": 4,
  "language_info": {
   "name": "python"
  }
 },
 "nbformat": 4,
 "nbformat_minor": 2
}