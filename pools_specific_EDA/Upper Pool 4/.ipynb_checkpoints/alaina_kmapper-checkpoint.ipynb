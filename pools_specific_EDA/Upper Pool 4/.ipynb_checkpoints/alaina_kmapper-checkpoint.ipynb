{
 "cells": [
  {
   "cell_type": "markdown",
   "metadata": {},
   "source": [
    "# Kmapper script for all pools"
   ]
  },
  {
   "cell_type": "markdown",
   "metadata": {},
   "source": [
    "## Import libraries"
   ]
  },
  {
   "cell_type": "code",
   "execution_count": 2,
   "metadata": {},
   "outputs": [],
   "source": [
    "import kmapper as km\n",
    "from kmapper.plotlyviz import *\n",
    "\n",
    "import sklearn\n",
    "#from sklearn import ensemble\n",
    "# DBSCAN from sklearn for clustering algorithms\n",
    "from sklearn.cluster import DBSCAN\n",
    "# PCA from sklearn for projection/lens creation\n",
    "from sklearn.decomposition import PCA\n",
    "# from sklearn.manifold import MDS\n",
    "from sklearn.preprocessing import StandardScaler\n",
    "from sklearn.preprocessing import RobustScaler\n",
    "\n",
    "# scipy for interpolation\n",
    "# import scipy \n",
    "# from scipy.interpolate import *\n",
    "import hdbscan\n",
    "import pickle as pk\n",
    "import json as js\n",
    "import matplotlib.pyplot as plt\n",
    "from sklearn.compose import ColumnTransformer\n",
    "\n",
    "# Plotly and Dash\n",
    "import plotly.graph_objs as go\n",
    "from kmapper.plotlyviz import plotlyviz\n",
    "from kmapper.plotlyviz import *\n",
    "from ipywidgets import (HBox, VBox)\n",
    "import dash_html_components as html\n",
    "import dash_core_components as dcc\n",
    "import dash\n",
    "from ipywidgets import interactive, HBox, VBox, widgets, interact\n",
    "import warnings\n",
    "warnings.filterwarnings(\"ignore\")"
   ]
  },
  {
   "cell_type": "markdown",
   "metadata": {},
   "source": [
    "## Upload data"
   ]
  },
  {
   "cell_type": "code",
   "execution_count": 3,
   "metadata": {},
   "outputs": [],
   "source": [
    "import pandas as pd\n",
    "water20 = pd.read_csv(\"../../LTRM data/RF interpolation/water_full.csv\")\n",
    "water20 = water20[[\"SHEETBAR\", \"DATE\", \"LATITUDE\",\"LONGITUDE\",\"FLDNUM\", \"STRATUM\",\"LOCATCD\",\n",
    "\"TN\",\"TP\",\"TEMP\", \"DO\", \"TURB\", \"VEL\", \"SS\", \"WDP\", \"CHLcal\",  \"SECCHI\", \"YEAR\", \"SEASON\"]]"
   ]
  },
  {
   "cell_type": "markdown",
   "metadata": {},
   "source": [
    "## Standardize data"
   ]
  },
  {
   "cell_type": "code",
   "execution_count": 4,
   "metadata": {},
   "outputs": [
    {
     "name": "stdout",
     "output_type": "stream",
     "text": [
      "[[0.7293103620606537 0.17890622994390762 0.8614521214419811 ... 9312103\n",
      "  1993 2]\n",
      " [1.3059564778575974 0.18547061979965557 0.8614521214419811 ... 9312002\n",
      "  1993 2]\n",
      " [0.7293103620606537 0.1263911110979239 0.8508479208593491 ... 9312102\n",
      "  1993 2]\n",
      " ...\n",
      " [-0.7639588954591189 1.0585344706141337 -0.5807191577959548 ... 1363126\n",
      "  2013 3]\n",
      " [-0.6769297856917191 1.0585344706141337 -0.6973653642049055 ... 1363226\n",
      "  2013 3]\n",
      " [-0.7282706993674514 0.9994549619124021 -0.6072296592525345 ... 1363108\n",
      "  2013 3]]\n"
     ]
    }
   ],
   "source": [
    "continuous_variables = [\"TN\",\"TP\",\"TEMP\", \"DO\", \"TURB\", \"VEL\", \"SS\", \"WDP\", \"CHLcal\",  \"SECCHI\"]\n",
    "\n",
    "ct = ColumnTransformer([('somename', StandardScaler(), continuous_variables)], remainder = 'passthrough')\n",
    "\n",
    "water_df = ct.fit_transform(water20)\n",
    "\n",
    "print(water_df)\n",
    "\n",
    "# n_data = watershort.shape[0]\n",
    "n_data = water20.shape[0]\n",
    "\n",
    "water_df = pd.DataFrame(water_df, columns = [\"TN\",\"TP\",\"TEMP\", \"DO\", \"TURB\", \"VEL\", \"SS\", \"WDP\", \"CHLcal\",  \"SECCHI\",\n",
    "                                             \"SHEETBAR\", \"DATE\", \"LATTITUDE\",\"LONGITUDE\",\"FLDNUM\", \"STRATUM\",\"LOCATCD\",\n",
    "                                             \"YEAR\", \"SEASON\"])     "
   ]
  },
  {
   "cell_type": "markdown",
   "metadata": {},
   "source": [
    "## Get coloumns to color by field number"
   ]
  },
  {
   "cell_type": "code",
   "execution_count": 5,
   "metadata": {},
   "outputs": [],
   "source": [
    "to_dummy_list = ['STRATUM', 'FLDNUM', 'YEAR']\n",
    "\n",
    "for var in to_dummy_list:\n",
    "    temp = pd.get_dummies(water_df[var])\n",
    "    water_df = pd.concat([water_df, temp], axis = 1)\n",
    "    \n",
    "    "
   ]
  },
  {
   "cell_type": "code",
   "execution_count": null,
   "metadata": {},
   "outputs": [],
   "source": [
    "fig = plt.figure(figsize =(10, 7))\n",
    " \n",
    "# Creating plot\n",
    "plt.boxplot(water_df)\n",
    "ax = fig.add_subplot(111)\n",
    "\n",
    "bp = ax.boxplot(water_df, patch_artist = True,\n",
    "                notch ='True', vert = 1)\n",
    "\n",
    "ax.set_xticklabels([\"1\", \"2\", \"3\", \"4\", \"5\", \"6\", \"7\", \"8\", \"9\", \"10\",\n",
    "                    \"WDP\", \"SECCHI\", \"TEMP\", \"DO\", \"TURB\", \"VEL\", \"TP\", \"TN\", \"SS\", \"CHLcal\"])\n",
    "\n",
    "ax.set_ylim(-5, 20)\n",
    "ax.get_yaxis().set_visible(False)\n",
    "\n",
    "#ax.set_yticklables([-5, 0, 5, 10, 15, 20])\n",
    "\n",
    "plt.title(\"Distribution of standardized variables\")\n",
    " \n",
    "# show plot\n",
    "plt.show(bp)"
   ]
  },
  {
   "cell_type": "markdown",
   "metadata": {},
   "source": [
    "## Kmapper function"
   ]
  },
  {
   "cell_type": "code",
   "execution_count": 6,
   "metadata": {},
   "outputs": [],
   "source": [
    "def mapper_func_hdb(df, HDB_MIN_CLUSTER = 45, HDB_MIN_SAMP = 10, \n",
    "                    N_CUBES = [10,10], PERC_OVERLAP = [.25,.25], draw_bool = True):\n",
    "    \"\"\"\n",
    "    \"\"\"\n",
    "    X = df[[\"WDP\", \"SECCHI\", \"TEMP\", \"DO\", \"TURB\", \"VEL\", \"TP\", \"TN\", \"SS\", \"CHLcal\"]]\n",
    "\n",
    "    # for discerning primary variables in PCA \n",
    "    continuous_variables = [\"WDP\", \"SECCHI\", \"TEMP\", \"DO\", \"TURB\", \"VEL\", \"TP\", \"TN\", \"SS\", \"CHLcal\"]\n",
    "    \n",
    "    \n",
    "    var_to_index = {continuous_variables[i] : i for i in range(len(continuous_variables))}\n",
    "    projected_vars = continuous_variables\n",
    "    projected_var_indices = [var_to_index[var] for var in projected_vars]\n",
    "    \n",
    "#     if X.shape[0]<10:\n",
    "#         #print(X)\n",
    "#         print(\"Not enough data in \", title, \"_size = \", X.shape[0])\n",
    "#         return(X.shape[0])\n",
    "    \n",
    "    # to match up indices in scomplex with the original dataframe X\n",
    "    X.reset_index(drop = True, inplace = True)\n",
    "    df.rest_index(drop = True, inplace = True)\n",
    "    \n",
    "    # create instance of clustering alg\n",
    "    cluster_alg = hdbscan.HDBSCAN(min_cluster_size = HDB_MIN_CLUSTER, min_samples = HDB_MIN_SAMP)\n",
    "\n",
    "    # instantiate kepler mapper object\n",
    "    mapper = km.KeplerMapper(verbose = 0)\n",
    "    \n",
    "    # defining filter function as projection on to the first 2 component axis\n",
    "    pca = PCA(n_components = 2)\n",
    "    lens = pca.fit_transform(X)\n",
    "    \n",
    "    #for j in range(2):\n",
    "    #    pc_j = pca.components_[j]\n",
    "    #    largest_magnitude = max(abs(pc_j))\n",
    "    #    idx_magnitude = np.where(abs(pc_j) == largest_magnitude)[0][0]\n",
    "        \n",
    "\n",
    "        #print(\"*** PCA\", j + 1, \" ***\")\n",
    "        #print(\"Primary variable: \", continuous_variables[idx_magnitude])\n",
    "        #print(\"Corresponding component: \", pc_j[idx_magnitude])\n",
    "        #print(\"Explained variance: \", pca.explained_variance_ratio_[j])\n",
    "    \n",
    "    # Generate the simplicial complex\n",
    "    scomplex = mapper.map(lens, X, \n",
    "                          cover = km.Cover(n_cubes = N_CUBES, perc_overlap = PERC_OVERLAP), \n",
    "                          clusterer = cluster_alg)  \n",
    "\n",
    "    if draw_bool == True: \n",
    "        summary_variable = mapper.project(np.array(X), projection = projected_var_indices, scaler = None)\n",
    "\n",
    "        pl_brewer = [[0.0, '#006837'],\n",
    "                [0.1, '#1a9850'],\n",
    "                [0.2, '#66bd63'],\n",
    "                [0.3, '#a6d96a'],\n",
    "                [0.4, '#d9ef8b'],\n",
    "                [0.5, '#ffffbf'],\n",
    "                [0.6, '#fee08b'],\n",
    "                [0.7, '#fdae61'],\n",
    "                [0.8, '#f46d43'],\n",
    "                [0.9, '#d73027'],\n",
    "                [1.0, '#a50026']]\n",
    "\n",
    "        color_function_name = [\"FLDNUM\"]\n",
    "        color_values = df['year'] # X['PREDICTED_TP]\n",
    "        #color_values = X['TURB']\n",
    "        my_colorscale = pl_brewer\n",
    "        kmgraph,  mapper_summary, colorf_distribution = get_mapper_graph(scomplex, \n",
    "                                                                        color_values,  \n",
    "                                                                        color_function_name = color_function_name, \n",
    "                                                                        colorscale = my_colorscale)\n",
    "\n",
    "        bgcolor = 'rgba(10,10,10, 0.9)'\n",
    "        # y_gridcolor = 'rgb(150,150,150)'# on a black background the gridlines are set on  grey\n",
    "\n",
    "        plotly_graph_data = plotly_graph(kmgraph, graph_layout ='fr', colorscale = my_colorscale, \n",
    "                                        factor_size = 2.5, edge_linewidth = 0.5)\n",
    "\n",
    "        plot_title =  'LTRM: MinClust '+ str(HDB_MIN_CLUSTER) + ', MIN_SAMPLES ' + str(HDB_MIN_SAMP) \n",
    "        # plot_title = 'Pool 13, Summer 1993-1999; Epsilon ' + str(DBSCAN_EPSILON) + ', MIN_SAMPLES ' + str(DBSCAN_MIN_SAMPLES) \n",
    "        \n",
    "        layout = plot_layout(title = plot_title,  \n",
    "                            width = 620, height = 570,\n",
    "                            annotation_text = get_kmgraph_meta(mapper_summary),  \n",
    "                            bgcolor = bgcolor)\n",
    "\n",
    "        # FigureWidget is responsible for event listeners\n",
    "        fw_graph = go.FigureWidget(data = plotly_graph_data, layout = layout)\n",
    "        fw_hist = node_hist_fig(colorf_distribution, bgcolor = bgcolor)\n",
    "        fw_summary = summary_fig(mapper_summary, height = 300)\n",
    "\n",
    "        dashboard = hovering_widgets(kmgraph, \n",
    "                                    fw_graph, \n",
    "                                    bgcolor = bgcolor, \n",
    "                                    member_textbox_width = 600)\n",
    "\n",
    "        # DESIRED FILE PATH, CHANGE TO FIT YOUR LOCAL MACHINE\n",
    "        #directory_path = \"../kmapper\"\n",
    "        \n",
    "        #Update the fw_graph colorbar, setting its title:\n",
    "        fw_graph.data[1].marker.colorbar.title = 'dist to<br>x-min'\n",
    "        html_output_path = 'HDB_PCA_2' + 'MinC_' + str(HDB_MIN_CLUSTER) +'MinS_' + str(HDB_MIN_SAMP) + 'NCUBES_' + str(N_CUBES) + 'PEROvLp_' + str(PERC_OVERLAP) + '.html'\n",
    "        \n",
    "        mapper.visualize(scomplex, color_values = color_values, color_function_name = color_function_name, \n",
    "                        path_html = html_output_path, lens = summary_variable, lens_names = continuous_variables)\n",
    "        \n",
    "    return scomplex, X\n",
    "    \n",
    "def mapper_func(df, DBSCAN_EPSILON = 20, DBSCAN_MIN_SAMPLES = 20, N_CUBES = [10, 10], PERC_OVERLAP = [.45, .45], draw_bool = True):\n",
    "    \n",
    "    X = df[[\"WDP\", \"SECCHI\", \"TEMP\", \"DO\", \"TURB\", \"VEL\", \"TP\", \"TN\", \"SS\", \"CHLcal\"]]\n",
    "    continuous_variables =  [\"WDP\", \"SECCHI\", \"TEMP\", \"DO\", \"TURB\", \"VEL\", \"TP\", \"TN\", \"SS\", \"CHLcal\"]\n",
    "\n",
    "    var_to_index = {continuous_variables[i] : i for i in range(len(continuous_variables))}\n",
    "    #projected_vars = continuous_variables\n",
    "    projected_var_indices = [var_to_index[var] for var in continuous_variables]\n",
    "\n",
    "    # defining clustering and kmapper parameters\n",
    "    # create instance of clustering alg\n",
    "    cluster_alg = sklearn.cluster.DBSCAN(eps = DBSCAN_EPSILON, min_samples = DBSCAN_MIN_SAMPLES, metric = 'euclidean')\n",
    "\n",
    "    # Instantiate kepler mapper object\n",
    "    mapper = km.KeplerMapper(verbose = 0)\n",
    "    \n",
    "    # defining filter function as projection on to the first 2 component axis\n",
    "    pca = PCA(n_components = 2)\n",
    "    lens = pca.fit_transform(X)\n",
    "\n",
    "    #pca.fit_transform(X)\n",
    "    principle_component = max(abs(pca.components_[0].min()), abs(pca.components_[0].max()))\n",
    "    max_index = 0\n",
    "\n",
    "    for i in range(len(pca.components_[0])):\n",
    "        if abs(pca.components_[0][i]) == principle_component:\n",
    "            max_index = i\n",
    "\n",
    "    #print(\"Primary variable: \", continuous_variables[max_index])\n",
    "    #print(\"Corresponding component: \", pca.components_[0][max_index])\n",
    "    #print('Explained Variance: ', pca.explained_variance_ratio_)\n",
    "    \n",
    "    #lens = np.array(X[continuous_variables[max_index]])\n",
    "    #lens = np.array(X[['PredictedTN', 'PredictedSS']])\n",
    "    \n",
    "    # Generate the simplicial complex\n",
    "    scomplex = mapper.map(lens, X, cover = km.Cover(n_cubes = N_CUBES, perc_overlap = PERC_OVERLAP), \n",
    "                                                    clusterer = cluster_alg, remove_duplicate_nodes = True)  \n",
    "\n",
    "    if draw_bool == True:\n",
    "        summary_variable = mapper.project(np.array(X), projection = projected_var_indices, scaler = None)\n",
    "\n",
    "        pl_brewer = [[0.0, '#006837'],\n",
    "                [0.1, '#1a9850'],\n",
    "                [0.2, '#66bd63'],\n",
    "                [0.3, '#a6d96a'],\n",
    "                [0.4, '#d9ef8b'],\n",
    "                [0.5, '#ffffbf'],\n",
    "                [0.6, '#fee08b'],\n",
    "                [0.7, '#fdae61'],\n",
    "                [0.8, '#f46d43'],\n",
    "                [0.9, '#d73027'],\n",
    "                [1.0, '#a50026']]\n",
    "\n",
    "        color_function_name = [\"FLDNUM\"]\n",
    "        color_values = df['YEAR']\n",
    "        #color_values = lens [:,0] - lens[:,0].min() # X['PREDICTED_TP]\n",
    "        #color_values = X['TURB']\n",
    "        my_colorscale = pl_brewer\n",
    "        kmgraph,  mapper_summary, colorf_distribution = get_mapper_graph(scomplex, \n",
    "                                                                        color_values,  \n",
    "                                                                        color_function_name = color_function_name, \n",
    "                                                                        colorscale = my_colorscale)\n",
    "\n",
    "        bgcolor = 'rgba(10,10,10, 0.9)'\n",
    "        # y_gridcolor = 'rgb(150,150,150)'# on a black background the gridlines are set on  grey\n",
    "\n",
    "        plotly_graph_data = plotly_graph(kmgraph, graph_layout ='fr', colorscale = my_colorscale, \n",
    "                                        factor_size = 2.5, edge_linewidth = 0.5)\n",
    "\n",
    "        plot_title =  'LTRM: Epsilon '+ str(DBSCAN_EPSILON) + str(DBSCAN_EPSILON) + ', MIN_SAMPLES ' + str(DBSCAN_MIN_SAMPLES) \n",
    "        # plot_title = 'Pool 13, Summer 1993-1999; Epsilon ' + str(DBSCAN_EPSILON) + ', MIN_SAMPLES ' + str(DBSCAN_MIN_SAMPLES) \n",
    "        \n",
    "\n",
    "\n",
    "        layout = plot_layout(title = plot_title,  \n",
    "                            width = 620, height = 570,\n",
    "                            annotation_text = get_kmgraph_meta(mapper_summary),  \n",
    "                            bgcolor = bgcolor)\n",
    "\n",
    "        # FigureWidget is responsible for event listeners\n",
    "        fw_graph = go.FigureWidget(data = plotly_graph_data, layout = layout)\n",
    "        fw_hist = node_hist_fig(colorf_distribution, bgcolor = bgcolor)\n",
    "        fw_summary = summary_fig(mapper_summary, height = 300)\n",
    "\n",
    "        dashboard = hovering_widgets(kmgraph, \n",
    "                                    fw_graph, \n",
    "                                    bgcolor = bgcolor, \n",
    "                                    member_textbox_width = 600)\n",
    "\n",
    "        # DESIRED FILE PATH, CHANGE TO FIT YOUR LOCAL MACHINE\n",
    "        #directory_path = \"../kmapper\"\n",
    "        \n",
    "        #Update the fw_graph colorbar, setting its title:\n",
    "        fw_graph.data[1].marker.colorbar.title = 'dist to<br>x-min'\n",
    "\n",
    "        html_output_path = 'PCA_2' + 'Eps_' + str(DBSCAN_EPSILON) +'MinS_' + str(DBSCAN_MIN_SAMPLES) + 'NCUBES_' + str(N_CUBES) + 'PEROvLp_' + str(PERC_OVERLAP) + '.html'\n",
    "        \n",
    "        mapper.visualize(scomplex, color_values = color_values, color_function_name = color_function_name, \n",
    "                        path_html = html_output_path, lens = summary_variable, lens_names = continuous_variables)\n",
    "        \n",
    "    return scomplex, X"
   ]
  },
  {
   "cell_type": "code",
   "execution_count": null,
   "metadata": {},
   "outputs": [],
   "source": [
    "# TESTING COLORING FUNCTIONS WITH DBSCAN \n",
    "scomplex, X = mapper_func(water_df, 1, 10, [75, 75], [.5, .5], True)\n",
    "plotlyviz(scomplex, title = 'color by year', graph_layout = 'fr', dashboard = True)"
   ]
  },
  {
   "cell_type": "code",
   "execution_count": 27,
   "metadata": {},
   "outputs": [
    {
     "name": "stdout",
     "output_type": "stream",
     "text": [
      "DATA SIZE: 19167\n",
      "25% SUBSET: MinClust_10_MinSamp_10\n",
      "DATA SIZE: 38334\n",
      "50% SUBSET: MinClust_10_MinSamp_10\n",
      "DATA SIZE: 76669\n",
      "100% SUBSET: MinClust_10_MinSamp_10\n"
     ]
    }
   ],
   "source": [
    "mapper_hdb_output_dict = {}\n",
    "mapper_hdb_output_df = {}\n",
    "\n",
    "subset_perc = [.25, .5, 1]\n",
    "for i in subset_perc: \n",
    "    TEMP_DATA = water_df.sample(n = int(i * len(water_df)))\n",
    "    print(\"DATA SIZE: \" + str(int(i * len(water_df))))\n",
    "    title = str(int(i* 100)) + '% SUBSET: MinClust_' + str(10) + '_MinSamp_' + str(10)\n",
    "    print(title)\n",
    "\n",
    "    scomplex, X = mapper_func_hdb(TEMP_DATA, 10, 10, [75,75], [.5,.5])\n",
    "    mapper_hdb_output_dict[title] = scomplex\n",
    "    mapper_hdb_output_df[title] = X\n",
    "    \n",
    "    plotlyviz(scomplex, title = 'HDB', graph_layout = 'fr', dashboard = True)"
   ]
  },
  {
   "cell_type": "code",
   "execution_count": 28,
   "metadata": {},
   "outputs": [],
   "source": [
    "import json as js\n",
    "json = js.dumps(mapper_hdb_output_dict)\n",
    "f = open(\"HDB_graphs.json\",\"w\")\n",
    "f.write(json)\n",
    "f.close()\n",
    "\n",
    "import pickle as pk\n",
    "pickle = pk.dump(mapper_hdb_output_df, open(\"HDB_dfs.p\",\"wb\"))"
   ]
  },
  {
   "cell_type": "code",
   "execution_count": 29,
   "metadata": {},
   "outputs": [
    {
     "name": "stdout",
     "output_type": "stream",
     "text": [
      "DATA SIZE: 19167\n",
      "25% SUBSET: EPSILON_1_MinSamp_10\n",
      "DATA SIZE: 38334\n",
      "50% SUBSET: EPSILON_1_MinSamp_10\n",
      "DATA SIZE: 76669\n",
      "100% SUBSET: EPSILON_1_MinSamp_10\n"
     ]
    }
   ],
   "source": [
    "mapper_output_dict = {}\n",
    "mapper_output_df = {}\n",
    "\n",
    "subset_perc = [.25, .5, 1]\n",
    "for i in subset_perc: \n",
    "    TEMP_DATA = water_df.sample(n = int(i * len(water_df)))\n",
    "    print(\"DATA SIZE: \" + str(int(i * len(water_df))))\n",
    "    title = str(int(i* 100)) + '% SUBSET: EPSILON_' + str(1) + '_MinSamp_' + str(10)\n",
    "    print(title)\n",
    "\n",
    "    scomplex, X = mapper_func(TEMP_DATA, 1, 10, [75,75], [.5,.5])\n",
    "    mapper_output_dict[title] = scomplex\n",
    "    mapper_output_df[title] = X\n",
    "    \n",
    "    plotlyviz(scomplex, title = 'HDB', graph_layout = 'fr', dashboard = True)\n"
   ]
  },
  {
   "cell_type": "code",
   "execution_count": 31,
   "metadata": {},
   "outputs": [],
   "source": [
    "import json as js\n",
    "json = js.dumps(mapper_output_dict)\n",
    "f = open(\"DB_graphs.json\",\"w\")\n",
    "f.write(json)\n",
    "f.close()\n",
    "\n",
    "import pickle as pk\n",
    "pickle = pk.dump(mapper_output_df, open(\"DB_dfs.p\",\"wb\"))"
   ]
  },
  {
   "cell_type": "markdown",
   "metadata": {},
   "source": [
    "## Running stuff outside the function - adding coloring stuff"
   ]
  },
  {
   "cell_type": "code",
   "execution_count": 11,
   "metadata": {},
   "outputs": [],
   "source": [
    "X = water_df[[\"WDP\", \"SECCHI\", \"TEMP\", \"DO\", \"TURB\", \"VEL\", \"TP\", \"TN\", \"SS\", \"CHLcal\"]]\n",
    "continuous_variables =  [\"WDP\", \"SECCHI\", \"TEMP\", \"DO\", \"TURB\", \"VEL\", \"TP\", \"TN\", \"SS\", \"CHLcal\"]\n",
    "\n",
    "var_to_index = {continuous_variables[i] : i for i in range(len(continuous_variables))}\n",
    "projected_var_indices = [var_to_index[var] for var in continuous_variables]\n",
    "\n",
    "cluster_alg = sklearn.cluster.DBSCAN(eps = 1, min_samples = 10, metric = 'euclidean')\n",
    "pca = PCA(n_components = 2)\n",
    "lens = pca.fit_transform(X)\n",
    "\n",
    "mapper = km.KeplerMapper(verbose = 0)\n",
    "scomplex = mapper.map(lens, X, cover = km.Cover(n_cubes = [75, 75], perc_overlap = [.5, .5]), \n",
    "                                            clusterer = cluster_alg, remove_duplicate_nodes = True)  \n",
    "\n",
    "#summary_variable = mapper.project(np.array(X), projection = projected_var_indices, scaler = None)\n"
   ]
  },
  {
   "cell_type": "code",
   "execution_count": 7,
   "metadata": {},
   "outputs": [],
   "source": [
    "def color_by_var(scomplex, df, variable):\n",
    "    kmgraph,  mapper_summary, colorf_distribution = get_mapper_graph(scomplex, \n",
    "                                                                    color_values = df[variable],  \n",
    "                                                                    color_function_name = [variable])\n",
    "\n",
    "    for node in kmgraph['nodes']:\n",
    "        node['custom_tooltips'] = np.array(water_df[variable])[scomplex['nodes'][node['name']]]\n",
    "\n",
    "    plotly_graph_data = plotly_graph(kmgraph, graph_layout = 'fr', factor_size = 2.5, edge_linewidth = 0.5)\n",
    "\n",
    "    layout = plot_layout(title = 'LTRM DATA',  \n",
    "                        width = 620, height = 570,\n",
    "                        annotation_text = get_kmgraph_meta(mapper_summary))\n",
    "\n",
    "    # FigureWidget is responsible for event listeners\n",
    "    fw_graph = go.FigureWidget(data = plotly_graph_data, layout = layout)\n",
    "    fw_hist = node_hist_fig(colorf_distribution)\n",
    "    fw_summary = summary_fig(mapper_summary, height = 300)\n",
    "    dashboard = hovering_widgets(kmgraph, \n",
    "                                fw_graph, \n",
    "                                ctooltips = True,\n",
    "                                member_textbox_width = 600)\n",
    "\n",
    "    #Update the fw_graph colorbar, setting its title:\n",
    "    fw_graph.data[1].marker.colorbar.title = 'hi'\n",
    "\n",
    "    html_output_path = 'PCA_2' + 'Eps_' + str(DBSCAN_EPSILON) +'MinS_' + str(DBSCAN_MIN_SAMPLES) + 'NCUBES_' + str(N_CUBES) + 'PEROvLp_' + str(PERC_OVERLAP) + '.html'\n",
    "        \n",
    "    mapper.visualize(scomplex, color_values = color_values, color_function_name = color_function_name, \n",
    "                     path_html = html_output_path, lens = summary_variable, lens_names = continuous_variables)\n",
    "    \n",
    "\n",
    "    return(dashboard)"
   ]
  },
  {
   "cell_type": "code",
   "execution_count": 115,
   "metadata": {},
   "outputs": [
    {
     "data": {
      "application/vnd.jupyter.widget-view+json": {
       "model_id": "a9af341101f34f2f810c42c6cf7c3c3f",
       "version_major": 2,
       "version_minor": 0
      },
      "text/plain": [
       "VBox(children=(HBox(children=(FigureWidget({\n",
       "    'data': [{'hoverinfo': 'none',\n",
       "              'line': {'color'…"
      ]
     },
     "metadata": {},
     "output_type": "display_data"
    }
   ],
   "source": [
    "color_by_var(scomplex, water_df, \"TURB\")"
   ]
  },
  {
   "cell_type": "code",
   "execution_count": 23,
   "metadata": {},
   "outputs": [
    {
     "data": {
      "application/vnd.jupyter.widget-view+json": {
       "model_id": "6a83dd1c1c4c4cc298aac22cfd22a854",
       "version_major": 2,
       "version_minor": 0
      },
      "text/plain": [
       "VBox(children=(HBox(children=(FigureWidget({\n",
       "    'data': [{'hoverinfo': 'none',\n",
       "              'line': {'color'…"
      ]
     },
     "metadata": {},
     "output_type": "display_data"
    }
   ],
   "source": [
    "color_by_var(scomplex, water_df, \"Onalaska, WI\")"
   ]
  },
  {
   "cell_type": "code",
   "execution_count": 24,
   "metadata": {},
   "outputs": [
    {
     "data": {
      "application/vnd.jupyter.widget-view+json": {
       "model_id": "f414f6029f8240f3bff10c4f2ecebdc2",
       "version_major": 2,
       "version_minor": 0
      },
      "text/plain": [
       "VBox(children=(HBox(children=(FigureWidget({\n",
       "    'data': [{'hoverinfo': 'none',\n",
       "              'line': {'color'…"
      ]
     },
     "metadata": {},
     "output_type": "display_data"
    }
   ],
   "source": [
    "color_by_var(scomplex, water_df, \"Lake City, MN\")"
   ]
  },
  {
   "cell_type": "code",
   "execution_count": 25,
   "metadata": {},
   "outputs": [
    {
     "data": {
      "application/vnd.jupyter.widget-view+json": {
       "model_id": "65d4d71e91244385acf85cf9d464226e",
       "version_major": 2,
       "version_minor": 0
      },
      "text/plain": [
       "VBox(children=(HBox(children=(FigureWidget({\n",
       "    'data': [{'hoverinfo': 'none',\n",
       "              'line': {'color'…"
      ]
     },
     "metadata": {},
     "output_type": "display_data"
    }
   ],
   "source": [
    "color_by_var(scomplex, water_df, \"Bellevue, IA\")"
   ]
  },
  {
   "cell_type": "code",
   "execution_count": 27,
   "metadata": {},
   "outputs": [
    {
     "data": {
      "application/vnd.jupyter.widget-view+json": {
       "model_id": "69858d3e7bd2420da89fedf4ebb960fa",
       "version_major": 2,
       "version_minor": 0
      },
      "text/plain": [
       "VBox(children=(HBox(children=(FigureWidget({\n",
       "    'data': [{'hoverinfo': 'none',\n",
       "              'line': {'color'…"
      ]
     },
     "metadata": {},
     "output_type": "display_data"
    }
   ],
   "source": [
    "color_by_var(scomplex, water_df, \"Brighton, IL\")"
   ]
  },
  {
   "cell_type": "code",
   "execution_count": 28,
   "metadata": {},
   "outputs": [
    {
     "data": {
      "application/vnd.jupyter.widget-view+json": {
       "model_id": "eb7df7931ef241f684de5371d829ce29",
       "version_major": 2,
       "version_minor": 0
      },
      "text/plain": [
       "VBox(children=(HBox(children=(FigureWidget({\n",
       "    'data': [{'hoverinfo': 'none',\n",
       "              'line': {'color'…"
      ]
     },
     "metadata": {},
     "output_type": "display_data"
    }
   ],
   "source": [
    "color_by_var(scomplex, water_df, \"Jackson, MO\")"
   ]
  },
  {
   "cell_type": "code",
   "execution_count": 30,
   "metadata": {},
   "outputs": [
    {
     "data": {
      "application/vnd.jupyter.widget-view+json": {
       "model_id": "f13928d32ae141a3929de0c7b46d2e00",
       "version_major": 2,
       "version_minor": 0
      },
      "text/plain": [
       "VBox(children=(HBox(children=(FigureWidget({\n",
       "    'data': [{'hoverinfo': 'none',\n",
       "              'line': {'color'…"
      ]
     },
     "metadata": {},
     "output_type": "display_data"
    }
   ],
   "source": [
    "color_by_var(scomplex, water_df, \"Havana, IL\")"
   ]
  },
  {
   "cell_type": "code",
   "execution_count": 31,
   "metadata": {},
   "outputs": [
    {
     "data": {
      "application/vnd.jupyter.widget-view+json": {
       "model_id": "1be7bedde6c449b7a8c9d3d7236862b2",
       "version_major": 2,
       "version_minor": 0
      },
      "text/plain": [
       "VBox(children=(HBox(children=(FigureWidget({\n",
       "    'data': [{'hoverinfo': 'none',\n",
       "              'line': {'color'…"
      ]
     },
     "metadata": {},
     "output_type": "display_data"
    }
   ],
   "source": [
    "color_by_var(scomplex, water_df, \"Side channel\")"
   ]
  },
  {
   "cell_type": "code",
   "execution_count": 34,
   "metadata": {},
   "outputs": [
    {
     "data": {
      "application/vnd.jupyter.widget-view+json": {
       "model_id": "2ae1795532b743fda78e5e154ef952fe",
       "version_major": 2,
       "version_minor": 0
      },
      "text/plain": [
       "VBox(children=(HBox(children=(FigureWidget({\n",
       "    'data': [{'hoverinfo': 'none',\n",
       "              'line': {'color'…"
      ]
     },
     "metadata": {},
     "output_type": "display_data"
    }
   ],
   "source": [
    "color_by_var(scomplex, water_df, \"Backwater area contiguous to the main channel\")"
   ]
  },
  {
   "cell_type": "markdown",
   "metadata": {},
   "source": [
    "## Making different HTML outputs with different color options"
   ]
  },
  {
   "cell_type": "code",
   "execution_count": 20,
   "metadata": {},
   "outputs": [],
   "source": [
    "X = water_df[[\"WDP\", \"SECCHI\", \"TEMP\", \"DO\", \"TURB\", \"VEL\", \"TP\", \"TN\", \"SS\", \"CHLcal\"]]\n",
    "continuous_variables =  [\"WDP\", \"SECCHI\", \"TEMP\", \"DO\", \"TURB\", \"VEL\", \"TP\", \"TN\", \"SS\", \"CHLcal\"]\n",
    "\n",
    "pool_names = ['Unexploded Ordinance Area - Pool 13',\n",
    "                                        'Bellevue, IA',\n",
    "                                        'Brighton, IL',\n",
    "                                          'Havana, IL',\n",
    "                                         'Jackson, MO',\n",
    "                                       'Lake City, MN',\n",
    "                                        'Onalaska, WI']\n",
    "\n",
    "year_names = [1993, 1994,1995,1996,1997,1998,1999,2000,2001,2002,2004,2005,\n",
    "              2006,2007,2008,2009,2010,2011,2012,2013,2014,2015,2016,2017,\n",
    "              2018,2019, 2020]\n",
    "\n",
    "stratum_names = ['Backwater area contiguous to the main channel',\n",
    "                                           'Impounded',\n",
    "                                            'Isolated',\n",
    "                             'Lake Pepin or Swan Lake',\n",
    "                                        'Main channel',\n",
    "                                        'Side channel']\n",
    "\n",
    "var_to_index = {continuous_variables[i] : i for i in range(len(continuous_variables))}\n",
    "projected_var_indices = [var_to_index[var] for var in continuous_variables]\n",
    "\n",
    "#cluster_alg = sklearn.cluster.DBSCAN(eps = 1, min_samples = 10, metric = 'euclidean')\n",
    "cluster_alg = hdbscan.HDBSCAN(min_cluster_size = 10, min_samples = 10)\n",
    "pca = PCA(n_components = 2)\n",
    "lens = pca.fit_transform(X)\n",
    "\n",
    "mapper = km.KeplerMapper(verbose = 0)\n",
    "scomplex = mapper.map(lens, X, cover = km.Cover(n_cubes = [75, 75], perc_overlap = [.5, .5]), \n",
    "                                            clusterer = cluster_alg, remove_duplicate_nodes = True)  \n"
   ]
  },
  {
   "cell_type": "code",
   "execution_count": null,
   "metadata": {},
   "outputs": [],
   "source": [
    "summary_variable = mapper.project(np.array(X), projection = projected_var_indices, scaler = None)\n",
    "# Make HTML with color values as the continous variables\n",
    "color_vals = water_df[pool_names]\n",
    "color_names = pool_names\n",
    "kmgraph,  mapper_summary, colorf_distribution = get_mapper_graph(scomplex, \n",
    "                                                                    color_values = color_vals,\n",
    "                                                                    color_function_name = color_names)\n",
    "\n",
    "#for node in kmgraph['nodes']:\n",
    "#    node['custom_tooltips'] = np.array(water_df[variable])[scomplex['nodes'][node['name']]]\n",
    "\n",
    "plotly_graph_data = plotly_graph(kmgraph, graph_layout = 'fr', factor_size = 2.5, edge_linewidth = 0.5)\n",
    "\n",
    "layout = plot_layout(title = 'LTRM DATA',  \n",
    "                    width = 620, height = 570,\n",
    "                    annotation_text = get_kmgraph_meta(mapper_summary))\n",
    "\n",
    "# FigureWidget is responsible for event listeners\n",
    "\"\"\"\"\"\n",
    "fw_graph = go.FigureWidget(data = plotly_graph_data, layout = layout)\n",
    "fw_hist = node_hist_fig(colorf_distribution)\n",
    "fw_summary = summary_fig(mapper_summary, height = 300)\n",
    "dashboard = hovering_widgets(kmgraph, \n",
    "                            fw_graph, \n",
    "                            ctooltips = True,\n",
    "                            member_textbox_width = 600)\n",
    "\"\"\"\"\"\n",
    "#Update the fw_graph colorbar, setting its title:\n",
    "#fw_graph.data[1].marker.colorbar.title = 'hi'\n",
    "\n",
    "html_output_path = 'HDBSCAN_POOL.html'\n",
    "    \n",
    "mapper.visualize(scomplex, color_values = color_vals, color_function_name = color_names, \n",
    "                path_html = html_output_path, lens = summary_variable, lens_names = continuous_variables)\n"
   ]
  },
  {
   "cell_type": "code",
   "execution_count": 27,
   "metadata": {},
   "outputs": [],
   "source": [
    "nodes = scomplex[\"nodes\"]\n",
    "keys = scomplex[\"nodes\"].keys()\n",
    "lengths = []\n",
    "for key in keys:\n",
    "    lengths.append(len(nodes.get(key)))\n"
   ]
  },
  {
   "cell_type": "code",
   "execution_count": 36,
   "metadata": {},
   "outputs": [
    {
     "data": {
      "image/png": "[encoded data removed]",
      "text/plain": [
       "<Figure size 432x288 with 1 Axes>"
      ]
     },
     "metadata": {
      "needs_background": "light"
     },
     "output_type": "display_data"
    }
   ],
   "source": [
    "plt.hist(lengths, bins = 350)\n",
    "plt.xlabel = ('Node count')\n",
    "plt.ylabel = ('Frequency')\n",
    "plt.show()\n",
    "plt.close()"
   ]
  }
 ],
 "metadata": {
  "interpreter": {
   "hash": "aee8b7b246df8f9039afb4144a1f6fd8d2ca17a180786b69acc140d282b71a49"
  },
  "kernelspec": {
   "display_name": "Python 3",
   "language": "python",
   "name": "python3"
  },
  "language_info": {
   "codemirror_mode": {
    "name": "ipython",
    "version": 3
   },
   "file_extension": ".py",
   "mimetype": "text/x-python",
   "name": "python",
   "nbconvert_exporter": "python",
   "pygments_lexer": "ipython3",
   "version": "3.9.5"
  }
 },
 "nbformat": 4,
 "nbformat_minor": 2
}
