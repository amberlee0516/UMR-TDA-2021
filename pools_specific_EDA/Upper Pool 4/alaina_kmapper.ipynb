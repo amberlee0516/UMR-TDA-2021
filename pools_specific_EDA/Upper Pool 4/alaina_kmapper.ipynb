{
 "cells": [
  {
   "cell_type": "markdown",
   "source": [
    "# Kmapper script for all pools\n",
    "\n",
    "This script applies kmapper to the cleaned and interpolated LTRM data. Included is two different functions that will utilize different clustering functions (DBSCAN and HDBSCAN). Prior to using kmapper, the data is standardized using robust scaling and dummy variables are created for 'STRATUM', 'POOL', and 'YEAR' so that the kmapper output can be colored by categorical variables."
   ],
   "metadata": {}
  },
  {
   "cell_type": "markdown",
   "source": [
    "## Import libraries"
   ],
   "metadata": {}
  },
  {
   "cell_type": "code",
   "execution_count": 5,
   "source": [
    "import kmapper as km\n",
    "from kmapper.plotlyviz import *\n",
    "\n",
    "import sklearn\n",
    "#from sklearn import ensemble\n",
    "# DBSCAN from sklearn for clustering algorithms\n",
    "from sklearn.cluster import DBSCAN\n",
    "# PCA from sklearn for projection/lens creation\n",
    "from sklearn.decomposition import PCA\n",
    "# from sklearn.manifold import MDS\n",
    "from sklearn.preprocessing import StandardScaler\n",
    "from sklearn.preprocessing import RobustScaler\n",
    "\n",
    "# scipy for interpolation\n",
    "# import scipy \n",
    "# from scipy.interpolate import *\n",
    "import hdbscan\n",
    "import pickle as pk\n",
    "import json as js\n",
    "import matplotlib.pyplot as plt\n",
    "from sklearn.compose import ColumnTransformer\n",
    "\n",
    "# Plotly and Dash\n",
    "import plotly.graph_objs as go\n",
    "from kmapper.plotlyviz import plotlyviz\n",
    "from kmapper.plotlyviz import *\n",
    "from ipywidgets import (HBox, VBox)\n",
    "import dash_html_components as html\n",
    "import dash_core_components as dcc\n",
    "import dash\n",
    "from ipywidgets import interactive, HBox, VBox, widgets, interact\n",
    "import warnings\n",
    "warnings.filterwarnings(\"ignore\")"
   ],
   "outputs": [],
   "metadata": {}
  },
  {
   "cell_type": "markdown",
   "source": [
    "## Upload data"
   ],
   "metadata": {}
  },
  {
   "cell_type": "code",
   "execution_count": 6,
   "source": [
    "import pandas as pd\n",
    "water20 = pd.read_csv(\"../../LTRM data/RF interpolation/water_full.csv\")\n",
    "water20 = water20[[\"SHEETBAR\", \"DATE\", \"LATITUDE\",\"LONGITUDE\",\"FLDNUM\", \"STRATUM\",\"LOCATCD\",\n",
    "\"TN\",\"TP\",\"TEMP\", \"DO\", \"TURB\", \"VEL\", \"SS\", \"WDP\", \"CHLcal\",  \"SECCHI\", \"YEAR\", \"SEASON\"]]"
   ],
   "outputs": [],
   "metadata": {}
  },
  {
   "cell_type": "markdown",
   "source": [
    "## Robust Scaling"
   ],
   "metadata": {}
  },
  {
   "cell_type": "code",
   "execution_count": 7,
   "source": [
    "continuous_variables = [\"TN\",\"TP\",\"TEMP\", \"DO\", \"TURB\", \"VEL\", \"SS\", \"WDP\", \"CHLcal\",  \"SECCHI\"]\n",
    "\n",
    "ct = ColumnTransformer([('somename', RobustScaler(), continuous_variables)], remainder = 'passthrough')\n",
    "\n",
    "water_df = ct.fit_transform(water20)\n",
    "\n",
    "water_df = pd.DataFrame(water_df, columns = [\"TN\",\"TP\",\"TEMP\", \"DO\", \"TURB\", \"VEL\", \"SS\", \"WDP\", \"CHLcal\",  \"SECCHI\",\n",
    "                                             \"SHEETBAR\", \"DATE\", \"LATTITUDE\",\"LONGITUDE\",\"FLDNUM\", \"STRATUM\",\"LOCATCD\",\n",
    "                                             \"YEAR\", \"SEASON\"])     "
   ],
   "outputs": [],
   "metadata": {}
  },
  {
   "cell_type": "markdown",
   "source": [
    "## Make 'DECADE' column"
   ],
   "metadata": {}
  },
  {
   "cell_type": "code",
   "execution_count": null,
   "source": [
    "#for index, row in water_df.iterrows():\n",
    "#    water_df['93-00'] = np.where((water_df['YEAR'] <= 2000), 1, 0)\n",
    "#    water_df['98-04'] = np.where((water_df['YEAR' >= 1998]) & (water_df['YEAR'] <= 2004), 1, 0)\n",
    "#    water_df['01-13'] = np.where((water_df['YEAR'] >= 2001) & (water_df['YEAR'] <= 2013), 1, 0)\n",
    "#    water_df['10-16'] = np.where((water_df['YEAR'] >= 2010) & (water_df['YEAR'] <= 2016), 1, 0)\n",
    "#    water_df['14-20'] = np.where((water_df['YEAR'] >= 2014), 1, 0)\n",
    "\n",
    "eco_time_periods = ['1993-2000', '1898-2004', '2001-2013', '2010-2016', '2014-2020']\n",
    "\n",
    "for time_period in eco_time_periods:\n",
    "    begin_year = int(time_period[0:4])\n",
    "    end_year = int(time_period[5:9])\n",
    "    \n",
    "    water_df[time_period] = np.where((water_df['YEAR'] >= begin_year) & (water_df['YEAR'] <= end_year), 1, 0)"
   ],
   "outputs": [],
   "metadata": {}
  },
  {
   "cell_type": "markdown",
   "source": [
    "## Make dummy variables for coloring by categorical variable"
   ],
   "metadata": {}
  },
  {
   "cell_type": "code",
   "execution_count": 9,
   "source": [
    "to_dummy_vars = ['STRATUM', 'FLDNUM']\n",
    "\n",
    "for var in to_dummy_vars:\n",
    "    temp = pd.get_dummies(water_df[var])\n",
    "    water_df = pd.concat([water_df, temp], axis = 1)"
   ],
   "outputs": [],
   "metadata": {}
  },
  {
   "cell_type": "markdown",
   "source": [
    "## Plot the distribution of standard variables"
   ],
   "metadata": {}
  },
  {
   "cell_type": "code",
   "execution_count": null,
   "source": [
    "fig = plt.figure(figsize =(10, 7))\n",
    " \n",
    "# Creating plot\n",
    "plt.boxplot(water_df)\n",
    "ax = fig.add_subplot(111)\n",
    "\n",
    "bp = ax.boxplot(water_df, patch_artist = True,\n",
    "                notch ='True', vert = 1)\n",
    "\n",
    "ax.set_xticklabels([\"1\", \"2\", \"3\", \"4\", \"5\", \"6\", \"7\", \"8\", \"9\", \"10\",\n",
    "                    \"WDP\", \"SECCHI\", \"TEMP\", \"DO\", \"TURB\", \"VEL\", \"TP\", \"TN\", \"SS\", \"CHLcal\"])\n",
    "\n",
    "ax.set_ylim(-5, 20)\n",
    "ax.get_yaxis().set_visible(False)\n",
    "\n",
    "#ax.set_yticklables([-5, 0, 5, 10, 15, 20])\n",
    "\n",
    "plt.title(\"Distribution of standardized variables\")\n",
    " \n",
    "# show plot\n",
    "plt.show(bp)"
   ],
   "outputs": [],
   "metadata": {}
  },
  {
   "cell_type": "markdown",
   "source": [
    "## Kmapper functions\n",
    "\n",
    "* mapper_func_hdb - implements kmapper using HDBSCAN\n",
    "* mapper_func - implements kmapper using DBSCAN"
   ],
   "metadata": {}
  },
  {
   "cell_type": "code",
   "execution_count": 12,
   "source": [
    "def mapper_func_hdb(df, HDB_MIN_CLUSTER = 45, HDB_MIN_SAMP = 10, \n",
    "                    N_CUBES = [10,10], PERC_OVERLAP = [.25,.25], draw_bool = True):\n",
    "    \"\"\"\n",
    "    \"\"\"\n",
    "    X = df[[\"WDP\", \"SECCHI\", \"TEMP\", \"DO\", \"TURB\", \"VEL\", \"TP\", \"TN\", \"SS\", \"CHLcal\"]]\n",
    "\n",
    "    # for discerning primary variables in PCA \n",
    "    continuous_variables = [\"WDP\", \"SECCHI\", \"TEMP\", \"DO\", \"TURB\", \"VEL\", \"TP\", \"TN\", \"SS\", \"CHLcal\"]\n",
    "    \n",
    "    \n",
    "    var_to_index = {continuous_variables[i] : i for i in range(len(continuous_variables))}\n",
    "    projected_vars = continuous_variables\n",
    "    projected_var_indices = [var_to_index[var] for var in projected_vars]\n",
    "    \n",
    "#     if X.shape[0]<10:\n",
    "#         #print(X)\n",
    "#         print(\"Not enough data in \", title, \"_size = \", X.shape[0])\n",
    "#         return(X.shape[0])\n",
    "    \n",
    "    # to match up indices in scomplex with the original dataframe X\n",
    "    X.reset_index(drop = True, inplace = True)\n",
    "    df.rest_index(drop = True, inplace = True)\n",
    "    \n",
    "    # create instance of clustering alg\n",
    "    cluster_alg = hdbscan.HDBSCAN(min_cluster_size = HDB_MIN_CLUSTER, min_samples = HDB_MIN_SAMP)\n",
    "\n",
    "    # instantiate kepler mapper object\n",
    "    mapper = km.KeplerMapper(verbose = 0)\n",
    "    \n",
    "    # defining filter function as projection on to the first 2 component axis\n",
    "    pca = PCA(n_components = 2)\n",
    "    lens = pca.fit_transform(X)\n",
    "    \n",
    "    #for j in range(2):\n",
    "    #    pc_j = pca.components_[j]\n",
    "    #    largest_magnitude = max(abs(pc_j))\n",
    "    #    idx_magnitude = np.where(abs(pc_j) == largest_magnitude)[0][0]\n",
    "        \n",
    "\n",
    "        #print(\"*** PCA\", j + 1, \" ***\")\n",
    "        #print(\"Primary variable: \", continuous_variables[idx_magnitude])\n",
    "        #print(\"Corresponding component: \", pc_j[idx_magnitude])\n",
    "        #print(\"Explained variance: \", pca.explained_variance_ratio_[j])\n",
    "    \n",
    "    # Generate the simplicial complex\n",
    "    scomplex = mapper.map(lens, X, \n",
    "                          cover = km.Cover(n_cubes = N_CUBES, perc_overlap = PERC_OVERLAP), \n",
    "                          clusterer = cluster_alg)  \n",
    "\n",
    "    if draw_bool == True: \n",
    "        summary_variable = mapper.project(np.array(X), projection = projected_var_indices, scaler = None)\n",
    "\n",
    "        pl_brewer = [[0.0, '#006837'],\n",
    "                [0.1, '#1a9850'],\n",
    "                [0.2, '#66bd63'],\n",
    "                [0.3, '#a6d96a'],\n",
    "                [0.4, '#d9ef8b'],\n",
    "                [0.5, '#ffffbf'],\n",
    "                [0.6, '#fee08b'],\n",
    "                [0.7, '#fdae61'],\n",
    "                [0.8, '#f46d43'],\n",
    "                [0.9, '#d73027'],\n",
    "                [1.0, '#a50026']]\n",
    "\n",
    "        color_function_name = [\"FLDNUM\"]\n",
    "        color_values = df['year'] # X['PREDICTED_TP]\n",
    "        #color_values = X['TURB']\n",
    "        my_colorscale = pl_brewer\n",
    "        kmgraph,  mapper_summary, colorf_distribution = get_mapper_graph(scomplex, \n",
    "                                                                        color_values,  \n",
    "                                                                        color_function_name = color_function_name, \n",
    "                                                                        colorscale = my_colorscale)\n",
    "\n",
    "        bgcolor = 'rgba(10,10,10, 0.9)'\n",
    "        # y_gridcolor = 'rgb(150,150,150)'# on a black background the gridlines are set on  grey\n",
    "\n",
    "        plotly_graph_data = plotly_graph(kmgraph, graph_layout ='fr', colorscale = my_colorscale, \n",
    "                                        factor_size = 2.5, edge_linewidth = 0.5)\n",
    "\n",
    "        plot_title =  'LTRM: MinClust '+ str(HDB_MIN_CLUSTER) + ', MIN_SAMPLES ' + str(HDB_MIN_SAMP) \n",
    "        # plot_title = 'Pool 13, Summer 1993-1999; Epsilon ' + str(DBSCAN_EPSILON) + ', MIN_SAMPLES ' + str(DBSCAN_MIN_SAMPLES) \n",
    "        \n",
    "        layout = plot_layout(title = plot_title,  \n",
    "                            width = 620, height = 570,\n",
    "                            annotation_text = get_kmgraph_meta(mapper_summary),  \n",
    "                            bgcolor = bgcolor)\n",
    "\n",
    "        # FigureWidget is responsible for event listeners\n",
    "        fw_graph = go.FigureWidget(data = plotly_graph_data, layout = layout)\n",
    "        fw_hist = node_hist_fig(colorf_distribution, bgcolor = bgcolor)\n",
    "        fw_summary = summary_fig(mapper_summary, height = 300)\n",
    "\n",
    "        dashboard = hovering_widgets(kmgraph, \n",
    "                                    fw_graph, \n",
    "                                    bgcolor = bgcolor, \n",
    "                                    member_textbox_width = 600)\n",
    "\n",
    "        # DESIRED FILE PATH, CHANGE TO FIT YOUR LOCAL MACHINE\n",
    "        #directory_path = \"../kmapper\"\n",
    "        \n",
    "        #Update the fw_graph colorbar, setting its title:\n",
    "        fw_graph.data[1].marker.colorbar.title = 'dist to<br>x-min'\n",
    "        html_output_path = 'HDB_PCA_2' + 'MinC_' + str(HDB_MIN_CLUSTER) +'MinS_' + str(HDB_MIN_SAMP) + 'NCUBES_' + str(N_CUBES) + 'PEROvLp_' + str(PERC_OVERLAP) + '.html'\n",
    "        \n",
    "        mapper.visualize(scomplex, color_values = color_values, color_function_name = color_function_name, \n",
    "                        path_html = html_output_path, lens = summary_variable, lens_names = continuous_variables)\n",
    "        \n",
    "    return scomplex, X\n",
    "    \n",
    "def mapper_func(df, DBSCAN_EPSILON = 20, DBSCAN_MIN_SAMPLES = 20, N_CUBES = [10, 10], PERC_OVERLAP = [.45, .45], draw_bool = True):\n",
    "    \n",
    "    X = df[[\"WDP\", \"SECCHI\", \"TEMP\", \"DO\", \"TURB\", \"VEL\", \"TP\", \"TN\", \"SS\", \"CHLcal\"]]\n",
    "    continuous_variables =  [\"WDP\", \"SECCHI\", \"TEMP\", \"DO\", \"TURB\", \"VEL\", \"TP\", \"TN\", \"SS\", \"CHLcal\"]\n",
    "\n",
    "    var_to_index = {continuous_variables[i] : i for i in range(len(continuous_variables))}\n",
    "    #projected_vars = continuous_variables\n",
    "    projected_var_indices = [var_to_index[var] for var in continuous_variables]\n",
    "\n",
    "    # defining clustering and kmapper parameters\n",
    "    # create instance of clustering alg\n",
    "    cluster_alg = sklearn.cluster.DBSCAN(eps = DBSCAN_EPSILON, min_samples = DBSCAN_MIN_SAMPLES, metric = 'euclidean')\n",
    "\n",
    "    # Instantiate kepler mapper object\n",
    "    mapper = km.KeplerMapper(verbose = 0)\n",
    "    \n",
    "    # defining filter function as projection on to the first 2 component axis\n",
    "    pca = PCA(n_components = 2)\n",
    "    lens = pca.fit_transform(X)\n",
    "\n",
    "    #pca.fit_transform(X)\n",
    "    principle_component = max(abs(pca.components_[0].min()), abs(pca.components_[0].max()))\n",
    "    max_index = 0\n",
    "\n",
    "    for i in range(len(pca.components_[0])):\n",
    "        if abs(pca.components_[0][i]) == principle_component:\n",
    "            max_index = i\n",
    "\n",
    "    #print(\"Primary variable: \", continuous_variables[max_index])\n",
    "    #print(\"Corresponding component: \", pca.components_[0][max_index])\n",
    "    #print('Explained Variance: ', pca.explained_variance_ratio_)\n",
    "    \n",
    "    #lens = np.array(X[continuous_variables[max_index]])\n",
    "    #lens = np.array(X[['PredictedTN', 'PredictedSS']])\n",
    "    \n",
    "    # Generate the simplicial complex\n",
    "    scomplex = mapper.map(lens, X, cover = km.Cover(n_cubes = N_CUBES, perc_overlap = PERC_OVERLAP), \n",
    "                                                    clusterer = cluster_alg, remove_duplicate_nodes = True)  \n",
    "\n",
    "    if draw_bool == True:\n",
    "        summary_variable = mapper.project(np.array(X), projection = projected_var_indices, scaler = None)\n",
    "\n",
    "        pl_brewer = [[0.0, '#006837'],\n",
    "                [0.1, '#1a9850'],\n",
    "                [0.2, '#66bd63'],\n",
    "                [0.3, '#a6d96a'],\n",
    "                [0.4, '#d9ef8b'],\n",
    "                [0.5, '#ffffbf'],\n",
    "                [0.6, '#fee08b'],\n",
    "                [0.7, '#fdae61'],\n",
    "                [0.8, '#f46d43'],\n",
    "                [0.9, '#d73027'],\n",
    "                [1.0, '#a50026']]\n",
    "\n",
    "        color_function_name = [\"TN\"]\n",
    "        color_values = df['TN']\n",
    "        #color_values = lens [:,0] - lens[:,0].min() # X['PREDICTED_TP]\n",
    "        #color_values = X['TURB']\n",
    "        my_colorscale = pl_brewer\n",
    "        kmgraph,  mapper_summary, colorf_distribution = get_mapper_graph(scomplex, \n",
    "                                                                        color_values,  \n",
    "                                                                        color_function_name = color_function_name, \n",
    "                                                                        colorscale = my_colorscale)\n",
    "\n",
    "        bgcolor = 'rgba(10,10,10, 0.9)'\n",
    "        # y_gridcolor = 'rgb(150,150,150)'# on a black background the gridlines are set on  grey\n",
    "\n",
    "        plotly_graph_data = plotly_graph(kmgraph, graph_layout ='fr', colorscale = my_colorscale, \n",
    "                                        factor_size = 2.5, edge_linewidth = 0.5)\n",
    "\n",
    "        plot_title =  'LTRM: Epsilon '+ str(DBSCAN_EPSILON) + str(DBSCAN_EPSILON) + ', MIN_SAMPLES ' + str(DBSCAN_MIN_SAMPLES) \n",
    "        # plot_title = 'Pool 13, Summer 1993-1999; Epsilon ' + str(DBSCAN_EPSILON) + ', MIN_SAMPLES ' + str(DBSCAN_MIN_SAMPLES) \n",
    "        \n",
    "\n",
    "\n",
    "        layout = plot_layout(title = plot_title,  \n",
    "                            width = 620, height = 570,\n",
    "                            annotation_text = get_kmgraph_meta(mapper_summary),  \n",
    "                            bgcolor = bgcolor)\n",
    "\n",
    "        # FigureWidget is responsible for event listeners\n",
    "        fw_graph = go.FigureWidget(data = plotly_graph_data, layout = layout)\n",
    "        fw_hist = node_hist_fig(colorf_distribution, bgcolor = bgcolor)\n",
    "        fw_summary = summary_fig(mapper_summary, height = 300)\n",
    "\n",
    "        dashboard = hovering_widgets(kmgraph, \n",
    "                                    fw_graph, \n",
    "                                    bgcolor = bgcolor, \n",
    "                                    member_textbox_width = 600)\n",
    "\n",
    "        # DESIRED FILE PATH, CHANGE TO FIT YOUR LOCAL MACHINE\n",
    "        #directory_path = \"../kmapper\"\n",
    "        \n",
    "        #Update the fw_graph colorbar, setting its title:\n",
    "        fw_graph.data[1].marker.colorbar.title = 'dist to<br>x-min'\n",
    "\n",
    "        html_output_path = 'PCA_2' + 'Eps_' + str(DBSCAN_EPSILON) +'MinS_' + str(DBSCAN_MIN_SAMPLES) + 'NCUBES_' + str(N_CUBES) + 'PEROvLp_' + str(PERC_OVERLAP) + '.html'\n",
    "        \n",
    "        mapper.visualize(scomplex, color_values = color_values, color_function_name = color_function_name, \n",
    "                        path_html = html_output_path, lens = summary_variable, lens_names = continuous_variables)\n",
    "        \n",
    "    return scomplex, X"
   ],
   "outputs": [],
   "metadata": {}
  },
  {
   "cell_type": "code",
   "execution_count": 13,
   "source": [
    "test, X_test = mapper_func(water_df, DBSCAN_EPSILON = 1.2, DBSCAN_MIN_SAMPLES = 20, N_CUBES = [125, 125], PERC_OVERLAP = [.4, .4], draw_bool = True)"
   ],
   "outputs": [],
   "metadata": {}
  },
  {
   "cell_type": "markdown",
   "source": [
    "## Running kmapper with several combinations of parameters"
   ],
   "metadata": {}
  },
  {
   "cell_type": "code",
   "execution_count": 47,
   "source": [
    "epsilon_list = [5, 10, 15]\n",
    "cubes_list = [50, 75, 100]\n",
    "\n",
    "for i in epsilon_list:\n",
    "    for j in cubes_list:\n",
    "        scomplex, X = mapper_func(water_df, i, 10, [j, j], [.5, .5], True)\n",
    "\n"
   ],
   "outputs": [],
   "metadata": {}
  },
  {
   "cell_type": "markdown",
   "source": [
    "## Running TDA on different subsets of the data \n",
    "\n",
    "### DBSCAN subsets"
   ],
   "metadata": {}
  },
  {
   "cell_type": "code",
   "execution_count": 27,
   "source": [
    "mapper_hdb_output_dict = {}\n",
    "mapper_hdb_output_df = {}\n",
    "\n",
    "subset_perc = [.25, .5, 1]\n",
    "for i in subset_perc: \n",
    "    TEMP_DATA = water_df.sample(n = int(i * len(water_df)))\n",
    "    print(\"DATA SIZE: \" + str(int(i * len(water_df))))\n",
    "    title = str(int(i* 100)) + '% SUBSET: MinClust_' + str(10) + '_MinSamp_' + str(10)\n",
    "    print(title)\n",
    "\n",
    "    scomplex, X = mapper_func_hdb(TEMP_DATA, 10, 10, [75,75], [.5,.5])\n",
    "    mapper_hdb_output_dict[title] = scomplex\n",
    "    mapper_hdb_output_df[title] = X\n",
    "    \n",
    "    plotlyviz(scomplex, title = 'HDB', graph_layout = 'fr', dashboard = True)"
   ],
   "outputs": [
    {
     "output_type": "stream",
     "name": "stdout",
     "text": [
      "DATA SIZE: 19167\n",
      "25% SUBSET: MinClust_10_MinSamp_10\n",
      "DATA SIZE: 38334\n",
      "50% SUBSET: MinClust_10_MinSamp_10\n",
      "DATA SIZE: 76669\n",
      "100% SUBSET: MinClust_10_MinSamp_10\n"
     ]
    }
   ],
   "metadata": {}
  },
  {
   "cell_type": "code",
   "execution_count": 28,
   "source": [
    "import json as js\n",
    "json = js.dumps(mapper_hdb_output_dict)\n",
    "f = open(\"HDB_graphs.json\",\"w\")\n",
    "f.write(json)\n",
    "f.close()\n",
    "\n",
    "import pickle as pk\n",
    "pickle = pk.dump(mapper_hdb_output_df, open(\"HDB_dfs.p\",\"wb\"))"
   ],
   "outputs": [],
   "metadata": {}
  },
  {
   "cell_type": "markdown",
   "source": [
    "### HDBSCAN subsets"
   ],
   "metadata": {}
  },
  {
   "cell_type": "code",
   "execution_count": 29,
   "source": [
    "mapper_output_dict = {}\n",
    "mapper_output_df = {}\n",
    "\n",
    "subset_perc = [.25, .5, 1]\n",
    "for i in subset_perc: \n",
    "    TEMP_DATA = water_df.sample(n = int(i * len(water_df)))\n",
    "    print(\"DATA SIZE: \" + str(int(i * len(water_df))))\n",
    "    title = str(int(i* 100)) + '% SUBSET: EPSILON_' + str(1) + '_MinSamp_' + str(10)\n",
    "    print(title)\n",
    "\n",
    "    scomplex, X = mapper_func(TEMP_DATA, 1, 10, [75,75], [.5,.5])\n",
    "    mapper_output_dict[title] = scomplex\n",
    "    mapper_output_df[title] = X\n",
    "    \n",
    "    plotlyviz(scomplex, title = 'HDB', graph_layout = 'fr', dashboard = True)\n"
   ],
   "outputs": [
    {
     "output_type": "stream",
     "name": "stdout",
     "text": [
      "DATA SIZE: 19167\n",
      "25% SUBSET: EPSILON_1_MinSamp_10\n",
      "DATA SIZE: 38334\n",
      "50% SUBSET: EPSILON_1_MinSamp_10\n",
      "DATA SIZE: 76669\n",
      "100% SUBSET: EPSILON_1_MinSamp_10\n"
     ]
    }
   ],
   "metadata": {}
  },
  {
   "cell_type": "code",
   "execution_count": 31,
   "source": [
    "import json as js\n",
    "json = js.dumps(mapper_output_dict)\n",
    "f = open(\"DB_graphs.json\",\"w\")\n",
    "f.write(json)\n",
    "f.close()\n",
    "\n",
    "import pickle as pk\n",
    "pickle = pk.dump(mapper_output_df, open(\"DB_dfs.p\",\"wb\"))"
   ],
   "outputs": [],
   "metadata": {}
  },
  {
   "cell_type": "markdown",
   "source": [
    "## Making different HTML outputs with different color options"
   ],
   "metadata": {}
  },
  {
   "cell_type": "code",
   "execution_count": 44,
   "source": [
    "\"\"\"\n",
    "- assigns name lists for coloring functions\n",
    "- runs kmapepr function\n",
    "\n",
    "\"\"\"\n",
    "X = water_df[[\"WDP\", \"SECCHI\", \"TEMP\", \"DO\", \"TURB\", \"VEL\", \"TP\", \"TN\", \"SS\", \"CHLcal\"]]\n",
    "continuous_variables =  [\"WDP\", \"SECCHI\", \"TEMP\", \"DO\", \"TURB\", \"VEL\", \"TP\", \"TN\", \"SS\", \"CHLcal\"]\n",
    "\n",
    "pool_names = ['Unexploded Ordinance Area - Pool 13',\n",
    "                                        'Bellevue, IA',\n",
    "                                        'Brighton, IL',\n",
    "                                          'Havana, IL',\n",
    "                                         'Jackson, MO',\n",
    "                                       'Lake City, MN',\n",
    "                                        'Onalaska, WI']\n",
    "\n",
    "year_names = [1993, 1994,1995,1996,1997,1998,1999,2000,2001,2002,2004,2005,\n",
    "              2006,2007,2008,2009,2010,2011,2012,2013,2014,2015,2016,2017,\n",
    "              2018,2019, 2020]\n",
    "\n",
    "stratum_names = ['Backwater area contiguous to the main channel',\n",
    "                                           'Impounded',\n",
    "                                            'Isolated',\n",
    "                             'Lake Pepin or Swan Lake',\n",
    "                                        'Main channel',\n",
    "                                        'Side channel']\n",
    "\n",
    "var_to_index = {continuous_variables[i] : i for i in range(len(continuous_variables))}\n",
    "projected_var_indices = [var_to_index[var] for var in continuous_variables]\n",
    "\n",
    "cluster_alg = sklearn.cluster.DBSCAN(eps = 10, min_samples = 10, metric = 'euclidean')\n",
    "#cluster_alg = hdbscan.HDBSCAN(min_cluster_size = 10, min_samples = 10)\n",
    "pca = PCA(n_components = 2)\n",
    "lens = pca.fit_transform(X)\n",
    "\n",
    "mapper = km.KeplerMapper(verbose = 0)\n",
    "scomplex = mapper.map(lens, X, cover = km.Cover(n_cubes = [75, 75], perc_overlap = [.5, .5]), \n",
    "                                            clusterer = cluster_alg, remove_duplicate_nodes = True)  \n"
   ],
   "outputs": [],
   "metadata": {}
  },
  {
   "cell_type": "code",
   "execution_count": 48,
   "source": [
    "\"\"\"\n",
    "- coloring portion of the code - used primarily for the HTML outputs, not plotlyvis\n",
    "- to change the coloring, make sure color_vals, color_names, and plot title is changed\n",
    "\n",
    "    \n",
    "summary_variable = mapper.project(np.array(X), projection = projected_var_indices, scaler = None)\n",
    "\n",
    "# Make HTML with color values as the continous variables\n",
    "color_vals = water_df[continuous_variables]\n",
    "color_names = continuous_variables\n",
    "kmgraph,  mapper_summary, colorf_distribution = get_mapper_graph(scomplex, \n",
    "                                                                    color_values = color_vals,\n",
    "                                                                    color_function_name = color_names)\n",
    "\n",
    "#for node in kmgraph['nodes']:\n",
    "#    node['custom_tooltips'] = np.array(water_df[variable])[scomplex['nodes'][node['name']]]\n",
    "\n",
    "#plotly_graph_data = plotly_graph(kmgraph, graph_layout = 'fr', factor_size = 2.5, edge_linewidth = 0.5)\n",
    "\n",
    "\"\"\"\n",
    "    layout = plot_layout(title = 'LTRM DATA',  \n",
    "                        width = 620, height = 570,\n",
    "                        annotation_text = get_kmgraph_meta(mapper_summary))\n",
    "\n",
    "\n",
    "html_output_path = 'DBSCAN_NON_STANDARDIZED_CONTINUOUS_VARS.html'\n",
    "    \n",
    "mapper.visualize(scomplex, color_values = color_vals, color_function_name = color_names, \n",
    "                path_html = html_output_path, lens = summary_variable, lens_names = continuous_variables)\n"
   ],
   "outputs": [
    {
     "output_type": "error",
     "ename": "KeyboardInterrupt",
     "evalue": "",
     "traceback": [
      "\u001b[0;31m---------------------------------------------------------------------------\u001b[0m",
      "\u001b[0;31mKeyboardInterrupt\u001b[0m                         Traceback (most recent call last)",
      "\u001b[0;32m<ipython-input-48-fbb8596fcde0>\u001b[0m in \u001b[0;36m<module>\u001b[0;34m\u001b[0m\n\u001b[1;32m      7\u001b[0m \u001b[0mcolor_vals\u001b[0m \u001b[0;34m=\u001b[0m \u001b[0mwater_df\u001b[0m\u001b[0;34m[\u001b[0m\u001b[0mcontinuous_variables\u001b[0m\u001b[0;34m]\u001b[0m\u001b[0;34m\u001b[0m\u001b[0;34m\u001b[0m\u001b[0m\n\u001b[1;32m      8\u001b[0m \u001b[0mcolor_names\u001b[0m \u001b[0;34m=\u001b[0m \u001b[0mcontinuous_variables\u001b[0m\u001b[0;34m\u001b[0m\u001b[0;34m\u001b[0m\u001b[0m\n\u001b[0;32m----> 9\u001b[0;31m kmgraph,  mapper_summary, colorf_distribution = get_mapper_graph(scomplex, \n\u001b[0m\u001b[1;32m     10\u001b[0m                                                                     \u001b[0mcolor_values\u001b[0m \u001b[0;34m=\u001b[0m \u001b[0mcolor_vals\u001b[0m\u001b[0;34m,\u001b[0m\u001b[0;34m\u001b[0m\u001b[0;34m\u001b[0m\u001b[0m\n\u001b[1;32m     11\u001b[0m                                                                     color_function_name = color_names)\n",
      "\u001b[0;32m/Library/Frameworks/Python.framework/Versions/3.9/lib/python3.9/site-packages/kmapper/utils.py\u001b[0m in \u001b[0;36mwrapper\u001b[0;34m(*args, **kwargs)\u001b[0m\n\u001b[1;32m      9\u001b[0m         \u001b[0;32mdef\u001b[0m \u001b[0mwrapper\u001b[0m\u001b[0;34m(\u001b[0m\u001b[0;34m*\u001b[0m\u001b[0margs\u001b[0m\u001b[0;34m,\u001b[0m \u001b[0;34m**\u001b[0m\u001b[0mkwargs\u001b[0m\u001b[0;34m)\u001b[0m\u001b[0;34m:\u001b[0m\u001b[0;34m\u001b[0m\u001b[0;34m\u001b[0m\u001b[0m\n\u001b[1;32m     10\u001b[0m             \u001b[0mrename_kwargs\u001b[0m\u001b[0;34m(\u001b[0m\u001b[0mf\u001b[0m\u001b[0;34m.\u001b[0m\u001b[0m__name__\u001b[0m\u001b[0;34m,\u001b[0m \u001b[0mkwargs\u001b[0m\u001b[0;34m,\u001b[0m \u001b[0maliases\u001b[0m\u001b[0;34m)\u001b[0m\u001b[0;34m\u001b[0m\u001b[0;34m\u001b[0m\u001b[0m\n\u001b[0;32m---> 11\u001b[0;31m             \u001b[0;32mreturn\u001b[0m \u001b[0mf\u001b[0m\u001b[0;34m(\u001b[0m\u001b[0;34m*\u001b[0m\u001b[0margs\u001b[0m\u001b[0;34m,\u001b[0m \u001b[0;34m**\u001b[0m\u001b[0mkwargs\u001b[0m\u001b[0;34m)\u001b[0m\u001b[0;34m\u001b[0m\u001b[0;34m\u001b[0m\u001b[0m\n\u001b[0m\u001b[1;32m     12\u001b[0m \u001b[0;34m\u001b[0m\u001b[0m\n\u001b[1;32m     13\u001b[0m         \u001b[0;32mreturn\u001b[0m \u001b[0mwrapper\u001b[0m\u001b[0;34m\u001b[0m\u001b[0;34m\u001b[0m\u001b[0m\n",
      "\u001b[0;32m/Library/Frameworks/Python.framework/Versions/3.9/lib/python3.9/site-packages/kmapper/plotlyviz.py\u001b[0m in \u001b[0;36mget_mapper_graph\u001b[0;34m(simplicial_complex, color_values, color_function_name, node_color_function, colorscale, custom_tooltips, custom_meta, X, X_names, lens, lens_names)\u001b[0m\n\u001b[1;32m    322\u001b[0m         \u001b[0mlens_names\u001b[0m \u001b[0;34m=\u001b[0m \u001b[0;34m[\u001b[0m\u001b[0;34m]\u001b[0m\u001b[0;34m\u001b[0m\u001b[0;34m\u001b[0m\u001b[0m\n\u001b[1;32m    323\u001b[0m \u001b[0;34m\u001b[0m\u001b[0m\n\u001b[0;32m--> 324\u001b[0;31m     json_graph = scomplex_to_graph(\n\u001b[0m\u001b[1;32m    325\u001b[0m         \u001b[0msimplicial_complex\u001b[0m\u001b[0;34m,\u001b[0m\u001b[0;34m\u001b[0m\u001b[0;34m\u001b[0m\u001b[0m\n\u001b[1;32m    326\u001b[0m         \u001b[0mcolor_values\u001b[0m\u001b[0;34m,\u001b[0m\u001b[0;34m\u001b[0m\u001b[0;34m\u001b[0m\u001b[0m\n",
      "\u001b[0;32m/Library/Frameworks/Python.framework/Versions/3.9/lib/python3.9/site-packages/kmapper/utils.py\u001b[0m in \u001b[0;36mwrapper\u001b[0;34m(*args, **kwargs)\u001b[0m\n\u001b[1;32m      9\u001b[0m         \u001b[0;32mdef\u001b[0m \u001b[0mwrapper\u001b[0m\u001b[0;34m(\u001b[0m\u001b[0;34m*\u001b[0m\u001b[0margs\u001b[0m\u001b[0;34m,\u001b[0m \u001b[0;34m**\u001b[0m\u001b[0mkwargs\u001b[0m\u001b[0;34m)\u001b[0m\u001b[0;34m:\u001b[0m\u001b[0;34m\u001b[0m\u001b[0;34m\u001b[0m\u001b[0m\n\u001b[1;32m     10\u001b[0m             \u001b[0mrename_kwargs\u001b[0m\u001b[0;34m(\u001b[0m\u001b[0mf\u001b[0m\u001b[0;34m.\u001b[0m\u001b[0m__name__\u001b[0m\u001b[0;34m,\u001b[0m \u001b[0mkwargs\u001b[0m\u001b[0;34m,\u001b[0m \u001b[0maliases\u001b[0m\u001b[0;34m)\u001b[0m\u001b[0;34m\u001b[0m\u001b[0;34m\u001b[0m\u001b[0m\n\u001b[0;32m---> 11\u001b[0;31m             \u001b[0;32mreturn\u001b[0m \u001b[0mf\u001b[0m\u001b[0;34m(\u001b[0m\u001b[0;34m*\u001b[0m\u001b[0margs\u001b[0m\u001b[0;34m,\u001b[0m \u001b[0;34m**\u001b[0m\u001b[0mkwargs\u001b[0m\u001b[0;34m)\u001b[0m\u001b[0;34m\u001b[0m\u001b[0;34m\u001b[0m\u001b[0m\n\u001b[0m\u001b[1;32m     12\u001b[0m \u001b[0;34m\u001b[0m\u001b[0m\n\u001b[1;32m     13\u001b[0m         \u001b[0;32mreturn\u001b[0m \u001b[0mwrapper\u001b[0m\u001b[0;34m\u001b[0m\u001b[0;34m\u001b[0m\u001b[0m\n",
      "\u001b[0;32m/Library/Frameworks/Python.framework/Versions/3.9/lib/python3.9/site-packages/kmapper/plotlyviz.py\u001b[0m in \u001b[0;36mscomplex_to_graph\u001b[0;34m(simplicial_complex, color_values, X, X_names, lens, lens_names, custom_tooltips, colorscale, node_color_function)\u001b[0m\n\u001b[1;32m    234\u001b[0m     \u001b[0;32mfor\u001b[0m \u001b[0mi\u001b[0m\u001b[0;34m,\u001b[0m \u001b[0;34m(\u001b[0m\u001b[0mnode_id\u001b[0m\u001b[0;34m,\u001b[0m \u001b[0mmember_ids\u001b[0m\u001b[0;34m)\u001b[0m \u001b[0;32min\u001b[0m \u001b[0menumerate\u001b[0m\u001b[0;34m(\u001b[0m\u001b[0msimplicial_complex\u001b[0m\u001b[0;34m[\u001b[0m\u001b[0;34m\"nodes\"\u001b[0m\u001b[0;34m]\u001b[0m\u001b[0;34m.\u001b[0m\u001b[0mitems\u001b[0m\u001b[0;34m(\u001b[0m\u001b[0;34m)\u001b[0m\u001b[0;34m)\u001b[0m\u001b[0;34m:\u001b[0m\u001b[0;34m\u001b[0m\u001b[0;34m\u001b[0m\u001b[0m\n\u001b[1;32m    235\u001b[0m         \u001b[0mnode_id_to_num\u001b[0m\u001b[0;34m[\u001b[0m\u001b[0mnode_id\u001b[0m\u001b[0;34m]\u001b[0m \u001b[0;34m=\u001b[0m \u001b[0mi\u001b[0m\u001b[0;34m\u001b[0m\u001b[0;34m\u001b[0m\u001b[0m\n\u001b[0;32m--> 236\u001b[0;31m         projection_stats, cluster_stats, member_histogram = _tooltip_components(\n\u001b[0m\u001b[1;32m    237\u001b[0m             \u001b[0mmember_ids\u001b[0m\u001b[0;34m,\u001b[0m \u001b[0mX\u001b[0m\u001b[0;34m,\u001b[0m \u001b[0mX_names\u001b[0m\u001b[0;34m,\u001b[0m \u001b[0mlens\u001b[0m\u001b[0;34m,\u001b[0m \u001b[0mlens_names\u001b[0m\u001b[0;34m,\u001b[0m \u001b[0mcolor_values\u001b[0m\u001b[0;34m,\u001b[0m \u001b[0mi\u001b[0m\u001b[0;34m,\u001b[0m \u001b[0mcolorscale\u001b[0m\u001b[0;34m\u001b[0m\u001b[0;34m\u001b[0m\u001b[0m\n\u001b[1;32m    238\u001b[0m         )\n",
      "\u001b[0;32m/Library/Frameworks/Python.framework/Versions/3.9/lib/python3.9/site-packages/kmapper/visuals.py\u001b[0m in \u001b[0;36m_tooltip_components\u001b[0;34m(member_ids, X, X_names, lens, lens_names, color_values, node_ID, colorscale, nbins)\u001b[0m\n\u001b[1;32m    490\u001b[0m         \u001b[0mmember_histogram\u001b[0m \u001b[0;34m=\u001b[0m \u001b[0;34m[\u001b[0m\u001b[0;34m]\u001b[0m\u001b[0;34m\u001b[0m\u001b[0;34m\u001b[0m\u001b[0m\n\u001b[1;32m    491\u001b[0m         \u001b[0;32mfor\u001b[0m \u001b[0mcolor_values_vector\u001b[0m \u001b[0;32min\u001b[0m \u001b[0mcolor_values\u001b[0m\u001b[0;34m.\u001b[0m\u001b[0mT\u001b[0m\u001b[0;34m:\u001b[0m\u001b[0;34m\u001b[0m\u001b[0;34m\u001b[0m\u001b[0m\n\u001b[0;32m--> 492\u001b[0;31m             _member_histogram = _build_histogram(\n\u001b[0m\u001b[1;32m    493\u001b[0m                 \u001b[0mcolor_values_vector\u001b[0m\u001b[0;34m[\u001b[0m\u001b[0mmember_ids\u001b[0m\u001b[0;34m]\u001b[0m\u001b[0;34m,\u001b[0m \u001b[0mcolorscale\u001b[0m\u001b[0;34m=\u001b[0m\u001b[0mcolorscale\u001b[0m\u001b[0;34m,\u001b[0m \u001b[0mnbins\u001b[0m\u001b[0;34m=\u001b[0m\u001b[0mnbins\u001b[0m\u001b[0;34m\u001b[0m\u001b[0;34m\u001b[0m\u001b[0m\n\u001b[1;32m    494\u001b[0m             )\n",
      "\u001b[0;32m/Library/Frameworks/Python.framework/Versions/3.9/lib/python3.9/site-packages/kmapper/visuals.py\u001b[0m in \u001b[0;36m_build_histogram\u001b[0;34m(data, colorscale, nbins)\u001b[0m\n\u001b[1;32m    344\u001b[0m         \u001b[0mheight\u001b[0m \u001b[0;34m=\u001b[0m \u001b[0mnp\u001b[0m\u001b[0;34m.\u001b[0m\u001b[0mfloor\u001b[0m\u001b[0;34m(\u001b[0m\u001b[0;34m(\u001b[0m\u001b[0;34m(\u001b[0m\u001b[0mbar\u001b[0m \u001b[0;34m/\u001b[0m \u001b[0mmax_bucket_value\u001b[0m\u001b[0;34m)\u001b[0m \u001b[0;34m*\u001b[0m \u001b[0;36m100\u001b[0m\u001b[0;34m)\u001b[0m \u001b[0;34m+\u001b[0m \u001b[0;36m0.5\u001b[0m\u001b[0;34m)\u001b[0m\u001b[0;34m\u001b[0m\u001b[0;34m\u001b[0m\u001b[0m\n\u001b[1;32m    345\u001b[0m         \u001b[0mperc\u001b[0m \u001b[0;34m=\u001b[0m \u001b[0mround\u001b[0m\u001b[0;34m(\u001b[0m\u001b[0;34m(\u001b[0m\u001b[0mbar\u001b[0m \u001b[0;34m/\u001b[0m \u001b[0msum_bucket_value\u001b[0m\u001b[0;34m)\u001b[0m \u001b[0;34m*\u001b[0m \u001b[0;36m100.0\u001b[0m\u001b[0;34m,\u001b[0m \u001b[0;36m1\u001b[0m\u001b[0;34m)\u001b[0m\u001b[0;34m\u001b[0m\u001b[0;34m\u001b[0m\u001b[0m\n\u001b[0;32m--> 346\u001b[0;31m         \u001b[0mcolor\u001b[0m \u001b[0;34m=\u001b[0m \u001b[0m_map_val2color\u001b[0m\u001b[0;34m(\u001b[0m\u001b[0mmid\u001b[0m\u001b[0;34m,\u001b[0m \u001b[0;36m0.0\u001b[0m\u001b[0;34m,\u001b[0m \u001b[0;36m1.0\u001b[0m\u001b[0;34m,\u001b[0m \u001b[0mcolorscale\u001b[0m\u001b[0;34m)\u001b[0m\u001b[0;34m\u001b[0m\u001b[0;34m\u001b[0m\u001b[0m\n\u001b[0m\u001b[1;32m    347\u001b[0m \u001b[0;34m\u001b[0m\u001b[0m\n\u001b[1;32m    348\u001b[0m         \u001b[0mhistogram\u001b[0m\u001b[0;34m.\u001b[0m\u001b[0mappend\u001b[0m\u001b[0;34m(\u001b[0m\u001b[0;34m{\u001b[0m\u001b[0;34m\"height\"\u001b[0m\u001b[0;34m:\u001b[0m \u001b[0mheight\u001b[0m\u001b[0;34m,\u001b[0m \u001b[0;34m\"perc\"\u001b[0m\u001b[0;34m:\u001b[0m \u001b[0mperc\u001b[0m\u001b[0;34m,\u001b[0m \u001b[0;34m\"color\"\u001b[0m\u001b[0;34m:\u001b[0m \u001b[0mcolor\u001b[0m\u001b[0;34m}\u001b[0m\u001b[0;34m)\u001b[0m\u001b[0;34m\u001b[0m\u001b[0;34m\u001b[0m\u001b[0m\n",
      "\u001b[0;32m/Library/Frameworks/Python.framework/Versions/3.9/lib/python3.9/site-packages/kmapper/visuals.py\u001b[0m in \u001b[0;36m_map_val2color\u001b[0;34m(val, vmin, vmax, colorscale)\u001b[0m\n\u001b[1;32m    178\u001b[0m     \u001b[0;31m# get the triplet of three values in [0,1] that represent the rgb color\u001b[0m\u001b[0;34m\u001b[0m\u001b[0;34m\u001b[0m\u001b[0;34m\u001b[0m\u001b[0m\n\u001b[1;32m    179\u001b[0m     \u001b[0;31m# corresponding to val\u001b[0m\u001b[0;34m\u001b[0m\u001b[0;34m\u001b[0m\u001b[0;34m\u001b[0m\u001b[0m\n\u001b[0;32m--> 180\u001b[0;31m     \u001b[0mval_color01\u001b[0m \u001b[0;34m=\u001b[0m \u001b[0mcolors_01\u001b[0m\u001b[0;34m[\u001b[0m\u001b[0midx\u001b[0m\u001b[0;34m]\u001b[0m \u001b[0;34m+\u001b[0m \u001b[0mvv\u001b[0m \u001b[0;34m*\u001b[0m \u001b[0;34m(\u001b[0m\u001b[0mcolors_01\u001b[0m\u001b[0;34m[\u001b[0m\u001b[0midx\u001b[0m \u001b[0;34m+\u001b[0m \u001b[0;36m1\u001b[0m\u001b[0;34m]\u001b[0m \u001b[0;34m-\u001b[0m \u001b[0mcolors_01\u001b[0m\u001b[0;34m[\u001b[0m\u001b[0midx\u001b[0m\u001b[0;34m]\u001b[0m\u001b[0;34m)\u001b[0m\u001b[0;34m\u001b[0m\u001b[0;34m\u001b[0m\u001b[0m\n\u001b[0m\u001b[1;32m    181\u001b[0m     \u001b[0mval_color_0255\u001b[0m \u001b[0;34m=\u001b[0m \u001b[0mlist\u001b[0m\u001b[0;34m(\u001b[0m\u001b[0mmap\u001b[0m\u001b[0;34m(\u001b[0m\u001b[0mnp\u001b[0m\u001b[0;34m.\u001b[0m\u001b[0muint8\u001b[0m\u001b[0;34m,\u001b[0m \u001b[0;36m255\u001b[0m \u001b[0;34m*\u001b[0m \u001b[0mval_color01\u001b[0m\u001b[0;34m)\u001b[0m\u001b[0;34m)\u001b[0m\u001b[0;34m\u001b[0m\u001b[0;34m\u001b[0m\u001b[0m\n\u001b[1;32m    182\u001b[0m \u001b[0;34m\u001b[0m\u001b[0m\n",
      "\u001b[0;31mKeyboardInterrupt\u001b[0m: "
     ]
    }
   ],
   "metadata": {}
  },
  {
   "cell_type": "code",
   "execution_count": 27,
   "source": [
    "nodes = scomplex[\"nodes\"]\n",
    "keys = scomplex[\"nodes\"].keys()\n",
    "lengths = []\n",
    "for key in keys:\n",
    "    lengths.append(len(nodes.get(key)))\n"
   ],
   "outputs": [],
   "metadata": {}
  },
  {
   "cell_type": "code",
   "execution_count": 37,
   "source": [
    "plt.hist(lengths, bins = 350)\n",
    "plt.xlabel = ('Node count')\n",
    "plt.ylabel = ('Frequency')\n",
    "plt.show()\n",
    "plt.close()"
   ],
   "outputs": [
    {
     "output_type": "display_data",
     "data": {
      "text/plain": [
       "<Figure size 432x288 with 1 Axes>"
      ],
      "image/png": "[encoded data removed]"
     },
     "metadata": {
      "needs_background": "light"
     }
    }
   ],
   "metadata": {}
  }
 ],
 "metadata": {
  "kernelspec": {
   "name": "python3",
   "display_name": "Python 3.9.5 64-bit"
  },
  "language_info": {
   "codemirror_mode": {
    "name": "ipython",
    "version": 3
   },
   "file_extension": ".py",
   "mimetype": "text/x-python",
   "name": "python",
   "nbconvert_exporter": "python",
   "pygments_lexer": "ipython3",
   "version": "3.9.5"
  },
  "interpreter": {
   "hash": "aee8b7b246df8f9039afb4144a1f6fd8d2ca17a180786b69acc140d282b71a49"
  }
 },
 "nbformat": 4,
 "nbformat_minor": 2
}