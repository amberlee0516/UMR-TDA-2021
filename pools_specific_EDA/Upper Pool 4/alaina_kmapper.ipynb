{
 "cells": [
  {
   "cell_type": "markdown",
   "source": [
    "# Kmapper script for all pools"
   ],
   "metadata": {}
  },
  {
   "cell_type": "markdown",
   "source": [
    "## Import libraries"
   ],
   "metadata": {}
  },
  {
   "cell_type": "code",
   "execution_count": 75,
   "source": [
    "import kmapper as km\n",
    "from kmapper.plotlyviz import *\n",
    "\n",
    "import sklearn\n",
    "#from sklearn import ensemble\n",
    "# DBSCAN from sklearn for clustering algorithms\n",
    "from sklearn.cluster import DBSCAN\n",
    "# PCA from sklearn for projection/lens creation\n",
    "from sklearn.decomposition import PCA\n",
    "# from sklearn.manifold import MDS\n",
    "from sklearn.preprocessing import StandardScaler\n",
    "from sklearn.preprocessing import RobustScaler\n",
    "\n",
    "# scipy for interpolation\n",
    "# import scipy \n",
    "# from scipy.interpolate import *\n",
    "import hdbscan\n",
    "import pickle as pk\n",
    "import json as js\n",
    "import matplotlib.pyplot as plt\n",
    "from sklearn.compose import ColumnTransformer\n",
    "\n",
    "# Plotly and Dash\n",
    "import plotly.graph_objs as go\n",
    "from kmapper.plotlyviz import plotlyviz\n",
    "from kmapper.plotlyviz import *\n",
    "from ipywidgets import (HBox, VBox)\n",
    "import dash_html_components as html\n",
    "import dash_core_components as dcc\n",
    "import dash\n",
    "from ipywidgets import interactive, HBox, VBox, widgets, interact\n",
    "import warnings\n",
    "warnings.filterwarnings(\"ignore\")"
   ],
   "outputs": [],
   "metadata": {}
  },
  {
   "cell_type": "markdown",
   "source": [
    "## Upload data"
   ],
   "metadata": {}
  },
  {
   "cell_type": "code",
   "execution_count": 91,
   "source": [
    "import pandas as pd\n",
    "water20 = pd.read_csv(\"../../LTRM data/RF interpolation/water_full.csv\")\n",
    "water20 = water20[[\"SHEETBAR\", \"DATE\", \"LATITUDE\",\"LONGITUDE\",\"FLDNUM\", \"STRATUM\",\"LOCATCD\",\n",
    "\"TN\",\"TP\",\"TEMP\", \"DO\", \"TURB\", \"VEL\", \"SS\", \"WDP\", \"CHLcal\",  \"SECCHI\", \"YEAR\", \"SEASON\"]]"
   ],
   "outputs": [],
   "metadata": {}
  },
  {
   "cell_type": "markdown",
   "source": [
    "## Standardize data"
   ],
   "metadata": {}
  },
  {
   "cell_type": "code",
   "execution_count": 94,
   "source": [
    "continuous_variables = [\"TN\",\"TP\",\"TEMP\", \"DO\", \"TURB\", \"VEL\", \"SS\", \"WDP\", \"CHLcal\",  \"SECCHI\"]\n",
    "\n",
    "ct = ColumnTransformer([('somename', StandardScaler(), continuous_variables)], remainder = 'passthrough')\n",
    "\n",
    "water_df = ct.fit_transform(water20)\n",
    "\n",
    "print(water_df)\n",
    "\n",
    "# n_data = watershort.shape[0]\n",
    "n_data = water20.shape[0]\n",
    "\n",
    "water_df = pd.DataFrame(water_df, columns = [\"TN\",\"TP\",\"TEMP\", \"DO\", \"TURB\", \"VEL\", \"SS\", \"WDP\", \"CHLcal\",  \"SECCHI\",\n",
    "                                             \"SHEETBAR\", \"DATE\", \"LATTITUDE\",\"LONGITUDE\",\"FLDNUM\", \"STRATUM\",\"LOCATCD\",\n",
    "                                             \"YEAR\", \"SEASON\"])     "
   ],
   "outputs": [
    {
     "output_type": "stream",
     "name": "stdout",
     "text": [
      "[[0.7293103620606537 0.17890622994390762 0.8614521214419811 ... 9312103\n",
      "  1993 2]\n",
      " [1.3059564778575974 0.18547061979965557 0.8614521214419811 ... 9312002\n",
      "  1993 2]\n",
      " [0.7293103620606537 0.1263911110979239 0.8508479208593491 ... 9312102\n",
      "  1993 2]\n",
      " ...\n",
      " [-0.7639588954591189 1.0585344706141337 -0.5807191577959548 ... 1363126\n",
      "  2013 3]\n",
      " [-0.6769297856917191 1.0585344706141337 -0.6973653642049055 ... 1363226\n",
      "  2013 3]\n",
      " [-0.7282706993674514 0.9994549619124021 -0.6072296592525345 ... 1363108\n",
      "  2013 3]]\n"
     ]
    }
   ],
   "metadata": {}
  },
  {
   "cell_type": "code",
   "execution_count": null,
   "source": [
    "fig = plt.figure(figsize =(10, 7))\n",
    " \n",
    "# Creating plot\n",
    "plt.boxplot(water_df)\n",
    "ax = fig.add_subplot(111)\n",
    "\n",
    "bp = ax.boxplot(water_df, patch_artist = True,\n",
    "                notch ='True', vert = 1)\n",
    "\n",
    "ax.set_xticklabels([\"1\", \"2\", \"3\", \"4\", \"5\", \"6\", \"7\", \"8\", \"9\", \"10\",\n",
    "                    \"WDP\", \"SECCHI\", \"TEMP\", \"DO\", \"TURB\", \"VEL\", \"TP\", \"TN\", \"SS\", \"CHLcal\"])\n",
    "\n",
    "ax.set_ylim(-5, 20)\n",
    "ax.get_yaxis().set_visible(False)\n",
    "\n",
    "#ax.set_yticklables([-5, 0, 5, 10, 15, 20])\n",
    "\n",
    "plt.title(\"Distribution of standardized variables\")\n",
    " \n",
    "# show plot\n",
    "plt.show(bp)"
   ],
   "outputs": [],
   "metadata": {}
  },
  {
   "cell_type": "markdown",
   "source": [
    "## Kmapper function"
   ],
   "metadata": {}
  },
  {
   "cell_type": "code",
   "execution_count": 82,
   "source": [
    "def mapper_func_hdb(df, HDB_MIN_CLUSTER = 45, HDB_MIN_SAMP = 10, \n",
    "                    N_CUBES = [10,10], PERC_OVERLAP = [.25,.25], draw_bool = True):\n",
    "    \"\"\"\n",
    "    \"\"\"\n",
    "    X = df[[\"WDP\", \"SECCHI\", \"TEMP\", \"DO\", \"TURB\", \"VEL\", \"TP\", \"TN\", \"SS\", \"CHLcal\"]]\n",
    "\n",
    "    # for discerning primary variables in PCA \n",
    "    continuous_variables = [\"WDP\", \"SECCHI\", \"TEMP\", \"DO\", \"TURB\", \"VEL\", \"TP\", \"TN\", \"SS\", \"CHLcal\"]\n",
    "    \n",
    "    \n",
    "    var_to_index = {continuous_variables[i] : i for i in range(len(continuous_variables))}\n",
    "    projected_vars = continuous_variables\n",
    "    projected_var_indices = [var_to_index[var] for var in projected_vars]\n",
    "    \n",
    "#     if X.shape[0]<10:\n",
    "#         #print(X)\n",
    "#         print(\"Not enough data in \", title, \"_size = \", X.shape[0])\n",
    "#         return(X.shape[0])\n",
    "    \n",
    "    # to match up indices in scomplex with the original dataframe X\n",
    "    X.reset_index(drop = True, inplace = True)\n",
    "    df.rest_index(drop = True, inplace = True)\n",
    "    \n",
    "    # create instance of clustering alg\n",
    "    cluster_alg = hdbscan.HDBSCAN(min_cluster_size = HDB_MIN_CLUSTER, min_samples = HDB_MIN_SAMP)\n",
    "\n",
    "    # instantiate kepler mapper object\n",
    "    mapper = km.KeplerMapper(verbose = 0)\n",
    "    \n",
    "    # defining filter function as projection on to the first 2 component axis\n",
    "    pca = PCA(n_components = 2)\n",
    "    lens = pca.fit_transform(X)\n",
    "    \n",
    "    #for j in range(2):\n",
    "    #    pc_j = pca.components_[j]\n",
    "    #    largest_magnitude = max(abs(pc_j))\n",
    "    #    idx_magnitude = np.where(abs(pc_j) == largest_magnitude)[0][0]\n",
    "        \n",
    "\n",
    "        #print(\"*** PCA\", j + 1, \" ***\")\n",
    "        #print(\"Primary variable: \", continuous_variables[idx_magnitude])\n",
    "        #print(\"Corresponding component: \", pc_j[idx_magnitude])\n",
    "        #print(\"Explained variance: \", pca.explained_variance_ratio_[j])\n",
    "    \n",
    "    # Generate the simplicial complex\n",
    "    scomplex = mapper.map(lens, X, \n",
    "                          cover = km.Cover(n_cubes = N_CUBES, perc_overlap = PERC_OVERLAP), \n",
    "                          clusterer = cluster_alg)  \n",
    "\n",
    "    if draw_bool == True: \n",
    "        summary_variable = mapper.project(np.array(X), projection = projected_var_indices, scaler = None)\n",
    "\n",
    "        pl_brewer = [[0.0, '#006837'],\n",
    "                [0.1, '#1a9850'],\n",
    "                [0.2, '#66bd63'],\n",
    "                [0.3, '#a6d96a'],\n",
    "                [0.4, '#d9ef8b'],\n",
    "                [0.5, '#ffffbf'],\n",
    "                [0.6, '#fee08b'],\n",
    "                [0.7, '#fdae61'],\n",
    "                [0.8, '#f46d43'],\n",
    "                [0.9, '#d73027'],\n",
    "                [1.0, '#a50026']]\n",
    "\n",
    "        color_function_name = [\"FLDNUM\"]\n",
    "        color_values = df['year'] # X['PREDICTED_TP]\n",
    "        #color_values = X['TURB']\n",
    "        my_colorscale = pl_brewer\n",
    "        kmgraph,  mapper_summary, colorf_distribution = get_mapper_graph(scomplex, \n",
    "                                                                        color_values,  \n",
    "                                                                        color_function_name = color_function_name, \n",
    "                                                                        colorscale = my_colorscale)\n",
    "\n",
    "        bgcolor = 'rgba(10,10,10, 0.9)'\n",
    "        # y_gridcolor = 'rgb(150,150,150)'# on a black background the gridlines are set on  grey\n",
    "\n",
    "        plotly_graph_data = plotly_graph(kmgraph, graph_layout ='fr', colorscale = my_colorscale, \n",
    "                                        factor_size = 2.5, edge_linewidth = 0.5)\n",
    "\n",
    "        plot_title =  'LTRM: MinClust '+ str(HDB_MIN_CLUSTER) + ', MIN_SAMPLES ' + str(HDB_MIN_SAMP) \n",
    "        # plot_title = 'Pool 13, Summer 1993-1999; Epsilon ' + str(DBSCAN_EPSILON) + ', MIN_SAMPLES ' + str(DBSCAN_MIN_SAMPLES) \n",
    "        \n",
    "        layout = plot_layout(title = plot_title,  \n",
    "                            width = 620, height = 570,\n",
    "                            annotation_text = get_kmgraph_meta(mapper_summary),  \n",
    "                            bgcolor = bgcolor)\n",
    "\n",
    "        # FigureWidget is responsible for event listeners\n",
    "        fw_graph = go.FigureWidget(data = plotly_graph_data, layout = layout)\n",
    "        fw_hist = node_hist_fig(colorf_distribution, bgcolor = bgcolor)\n",
    "        fw_summary = summary_fig(mapper_summary, height = 300)\n",
    "\n",
    "        dashboard = hovering_widgets(kmgraph, \n",
    "                                    fw_graph, \n",
    "                                    bgcolor = bgcolor, \n",
    "                                    member_textbox_width = 600)\n",
    "\n",
    "        # DESIRED FILE PATH, CHANGE TO FIT YOUR LOCAL MACHINE\n",
    "        #directory_path = \"../kmapper\"\n",
    "        \n",
    "        #Update the fw_graph colorbar, setting its title:\n",
    "        fw_graph.data[1].marker.colorbar.title = 'dist to<br>x-min'\n",
    "        html_output_path = 'HDB_PCA_2' + 'MinC_' + str(HDB_MIN_CLUSTER) +'MinS_' + str(HDB_MIN_SAMP) + 'NCUBES_' + str(N_CUBES) + 'PEROvLp_' + str(PERC_OVERLAP) + '.html'\n",
    "        \n",
    "        mapper.visualize(scomplex, color_values = color_values, color_function_name = color_function_name, \n",
    "                        path_html = html_output_path, lens = summary_variable, lens_names = continuous_variables)\n",
    "        \n",
    "    return scomplex, X\n",
    "    \n",
    "def mapper_func(df, DBSCAN_EPSILON = 20, DBSCAN_MIN_SAMPLES = 20, N_CUBES = [10, 10], PERC_OVERLAP = [.45, .45], draw_bool = True):\n",
    "    \n",
    "    X = df[[\"WDP\", \"SECCHI\", \"TEMP\", \"DO\", \"TURB\", \"VEL\", \"TP\", \"TN\", \"SS\", \"CHLcal\"]]\n",
    "    continuous_variables =  [\"WDP\", \"SECCHI\", \"TEMP\", \"DO\", \"TURB\", \"VEL\", \"TP\", \"TN\", \"SS\", \"CHLcal\"]\n",
    "\n",
    "    var_to_index = {continuous_variables[i] : i for i in range(len(continuous_variables))}\n",
    "    #projected_vars = continuous_variables\n",
    "    projected_var_indices = [var_to_index[var] for var in continuous_variables]\n",
    "\n",
    "    # defining clustering and kmapper parameters\n",
    "    # create instance of clustering alg\n",
    "    cluster_alg = sklearn.cluster.DBSCAN(eps = DBSCAN_EPSILON, min_samples = DBSCAN_MIN_SAMPLES, metric = 'euclidean')\n",
    "\n",
    "    # Instantiate kepler mapper object\n",
    "    mapper = km.KeplerMapper(verbose = 0)\n",
    "    \n",
    "    # defining filter function as projection on to the first 2 component axis\n",
    "    pca = PCA(n_components = 2)\n",
    "    lens = pca.fit_transform(X)\n",
    "\n",
    "    #pca.fit_transform(X)\n",
    "    principle_component = max(abs(pca.components_[0].min()), abs(pca.components_[0].max()))\n",
    "    max_index = 0\n",
    "\n",
    "    for i in range(len(pca.components_[0])):\n",
    "        if abs(pca.components_[0][i]) == principle_component:\n",
    "            max_index = i\n",
    "\n",
    "    #print(\"Primary variable: \", continuous_variables[max_index])\n",
    "    #print(\"Corresponding component: \", pca.components_[0][max_index])\n",
    "    #print('Explained Variance: ', pca.explained_variance_ratio_)\n",
    "    \n",
    "    #lens = np.array(X[continuous_variables[max_index]])\n",
    "    #lens = np.array(X[['PredictedTN', 'PredictedSS']])\n",
    "    \n",
    "    # Generate the simplicial complex\n",
    "    scomplex = mapper.map(lens, X, cover = km.Cover(n_cubes = N_CUBES, perc_overlap = PERC_OVERLAP), \n",
    "                                                    clusterer = cluster_alg, remove_duplicate_nodes = True)  \n",
    "\n",
    "    if draw_bool == True:\n",
    "        summary_variable = mapper.project(np.array(X), projection = projected_var_indices, scaler = None)\n",
    "\n",
    "        pl_brewer = [[0.0, '#006837'],\n",
    "                [0.1, '#1a9850'],\n",
    "                [0.2, '#66bd63'],\n",
    "                [0.3, '#a6d96a'],\n",
    "                [0.4, '#d9ef8b'],\n",
    "                [0.5, '#ffffbf'],\n",
    "                [0.6, '#fee08b'],\n",
    "                [0.7, '#fdae61'],\n",
    "                [0.8, '#f46d43'],\n",
    "                [0.9, '#d73027'],\n",
    "                [1.0, '#a50026']]\n",
    "\n",
    "        color_function_name = [\"FLDNUM\"]\n",
    "        color_values = df['YEAR']\n",
    "        #color_values = lens [:,0] - lens[:,0].min() # X['PREDICTED_TP]\n",
    "        #color_values = X['TURB']\n",
    "        my_colorscale = pl_brewer\n",
    "        kmgraph,  mapper_summary, colorf_distribution = get_mapper_graph(scomplex, \n",
    "                                                                        color_values,  \n",
    "                                                                        color_function_name = color_function_name, \n",
    "                                                                        colorscale = my_colorscale)\n",
    "\n",
    "        bgcolor = 'rgba(10,10,10, 0.9)'\n",
    "        # y_gridcolor = 'rgb(150,150,150)'# on a black background the gridlines are set on  grey\n",
    "\n",
    "        plotly_graph_data = plotly_graph(kmgraph, graph_layout ='fr', colorscale = my_colorscale, \n",
    "                                        factor_size = 2.5, edge_linewidth = 0.5)\n",
    "\n",
    "        plot_title =  'LTRM: Epsilon '+ str(DBSCAN_EPSILON) + str(DBSCAN_EPSILON) + ', MIN_SAMPLES ' + str(DBSCAN_MIN_SAMPLES) \n",
    "        # plot_title = 'Pool 13, Summer 1993-1999; Epsilon ' + str(DBSCAN_EPSILON) + ', MIN_SAMPLES ' + str(DBSCAN_MIN_SAMPLES) \n",
    "        \n",
    "\n",
    "\n",
    "        layout = plot_layout(title = plot_title,  \n",
    "                            width = 620, height = 570,\n",
    "                            annotation_text = get_kmgraph_meta(mapper_summary),  \n",
    "                            bgcolor = bgcolor)\n",
    "\n",
    "        # FigureWidget is responsible for event listeners\n",
    "        fw_graph = go.FigureWidget(data = plotly_graph_data, layout = layout)\n",
    "        fw_hist = node_hist_fig(colorf_distribution, bgcolor = bgcolor)\n",
    "        fw_summary = summary_fig(mapper_summary, height = 300)\n",
    "\n",
    "        dashboard = hovering_widgets(kmgraph, \n",
    "                                    fw_graph, \n",
    "                                    bgcolor = bgcolor, \n",
    "                                    member_textbox_width = 600)\n",
    "\n",
    "        # DESIRED FILE PATH, CHANGE TO FIT YOUR LOCAL MACHINE\n",
    "        #directory_path = \"../kmapper\"\n",
    "        \n",
    "        #Update the fw_graph colorbar, setting its title:\n",
    "        fw_graph.data[1].marker.colorbar.title = 'dist to<br>x-min'\n",
    "\n",
    "        html_output_path = 'PCA_2' + 'Eps_' + str(DBSCAN_EPSILON) +'MinS_' + str(DBSCAN_MIN_SAMPLES) + 'NCUBES_' + str(N_CUBES) + 'PEROvLp_' + str(PERC_OVERLAP) + '.html'\n",
    "        \n",
    "        mapper.visualize(scomplex, color_values = color_values, color_function_name = color_function_name, \n",
    "                        path_html = html_output_path, lens = summary_variable, lens_names = continuous_variables)\n",
    "        \n",
    "    return scomplex, X"
   ],
   "outputs": [],
   "metadata": {}
  },
  {
   "cell_type": "code",
   "execution_count": null,
   "source": [
    "# TESTING COLORING FUNCTIONS WITH DBSCAN \n",
    "scomplex, X = mapper_func(water_df, 1, 10, [75, 75], [.5, .5], True)\n",
    "plotlyviz(scomplex, title = 'color by year', graph_layout = 'fr', dashboard = True)"
   ],
   "outputs": [],
   "metadata": {}
  },
  {
   "cell_type": "code",
   "execution_count": 27,
   "source": [
    "mapper_hdb_output_dict = {}\n",
    "mapper_hdb_output_df = {}\n",
    "\n",
    "subset_perc = [.25, .5, 1]\n",
    "for i in subset_perc: \n",
    "    TEMP_DATA = water_df.sample(n = int(i * len(water_df)))\n",
    "    print(\"DATA SIZE: \" + str(int(i * len(water_df))))\n",
    "    title = str(int(i* 100)) + '% SUBSET: MinClust_' + str(10) + '_MinSamp_' + str(10)\n",
    "    print(title)\n",
    "\n",
    "    scomplex, X = mapper_func_hdb(TEMP_DATA, 10, 10, [75,75], [.5,.5])\n",
    "    mapper_hdb_output_dict[title] = scomplex\n",
    "    mapper_hdb_output_df[title] = X\n",
    "    \n",
    "    plotlyviz(scomplex, title = 'HDB', graph_layout = 'fr', dashboard = True)"
   ],
   "outputs": [
    {
     "output_type": "stream",
     "name": "stdout",
     "text": [
      "DATA SIZE: 19167\n",
      "25% SUBSET: MinClust_10_MinSamp_10\n",
      "DATA SIZE: 38334\n",
      "50% SUBSET: MinClust_10_MinSamp_10\n",
      "DATA SIZE: 76669\n",
      "100% SUBSET: MinClust_10_MinSamp_10\n"
     ]
    }
   ],
   "metadata": {}
  },
  {
   "cell_type": "code",
   "execution_count": 28,
   "source": [
    "import json as js\n",
    "json = js.dumps(mapper_hdb_output_dict)\n",
    "f = open(\"HDB_graphs.json\",\"w\")\n",
    "f.write(json)\n",
    "f.close()\n",
    "\n",
    "import pickle as pk\n",
    "pickle = pk.dump(mapper_hdb_output_df, open(\"HDB_dfs.p\",\"wb\"))"
   ],
   "outputs": [],
   "metadata": {}
  },
  {
   "cell_type": "code",
   "execution_count": 29,
   "source": [
    "mapper_output_dict = {}\n",
    "mapper_output_df = {}\n",
    "\n",
    "subset_perc = [.25, .5, 1]\n",
    "for i in subset_perc: \n",
    "    TEMP_DATA = water_df.sample(n = int(i * len(water_df)))\n",
    "    print(\"DATA SIZE: \" + str(int(i * len(water_df))))\n",
    "    title = str(int(i* 100)) + '% SUBSET: EPSILON_' + str(1) + '_MinSamp_' + str(10)\n",
    "    print(title)\n",
    "\n",
    "    scomplex, X = mapper_func(TEMP_DATA, 1, 10, [75,75], [.5,.5])\n",
    "    mapper_output_dict[title] = scomplex\n",
    "    mapper_output_df[title] = X\n",
    "    \n",
    "    plotlyviz(scomplex, title = 'HDB', graph_layout = 'fr', dashboard = True)\n"
   ],
   "outputs": [
    {
     "output_type": "stream",
     "name": "stdout",
     "text": [
      "DATA SIZE: 19167\n",
      "25% SUBSET: EPSILON_1_MinSamp_10\n",
      "DATA SIZE: 38334\n",
      "50% SUBSET: EPSILON_1_MinSamp_10\n",
      "DATA SIZE: 76669\n",
      "100% SUBSET: EPSILON_1_MinSamp_10\n"
     ]
    }
   ],
   "metadata": {}
  },
  {
   "cell_type": "code",
   "execution_count": 31,
   "source": [
    "import json as js\n",
    "json = js.dumps(mapper_output_dict)\n",
    "f = open(\"DB_graphs.json\",\"w\")\n",
    "f.write(json)\n",
    "f.close()\n",
    "\n",
    "import pickle as pk\n",
    "pickle = pk.dump(mapper_output_df, open(\"DB_dfs.p\",\"wb\"))"
   ],
   "outputs": [],
   "metadata": {}
  },
  {
   "cell_type": "markdown",
   "source": [
    "## Running stuff outside the function - adding coloring stuff"
   ],
   "metadata": {}
  },
  {
   "cell_type": "code",
   "execution_count": 95,
   "source": [
    "X = water_df[[\"WDP\", \"SECCHI\", \"TEMP\", \"DO\", \"TURB\", \"VEL\", \"TP\", \"TN\", \"SS\", \"CHLcal\"]]\n",
    "continuous_variables =  [\"WDP\", \"SECCHI\", \"TEMP\", \"DO\", \"TURB\", \"VEL\", \"TP\", \"TN\", \"SS\", \"CHLcal\"]\n",
    "\n",
    "var_to_index = {continuous_variables[i] : i for i in range(len(continuous_variables))}\n",
    "projected_var_indices = [var_to_index[var] for var in continuous_variables]\n",
    "\n",
    "cluster_alg = sklearn.cluster.DBSCAN(eps = 1, min_samples = 10, metric = 'euclidean')\n",
    "pca = PCA(n_components = 2)\n",
    "lens = pca.fit_transform(X)\n",
    "\n",
    "mapper = km.KeplerMapper(verbose = 0)\n",
    "scomplex = mapper.map(lens, X, cover = km.Cover(n_cubes = [75, 75], perc_overlap = [.5, .5]), \n",
    "                                            clusterer = cluster_alg, remove_duplicate_nodes = True)  \n",
    "\n",
    "#summary_variable = mapper.project(np.array(X), projection = projected_var_indices, scaler = None)\n"
   ],
   "outputs": [],
   "metadata": {}
  },
  {
   "cell_type": "code",
   "execution_count": 114,
   "source": [
    "def color_by_var(scomplex, df, variable):\n",
    "    kmgraph,  mapper_summary, colorf_distribution = get_mapper_graph(scomplex, \n",
    "                                                                    color_values = df[variable],  \n",
    "                                                                    color_function_name = [variable])\n",
    "\n",
    "    for node in kmgraph['nodes']:\n",
    "        node['custom_tooltips'] = np.array(water_df[variable])[scomplex['nodes'][node['name']]]\n",
    "\n",
    "    plotly_graph_data = plotly_graph(kmgraph, graph_layout = 'fr', factor_size = 2.5, edge_linewidth = 0.5)\n",
    "\n",
    "    layout = plot_layout(title = 'LTRM DATA',  \n",
    "                        width = 620, height = 570,\n",
    "                        annotation_text = get_kmgraph_meta(mapper_summary))\n",
    "\n",
    "    # FigureWidget is responsible for event listeners\n",
    "    fw_graph = go.FigureWidget(data = plotly_graph_data, layout = layout)\n",
    "    fw_hist = node_hist_fig(colorf_distribution)\n",
    "    fw_summary = summary_fig(mapper_summary, height = 300)\n",
    "    dashboard = hovering_widgets(kmgraph, \n",
    "                                fw_graph, \n",
    "                                ctooltips = True,\n",
    "                                member_textbox_width = 600)\n",
    "\n",
    "    #Update the fw_graph colorbar, setting its title:\n",
    "    fw_graph.data[1].marker.colorbar.title = 'hi'\n",
    "\n",
    "    return(dashboard)"
   ],
   "outputs": [],
   "metadata": {}
  },
  {
   "cell_type": "code",
   "execution_count": 115,
   "source": [
    "color_by_var(scomplex, water_df, \"TURB\")"
   ],
   "outputs": [
    {
     "output_type": "display_data",
     "data": {
      "text/plain": [
       "VBox(children=(HBox(children=(FigureWidget({\n",
       "    'data': [{'hoverinfo': 'none',\n",
       "              'line': {'color'…"
      ],
      "application/vnd.jupyter.widget-view+json": {
       "version_major": 2,
       "version_minor": 0,
       "model_id": "a9af341101f34f2f810c42c6cf7c3c3f"
      }
     },
     "metadata": {}
    }
   ],
   "metadata": {}
  },
  {
   "cell_type": "code",
   "execution_count": 112,
   "source": [
    "color_by_var(scomplex, water_df, \"STRATUM\")"
   ],
   "outputs": [
    {
     "output_type": "error",
     "ename": "ValueError",
     "evalue": "could not convert string to float: 'Main channel'",
     "traceback": [
      "\u001b[0;31m---------------------------------------------------------------------------\u001b[0m",
      "\u001b[0;31mValueError\u001b[0m                                Traceback (most recent call last)",
      "\u001b[0;32m<ipython-input-112-d2e15f15940d>\u001b[0m in \u001b[0;36m<module>\u001b[0;34m\u001b[0m\n\u001b[0;32m----> 1\u001b[0;31m \u001b[0mcolor_by_var\u001b[0m\u001b[0;34m(\u001b[0m\u001b[0mscomplex\u001b[0m\u001b[0;34m,\u001b[0m \u001b[0mwater_df\u001b[0m\u001b[0;34m,\u001b[0m \u001b[0;34m\"STRATUM\"\u001b[0m\u001b[0;34m)\u001b[0m\u001b[0;34m\u001b[0m\u001b[0;34m\u001b[0m\u001b[0m\n\u001b[0m",
      "\u001b[0;32m<ipython-input-111-d3110af6b6e7>\u001b[0m in \u001b[0;36mcolor_by_var\u001b[0;34m(scomplex, df, variable)\u001b[0m\n\u001b[1;32m      1\u001b[0m \u001b[0;32mdef\u001b[0m \u001b[0mcolor_by_var\u001b[0m\u001b[0;34m(\u001b[0m\u001b[0mscomplex\u001b[0m\u001b[0;34m,\u001b[0m \u001b[0mdf\u001b[0m\u001b[0;34m,\u001b[0m \u001b[0mvariable\u001b[0m\u001b[0;34m)\u001b[0m\u001b[0;34m:\u001b[0m\u001b[0;34m\u001b[0m\u001b[0;34m\u001b[0m\u001b[0m\n\u001b[0;32m----> 2\u001b[0;31m     kmgraph,  mapper_summary, colorf_distribution = get_mapper_graph(scomplex, \n\u001b[0m\u001b[1;32m      3\u001b[0m                                                                     \u001b[0mcolor_values\u001b[0m \u001b[0;34m=\u001b[0m \u001b[0mdf\u001b[0m\u001b[0;34m[\u001b[0m\u001b[0mvariable\u001b[0m\u001b[0;34m]\u001b[0m\u001b[0;34m,\u001b[0m\u001b[0;34m\u001b[0m\u001b[0;34m\u001b[0m\u001b[0m\n\u001b[1;32m      4\u001b[0m                                                                     color_function_name = [variable])\n\u001b[1;32m      5\u001b[0m \u001b[0;34m\u001b[0m\u001b[0m\n",
      "\u001b[0;32m/Library/Frameworks/Python.framework/Versions/3.9/lib/python3.9/site-packages/kmapper/utils.py\u001b[0m in \u001b[0;36mwrapper\u001b[0;34m(*args, **kwargs)\u001b[0m\n\u001b[1;32m      9\u001b[0m         \u001b[0;32mdef\u001b[0m \u001b[0mwrapper\u001b[0m\u001b[0;34m(\u001b[0m\u001b[0;34m*\u001b[0m\u001b[0margs\u001b[0m\u001b[0;34m,\u001b[0m \u001b[0;34m**\u001b[0m\u001b[0mkwargs\u001b[0m\u001b[0;34m)\u001b[0m\u001b[0;34m:\u001b[0m\u001b[0;34m\u001b[0m\u001b[0;34m\u001b[0m\u001b[0m\n\u001b[1;32m     10\u001b[0m             \u001b[0mrename_kwargs\u001b[0m\u001b[0;34m(\u001b[0m\u001b[0mf\u001b[0m\u001b[0;34m.\u001b[0m\u001b[0m__name__\u001b[0m\u001b[0;34m,\u001b[0m \u001b[0mkwargs\u001b[0m\u001b[0;34m,\u001b[0m \u001b[0maliases\u001b[0m\u001b[0;34m)\u001b[0m\u001b[0;34m\u001b[0m\u001b[0;34m\u001b[0m\u001b[0m\n\u001b[0;32m---> 11\u001b[0;31m             \u001b[0;32mreturn\u001b[0m \u001b[0mf\u001b[0m\u001b[0;34m(\u001b[0m\u001b[0;34m*\u001b[0m\u001b[0margs\u001b[0m\u001b[0;34m,\u001b[0m \u001b[0;34m**\u001b[0m\u001b[0mkwargs\u001b[0m\u001b[0;34m)\u001b[0m\u001b[0;34m\u001b[0m\u001b[0;34m\u001b[0m\u001b[0m\n\u001b[0m\u001b[1;32m     12\u001b[0m \u001b[0;34m\u001b[0m\u001b[0m\n\u001b[1;32m     13\u001b[0m         \u001b[0;32mreturn\u001b[0m \u001b[0mwrapper\u001b[0m\u001b[0;34m\u001b[0m\u001b[0;34m\u001b[0m\u001b[0m\n",
      "\u001b[0;32m/Library/Frameworks/Python.framework/Versions/3.9/lib/python3.9/site-packages/kmapper/plotlyviz.py\u001b[0m in \u001b[0;36mget_mapper_graph\u001b[0;34m(simplicial_complex, color_values, color_function_name, node_color_function, colorscale, custom_tooltips, custom_meta, X, X_names, lens, lens_names)\u001b[0m\n\u001b[1;32m    314\u001b[0m         \u001b[0mcolor_function_name\u001b[0m \u001b[0;34m=\u001b[0m \u001b[0;34m[\u001b[0m\u001b[0;34m\"Row number\"\u001b[0m\u001b[0;34m]\u001b[0m\u001b[0;34m\u001b[0m\u001b[0;34m\u001b[0m\u001b[0m\n\u001b[1;32m    315\u001b[0m \u001b[0;34m\u001b[0m\u001b[0m\n\u001b[0;32m--> 316\u001b[0;31m     \u001b[0mcolor_values\u001b[0m \u001b[0;34m=\u001b[0m \u001b[0m_scale_color_values\u001b[0m\u001b[0;34m(\u001b[0m\u001b[0mcolor_values\u001b[0m\u001b[0;34m)\u001b[0m\u001b[0;34m\u001b[0m\u001b[0;34m\u001b[0m\u001b[0m\n\u001b[0m\u001b[1;32m    317\u001b[0m \u001b[0;34m\u001b[0m\u001b[0m\n\u001b[1;32m    318\u001b[0m     \u001b[0;32mif\u001b[0m \u001b[0mX_names\u001b[0m \u001b[0;32mis\u001b[0m \u001b[0;32mNone\u001b[0m\u001b[0;34m:\u001b[0m\u001b[0;34m\u001b[0m\u001b[0;34m\u001b[0m\u001b[0m\n",
      "\u001b[0;32m/Library/Frameworks/Python.framework/Versions/3.9/lib/python3.9/site-packages/kmapper/visuals.py\u001b[0m in \u001b[0;36m_scale_color_values\u001b[0;34m(color_values)\u001b[0m\n\u001b[1;32m    199\u001b[0m         \u001b[0mcolor_values\u001b[0m \u001b[0;34m=\u001b[0m \u001b[0mcolor_values\u001b[0m\u001b[0;34m.\u001b[0m\u001b[0mreshape\u001b[0m\u001b[0;34m(\u001b[0m\u001b[0;34m-\u001b[0m\u001b[0;36m1\u001b[0m\u001b[0;34m,\u001b[0m \u001b[0;36m1\u001b[0m\u001b[0;34m)\u001b[0m\u001b[0;34m\u001b[0m\u001b[0;34m\u001b[0m\u001b[0m\n\u001b[1;32m    200\u001b[0m \u001b[0;34m\u001b[0m\u001b[0m\n\u001b[0;32m--> 201\u001b[0;31m     \u001b[0mcolor_values\u001b[0m \u001b[0;34m=\u001b[0m \u001b[0mcolor_values\u001b[0m\u001b[0;34m.\u001b[0m\u001b[0mastype\u001b[0m\u001b[0;34m(\u001b[0m\u001b[0mnp\u001b[0m\u001b[0;34m.\u001b[0m\u001b[0mfloat64\u001b[0m\u001b[0;34m)\u001b[0m\u001b[0;34m\u001b[0m\u001b[0;34m\u001b[0m\u001b[0m\n\u001b[0m\u001b[1;32m    202\u001b[0m     \u001b[0;31m# MinMax Scaling to be friendly to non-scaled input.\u001b[0m\u001b[0;34m\u001b[0m\u001b[0;34m\u001b[0m\u001b[0;34m\u001b[0m\u001b[0m\n\u001b[1;32m    203\u001b[0m     \u001b[0mscaler\u001b[0m \u001b[0;34m=\u001b[0m \u001b[0mpreprocessing\u001b[0m\u001b[0;34m.\u001b[0m\u001b[0mMinMaxScaler\u001b[0m\u001b[0;34m(\u001b[0m\u001b[0;34m)\u001b[0m\u001b[0;34m\u001b[0m\u001b[0;34m\u001b[0m\u001b[0m\n",
      "\u001b[0;31mValueError\u001b[0m: could not convert string to float: 'Main channel'"
     ]
    }
   ],
   "metadata": {}
  }
 ],
 "metadata": {
  "kernelspec": {
   "name": "python3",
   "display_name": "Python 3.9.5 64-bit"
  },
  "language_info": {
   "codemirror_mode": {
    "name": "ipython",
    "version": 3
   },
   "file_extension": ".py",
   "mimetype": "text/x-python",
   "name": "python",
   "nbconvert_exporter": "python",
   "pygments_lexer": "ipython3",
   "version": "3.9.5"
  },
  "interpreter": {
   "hash": "aee8b7b246df8f9039afb4144a1f6fd8d2ca17a180786b69acc140d282b71a49"
  }
 },
 "nbformat": 4,
 "nbformat_minor": 2
}