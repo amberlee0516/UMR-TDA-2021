{
 "cells": [
  {
   "cell_type": "markdown",
   "source": [
    "# Kmapper script for all pools"
   ],
   "metadata": {}
  },
  {
   "cell_type": "markdown",
   "source": [
    "## Import libraries"
   ],
   "metadata": {}
  },
  {
   "cell_type": "code",
   "execution_count": 11,
   "source": [
    "import kmapper as km\n",
    "from kmapper.plotlyviz import *\n",
    "\n",
    "import sklearn\n",
    "#from sklearn import ensemble\n",
    "# DBSCAN from sklearn for clustering algorithms\n",
    "from sklearn.cluster import DBSCAN\n",
    "# PCA from sklearn for projection/lens creation\n",
    "from sklearn.decomposition import PCA\n",
    "# from sklearn.manifold import MDS\n",
    "from sklearn.preprocessing import StandardScaler\n",
    "from sklearn.preprocessing import RobustScaler\n",
    "\n",
    "# scipy for interpolation\n",
    "# import scipy \n",
    "# from scipy.interpolate import *\n",
    "import hdbscan\n",
    "import pickle as pk\n",
    "import json\n",
    "import matplotlib.pyplot as plt\n",
    "\n",
    "# Plotly and Dash\n",
    "import plotly.graph_objs as go\n",
    "from kmapper.plotlyviz import plotlyviz\n",
    "from kmapper.plotlyviz import *\n",
    "from ipywidgets import (HBox, VBox)\n",
    "import dash_html_components as html\n",
    "import dash_core_components as dcc\n",
    "import dash\n",
    "from ipywidgets import interactive, HBox, VBox, widgets, interact\n",
    "import warnings\n",
    "warnings.filterwarnings(\"ignore\")"
   ],
   "outputs": [],
   "metadata": {}
  },
  {
   "cell_type": "markdown",
   "source": [
    "## Upload data"
   ],
   "metadata": {}
  },
  {
   "cell_type": "code",
   "execution_count": 12,
   "source": [
    "import pandas as pd\n",
    "water20 = pd.read_csv(\"../../LTRM data/RF interpolation/water_full.csv\")"
   ],
   "outputs": [],
   "metadata": {}
  },
  {
   "cell_type": "markdown",
   "source": [
    "## Standardize data"
   ],
   "metadata": {}
  },
  {
   "cell_type": "code",
   "execution_count": 15,
   "source": [
    "X = water20[[\"WDP\", \"SECCHI\", \"TEMP\", \"DO\", \"TURB\",\n",
    "             \"VEL\", \"TP\", \"TN\", \"SS\", \"CHLcal\"]]\n",
    "\n",
    "X = StandardScaler().fit_transform(X)\n",
    "\n",
    "# n_data = watershort.shape[0]\n",
    "n_data = water20.shape[0]\n",
    "\n",
    "X = pd.DataFrame(X, columns = [\"WDP\", \"SECCHI\", \"TEMP\", \"DO\", \"TURB\",\n",
    "                             \"VEL\", \"TP\", \"TN\", \"SS\", \"CHLcal\"])     "
   ],
   "outputs": [],
   "metadata": {}
  },
  {
   "cell_type": "code",
   "execution_count": 17,
   "source": [
    "fig = plt.figure(figsize =(10, 7))\n",
    " \n",
    "# Creating plot\n",
    "plt.boxplot(X)\n",
    "ax = fig.add_subplot(111)\n",
    "\n",
    "bp = ax.boxplot(X, patch_artist = True,\n",
    "                notch ='True', vert = 1)\n",
    "\n",
    "ax.set_xticklabels([\"1\", \"2\", \"3\", \"4\", \"5\", \"6\", \"7\", \"8\", \"9\", \"10\",\n",
    "                    \"WDP\", \"SECCHI\", \"TEMP\", \"DO\", \"TURB\", \"VEL\", \"TP\", \"TN\", \"SS\", \"CHLcal\"])\n",
    "\n",
    "ax.set_ylim(-5, 20)\n",
    "ax.get_yaxis().set_visible(False)\n",
    "\n",
    "#ax.set_yticklables([-5, 0, 5, 10, 15, 20])\n",
    "\n",
    "plt.title(\"Distribution of standardized variables\")\n",
    " \n",
    "# show plot\n",
    "plt.show(bp)"
   ],
   "outputs": [
    {
     "output_type": "display_data",
     "data": {
      "text/plain": [
       "<Figure size 720x504 with 1 Axes>"
      ],
      "image/png": "[encoded data removed]"
     },
     "metadata": {
      "needs_background": "light"
     }
    }
   ],
   "metadata": {}
  },
  {
   "cell_type": "markdown",
   "source": [
    "## Kmapper function"
   ],
   "metadata": {}
  },
  {
   "cell_type": "code",
   "execution_count": 18,
   "source": [
    "def mapper_func_hdb(df, HDB_MIN_CLUSTER = 45, HDB_MIN_SAMP = 10, \n",
    "                    N_CUBES = [10,10], PERC_OVERLAP = [.25,.25], draw_bool = True):\n",
    "    \"\"\"\n",
    "    \"\"\"\n",
    "    X = df[[\"WDP\", \"SECCHI\", \"TEMP\", \"DO\", \"TURB\", \"VEL\", \"TP\", \"TN\", \"SS\", \"CHLcal\"]]\n",
    "\n",
    "    # for discerning primary variables in PCA \n",
    "    continuous_variables = [\"WDP\", \"SECCHI\", \"TEMP\", \"DO\", \"TURB\", \n",
    "                            \"VEL\", \"TP\", \"TN\", \"SS\", \"CHLcal\"]\n",
    "    \n",
    "    \n",
    "    var_to_index = {continuous_variables[i] : i for i in range(len(continuous_variables))}\n",
    "    projected_vars = continuous_variables\n",
    "    projected_var_indices = [var_to_index[var] for var in projected_vars]\n",
    "    \n",
    "#     if X.shape[0]<10:\n",
    "#         #print(X)\n",
    "#         print(\"Not enough data in \", title, \"_size = \", X.shape[0])\n",
    "#         return(X.shape[0])\n",
    "    \n",
    "    # to match up indices in scomplex with the original dataframe X\n",
    "    X.reset_index(drop = True, inplace = True) \n",
    "    \n",
    "    # create instance of clustering alg\n",
    "    cluster_alg = hdbscan.HDBSCAN(min_cluster_size = HDB_MIN_CLUSTER, min_samples = HDB_MIN_SAMP)\n",
    "\n",
    "    # instantiate kepler mapper object\n",
    "    mapper = km.KeplerMapper(verbose = 0)\n",
    "    \n",
    "    # defining filter function as projection on to the first 2 component axis\n",
    "    pca = PCA(n_components = 2)\n",
    "    lens = pca.fit_transform(X)\n",
    "    \n",
    "    for j in range(2):\n",
    "        pc_j = pca.components_[j]\n",
    "        largest_magnitude = max(abs(pc_j))\n",
    "        idx_magnitude = np.where(abs(pc_j) == largest_magnitude)[0][0]\n",
    "        \n",
    "        print(\"*** PCA\", j + 1, \" ***\")\n",
    "        print(\"Primary variable: \", continuous_variables[idx_magnitude])\n",
    "        print(\"Corresponding component: \", pc_j[idx_magnitude])\n",
    "        print(\"Explained variance: \", pca.explained_variance_ratio_[j])\n",
    "    \n",
    "    # Generate the simplicial complex\n",
    "    scomplex = mapper.map(lens, X, \n",
    "                          cover=km.Cover(n_cubes = N_CUBES, perc_overlap = PERC_OVERLAP), \n",
    "                          clusterer = cluster_alg)  \n",
    "\n",
    "    if draw_bool == True: \n",
    "        summary_variable = mapper.project(np.array(X), projection = projected_var_indices, scaler = None)\n",
    "\n",
    "        pl_brewer = [[0.0, '#006837'],\n",
    "                [0.1, '#1a9850'],\n",
    "                [0.2, '#66bd63'],\n",
    "                [0.3, '#a6d96a'],\n",
    "                [0.4, '#d9ef8b'],\n",
    "                [0.5, '#ffffbf'],\n",
    "                [0.6, '#fee08b'],\n",
    "                [0.7, '#fdae61'],\n",
    "                [0.8, '#f46d43'],\n",
    "                [0.9, '#d73027'],\n",
    "                [1.0, '#a50026']]\n",
    "\n",
    "        color_function_name = [\"Distance to x-min\"]\n",
    "        color_values = lens [:,0] - lens[:,0].min() # X['PREDICTED_TP]\n",
    "        #color_values = X['TURB']\n",
    "        my_colorscale = pl_brewer\n",
    "        kmgraph,  mapper_summary, colorf_distribution = get_mapper_graph(scomplex, \n",
    "                                                                        color_values,  \n",
    "                                                                        color_function_name = color_function_name, \n",
    "                                                                        colorscale = my_colorscale)\n",
    "\n",
    "        bgcolor = 'rgba(10,10,10, 0.9)'\n",
    "        # y_gridcolor = 'rgb(150,150,150)'# on a black background the gridlines are set on  grey\n",
    "\n",
    "        plotly_graph_data = plotly_graph(kmgraph, graph_layout ='fr', colorscale = my_colorscale, \n",
    "                                        factor_size = 2.5, edge_linewidth = 0.5)\n",
    "\n",
    "        plot_title =  'LTRM: MinClust '+ str(HDB_MIN_CLUSTER) + ', MIN_SAMPLES ' + str(HDB_MIN_SAMP) \n",
    "        # plot_title = 'Pool 13, Summer 1993-1999; Epsilon ' + str(DBSCAN_EPSILON) + ', MIN_SAMPLES ' + str(DBSCAN_MIN_SAMPLES) \n",
    "        \n",
    "        layout = plot_layout(title = plot_title,  \n",
    "                            width = 620, height = 570,\n",
    "                            annotation_text = get_kmgraph_meta(mapper_summary),  \n",
    "                            bgcolor = bgcolor)\n",
    "\n",
    "        # FigureWidget is responsible for event listeners\n",
    "        fw_graph = go.FigureWidget(data = plotly_graph_data, layout = layout)\n",
    "        fw_hist = node_hist_fig(colorf_distribution, bgcolor = bgcolor)\n",
    "        fw_summary = summary_fig(mapper_summary, height = 300)\n",
    "\n",
    "        dashboard = hovering_widgets(kmgraph, \n",
    "                                    fw_graph, \n",
    "                                    bgcolor = bgcolor, \n",
    "                                    member_textbox_width = 600)\n",
    "\n",
    "        # DESIRED FILE PATH, CHANGE TO FIT YOUR LOCAL MACHINE\n",
    "        #directory_path = \"../kmapper\"\n",
    "        \n",
    "        #Update the fw_graph colorbar, setting its title:\n",
    "        fw_graph.data[1].marker.colorbar.title = 'dist to<br>x-min'\n",
    "        html_output_path = 'HDB_PCA_2' + 'MinC_' + str(HDB_MIN_CLUSTER) +'MinS_' + str(HDB_MIN_SAMP) + 'NCUBES_' + str(N_CUBES) + 'PEROvLp_' + str(PERC_OVERLAP) + '.html'\n",
    "        \n",
    "        mapper.visualize(scomplex, color_values = color_values, color_function_name = color_function_name, \n",
    "                        path_html = html_output_path, lens = summary_variable, lens_names = continuous_variables)\n",
    "        \n",
    "    return scomplex, X\n",
    "    \n",
    "def mapper_func(df, DBSCAN_EPSILON = 20, DBSCAN_MIN_SAMPLES = 20, N_CUBES = [10, 10], PERC_OVERLAP = [.45, .45], draw_bool = True):\n",
    "    \n",
    "    X = df[[\"WDP\", \"SECCHI\", \"TEMP\", \"DO\", \"TURB\", \"VEL\", \"TP\", \"TN\", \"SS\", \"CHLcal\"]]\n",
    "    continuous_variables =  [\"WDP\", \"SECCHI\", \"TEMP\", \"DO\", \"TURB\", \"VEL\", \"TP\", \"TN\", \"SS\", \"CHLcal\"]\n",
    "\n",
    "    var_to_index = {continuous_variables[i] : i for i in range(len(continuous_variables))}\n",
    "    #projected_vars = continuous_variables\n",
    "    projected_var_indices = [var_to_index[var] for var in continuous_variables]\n",
    "\n",
    "    # defining clustering and kmapper parameters\n",
    "    # create instance of clustering alg\n",
    "    cluster_alg = sklearn.cluster.DBSCAN(eps = DBSCAN_EPSILON, min_samples = DBSCAN_MIN_SAMPLES, metric = 'euclidean')\n",
    "\n",
    "    # Instantiate kepler mapper object\n",
    "    mapper = km.KeplerMapper(verbose = 0)\n",
    "    \n",
    "    # defining filter function as projection on to the first 2 component axis\n",
    "    pca = PCA(n_components = 2)\n",
    "    lens = pca.fit_transform(X)\n",
    "\n",
    "    #pca.fit_transform(X)\n",
    "    principle_component = max(abs(pca.components_[0].min()), abs(pca.components_[0].max()))\n",
    "    max_index = 0\n",
    "\n",
    "    for i in range(len(pca.components_[0])):\n",
    "        if abs(pca.components_[0][i]) == principle_component:\n",
    "            max_index = i\n",
    "\n",
    "    print(\"Primary variable: \", continuous_variables[max_index])\n",
    "    print(\"Corresponding component: \", pca.components_[0][max_index])\n",
    "    print('Explained Variance: ', pca.explained_variance_ratio_)\n",
    "    \n",
    "    #lens = np.array(X[continuous_variables[max_index]])\n",
    "    #lens = np.array(X[['PredictedTN', 'PredictedSS']])\n",
    "    \n",
    "    # Generate the simplicial complex\n",
    "    scomplex = mapper.map(lens, X, cover = km.Cover(n_cubes = N_CUBES, perc_overlap = PERC_OVERLAP), \n",
    "                                                    clusterer = cluster_alg, remove_duplicate_nodes = True)  \n",
    "\n",
    "    if draw_bool == True:\n",
    "        summary_variable = mapper.project(np.array(X), projection = projected_var_indices, scaler = None)\n",
    "\n",
    "        pl_brewer = [[0.0, '#006837'],\n",
    "                [0.1, '#1a9850'],\n",
    "                [0.2, '#66bd63'],\n",
    "                [0.3, '#a6d96a'],\n",
    "                [0.4, '#d9ef8b'],\n",
    "                [0.5, '#ffffbf'],\n",
    "                [0.6, '#fee08b'],\n",
    "                [0.7, '#fdae61'],\n",
    "                [0.8, '#f46d43'],\n",
    "                [0.9, '#d73027'],\n",
    "                [1.0, '#a50026']]\n",
    "\n",
    "        color_function_name = [\"Distance to x-min\"]\n",
    "        color_values = lens [:,0] - lens[:,0].min() # X['PREDICTED_TP]\n",
    "        #color_values = X['TURB']\n",
    "        my_colorscale = pl_brewer\n",
    "        kmgraph,  mapper_summary, colorf_distribution = get_mapper_graph(scomplex, \n",
    "                                                                        color_values,  \n",
    "                                                                        color_function_name = color_function_name, \n",
    "                                                                        colorscale = my_colorscale)\n",
    "\n",
    "        bgcolor = 'rgba(10,10,10, 0.9)'\n",
    "        # y_gridcolor = 'rgb(150,150,150)'# on a black background the gridlines are set on  grey\n",
    "\n",
    "        plotly_graph_data = plotly_graph(kmgraph, graph_layout ='fr', colorscale = my_colorscale, \n",
    "                                        factor_size = 2.5, edge_linewidth = 0.5)\n",
    "\n",
    "        plot_title =  'LTRM: Epsilon '+ str(DBSCAN_EPSILON) + str(DBSCAN_EPSILON) + ', MIN_SAMPLES ' + str(DBSCAN_MIN_SAMPLES) \n",
    "        # plot_title = 'Pool 13, Summer 1993-1999; Epsilon ' + str(DBSCAN_EPSILON) + ', MIN_SAMPLES ' + str(DBSCAN_MIN_SAMPLES) \n",
    "        \n",
    "\n",
    "\n",
    "        layout = plot_layout(title = plot_title,  \n",
    "                            width = 620, height = 570,\n",
    "                            annotation_text = get_kmgraph_meta(mapper_summary),  \n",
    "                            bgcolor = bgcolor)\n",
    "\n",
    "        # FigureWidget is responsible for event listeners\n",
    "        fw_graph = go.FigureWidget(data = plotly_graph_data, layout = layout)\n",
    "        fw_hist = node_hist_fig(colorf_distribution, bgcolor = bgcolor)\n",
    "        fw_summary = summary_fig(mapper_summary, height = 300)\n",
    "\n",
    "        dashboard = hovering_widgets(kmgraph, \n",
    "                                    fw_graph, \n",
    "                                    bgcolor = bgcolor, \n",
    "                                    member_textbox_width = 600)\n",
    "\n",
    "        # DESIRED FILE PATH, CHANGE TO FIT YOUR LOCAL MACHINE\n",
    "        #directory_path = \"../kmapper\"\n",
    "        \n",
    "        #Update the fw_graph colorbar, setting its title:\n",
    "        fw_graph.data[1].marker.colorbar.title = 'dist to<br>x-min'\n",
    "        html_output_path = 'PCA_2' + 'Eps_' + str(DBSCAN_EPSILON) +'MinS_' + str(DBSCAN_MIN_SAMPLES) + 'NCUBES_' + str(N_CUBES) + 'PEROvLp_' + str(PERC_OVERLAP) + '.html'\n",
    "        \n",
    "        mapper.visualize(scomplex, color_values = color_values, color_function_name = color_function_name, \n",
    "                        path_html = html_output_path, lens = summary_variable, lens_names = continuous_variables)\n",
    "        \n",
    "    return scomplex, X"
   ],
   "outputs": [],
   "metadata": {}
  },
  {
   "cell_type": "code",
   "execution_count": 19,
   "source": [
    "mapper_hdb_output_dict = {}\n",
    "mapper_hdb_output_df = {}\n",
    "\n",
    "scomplex, X = mapper_func_hdb(X, 10, 10, [75,75], [.5,.5], False)\n",
    "mapper_hdb_output_dict['10_5_[75,75]_[.3,.3]'] = scomplex\n",
    "mapper_hdb_output_df['10_5_[75,75]_[.3,.3]'] = X\n",
    "\n",
    "plotlyviz(scomplex, title = 'HDB', graph_layout = 'fr', dashboard = True)"
   ],
   "outputs": [
    {
     "output_type": "stream",
     "name": "stdout",
     "text": [
      "*** PCA 1  ***\n",
      "Primary variable:  SS\n",
      "Corresponding component:  0.4629288337648259\n",
      "Explained variance:  0.34479430561777363\n",
      "*** PCA 2  ***\n",
      "Primary variable:  CHLcal\n",
      "Corresponding component:  -0.47460997450109554\n",
      "Explained variance:  0.1857189696226413\n"
     ]
    },
    {
     "output_type": "display_data",
     "data": {
      "text/plain": [
       "VBox(children=(HBox(children=(FigureWidget({\n",
       "    'data': [{'hoverinfo': 'none',\n",
       "              'line': {'color'…"
      ],
      "application/vnd.jupyter.widget-view+json": {
       "version_major": 2,
       "version_minor": 0,
       "model_id": "aaf800b63fa44ed985a0dc6560b1bb26"
      }
     },
     "metadata": {}
    }
   ],
   "metadata": {}
  },
  {
   "cell_type": "code",
   "execution_count": null,
   "source": [
    "json = js.dumps(mapper_hdb_output_dict)\n",
    "f = open(\"HDB_10_5_[75,75]_[.3,.3].json\",\"w\")\n",
    "f.write(json)\n",
    "f.close()\n",
    "\n",
    "pickle = pk.dump(mapper_hdb_output_df, open(\"HDB_10_5_[75,75]_[.3,.3].p\",\"wb\"))"
   ],
   "outputs": [],
   "metadata": {}
  },
  {
   "cell_type": "code",
   "execution_count": 133,
   "source": [
    "mapper_output_dict = {}\n",
    "mapper_output_df = {}\n",
    "\n",
    "#epsilon_list = [5, 7.5, 10, 20, ]\n",
    "#min_samples_list = [5, 10, ]\n",
    "bin_list = [100]#, 75, 100]\n",
    "overlap_list = [.3]#, .2, .3, .4, .5]\n",
    "# for i in bin_list:\n",
    "#   for j in overlap_list:\n",
    "\n",
    "#subset_perc = [.25, .5, 1]\n",
    "#for i in subset_perc: \n",
    "#data = predicted_df.sample(n = int(i * len(predicted_df)))\n",
    "#title = str(i)+ '% SUBSET NCUBES = ' + str(100) + ' PERC_OVERLAP = ' + str(30)\n",
    "#print(title)\n",
    "scomplex, X = mapper_func(predicted_df, 10, 10, [100,100], [.3, .3])\n",
    "mapper_output_dict['10_10_[100,100]_[.3,.3]'] = scomplex\n",
    "mapper_output_df['10_10_[100,100]_[.3,.3]'] = X\n",
    "\n",
    "plotlyviz(scomplex, title = title, graph_layout = 'fr', dashboard = True)\n",
    "\n",
    "\n",
    "\"\"\"\n",
    "    node_counts = []\n",
    "    num_nodes = 0\n",
    "    nodes = scomplex.get('nodes')\n",
    "    links = scomplex.get('links')\n",
    "\n",
    "    print('NODE COUNT: ' + str(len(nodes)))\n",
    "\n",
    "print('1-SIMPLICES: ' + str(len(nodes) - len(links)) )\n",
    "\n",
    "node_keys = list(nodes.keys())\n",
    "for key in node_keys:\n",
    "    node_counts.append(len(nodes.get(key)))\n",
    "\n",
    "link_keys = list(links.keys())\n",
    "two_simps = []\n",
    "three_simps = []\n",
    "four_simps = []\n",
    "print(link_keys)\n",
    "\n",
    "for i in range(0, len(link_keys)):\n",
    "    if len(link_keys[i]) == 1:\n",
    "        two_simps.append(link_keys[key])\n",
    "    if len(link_keys[i]) == 2:\n",
    "        three_simps.append(link_keys[key])\n",
    "    if len(link_keys[i]) == 3:\n",
    "        four_simps.append(link_keys[key])\n",
    "\n",
    "print('2-SIMPLICES: ' + str(len(two_simps)))\n",
    "print('3-SIMPLICES: ' + str(len(three_simps)))\n",
    "print('4-SIMPLICES: ' + str(len(four_simps)))\n",
    "# count number of complices\n",
    "\n",
    "\n",
    "\n",
    "\n",
    "plt.hist(node_counts, bins = 10)\n",
    "plt.title(title)\n",
    "plt.xlabel = ('Node count')\n",
    "plt.ylabel = ('Frequency')\n",
    "plt.savefig(title + '.png')\n",
    "plt.close()\n",
    "\"\"\"\n",
    "\n",
    "        \n"
   ],
   "outputs": [
    {
     "output_type": "stream",
     "name": "stdout",
     "text": [
      "Primary variable:  SS\n",
      "Corresponding component:  0.7851775312926293\n",
      "Explained Variance:  [0.81970454 0.09756913]\n"
     ]
    },
    {
     "output_type": "execute_result",
     "data": {
      "text/plain": [
       "\"\\n    node_counts = []\\n    num_nodes = 0\\n    nodes = scomplex.get('nodes')\\n    links = scomplex.get('links')\\n\\n    print('NODE COUNT: ' + str(len(nodes)))\\n\\nprint('1-SIMPLICES: ' + str(len(nodes) - len(links)) )\\n\\nnode_keys = list(nodes.keys())\\nfor key in node_keys:\\n    node_counts.append(len(nodes.get(key)))\\n\\nlink_keys = list(links.keys())\\ntwo_simps = []\\nthree_simps = []\\nfour_simps = []\\nprint(link_keys)\\n\\nfor i in range(0, len(link_keys)):\\n    if len(link_keys[i]) == 1:\\n        two_simps.append(link_keys[key])\\n    if len(link_keys[i]) == 2:\\n        three_simps.append(link_keys[key])\\n    if len(link_keys[i]) == 3:\\n        four_simps.append(link_keys[key])\\n\\nprint('2-SIMPLICES: ' + str(len(two_simps)))\\nprint('3-SIMPLICES: ' + str(len(three_simps)))\\nprint('4-SIMPLICES: ' + str(len(four_simps)))\\n# count number of complices\\n\\n\\n\\n\\nplt.hist(node_counts, bins = 10)\\nplt.title(title)\\nplt.xlabel = ('Node count')\\nplt.ylabel = ('Frequency')\\nplt.savefig(title + '.png')\\nplt.close()\\n\""
      ]
     },
     "metadata": {},
     "execution_count": 133
    }
   ],
   "metadata": {}
  },
  {
   "cell_type": "code",
   "execution_count": 125,
   "source": [
    "import json as js\n",
    "json = js.dumps(mapper_output_dict)\n",
    "f = open(\"10_10_[100,100]_[30,30].json\",\"w\")\n",
    "f.write(json)\n",
    "f.close()"
   ],
   "outputs": [],
   "metadata": {}
  },
  {
   "cell_type": "code",
   "execution_count": 127,
   "source": [
    "import pickle as pk\n",
    "pickle = pk.dump(mapper_output_df, open(\"PCA2_10_10_[100,100]_[30,30]dfs.p\",\"wb\"))"
   ],
   "outputs": [],
   "metadata": {}
  },
  {
   "cell_type": "code",
   "execution_count": 112,
   "source": [
    "print(len(scomplex.get('links')))\n",
    "print(len(scomplex.get('nodes')))"
   ],
   "outputs": [
    {
     "output_type": "stream",
     "name": "stdout",
     "text": [
      "292\n",
      "425\n"
     ]
    }
   ],
   "metadata": {}
  },
  {
   "cell_type": "code",
   "execution_count": 107,
   "source": [
    "num_nodes = [] # contains the number of nodes in each simplicies\n",
    "nodes = scomplex.get('edges')\n",
    "keys = list(nodes.keys())\n",
    "count = 0\n",
    "for key in keys:\n",
    "   count += 1\n",
    "   num_nodes.append(len(nodes.get(key)))\n"
   ],
   "outputs": [
    {
     "output_type": "error",
     "ename": "AttributeError",
     "evalue": "'NoneType' object has no attribute 'keys'",
     "traceback": [
      "\u001b[0;31m---------------------------------------------------------------------------\u001b[0m",
      "\u001b[0;31mAttributeError\u001b[0m                            Traceback (most recent call last)",
      "\u001b[0;32m<ipython-input-107-8e269e6660e0>\u001b[0m in \u001b[0;36m<module>\u001b[0;34m\u001b[0m\n\u001b[1;32m      1\u001b[0m \u001b[0mnum_nodes\u001b[0m \u001b[0;34m=\u001b[0m \u001b[0;34m[\u001b[0m\u001b[0;34m]\u001b[0m \u001b[0;31m# contains the number of nodes in each simplicies\u001b[0m\u001b[0;34m\u001b[0m\u001b[0;34m\u001b[0m\u001b[0m\n\u001b[1;32m      2\u001b[0m \u001b[0mnodes\u001b[0m \u001b[0;34m=\u001b[0m \u001b[0mscomplex\u001b[0m\u001b[0;34m.\u001b[0m\u001b[0mget\u001b[0m\u001b[0;34m(\u001b[0m\u001b[0;34m'edges'\u001b[0m\u001b[0;34m)\u001b[0m\u001b[0;34m\u001b[0m\u001b[0;34m\u001b[0m\u001b[0m\n\u001b[0;32m----> 3\u001b[0;31m \u001b[0mkeys\u001b[0m \u001b[0;34m=\u001b[0m \u001b[0mlist\u001b[0m\u001b[0;34m(\u001b[0m\u001b[0mnodes\u001b[0m\u001b[0;34m.\u001b[0m\u001b[0mkeys\u001b[0m\u001b[0;34m(\u001b[0m\u001b[0;34m)\u001b[0m\u001b[0;34m)\u001b[0m\u001b[0;34m\u001b[0m\u001b[0;34m\u001b[0m\u001b[0m\n\u001b[0m\u001b[1;32m      4\u001b[0m \u001b[0mcount\u001b[0m \u001b[0;34m=\u001b[0m \u001b[0;36m0\u001b[0m\u001b[0;34m\u001b[0m\u001b[0;34m\u001b[0m\u001b[0m\n\u001b[1;32m      5\u001b[0m \u001b[0;32mfor\u001b[0m \u001b[0mkey\u001b[0m \u001b[0;32min\u001b[0m \u001b[0mkeys\u001b[0m\u001b[0;34m:\u001b[0m\u001b[0;34m\u001b[0m\u001b[0;34m\u001b[0m\u001b[0m\n",
      "\u001b[0;31mAttributeError\u001b[0m: 'NoneType' object has no attribute 'keys'"
     ]
    }
   ],
   "metadata": {}
  },
  {
   "cell_type": "code",
   "execution_count": 98,
   "source": [
    "from matplotlib import pyplot as plt \n",
    "plt.hist(num_nodes, bins = 'auto')\n",
    "\n"
   ],
   "outputs": [
    {
     "output_type": "display_data",
     "data": {
      "text/plain": [
       "<Figure size 432x288 with 1 Axes>"
      ],
      "image/png": "[encoded data removed]"
     },
     "metadata": {
      "needs_background": "light"
     }
    }
   ],
   "metadata": {}
  }
 ],
 "metadata": {
  "kernelspec": {
   "name": "python3",
   "display_name": "Python 3.9.5 64-bit"
  },
  "language_info": {
   "codemirror_mode": {
    "name": "ipython",
    "version": 3
   },
   "file_extension": ".py",
   "mimetype": "text/x-python",
   "name": "python",
   "nbconvert_exporter": "python",
   "pygments_lexer": "ipython3",
   "version": "3.9.5"
  },
  "interpreter": {
   "hash": "aee8b7b246df8f9039afb4144a1f6fd8d2ca17a180786b69acc140d282b71a49"
  }
 },
 "nbformat": 4,
 "nbformat_minor": 2
}