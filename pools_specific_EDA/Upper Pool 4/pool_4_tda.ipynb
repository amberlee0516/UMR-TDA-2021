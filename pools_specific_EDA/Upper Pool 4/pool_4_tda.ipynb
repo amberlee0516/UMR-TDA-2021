{
 "cells": [
  {
   "cell_type": "markdown",
   "source": [
    "# Pool 4 TDA"
   ],
   "metadata": {}
  },
  {
   "cell_type": "markdown",
   "source": [
    "## Import libraries"
   ],
   "metadata": {}
  },
  {
   "cell_type": "code",
   "execution_count": 1,
   "source": [
    "import kmapper as km\n",
    "from kmapper.plotlyviz import *\n",
    "import pandas as pd\n",
    "import numpy as np\n",
    "\n",
    "import sklearn\n",
    "#from sklearn import ensemble\n",
    "# DBSCAN from sklearn for clustering algorithms\n",
    "from sklearn.cluster import DBSCAN\n",
    "# PCA from sklearn for projection/lens creation\n",
    "from sklearn.decomposition import PCA\n",
    "# from sklearn.manifold import MDS\n",
    "from sklearn.preprocessing import StandardScaler\n",
    "from sklearn.preprocessing import RobustScaler\n",
    "\n",
    "# scipy for interpolation\n",
    "# import scipy \n",
    "# from scipy.interpolate import *\n",
    "import hdbscan\n",
    "import pickle as pk\n",
    "import json as js\n",
    "import matplotlib.pyplot as plt\n",
    "from sklearn.compose import ColumnTransformer\n",
    "\n",
    "# Plotly and Dash\n",
    "import plotly.graph_objs as go\n",
    "from kmapper.plotlyviz import plotlyviz\n",
    "from kmapper.plotlyviz import *\n",
    "from ipywidgets import (HBox, VBox)\n",
    "import dash_html_components as html\n",
    "import dash_core_components as dcc\n",
    "import dash\n",
    "from ipywidgets import interactive, HBox, VBox, widgets, interact\n",
    "import warnings\n",
    "warnings.filterwarnings(\"ignore\")"
   ],
   "outputs": [],
   "metadata": {}
  },
  {
   "cell_type": "markdown",
   "source": [
    "## Upload data"
   ],
   "metadata": {}
  },
  {
   "cell_type": "code",
   "execution_count": 2,
   "source": [
    "water20 = pd.read_csv(\"../../LTRM data/RF interpolation/water_full.csv\")\n",
    "water20 = water20[[\"SHEETBAR\", \"DATE\", \"LATITUDE\",\"LONGITUDE\",\"FLDNUM\", \"STRATUM\",\"LOCATCD\",\n",
    "\"TN\",\"TP\",\"TEMP\", \"DO\", \"TURB\", \"VEL\", \"SS\", \"WDP\", \"CHLcal\",  \"SECCHI\", \"YEAR\", \"SEASON\"]]"
   ],
   "outputs": [],
   "metadata": {}
  },
  {
   "cell_type": "markdown",
   "source": [
    "## Scale data"
   ],
   "metadata": {}
  },
  {
   "cell_type": "code",
   "execution_count": 3,
   "source": [
    "continuous_variables = [\"WDP\",\"SECCHI\",\"TEMP\", \"DO\", \"TURB\", \"VEL\", \"TP\", \"TN\", \"SS\", \"CHLcal\"]\n",
    "\n",
    "ct = ColumnTransformer([('somename', RobustScaler(), continuous_variables)], remainder = 'passthrough')\n",
    "\n",
    "water_df = ct.fit_transform(water20)\n",
    "\n",
    "water_df = pd.DataFrame(water_df, columns = [\"WDP\",\"SECCHI\",\"TEMP\", \"DO\", \"TURB\", \"VEL\", \"TP\", \"TN\", \"SS\", \"CHLcal\",\n",
    "                                             \"SHEETBAR\", \"DATE\", \"LATTITUDE\",\"LONGITUDE\",\"FLDNUM\", \"STRATUM\",\"LOCATCD\",\n",
    "                                             \"YEAR\", \"SEASON\"])  "
   ],
   "outputs": [],
   "metadata": {}
  },
  {
   "cell_type": "markdown",
   "source": [
    "## Make decade columns"
   ],
   "metadata": {}
  },
  {
   "cell_type": "code",
   "execution_count": 4,
   "source": [
    "eco_time_periods = ['1993-2000', '1898-2004', '2001-2013', '2010-2016', '2014-2020']\n",
    "\n",
    "for time_period in eco_time_periods:\n",
    "    begin_year = int(time_period[0:4])\n",
    "    end_year = int(time_period[5:9])\n",
    "    \n",
    "    water_df[time_period] = np.where((water_df['YEAR'] >= begin_year) & (water_df['YEAR'] <= end_year), 1, 0)"
   ],
   "outputs": [],
   "metadata": {}
  },
  {
   "cell_type": "markdown",
   "source": [
    "## Make dummy columns"
   ],
   "metadata": {}
  },
  {
   "cell_type": "code",
   "execution_count": 5,
   "source": [
    "to_dummy_vars = ['STRATUM', 'FLDNUM']\n",
    "\n",
    "for var in to_dummy_vars:\n",
    "    temp = pd.get_dummies(water_df[var])\n",
    "    water_df = pd.concat([water_df, temp], axis = 1)"
   ],
   "outputs": [],
   "metadata": {}
  },
  {
   "cell_type": "markdown",
   "source": [
    "## Filter for Upper and Lower pool 4"
   ],
   "metadata": {}
  },
  {
   "cell_type": "code",
   "execution_count": 7,
   "source": [
    "# Upper pool 4\n",
    "pool4 = water_df[water_df['FLDNUM'] == \"Lake City, MN\"]\n",
    "\n",
    "upper4 = pool4[pool4['LONGITUDE'] > -92.11 ]\n",
    "upper4 = upper4[upper4['STRATUM'] != 'Impounded' ]\n",
    "upper4 = upper4[upper4['STRATUM'] != 'Isolated' ]\n",
    "upper4 = upper4[upper4['STRATUM'] != 'Lake Pepin or Swan Lake' ]\n",
    "\n",
    "\n",
    "lower4 = pool4[pool4['LONGITUDE'] < -92.33 ]\n",
    "lower4 = lower4[lower4['STRATUM'] != 'Lake Pepin or Swan Lake' ]"
   ],
   "outputs": [],
   "metadata": {}
  },
  {
   "cell_type": "markdown",
   "source": [
    "## Choose epsilon with curvature"
   ],
   "metadata": {}
  },
  {
   "cell_type": "code",
   "execution_count": 8,
   "source": [
    "from sklearn.neighbors import NearestNeighbors"
   ],
   "outputs": [],
   "metadata": {}
  },
  {
   "cell_type": "code",
   "execution_count": 12,
   "source": [
    "neighbors = NearestNeighbors(n_neighbors = 20)\n",
    "neighbors_fit = neighbors.fit(pool4[continuous_variables])\n",
    "distances, indices = neighbors_fit.kneighbors(pool4[continuous_variables])\n",
    "\n",
    "distances = np.sort(distances, axis=0)\n",
    "distances = distances[:,1]\n",
    "plt.plot(distances)"
   ],
   "outputs": [
    {
     "output_type": "execute_result",
     "data": {
      "text/plain": [
       "[<matplotlib.lines.Line2D at 0x7fe5959d6100>]"
      ]
     },
     "metadata": {},
     "execution_count": 12
    },
    {
     "output_type": "display_data",
     "data": {
      "text/plain": [
       "<Figure size 432x288 with 1 Axes>"
      ],
      "image/png": "[encoded data removed]"
     },
     "metadata": {
      "needs_background": "light"
     }
    }
   ],
   "metadata": {}
  },
  {
   "cell_type": "markdown",
   "source": [
    "## Kmapper function"
   ],
   "metadata": {}
  },
  {
   "cell_type": "code",
   "execution_count": null,
   "source": [
    "for \n",
    "continuous_variables = [\"WDP\",\"SECCHI\",\"TEMP\", \"DO\", \"TURB\", \"VEL\", \"TP\", \"TN\", \"SS\", \"CHLcal\"]\n",
    "X = water_df#[continuous_variables]\n",
    "\n",
    "var_to_index = {continuous_variables[i] : i for i in range(len(continuous_variables))}\n",
    "projected_var_indices = [var_to_index[var] for var in continuous_variables]\n",
    "\n",
    "X.reset_index(drop = True, inplace = True)\n",
    "\n",
    "cluster_alg = sklearn.cluster.DBSCAN(eps = 1.2, min_samples = 20, metric = 'euclidean')\n",
    "#cluster_alg = hdbscan.HDBSCAN(min_cluster_size = 10, min_samples = 10)\n",
    "pca = PCA(n_components = 2)\n",
    "lens = pca.fit_transform(X[continuous_variables])\n",
    "\n",
    "mapper = km.KeplerMapper(verbose = 0)\n",
    "scomplex = mapper.map(lens, X[continuous_variables], cover = km.Cover(n_cubes = [125, 125], perc_overlap = [.4, .4]), \n",
    "                                            clusterer = cluster_alg, remove_duplicate_nodes = True)"
   ],
   "outputs": [],
   "metadata": {}
  }
 ],
 "metadata": {
  "orig_nbformat": 4,
  "language_info": {
   "name": "python",
   "version": "3.9.5",
   "mimetype": "text/x-python",
   "codemirror_mode": {
    "name": "ipython",
    "version": 3
   },
   "pygments_lexer": "ipython3",
   "nbconvert_exporter": "python",
   "file_extension": ".py"
  },
  "kernelspec": {
   "name": "python3",
   "display_name": "Python 3.9.5 64-bit"
  },
  "interpreter": {
   "hash": "aee8b7b246df8f9039afb4144a1f6fd8d2ca17a180786b69acc140d282b71a49"
  }
 },
 "nbformat": 4,
 "nbformat_minor": 2
}