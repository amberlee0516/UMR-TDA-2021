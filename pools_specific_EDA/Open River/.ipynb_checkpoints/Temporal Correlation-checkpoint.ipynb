{
 "cells": [
  {
   "cell_type": "markdown",
   "id": "vital-blend",
   "metadata": {},
   "source": [
    "# Temporal Correlation Function"
   ]
  },
  {
   "cell_type": "markdown",
   "id": "aggregate-egyptian",
   "metadata": {},
   "source": [
    "To understand how sections of the river change states and how stable each state is, we calculate a correlation function between each pool-state pair\n",
    "\n",
    "1. Try on open river\n",
    "2. Need simplicial complex and dataset of the entire data output\n",
    "3. Need to see which nodes are in which state\n",
    "4. Need to define how a pool \"occupies\" a state - start with if any datapoint from the pool is in the state, it occupies that state\n",
    "5. Say first 100 datapoints is a \"snapshot of what the pool looks like at time t\n",
    "6. Need to pick a tao value, try 3 months\n",
    "8. Divide the data up by time periods with tao\n",
    "8. Combine data within a 3 day period to have enough data"
   ]
  },
  {
   "cell_type": "markdown",
   "id": "comfortable-italy",
   "metadata": {},
   "source": [
    "### Imports"
   ]
  },
  {
   "cell_type": "code",
   "execution_count": 115,
   "id": "provincial-basement",
   "metadata": {},
   "outputs": [],
   "source": [
    "import pandas as pd\n",
    "import pickle as pk\n",
    "import matplotlib.pyplot as plt"
   ]
  },
  {
   "cell_type": "markdown",
   "id": "blind-madrid",
   "metadata": {},
   "source": [
    "### Functions"
   ]
  },
  {
   "cell_type": "markdown",
   "id": "fifty-defeat",
   "metadata": {},
   "source": [
    "### Get Scomplex and associated Dataframe for all data output"
   ]
  },
  {
   "cell_type": "code",
   "execution_count": 98,
   "id": "coastal-steam",
   "metadata": {},
   "outputs": [],
   "source": [
    "df = pk.load(open(\"..\\..\\TDA_Analysis_Scripts\\LTRM_df.p\",'rb'))\n",
    "scomplex = pk.load(open(\"..\\..\\TDA_Analysis_Scripts\\LTRM_scomplex.p\",'rb'))"
   ]
  },
  {
   "cell_type": "code",
   "execution_count": 99,
   "id": "pharmaceutical-grenada",
   "metadata": {},
   "outputs": [
    {
     "data": {
      "text/plain": [
       "71947"
      ]
     },
     "execution_count": 99,
     "metadata": {},
     "output_type": "execute_result"
    }
   ],
   "source": [
    "df[\"State 3\"].sum()+df[\"State 2\"].sum()+df[\"State 1\"].sum()"
   ]
  },
  {
   "cell_type": "code",
   "execution_count": 100,
   "id": "continuing-polls",
   "metadata": {},
   "outputs": [
    {
     "data": {
      "text/plain": [
       "Index(['WDP', 'SECCHI', 'TEMP', 'DO', 'TURB', 'VEL', 'TP', 'TN', 'SS',\n",
       "       'CHLcal', 'SHEETBAR', 'DATE', 'LATTITUDE', 'LONGITUDE', 'FLDNUM',\n",
       "       'STRATUM', 'LOCATCD', 'YEAR', 'SEASON', '1993-2000', '1898-2004',\n",
       "       '2001-2013', '2010-2016', '2014-2020',\n",
       "       'Backwater area contiguous to the main channel', 'Impounded',\n",
       "       'Isolated', 'Lake Pepin or Swan Lake', 'Main channel', 'Side channel',\n",
       "       'Unexploded Ordinance Area - Pool 13', 'Bellevue, IA', 'Brighton, IL',\n",
       "       'Havana, IL', 'Jackson, MO', 'Lake City, MN', 'Onalaska, WI',\n",
       "       'WDP_unscaled', 'SECCHI_unscaled', 'TEMP_unscaled', 'DO_unscaled',\n",
       "       'TURB_unscaled', 'VEL_unscaled', 'TP_unscaled', 'TN_unscaled',\n",
       "       'SS_unscaled', 'CHLcal_unscaled', 'WDP_color', 'SECCHI_color',\n",
       "       'TEMP_color', 'DO_color', 'TURB_color', 'VEL_color', 'TP_color',\n",
       "       'TN_color', 'SS_color', 'CHLcal_color', 'State 3', 'State 2', 'State 1',\n",
       "       'STATE', 'STATE_color'],\n",
       "      dtype='object')"
      ]
     },
     "execution_count": 100,
     "metadata": {},
     "output_type": "execute_result"
    }
   ],
   "source": [
    "df.columns"
   ]
  },
  {
   "cell_type": "code",
   "execution_count": 101,
   "id": "statutory-vaccine",
   "metadata": {},
   "outputs": [
    {
     "data": {
      "text/plain": [
       "64787   1993-07-12\n",
       "64788   1993-07-12\n",
       "64800   1993-07-12\n",
       "64799   1993-07-12\n",
       "64798   1993-07-12\n",
       "           ...    \n",
       "52341   2020-10-27\n",
       "52340   2020-10-27\n",
       "52339   2020-10-27\n",
       "52342   2020-10-27\n",
       "52346   2020-10-27\n",
       "Name: DATE, Length: 76669, dtype: datetime64[ns]"
      ]
     },
     "execution_count": 101,
     "metadata": {},
     "output_type": "execute_result"
    }
   ],
   "source": [
    "# Change date format so it can be sorted\n",
    "df[\"DATE\"] = pd.to_datetime(df.DATE)\n",
    "# Sort by date\n",
    "df.sort_values(by=\"DATE\",inplace = True)\n",
    "df[\"DATE\"]"
   ]
  },
  {
   "cell_type": "markdown",
   "id": "tamil-sapphire",
   "metadata": {},
   "source": [
    "Make a copy of sorted by date, Open River data"
   ]
  },
  {
   "cell_type": "code",
   "execution_count": 102,
   "id": "presidential-cancer",
   "metadata": {},
   "outputs": [
    {
     "data": {
      "text/plain": [
       "52361   1993-09-15\n",
       "52360   1993-09-15\n",
       "52359   1993-09-15\n",
       "52358   1993-09-15\n",
       "52357   1993-09-15\n",
       "           ...    \n",
       "64785   2020-10-22\n",
       "64786   2020-10-22\n",
       "64772   2020-10-22\n",
       "64775   2020-10-22\n",
       "64774   2020-10-22\n",
       "Name: DATE, Length: 12439, dtype: datetime64[ns]"
      ]
     },
     "execution_count": 102,
     "metadata": {},
     "output_type": "execute_result"
    }
   ],
   "source": [
    "OR_sorted = df[df.FLDNUM==\"Jackson, MO\"].copy()\n",
    "OR_sorted[\"DATE\"]"
   ]
  },
  {
   "cell_type": "code",
   "execution_count": 148,
   "id": "pressing-copying",
   "metadata": {},
   "outputs": [
    {
     "data": {
      "text/plain": [
       "array([1993, 1994, 1995, 1996, 1997, 1998, 1999, 2000, 2001, 2002, 2004,\n",
       "       2005, 2006, 2007, 2008, 2009, 2010, 2011, 2012, 2013, 2014, 2015,\n",
       "       2016, 2017, 2018, 2019, 2020], dtype=object)"
      ]
     },
     "execution_count": 148,
     "metadata": {},
     "output_type": "execute_result"
    }
   ],
   "source": [
    "OR_sorted[\"YEAR\"].unique()"
   ]
  },
  {
   "cell_type": "code",
   "execution_count": 183,
   "id": "liquid-outside",
   "metadata": {},
   "outputs": [
    {
     "name": "stdout",
     "output_type": "stream",
     "text": [
      "S3  0  S2 0  S1  77\n",
      "S3  0  S2 0  S1  0\n",
      "S3  0  S2 0  S1  0\n",
      "S3  0  S2 0  S1  0\n",
      "S3  0  S2 0  S1  0\n",
      "S3  0  S2 0  S1  110\n",
      "S3  4  S2 22  S1  27\n",
      "S3  0  S2 0  S1  134\n",
      "S3  0  S2 0  S1  95\n",
      "S3  0  S2 0  S1  0\n",
      "S3  0  S2 24  S1  23\n",
      "S3  0  S2 2  S1  28\n",
      "S3  0  S2 0  S1  101\n",
      "S3  0  S2 0  S1  0\n",
      "S3  2  S2 19  S1  22\n",
      "S3  19  S2 12  S1  50\n",
      "S3  0  S2 0  S1  111\n",
      "S3  0  S2 0  S1  139\n",
      "S3  0  S2 15  S1  61\n",
      "S3  0  S2 0  S1  65\n",
      "S3  4  S2 8  S1  56\n",
      "S3  0  S2 0  S1  125\n",
      "S3  0  S2 0  S1  61\n",
      "S3  30  S2 13  S1  39\n",
      "S3  0  S2 0  S1  94\n",
      "S3  4  S2 5  S1  33\n",
      "S3  20  S2 11  S1  1\n",
      "S3  0  S2 0  S1  134\n",
      "S3  0  S2 0  S1  109\n",
      "S3  0  S2 0  S1  55\n",
      "S3  0  S2 0  S1  122\n",
      "S3  0  S2 0  S1  146\n",
      "S3  0  S2 0  S1  119\n",
      "S3  0  S2 0  S1  55\n",
      "S3  40  S2 77  S1  7\n",
      "S3  0  S2 3  S1  147\n",
      "S3  0  S2 0  S1  0\n",
      "S3  0  S2 0  S1  98\n",
      "S3  15  S2 41  S1  50\n",
      "S3  0  S2 0  S1  146\n",
      "S3  0  S2 0  S1  108\n",
      "S3  0  S2 0  S1  106\n",
      "S3  0  S2 0  S1  149\n",
      "S3  0  S2 0  S1  138\n",
      "S3  16  S2 16  S1  38\n",
      "S3  0  S2 0  S1  147\n",
      "S3  0  S2 28  S1  128\n",
      "S3  0  S2 0  S1  98\n",
      "S3  0  S2 2  S1  98\n",
      "S3  0  S2 0  S1  112\n",
      "S3  0  S2 0  S1  145\n",
      "S3  0  S2 0  S1  96\n",
      "S3  0  S2 0  S1  145\n",
      "S3  0  S2 0  S1  126\n",
      "S3  0  S2 0  S1  95\n",
      "S3  0  S2 0  S1  119\n",
      "S3  5  S2 31  S1  102\n",
      "S3  0  S2 0  S1  126\n",
      "S3  0  S2 1  S1  148\n",
      "S3  8  S2 3  S1  118\n",
      "S3  11  S2 9  S1  126\n",
      "S3  0  S2 0  S1  53\n",
      "S3  0  S2 0  S1  122\n",
      "S3  0  S2 0  S1  147\n",
      "S3  0  S2 0  S1  148\n",
      "S3  0  S2 4  S1  22\n",
      "S3  12  S2 30  S1  27\n",
      "S3  43  S2 65  S1  28\n"
     ]
    },
    {
     "name": "stderr",
     "output_type": "stream",
     "text": [
      "<ipython-input-183-f0efb8c49518>:28: RuntimeWarning: invalid value encountered in longlong_scalars\n",
      "  State1.append(float(S1/snap_df.shape[0]))\n",
      "<ipython-input-183-f0efb8c49518>:29: RuntimeWarning: invalid value encountered in longlong_scalars\n",
      "  State2.append(float(S2/snap_df.shape[0]))\n",
      "<ipython-input-183-f0efb8c49518>:30: RuntimeWarning: invalid value encountered in longlong_scalars\n",
      "  State3.append(float(S3/snap_df.shape[0]))\n"
     ]
    },
    {
     "name": "stdout",
     "output_type": "stream",
     "text": [
      "S3  0  S2 0  S1  133\n",
      "S3  0  S2 0  S1  97\n",
      "S3  0  S2 53  S1  96\n",
      "S3  0  S2 5  S1  144\n",
      "S3  0  S2 0  S1  79\n",
      "S3  0  S2 0  S1  139\n",
      "S3  0  S2 1  S1  85\n",
      "S3  0  S2 0  S1  98\n",
      "S3  0  S2 0  S1  87\n",
      "S3  0  S2 0  S1  81\n",
      "S3  0  S2 5  S1  115\n",
      "S3  0  S2 0  S1  117\n",
      "S3  29  S2 60  S1  20\n",
      "S3  0  S2 0  S1  11\n",
      "S3  0  S2 10  S1  116\n",
      "S3  0  S2 0  S1  143\n",
      "S3  0  S2 0  S1  108\n",
      "S3  0  S2 0  S1  118\n",
      "S3  0  S2 0  S1  147\n",
      "S3  47  S2 11  S1  2\n",
      "S3  0  S2 0  S1  149\n",
      "S3  0  S2 0  S1  149\n",
      "S3  0  S2 0  S1  74\n",
      "S3  15  S2 25  S1  108\n",
      "S3  9  S2 24  S1  104\n",
      "S3  0  S2 0  S1  143\n",
      "S3  3  S2 1  S1  125\n",
      "S3  0  S2 22  S1  133\n",
      "S3  7  S2 31  S1  52\n",
      "S3  0  S2 0  S1  126\n",
      "S3  0  S2 0  S1  148\n",
      "S3  0  S2 0  S1  150\n",
      "S3  0  S2 1  S1  146\n",
      "S3  0  S2 1  S1  142\n",
      "S3  0  S2 0  S1  147\n",
      "S3  0  S2 3  S1  145\n",
      "S3  0  S2 0  S1  150\n",
      "S3  0  S2 0  S1  132\n",
      "S3  0  S2 0  S1  146\n",
      "S3  2  S2 45  S1  49\n"
     ]
    }
   ],
   "source": [
    "start_time = OR_sorted[\"DATE\"].iloc[0]\n",
    "end_time = OR_sorted[\"DATE\"].iloc[-1]\n",
    "\n",
    "curtime = start_time\n",
    "\n",
    "time_months = []\n",
    "\n",
    "State1 = []\n",
    "State2 = []\n",
    "State3 = []\n",
    "\n",
    "time = 0\n",
    "\n",
    "seasons = {3:\"SPRING\",4:\"SPRING\",5:\"SPRING\",6:\"SUMMER\",7:\"SUMMER\",8:\"SUMMER\",9:\"FALL\",10:\"FALL\",11:\"FALL\",12:\"WINTER\",1:\"WINTER\",2:\"WINTER\"}\n",
    "\n",
    "for year in OR_sorted[\"YEAR\"].unique():\n",
    "    for season in [3,4,1,2]:\n",
    "        snap_df = OR_sorted[(OR_sorted[\"YEAR\"]==year) & (OR_sorted[\"SEASON\"]==season)]\n",
    "\n",
    "            # Check which states these points are in\n",
    "        S1 = snap_df[\"State 1\"].sum()\n",
    "        S2 = snap_df[\"State 2\"].sum()\n",
    "        S3 = snap_df[\"State 3\"].sum()\n",
    "        \n",
    "        print(\"S3 \",S3,\" S2\",S2,\" S1 \",S1)\n",
    "        \n",
    "        \n",
    "        State1.append(float(S1/snap_df.shape[0]))\n",
    "        State2.append(float(S2/snap_df.shape[0]))\n",
    "        State3.append(float(S3/snap_df.shape[0]))\n",
    "        \n",
    "#             # Calculate correlation function\n",
    "#         if S1==snap_df.shape[0]:\n",
    "#             State1.append(1)\n",
    "#             State2.append(0)\n",
    "#             State3.append(0)\n",
    "#         elif S2==snap_df.shape[0]:\n",
    "#             State1.append(0)\n",
    "#             State2.append(1)\n",
    "#             State3.append(0)\n",
    "#         elif S3==snap_df.shape[0]:\n",
    "#             State1.append(0)\n",
    "#             State2.append(0)\n",
    "#             State3.append(1)\n",
    "#         elif S1>0 and S2>0 and S3>0:\n",
    "#             State1.append(1/3)\n",
    "#             State2.append(1/3)\n",
    "#             State3.append(1/3)\n",
    "#         elif S1>0 and S2>0:\n",
    "#             State1.append(0.5)\n",
    "#             State2.append(0.5)\n",
    "#             State3.append(0)\n",
    "#         elif S1>0 and S3>0:\n",
    "#             State1.append(0.5)\n",
    "#             State2.append(0)\n",
    "#             State3.append(0.5)\n",
    "#         elif S2>0 and S3>0:\n",
    "#             State1.append(0)\n",
    "#             State2.append(0.5)\n",
    "#             State3.append(0.5)\n",
    "#         else:\n",
    "#             State1.append(0)\n",
    "#             State2.append(0)\n",
    "#             State3.append(0)\n",
    "            \n",
    "        time_months.append(time)\n",
    "    \n",
    "        #curtime = curtime+pd.DateOffset(months=3)\n",
    "        time+=3\n",
    "\n",
    "\n",
    "\n",
    "# while curtime<end_time:\n",
    "#     # Get a snapshot of Open River at this time (first 10 datapoints)\n",
    "#     snap_df = OR_sorted[OR_sorted[\"DATE\"]>curtime]\n",
    "#     if snap_df.shape[0]<10:\n",
    "#         break\n",
    "#     else:\n",
    "#         snap_df = snap_df.iloc[0:50]\n",
    "        \n",
    "        \n",
    "    \n",
    "#     # Check which states these points are in\n",
    "#     S1 = snap_df[\"State 1\"].sum()\n",
    "#     S2 = snap_df[\"State 2\"].sum()\n",
    "#     S3 = snap_df[\"State 3\"].sum()\n",
    "    \n",
    "#     # Calculate correlation function\n",
    "#     if S1==10:\n",
    "#         State1.append(1)\n",
    "#         State2.append(0)\n",
    "#         State3.append(0)\n",
    "#     elif S2==10:\n",
    "#         State1.append(0)\n",
    "#         State2.append(1)\n",
    "#         State3.append(0)\n",
    "#     elif S3==10:\n",
    "#         State1.append(0)\n",
    "#         State2.append(0)\n",
    "#         State3.append(1)\n",
    "#     elif S1>0 and S2>0:\n",
    "#         State1.append(0.5)\n",
    "#         State2.append(0.5)\n",
    "#         State3.append(0)\n",
    "#     elif S1>0 and S3>0:\n",
    "#         State1.append(0.5)\n",
    "#         State2.append(0)\n",
    "#         State3.append(0.5)\n",
    "#     elif S2>0 and S3>0:\n",
    "#         State1.append(0)\n",
    "#         State2.append(0.5)\n",
    "#         State3.append(0.5)\n",
    "#     elif S1>0 and S2>0 and S3>0:\n",
    "#         State1.append(1/3)\n",
    "#         State2.append(1/3)\n",
    "#         State3.append(1/3)\n",
    "#     else if \n",
    "#         State1.append(0)\n",
    "#         State2.append(0)\n",
    "#         State3.append(0)\n",
    "        \n",
    "#     time_months.append(time)\n",
    "    \n",
    "#     curtime = curtime+pd.DateOffset(months=3)\n",
    "#     time+=3"
   ]
  },
  {
   "cell_type": "markdown",
   "id": "statewide-growth",
   "metadata": {},
   "source": [
    "### Look at correlation function plot"
   ]
  },
  {
   "cell_type": "code",
   "execution_count": 189,
   "id": "explicit-journey",
   "metadata": {},
   "outputs": [
    {
     "data": {
      "image/png": "[encoded data removed]",
      "text/plain": [
       "<Figure size 504x360 with 1 Axes>"
      ]
     },
     "metadata": {
      "needs_background": "light"
     },
     "output_type": "display_data"
    }
   ],
   "source": [
    "# Plot all together\n",
    "plt.figure(figsize=(7,5))\n",
    "# plt.scatter(time_months,State1,color=\"blue\",s=10)\n",
    "# plt.scatter(time_months,State2,color=\"red\",s=10)\n",
    "# plt.scatter(time_months,State3,color=\"green\",s=10)\n",
    "plt.plot(time_months,State1,color=\"blue\")\n",
    "plt.plot(time_months,State2,color=\"red\")\n",
    "plt.plot(time_months,State3,color=\"green\")\n",
    "plt.xlabel(\"Months\")\n",
    "plt.ylabel(\"Correlation\")\n",
    "plt.show()"
   ]
  },
  {
   "cell_type": "code",
   "execution_count": 185,
   "id": "described-warrant",
   "metadata": {},
   "outputs": [
    {
     "data": {
      "image/png": "[encoded data removed]",
      "text/plain": [
       "<Figure size 504x360 with 1 Axes>"
      ]
     },
     "metadata": {
      "needs_background": "light"
     },
     "output_type": "display_data"
    }
   ],
   "source": [
    "# Plot State 1\n",
    "plt.figure(figsize=(7,5))\n",
    "plt.scatter(time_months,State1,color=\"blue\",s=10)\n",
    "plt.xlabel(\"Months\")\n",
    "plt.ylabel(\"Correlation\")\n",
    "plt.show()"
   ]
  },
  {
   "cell_type": "code",
   "execution_count": 186,
   "id": "facial-drive",
   "metadata": {},
   "outputs": [
    {
     "data": {
      "image/png": "[encoded data removed]",
      "text/plain": [
       "<Figure size 504x360 with 1 Axes>"
      ]
     },
     "metadata": {
      "needs_background": "light"
     },
     "output_type": "display_data"
    }
   ],
   "source": [
    "# Plot state 2\n",
    "plt.figure(figsize=(7,5))\n",
    "plt.scatter(time_months,State2,color=\"red\",s=10)\n",
    "plt.xlabel(\"Months\")\n",
    "plt.ylim(0,1)\n",
    "plt.ylabel(\"Correlation\")\n",
    "plt.show()"
   ]
  },
  {
   "cell_type": "code",
   "execution_count": 187,
   "id": "vietnamese-customer",
   "metadata": {},
   "outputs": [
    {
     "data": {
      "image/png": "[encoded data removed]",
      "text/plain": [
       "<Figure size 504x360 with 1 Axes>"
      ]
     },
     "metadata": {
      "needs_background": "light"
     },
     "output_type": "display_data"
    }
   ],
   "source": [
    "# Plot State 3\n",
    "plt.figure(figsize=(7,5))\n",
    "plt.scatter(time_months,State3,color=\"green\",s=10)\n",
    "plt.xlabel(\"Months\")\n",
    "plt.ylim(0,1)\n",
    "plt.ylabel(\"Correlation\")\n",
    "plt.show()"
   ]
  },
  {
   "cell_type": "code",
   "execution_count": 103,
   "id": "unavailable-candy",
   "metadata": {},
   "outputs": [
    {
     "data": {
      "text/plain": [
       "['cube828_cluster0', 'cube665_cluster0', 'cube60_cluster0']"
      ]
     },
     "execution_count": 103,
     "metadata": {},
     "output_type": "execute_result"
    }
   ],
   "source": [
    "scomplex['maxima']"
   ]
  },
  {
   "cell_type": "code",
   "execution_count": 66,
   "id": "chicken-award",
   "metadata": {},
   "outputs": [
    {
     "data": {
      "text/plain": [
       "True"
      ]
     },
     "execution_count": 66,
     "metadata": {},
     "output_type": "execute_result"
    }
   ],
   "source": [
    "X = X.rename(columns = {\"cube60_cluster0\": \"State 1\", \n",
    "                        \"cube828_cluster0\": \"State 3\", \n",
    "                        \"cube665_cluster0\": \"State 2\"})\n",
    "\n",
    "X[\"STATE\"] = 0\n",
    "X[\"STATE\"] = np.where(X['State 1'] == 1, 1/3, X[\"STATE\"])\n",
    "X[\"STATE\"] = np.where(X['State 2'] == 1, 2/3, X[\"STATE\"])\n",
    "X[\"STATE\"] = np.where(X['State 3'] == 1, 1, X[\"STATE\"])\n",
    "X[\"STATE\"] = np.where((X['State 1'] == 1) & (X['State 2'] == 1), 1/2, X[\"STATE\"])\n",
    "X[\"STATE\"] = np.where((X['State 3'] == 1) & (X['State 2'] == 1), 5/6, X[\"STATE\"])\n",
    "X[\"STATE\"] = np.where((X['State 3'] == 1) & (X['State 2'] == 1) & (X['State 3'] == 1), 0, X[\"STATE\"])"
   ]
  },
  {
   "cell_type": "code",
   "execution_count": 107,
   "id": "cathedral-southwest",
   "metadata": {},
   "outputs": [
    {
     "data": {
      "text/plain": [
       "array([0, 1], dtype=int64)"
      ]
     },
     "execution_count": 107,
     "metadata": {},
     "output_type": "execute_result"
    }
   ],
   "source": [
    "snap_df[\"State 3\"].unique()"
   ]
  },
  {
   "cell_type": "code",
   "execution_count": 87,
   "id": "adjacent-storage",
   "metadata": {},
   "outputs": [
    {
     "data": {
      "text/plain": [
       "52400   1993-09-22\n",
       "52399   1993-09-22\n",
       "52398   1993-09-22\n",
       "52397   1993-09-22\n",
       "52396   1993-09-22\n",
       "52395   1993-09-22\n",
       "52394   1993-09-22\n",
       "52410   1993-09-22\n",
       "52414   1993-09-22\n",
       "52409   1993-09-22\n",
       "52434   1994-01-10\n",
       "52433   1994-01-10\n",
       "52446   1994-01-10\n",
       "52432   1994-01-10\n",
       "52496   1994-01-10\n",
       "52430   1994-01-10\n",
       "52435   1994-01-10\n",
       "52445   1994-01-10\n",
       "52436   1994-01-10\n",
       "52439   1994-01-10\n",
       "52440   1994-01-10\n",
       "52441   1994-01-10\n",
       "52442   1994-01-10\n",
       "52443   1994-01-10\n",
       "52444   1994-01-10\n",
       "Name: DATE, dtype: datetime64[ns]"
      ]
     },
     "execution_count": 87,
     "metadata": {},
     "output_type": "execute_result"
    }
   ],
   "source": [
    "snap_df.iloc[50:75,:][\"DATE\"]"
   ]
  },
  {
   "cell_type": "code",
   "execution_count": 89,
   "id": "southwest-tongue",
   "metadata": {},
   "outputs": [
    {
     "data": {
      "text/plain": [
       "[1, 2, 3, 4, 5, 6]"
      ]
     },
     "execution_count": 89,
     "metadata": {},
     "output_type": "execute_result"
    }
   ],
   "source": [
    "l = [1,2,3,4,5,6]\n",
    "l[0:]"
   ]
  },
  {
   "cell_type": "code",
   "execution_count": null,
   "id": "imported-happiness",
   "metadata": {},
   "outputs": [],
   "source": []
  }
 ],
 "metadata": {
  "kernelspec": {
   "display_name": "Python 3",
   "language": "python",
   "name": "python3"
  },
  "language_info": {
   "codemirror_mode": {
    "name": "ipython",
    "version": 3
   },
   "file_extension": ".py",
   "mimetype": "text/x-python",
   "name": "python",
   "nbconvert_exporter": "python",
   "pygments_lexer": "ipython3",
   "version": "3.8.5"
  }
 },
 "nbformat": 4,
 "nbformat_minor": 5
}
